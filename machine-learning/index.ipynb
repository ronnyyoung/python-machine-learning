{
 "cells": [
  {
   "cell_type": "markdown",
   "metadata": {},
   "source": [
    "# ntu-ml-2019\n",
    "\n",
    "## 课程笔记\n",
    "\n",
    "- [00、机器学习简介](./html/机器学习发展与概述.html)\n",
    "- [01、线性回归](./html/线性回归.html)\n",
    "- [02、模型误差的来源](./html/模型误差的来源.html)\n",
    "- [03、梯度下降](./html/梯度下降.html)\n",
    "- [04、分类问题之生成模型](./html/分类问题之概率生成模型.html)\n",
    "- [05、分类问题之判别模型(Logistic)](./html/分类问题之逻辑回归.html)\n",
    "- [06、深度学习入门与反向传播](./html/深度学习介绍.html)\n",
    "- [07、神经网络调试的技巧](./html/深度学习的调试技巧.html)\n",
    "- [08、卷积神经网络](./html/卷积神经网络.html)\n",
    "- [09、半监督学习](./html/半监督学习.html)\n",
    "- [10、化繁为简：降维](./html/化繁为简：降维.html)\n",
    "- [11、词嵌入](./html/词嵌入.html)"
   ]
  }
 ],
 "metadata": {
  "kernelspec": {
   "display_name": "Python 3",
   "language": "python",
   "name": "python3"
  },
  "language_info": {
   "codemirror_mode": {
    "name": "ipython",
    "version": 3
   },
   "file_extension": ".py",
   "mimetype": "text/x-python",
   "name": "python",
   "nbconvert_exporter": "python",
   "pygments_lexer": "ipython3",
   "version": "3.7.2"
  }
 },
 "nbformat": 4,
 "nbformat_minor": 2
}
