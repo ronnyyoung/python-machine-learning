{
 "cells": [
  {
   "cell_type": "markdown",
   "metadata": {},
   "source": [
    "# Introduction to machine learning\n",
    "\n",
    "## 1. AI VS. Machine Learning VS. Deep Learning"
   ]
  },
  {
   "cell_type": "code",
   "execution_count": 1,
   "metadata": {},
   "outputs": [
    {
     "name": "stdout",
     "output_type": "stream",
     "text": [
      "在吗？\n",
      "在！\n",
      "你好\n",
      "你好\n",
      "能听懂汉语吗？\n",
      "能听懂汉语！\n",
      "真的吗？\n",
      "真的！\n",
      "quit\n"
     ]
    }
   ],
   "source": [
    "# 价值1个亿的AI核心代码\n",
    "while True:\n",
    "    input_str = input()\n",
    "    if input_str == \"quit\":\n",
    "        break\n",
    "    input_str = input_str.replace('吗', '', -1)\n",
    "    input_str = input_str.replace('？', '！', -1)\n",
    "    input_str = input_str.replace('?', '!', -1)\n",
    "    print(input_str)"
   ]
  },
  {
   "cell_type": "markdown",
   "metadata": {},
   "source": [
    "AI实际是一个很早就提出来的概念，早在1950年左右，AI概念就已经在全世界流行，虽然那时候计算机也才刚刚问题世。但那个时候的一些AI系统大多都是基于规则的，系统里的逻辑都是人工设定好的逻辑（rule based），而且逻辑都比较简单,这种通过人工手动设计规则的智能是一种伪智能，它永远不可能超过人类，它本身没有任何的free style, 这个时代实际上是人们提出了一种人工智能的愿景，但是没有找到很好的实现AI的方法。\n",
    "\n",
    "下面的插图则描绘了当时使用大量`hand-craft`规则来实现人工智能的尴尬情况。\n",
    "![AI Inside](../images/001_ai_inside.jpg)\n",
    "\n",
    "1980年左右开始出来了一批以概率统计为基石的机器学习的方法，比如MLP、SVM、Desion Tree等，这些方法使得早期的一些AI概念得到一定的实现。\n",
    "\n",
    "到了2010年前后，随着互联网的普及，大量数据产生了，同时计算机的计算能力随着GPU在通用计算上的应用得到大幅度的提升。Deep Learning这个新词汇出现在人们的视野当中，并以星火燎原之势火遍了全球。它实际是算是机器学习中的一种方法，只是因为比较有效，所以流行起来。\n",
    "\n",
    "总体来说，50年代的AI实际是一种概念的提出与人们美好的愿景，80年代开始人们找到了机器学习这个手段来实现当初的人工智能的梦想，但受限于方法与计算能力，那个阶段的机器学习方法只在很小的一领域得到了应用。到了21世纪，随着深度学习的野蛮生长，机器学习的方法已经在向各个行业渗透，而且在很多领域取得了比人类更高的准确率，AI开始真正的走向了人类的生活并参与到人类的行业生产中。"
   ]
  },
  {
   "cell_type": "markdown",
   "metadata": {},
   "source": [
    "## 2. What is Machine Learning?\n",
    "\n",
    "从字面上来理解，Machine Learning一拆为二，Machine指明了主体是一个Machine，我们可以理解为一个Computer或者是一个程序，Learning说明了这个程序具有学习的功能，能够通过大量数据的输入来自动的学习到这些数据的一些潜在规律或形式，在下次再看到一些新的数据时，可以分辨或认出。\n",
    "\n",
    "所以**机器学习**在我看来可以定义为：“Giving Computers the Ability to Learn from Data”。\n",
    "\n",
    "常见的学习任务比如：\n",
    "- 语音识别：通过大量语音与对应语言词汇（句子）的学习，机器可以把新输出的语音转换为对应的文本。\n",
    "- 图像识别：机器学习学习大量猫或狗的照片，可以对新的猫或狗的照片进行辨识。\n",
    "\n",
    "所以从任务上来看，机器学习就是在找一个Function,这个Function可以根据输出得到一个想要的输出，比如：\n",
    "\n",
    "- Speech Recognition: f(一段语音信号) = “How are You”\n",
    "- Image Recognition: f(一张猫的图片) = “Cat”\n",
    "- Playing Go: f(当前的棋局) = “5-5”（next move）\n",
    "- Dialogue System: f(\"Hi\") = \"Hello\""
   ]
  },
  {
   "cell_type": "markdown",
   "metadata": {},
   "source": [
    "## 3. Machine Learning Framework\n",
    "\n",
    "那么我们如何使用Machine Learning的方法（模型）来做上面的学习任务呢？简单来说只需要三步，就像把大象放进冰箱这么简单。\n",
    "\n",
    "![three_steps](../images/002_three_steps.jpg)\n",
    "\n",
    "- Step1: Define a set of funciton\n",
    "- Step2: Goodness of function\n",
    "- Step3: Pick the best function\n",
    "\n",
    "### 3.1 Define a set of funciton\n",
    "\n",
    "当我们在根据一个特定的问题设计机器学习算法时，首先第一步就是要想好我们的Function Set，我们需要从function set中挑选适合问题的function。那实际上如何来定义这样的Function Set呢，一般需要一些Domain Knowledge，而且一些概率统计的方法也为我们选择function set提供了指导。\n",
    "\n",
    "比如对于房屋价格的预测问题，我们就可以挑选线性函数（$\\sum_i x_iw_i$）作为我们的Function set，具体挑选哪一个线性函数呢，那将由第二步和第三步来完成。\n",
    "\n",
    "### 3.2 Goodness of function\n",
    "\n",
    "有了一个Function Set后，我们需要定义一个评价函数，用来说明我们从Function set中选择的function的好坏。那么这个评价函数就是关于我们挑选的模型（function）的函数，到后面就知道了，也就是经过常到的**损失函数**。\n",
    "\n",
    "### 3.3 Pick the best function\n",
    "\n",
    "当我们有一个function set并且有了关于function的评价函数后，我们就可以挑选出最好的一个function来作为我们要解决的问题的模型函数了。这里往往是一个最优化的问题。"
   ]
  },
  {
   "cell_type": "markdown",
   "metadata": {},
   "source": [
    "## 4. Learning Map\n",
    "\n",
    "![LearnigMap](../images/003_learning_map.jpg)\n",
    "\n",
    "### 4.1 Regession\n",
    "\n",
    "回归模型有一个很明显的特点是：它的输出是一个`Scalar`，比如预测明天的PM2.5。\n",
    "\n",
    "### 4.2 Classification\n",
    "\n",
    "分类问题可以分为二分类或多分类问题。\n",
    "\n",
    "对于二分类问题，它的输出一般是“是”或“否”，在数学上我们可以用0或1来表示，也可以用-1与+1来表示，到底用什么来表示，其际上对于问题本身是无所谓的，那在实际的机器学习方法中，我们会根据方法的数学表达的方便来选择合适的值。常见的二分类问题比如垃圾邮件的分类、疾病的诊断等。\n",
    "\n",
    "对于多分类问题它的输出是一个类别的标签，在数学表达上我们常用的方法是把输出表示为一个长度等于类别数的一个向量$y = [y_1,y_2,\\cdots,y_k]$，其中$k$为类别数。对于输出$y$，哪一个分量最大，则代表输入属于哪一类。常见的多分类问题有：图片的分类、新闻的主题归类等。\n",
    "\n",
    "### 4.3 Semi-supervised Learning\n",
    "\n",
    "上面说的回归与分类问题都是属于有监督的学习问题，它的特点是训练数据都是带有标签的。而实际上搜集大量带标签的数据是一件很难的事情。那针对于现实中大量无标准的数据，我们可以采用半监督的学习方法以及无监督的学习方法。\n",
    "\n",
    "这里需要区别的是半监督学习与迁移学习的不同。\n",
    "\n",
    "半监督学习解决的问题中有标签的数据与无标签数据是有关系的，属于同一类型的问题，比如我们已经有一些猫和狗的带标签照片，如果把大量没带标签的猫和狗的照片用起来，这是半监督学习要考虑的事。而如果我们已经有很多带标签的猫和狗的照片，我们想训练一个模型来识别大像和老虎的图片，那么这就属于迁移学习的范畴了。\n",
    "\n",
    "### 4.4 Transfer learning\n",
    "\n",
    "迁移学习解决的是利用已有的一些模型，来做一些新的任务，新任务里的数据和之前模型训练用到的数据是不同类的数据，比如之前的模型是一个动物的分类器，而我们想解决在植物数据集上的的分类问题。\n",
    "\n",
    "这个方向只所以能work的原因很大是因为，深度学习的浅层网络部分往往学习到的是一些公共的知识。\n",
    "\n",
    "### 4.5 Unsupervised Learning\n",
    "\n",
    "无监督学习研究如何让机器通过大量没有label的数据，自动的学习到数据与数据之间的差异以及数据背后的一些潜在的结构或分布。比如通过学习大量图片后，机器能否根据一个code(编码后的数据)自动的生成一张逼近真实的照片\n",
    "\n",
    "### 4.6 Structured Learning\n",
    "\n",
    "Structured learning是分类与回归问题之外的一种机器学习方法，它的学习目标不是输出一个`Scalar`或者一个类别标签。而是一个带有结构的数据。比如在语音识别中输出是一个句子，在目标检测中，输出的是目标的位置。\n",
    "\n",
    "\n",
    "### 4.7 Reinforcement Learning\n",
    "\n",
    "强化学习有点像有监督的学习，但两者又有很大的不同。有监督的学习是learn from teacher，而强化学习是learn from critics。强化学习往往是针对一个多步骤的任务，每一步骤并不能得到实时的反馈，只能根据最终整个任务的完成情况或评价结果来得到反馈。\n",
    "\n",
    "举例：AlpahGo中同时用到了有监督的学习与强化学习，在刚才始学习如何下棋时，用的是有监督的学习，根据一些棋谱学习每一步之后下一步应该怎么下。当机器具有基本的下棋能力后，再开始根据每一局对弈的结果进行强化学习，通过机器与机器的下棋来产生大量的棋局进行强化学习。\n",
    "\n",
    "![Reinforcement Learning](../images/004_reinforcement_learning.jpg)"
   ]
  },
  {
   "cell_type": "markdown",
   "metadata": {},
   "source": [
    "## 总结\n",
    "\n",
    "- AI、机器学习、深度学习的区别。AI是很早就提出来的一种构想，但早期AI都是基于规则的，其中引入的那个漫画比较搞笑，非常讽刺。后来出现了一些经典的机器学习方法，如感知机、神经网络、SVM、决策树、AdaBoosting等。10年后随着算力和数据的提升，神经网络开始变得work起来，并且包装成了新的名词“深度学习”。\n",
    "- 如何定义机器学习。这个目前没有统一的定义，但合理的说法是：让机器从**数据**中来**学习**，并能做**预测**。\n",
    "- 如何用机器学习来解决问题呢，简单概括为3个步骤: 1) 选择一类模型或方法； 2) 定义损失函数； 3) 优化损失函数。\n",
    "- 最后对机器学习中一些场景、任务类型和学习模型进行了分类。需要特别注意的是半监督学习和迁移学习的区别，以及强化学习和监督学习的区别。"
   ]
  }
 ],
 "metadata": {
  "kernelspec": {
   "display_name": "Python 3",
   "language": "python",
   "name": "python3"
  },
  "language_info": {
   "codemirror_mode": {
    "name": "ipython",
    "version": 3
   },
   "file_extension": ".py",
   "mimetype": "text/x-python",
   "name": "python",
   "nbconvert_exporter": "python",
   "pygments_lexer": "ipython3",
   "version": "3.7.2"
  }
 },
 "nbformat": 4,
 "nbformat_minor": 2
}
