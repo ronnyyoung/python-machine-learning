{
 "cells": [
  {
   "cell_type": "code",
   "execution_count": 1,
   "metadata": {
    "ExecuteTime": {
     "end_time": "2019-04-23T05:51:08.873070Z",
     "start_time": "2019-04-23T05:51:08.443446Z"
    },
    "collapsed": true
   },
   "outputs": [],
   "source": [
    "import torch\n",
    "import torchvision\n",
    "import torchvision.transforms as transforms"
   ]
  },
  {
   "cell_type": "markdown",
   "metadata": {},
   "source": [
    "# Load CIFAR10"
   ]
  },
  {
   "cell_type": "code",
   "execution_count": 2,
   "metadata": {
    "ExecuteTime": {
     "end_time": "2019-04-23T05:51:12.024772Z",
     "start_time": "2019-04-23T05:51:09.610440Z"
    }
   },
   "outputs": [
    {
     "name": "stdout",
     "output_type": "stream",
     "text": [
      "Files already downloaded and verified\n",
      "Files already downloaded and verified\n"
     ]
    }
   ],
   "source": [
    "transform = transforms.Compose([\n",
    "    transforms.ToTensor(),\n",
    "    transforms.Normalize((0.5, 0.5, 0.5), (0.5, 0.5, 0.5))\n",
    "])\n",
    "\n",
    "trainset = torchvision.datasets.CIFAR10(root='./data',\n",
    "                                        train=True,\n",
    "                                        download=True,\n",
    "                                        transform=transform)\n",
    "trainloader = torch.utils.data.DataLoader(trainset,\n",
    "                                          batch_size=4,\n",
    "                                          shuffle=True,\n",
    "                                          num_workers=2)\n",
    "\n",
    "testset = torchvision.datasets.CIFAR10(root='./data',\n",
    "                                       train=False,\n",
    "                                       download=True,\n",
    "                                       transform=transform)\n",
    "testloader = torch.utils.data.DataLoader(testset,\n",
    "                                         batch_size=4,\n",
    "                                         shuffle=False,\n",
    "                                         num_workers=2)\n",
    "\n",
    "classes = ('plane', 'car', 'bird', 'cat', 'deer', 'dog', 'frog', 'horse',\n",
    "           'ship', 'truck')"
   ]
  },
  {
   "cell_type": "markdown",
   "metadata": {},
   "source": [
    "# Show images"
   ]
  },
  {
   "cell_type": "code",
   "execution_count": 3,
   "metadata": {
    "ExecuteTime": {
     "end_time": "2019-04-23T05:51:12.473147Z",
     "start_time": "2019-04-23T05:51:12.026603Z"
    }
   },
   "outputs": [
    {
     "data": {
      "image/png": "[encoded data removed]",
      "text/plain": [
       "<matplotlib.figure.Figure at 0x7fdef66e8470>"
      ]
     },
     "metadata": {},
     "output_type": "display_data"
    }
   ],
   "source": [
    "import matplotlib.pyplot as plt\n",
    "import numpy as np\n",
    "\n",
    "def imshow(img):\n",
    "    # 把range从(-1,1)调整到(0，１)\n",
    "    img = img / 2 + 0.5\n",
    "    npimg = img.numpy()\n",
    "    plt.imshow(np.transpose(npimg, (1,2,0)))\n",
    "    plt.show()\n",
    "\n",
    "dataiter = iter(trainloader)\n",
    "images, labels = dataiter.next()\n",
    "\n",
    "grad_img = torchvision.utils.make_grid(images)\n",
    "\n",
    "imshow(grad_img)"
   ]
  },
  {
   "cell_type": "code",
   "execution_count": 4,
   "metadata": {
    "ExecuteTime": {
     "end_time": "2019-04-23T05:51:12.479502Z",
     "start_time": "2019-04-23T05:51:12.475484Z"
    }
   },
   "outputs": [
    {
     "name": "stdout",
     "output_type": "stream",
     "text": [
      "torch.Size([4, 3, 32, 32]) torch.Size([4])\n"
     ]
    }
   ],
   "source": [
    "print(images.size(), labels.size())"
   ]
  },
  {
   "cell_type": "code",
   "execution_count": 5,
   "metadata": {
    "ExecuteTime": {
     "end_time": "2019-04-23T05:51:12.489617Z",
     "start_time": "2019-04-23T05:51:12.481045Z"
    }
   },
   "outputs": [
    {
     "name": "stdout",
     "output_type": "stream",
     "text": [
      "0 : truck\n",
      "1 : deer\n",
      "2 : bird\n",
      "3 : bird\n"
     ]
    }
   ],
   "source": [
    "for i in range(len(labels)):\n",
    "    print('%d : %s' % (i, classes[labels[i]]))"
   ]
  },
  {
   "cell_type": "markdown",
   "metadata": {},
   "source": [
    "# Define Neural Network"
   ]
  },
  {
   "cell_type": "code",
   "execution_count": 9,
   "metadata": {
    "ExecuteTime": {
     "end_time": "2019-04-23T05:54:02.266366Z",
     "start_time": "2019-04-23T05:54:02.126237Z"
    }
   },
   "outputs": [
    {
     "name": "stdout",
     "output_type": "stream",
     "text": [
      "Net(\n",
      "  (conv1): Conv2d(3, 6, kernel_size=(5, 5), stride=(1, 1))\n",
      "  (pool): MaxPool2d(kernel_size=2, stride=2, padding=0, dilation=1, ceil_mode=False)\n",
      "  (conv2): Conv2d(6, 16, kernel_size=(5, 5), stride=(1, 1))\n",
      "  (fc1): Linear(in_features=400, out_features=120, bias=True)\n",
      "  (fc2): Linear(in_features=120, out_features=84, bias=True)\n",
      "  (fc3): Linear(in_features=84, out_features=10, bias=True)\n",
      ")\n"
     ]
    }
   ],
   "source": [
    "import torch.nn as nn\n",
    "import torch.nn.functional as F\n",
    "\n",
    "class Net(nn.Module):\n",
    "    def __init__(self):\n",
    "        super(Net, self).__init__()\n",
    "        self.conv1 = nn.Conv2d(3, 6, 5)\n",
    "        self.pool = nn.MaxPool2d(2, 2)\n",
    "        self.conv2 = nn.Conv2d(6, 16, 5)\n",
    "        self.fc1 = nn.Linear(16 * 5 * 5, 120)\n",
    "        self.fc2 = nn.Linear(120, 84)\n",
    "        self.fc3 = nn.Linear(84, 10)\n",
    "\n",
    "    def forward(self, x):\n",
    "        x = self.pool(F.relu(self.conv1(x)))\n",
    "        x = self.pool(F.relu(self.conv2(x)))\n",
    "        x = x.view(-1, 16 * 5 * 5)\n",
    "        x = F.relu(self.fc1(x))\n",
    "        x = F.relu(self.fc2(x))\n",
    "        x = self.fc3(x)\n",
    "        return x\n",
    "\n",
    "class Net1(nn.Module):\n",
    "    def __init__(self):\n",
    "        super(Net, self).__init__()\n",
    "        self.conv1 = nn.Conv2d(3, 6, 5)\n",
    "        self.conv2 = nn.Conv2d(6, 16, 5)\n",
    "        self.fc1 = nn.Linear(16 * 5 * 5, 120)\n",
    "        self.fc2 = nn.Linear(120, 84)\n",
    "        self.fc3 = nn.Linear(84, 10)\n",
    "    def forward(self, X):\n",
    "        # Max pooling over a (2, 2) window\n",
    "        x = F.max_pool2d(F.relu(self.conv1(X)), (2,2))\n",
    "        # If the size is a square you can only specify a single number\n",
    "        x = F.max_pool2d(F.relu(self.conv2(x)),2)\n",
    "        x = x.view(-1, self.num_flat_features(x))\n",
    "        x = F.relu(self.fc1(x))\n",
    "        x = F.relu(self.fc2(x))\n",
    "        x = self.fc3(x)\n",
    "        return x\n",
    "    def num_flat_features(self, x):\n",
    "        size = x.size()[1:]\n",
    "        num_features = 1\n",
    "        for s in size:\n",
    "            num_features *= s\n",
    "        return num_features\n",
    "net = Net()\n",
    "print(net)"
   ]
  },
  {
   "cell_type": "markdown",
   "metadata": {},
   "source": [
    "# Define a Loss Function and optimizer"
   ]
  },
  {
   "cell_type": "code",
   "execution_count": 10,
   "metadata": {
    "ExecuteTime": {
     "end_time": "2019-04-23T05:54:03.471750Z",
     "start_time": "2019-04-23T05:54:03.467610Z"
    },
    "collapsed": true
   },
   "outputs": [],
   "source": [
    "import torch.optim as optim\n",
    "\n",
    "criterion = nn.CrossEntropyLoss()\n",
    "optimizer = optim.SGD(net.parameters(), lr = 0.001, momentum=0.9)"
   ]
  },
  {
   "cell_type": "markdown",
   "metadata": {},
   "source": [
    "# Train the network"
   ]
  },
  {
   "cell_type": "code",
   "execution_count": 11,
   "metadata": {
    "ExecuteTime": {
     "end_time": "2019-04-23T05:59:01.231863Z",
     "start_time": "2019-04-23T05:54:04.975429Z"
    }
   },
   "outputs": [
    {
     "name": "stdout",
     "output_type": "stream",
     "text": [
      "[1,  2000] loss: 2.194\n",
      "[1,  4000] loss: 1.829\n",
      "[1,  6000] loss: 1.657\n",
      "[1,  8000] loss: 1.562\n",
      "[1, 10000] loss: 1.511\n",
      "[1, 12000] loss: 1.468\n",
      "[2,  2000] loss: 1.405\n",
      "[2,  4000] loss: 1.359\n",
      "[2,  6000] loss: 1.334\n",
      "[2,  8000] loss: 1.332\n",
      "[2, 10000] loss: 1.304\n",
      "[2, 12000] loss: 1.281\n",
      "Finished Training\n"
     ]
    }
   ],
   "source": [
    "for epoch in range(2):\n",
    "    running_loss = 0.0\n",
    "    for i, data in enumerate(trainloader, 0):\n",
    "        inputs, labels = data\n",
    "        optimizer.zero_grad()\n",
    "\n",
    "        outputs = net(inputs)\n",
    "        loss = criterion(outputs, labels)\n",
    "        loss.backward()\n",
    "        optimizer.step()\n",
    "\n",
    "        running_loss += loss.item()\n",
    "        if i % 2000 == 1999:\n",
    "            print('[%d, %5d] loss: %.3f' % ((epoch + 1), i + 1,\n",
    "                  running_loss / 2000))\n",
    "            running_loss = 0.0\n",
    "print('Finished Training')"
   ]
  },
  {
   "cell_type": "markdown",
   "metadata": {},
   "source": [
    "# Testing"
   ]
  },
  {
   "cell_type": "code",
   "execution_count": 12,
   "metadata": {
    "ExecuteTime": {
     "end_time": "2019-04-23T05:59:29.790872Z",
     "start_time": "2019-04-23T05:59:29.592640Z"
    }
   },
   "outputs": [
    {
     "data": {
      "image/png": "[encoded data removed]",
      "text/plain": [
       "<matplotlib.figure.Figure at 0x7fdee9cc1be0>"
      ]
     },
     "metadata": {},
     "output_type": "display_data"
    },
    {
     "name": "stdout",
     "output_type": "stream",
     "text": [
      "0 : truck\n",
      "1 : truck\n",
      "2 : horse\n",
      "3 : cat\n"
     ]
    }
   ],
   "source": [
    "dataiterr = iter(testloader)\n",
    "images, labels = dataiter.next()\n",
    "grad_img = torchvision.utils.make_grid(images)\n",
    "imshow(grad_img)\n",
    "for i in range(len(labels)):\n",
    "    print('%d : %s' % (i, classes[labels[i]]))"
   ]
  },
  {
   "cell_type": "code",
   "execution_count": 13,
   "metadata": {
    "ExecuteTime": {
     "end_time": "2019-04-23T05:59:31.445683Z",
     "start_time": "2019-04-23T05:59:31.434972Z"
    }
   },
   "outputs": [
    {
     "name": "stdout",
     "output_type": "stream",
     "text": [
      "tensor([[-2.2202,  0.5023, -0.8021,  1.5556, -3.1334,  1.0927,  1.9738, -0.1613,\n",
      "         -2.3240,  3.8973],\n",
      "        [ 0.1821,  3.1605, -1.6163, -0.7868, -2.5871, -1.1114, -1.4225,  0.2097,\n",
      "         -1.1995,  5.6179],\n",
      "        [-1.1862, -1.3689,  1.2520,  0.5495,  0.3182,  0.7541, -0.1787,  1.3626,\n",
      "         -1.7255, -1.2973],\n",
      "        [-1.4799, -1.2242,  0.6592,  2.1542, -1.2177,  1.5229,  1.0336, -0.6814,\n",
      "         -1.0123, -0.5667]], grad_fn=<AddmmBackward>)\n"
     ]
    }
   ],
   "source": [
    "outputs = net(images)\n",
    "print(outputs)"
   ]
  },
  {
   "cell_type": "code",
   "execution_count": 14,
   "metadata": {
    "ExecuteTime": {
     "end_time": "2019-04-23T05:59:32.323575Z",
     "start_time": "2019-04-23T05:59:32.317630Z"
    }
   },
   "outputs": [
    {
     "name": "stdout",
     "output_type": "stream",
     "text": [
      "tensor([9, 9, 7, 3])\n",
      "0 : truck\n",
      "1 : truck\n",
      "2 : horse\n",
      "3 : cat\n"
     ]
    }
   ],
   "source": [
    "_, predicted = torch.max(outputs, 1)\n",
    "print(predicted)\n",
    "for i, label in enumerate(predicted):\n",
    "    print('%d : %s' % (i, classes[label]))"
   ]
  },
  {
   "cell_type": "code",
   "execution_count": 15,
   "metadata": {
    "ExecuteTime": {
     "end_time": "2019-04-23T05:59:45.712878Z",
     "start_time": "2019-04-23T05:59:37.013110Z"
    }
   },
   "outputs": [
    {
     "name": "stdout",
     "output_type": "stream",
     "text": [
      "Accuracy: 53 %\n"
     ]
    }
   ],
   "source": [
    "correct = 0\n",
    "total = 0\n",
    "\n",
    "with torch.no_grad():\n",
    "    for data in testloader:\n",
    "        input, labels = data\n",
    "        outputs = net(input)\n",
    "        _, predicted = torch.max(outputs, 1)\n",
    "        correct += (predicted == labels).sum().item()\n",
    "        total += labels.size(0)\n",
    "print('Accuracy: %d %%' % (100 * correct / total)) "
   ]
  },
  {
   "cell_type": "markdown",
   "metadata": {},
   "source": [
    "# Training on GPU"
   ]
  },
  {
   "cell_type": "code",
   "execution_count": 16,
   "metadata": {
    "ExecuteTime": {
     "end_time": "2019-04-23T05:59:45.723796Z",
     "start_time": "2019-04-23T05:59:45.717289Z"
    }
   },
   "outputs": [
    {
     "name": "stdout",
     "output_type": "stream",
     "text": [
      "cuda:0\n"
     ]
    }
   ],
   "source": [
    "device = torch.device(\"cuda:0\" if torch.cuda.is_available() else \"cpu\")\n",
    "print(device)"
   ]
  },
  {
   "cell_type": "code",
   "execution_count": 17,
   "metadata": {
    "ExecuteTime": {
     "end_time": "2019-04-23T05:59:50.650236Z",
     "start_time": "2019-04-23T05:59:45.725750Z"
    }
   },
   "outputs": [
    {
     "data": {
      "text/plain": [
       "Net(\n",
       "  (conv1): Conv2d(3, 6, kernel_size=(5, 5), stride=(1, 1))\n",
       "  (pool): MaxPool2d(kernel_size=2, stride=2, padding=0, dilation=1, ceil_mode=False)\n",
       "  (conv2): Conv2d(6, 16, kernel_size=(5, 5), stride=(1, 1))\n",
       "  (fc1): Linear(in_features=400, out_features=120, bias=True)\n",
       "  (fc2): Linear(in_features=120, out_features=84, bias=True)\n",
       "  (fc3): Linear(in_features=84, out_features=10, bias=True)\n",
       ")"
      ]
     },
     "execution_count": 17,
     "metadata": {},
     "output_type": "execute_result"
    }
   ],
   "source": [
    "net.to(device)"
   ]
  },
  {
   "cell_type": "code",
   "execution_count": 19,
   "metadata": {
    "ExecuteTime": {
     "end_time": "2019-04-23T06:06:10.509654Z",
     "start_time": "2019-04-23T06:06:10.494750Z"
    }
   },
   "outputs": [
    {
     "name": "stdout",
     "output_type": "stream",
     "text": [
      "{'momentum_buffer': tensor([[[[ 4.4076e-02,  4.7815e-02,  3.5915e-02,  4.9473e-02,  1.0707e-01],\n",
      "          [ 1.4244e-02,  1.7160e-02,  3.9732e-02,  1.0244e-01,  1.3629e-01],\n",
      "          [ 4.2574e-02,  6.9927e-02,  1.3188e-01,  1.4486e-01,  9.8360e-02],\n",
      "          [-4.8366e-02, -1.4411e-02,  5.0462e-02,  5.9783e-02,  6.7630e-02],\n",
      "          [-3.7315e-02, -1.3843e-02,  3.3202e-02,  6.8048e-02,  8.3475e-02]],\n",
      "\n",
      "         [[ 3.7088e-02,  9.3245e-03, -2.8638e-02, -2.2603e-02,  4.2313e-02],\n",
      "          [ 2.2285e-02,  1.5256e-02,  8.2789e-03,  5.6590e-02,  7.2541e-02],\n",
      "          [ 2.4753e-02,  4.4859e-02,  7.4203e-02,  8.4190e-02,  4.4812e-02],\n",
      "          [-5.1356e-02, -3.4481e-02,  1.5389e-04, -3.5710e-03,  1.2302e-02],\n",
      "          [-8.0904e-03, -6.1152e-03,  2.5952e-02,  4.3030e-02,  4.0943e-02]],\n",
      "\n",
      "         [[-7.9344e-02, -9.8844e-02, -1.3315e-01, -1.3319e-01, -6.3697e-02],\n",
      "          [-6.5396e-02, -7.3617e-02, -7.8235e-02, -3.3902e-02, -3.0378e-02],\n",
      "          [-4.0072e-02, -3.5919e-02, -1.3441e-02,  6.9434e-03, -2.0604e-02],\n",
      "          [-4.1783e-02, -3.6669e-02, -1.6543e-02, -2.6685e-02, -1.0808e-02],\n",
      "          [ 1.0345e-01,  9.3366e-02,  1.0744e-01,  9.9361e-02,  7.1354e-02]]],\n",
      "\n",
      "\n",
      "        [[[ 2.9275e-01,  2.0108e-01,  8.5900e-02,  4.4796e-02,  9.6221e-02],\n",
      "          [ 3.9692e-01,  3.1810e-01,  1.9820e-01,  1.6451e-01,  1.4702e-01],\n",
      "          [ 4.5520e-01,  3.9710e-01,  2.5760e-01,  1.4948e-01,  1.2520e-01],\n",
      "          [ 4.5431e-01,  4.5462e-01,  3.2278e-01,  2.1343e-01,  2.1236e-01],\n",
      "          [ 5.1956e-01,  4.6517e-01,  3.3502e-01,  3.1071e-01,  2.7881e-01]],\n",
      "\n",
      "         [[ 1.6171e-01,  1.1974e-01,  1.2842e-02, -4.1984e-02,  9.2526e-03],\n",
      "          [ 2.4287e-01,  2.2173e-01,  1.0255e-01,  7.0378e-02,  3.5673e-02],\n",
      "          [ 2.4872e-01,  2.2739e-01,  9.9056e-02,  1.3819e-02, -2.4731e-02],\n",
      "          [ 2.1294e-01,  2.3347e-01,  1.0194e-01,  1.1445e-02,  1.0401e-02],\n",
      "          [ 2.5839e-01,  2.3718e-01,  1.2166e-01,  1.0626e-01,  6.8984e-02]],\n",
      "\n",
      "         [[ 2.6658e-01,  2.4216e-01,  1.6155e-01,  1.1558e-01,  1.5008e-01],\n",
      "          [ 2.8165e-01,  2.9949e-01,  1.8607e-01,  1.5768e-01,  1.4847e-01],\n",
      "          [ 1.8427e-01,  1.9903e-01,  8.0067e-02,  2.7356e-02,  3.4591e-02],\n",
      "          [ 9.0858e-02,  1.4601e-01,  3.0919e-02, -3.8862e-02, -4.5590e-03],\n",
      "          [ 1.1571e-01,  1.4178e-01,  4.5250e-02,  3.0935e-02,  1.0431e-02]]],\n",
      "\n",
      "\n",
      "        [[[ 1.9695e-01,  1.1446e-01,  2.5172e-02,  1.6613e-02, -4.2273e-02],\n",
      "          [ 1.9154e-01,  7.2897e-02,  2.0118e-02,  4.4498e-03, -9.1928e-02],\n",
      "          [ 9.4375e-02,  2.5677e-02, -5.9917e-02, -9.1625e-02, -1.8640e-01],\n",
      "          [-1.6420e-02, -3.8691e-02, -8.1850e-02, -1.0920e-01, -1.6638e-01],\n",
      "          [-2.1102e-02, -5.3948e-02, -1.3949e-01, -1.5825e-01, -1.7514e-01]],\n",
      "\n",
      "         [[ 1.3966e-01,  5.4104e-02, -5.9206e-02, -8.8587e-02, -1.3990e-01],\n",
      "          [ 1.1563e-01, -1.6231e-03, -6.4373e-02, -8.4214e-02, -1.6551e-01],\n",
      "          [-4.5413e-04, -7.0938e-02, -1.5818e-01, -1.8179e-01, -2.5428e-01],\n",
      "          [-1.2602e-01, -1.4656e-01, -1.7213e-01, -1.9782e-01, -2.4195e-01],\n",
      "          [-1.1770e-01, -1.5122e-01, -2.3378e-01, -2.5043e-01, -2.5485e-01]],\n",
      "\n",
      "         [[ 1.4620e-01,  5.6582e-02, -8.1469e-02, -1.2607e-01, -1.6316e-01],\n",
      "          [ 1.2183e-01,  9.3547e-03, -7.4568e-02, -1.1077e-01, -1.7417e-01],\n",
      "          [-2.2074e-02, -9.1939e-02, -1.8384e-01, -2.2248e-01, -2.7034e-01],\n",
      "          [-1.8337e-01, -2.1862e-01, -2.5074e-01, -2.7819e-01, -2.9969e-01],\n",
      "          [-1.9334e-01, -2.4947e-01, -3.3187e-01, -3.4146e-01, -3.2717e-01]]],\n",
      "\n",
      "\n",
      "        [[[-1.3941e-01, -1.8303e-01, -1.9135e-01, -2.2450e-01, -2.4624e-01],\n",
      "          [-1.8401e-01, -2.2488e-01, -2.1575e-01, -2.0235e-01, -1.7294e-01],\n",
      "          [-2.2706e-01, -2.1640e-01, -1.9516e-01, -1.5355e-01, -9.7493e-02],\n",
      "          [-2.0186e-01, -1.8917e-01, -1.5071e-01, -9.0344e-02, -4.1002e-02],\n",
      "          [-2.0541e-01, -1.8668e-01, -1.2374e-01, -4.9838e-02, -4.2874e-02]],\n",
      "\n",
      "         [[-1.1190e-01, -1.4612e-01, -1.3400e-01, -1.5128e-01, -1.6713e-01],\n",
      "          [-1.3877e-01, -1.8115e-01, -1.6432e-01, -1.4290e-01, -1.0727e-01],\n",
      "          [-1.4317e-01, -1.4069e-01, -1.3926e-01, -1.0966e-01, -4.7939e-02],\n",
      "          [-1.0822e-01, -1.0912e-01, -9.2653e-02, -5.2652e-02, -6.1030e-03],\n",
      "          [-9.7176e-02, -8.6999e-02, -4.5896e-02, -2.5620e-03,  1.0072e-03]],\n",
      "\n",
      "         [[-1.6465e-01, -1.9509e-01, -1.8044e-01, -1.9808e-01, -1.9861e-01],\n",
      "          [-1.8014e-01, -2.2834e-01, -2.1283e-01, -1.9562e-01, -1.5548e-01],\n",
      "          [-1.6208e-01, -1.7933e-01, -2.0606e-01, -2.0017e-01, -1.3950e-01],\n",
      "          [-1.2456e-01, -1.5353e-01, -1.7315e-01, -1.6592e-01, -1.3499e-01],\n",
      "          [-1.0902e-01, -1.2702e-01, -1.2352e-01, -1.1662e-01, -1.3012e-01]]],\n",
      "\n",
      "\n",
      "        [[[ 1.6721e-01,  1.1594e-01,  1.3827e-01,  1.1020e-01,  1.3261e-01],\n",
      "          [ 1.4005e-01,  1.3869e-01,  2.2753e-01,  2.1019e-01,  1.7671e-01],\n",
      "          [ 1.5749e-01,  1.4340e-01,  2.1242e-01,  2.1205e-01,  1.6733e-01],\n",
      "          [ 2.5445e-01,  2.0704e-01,  1.8781e-01,  1.7951e-01,  1.3568e-01],\n",
      "          [ 2.6190e-01,  2.3239e-01,  2.1772e-01,  2.3596e-01,  1.8167e-01]],\n",
      "\n",
      "         [[ 1.4431e-01,  1.3186e-01,  1.8486e-01,  1.6846e-01,  1.7256e-01],\n",
      "          [ 1.0357e-01,  1.1187e-01,  2.1740e-01,  2.2650e-01,  1.9844e-01],\n",
      "          [ 1.4231e-01,  1.3663e-01,  2.0315e-01,  1.9062e-01,  1.5700e-01],\n",
      "          [ 2.5075e-01,  2.0937e-01,  1.8329e-01,  1.6463e-01,  1.2570e-01],\n",
      "          [ 2.5332e-01,  2.0885e-01,  1.9515e-01,  2.2695e-01,  1.7758e-01]],\n",
      "\n",
      "         [[ 1.3427e-01,  1.5604e-01,  2.4180e-01,  2.6017e-01,  2.4516e-01],\n",
      "          [ 7.3173e-02,  8.1740e-02,  1.9372e-01,  2.4209e-01,  2.1539e-01],\n",
      "          [ 1.3636e-01,  1.1865e-01,  1.8553e-01,  1.7805e-01,  1.3881e-01],\n",
      "          [ 2.3740e-01,  1.9557e-01,  1.7106e-01,  1.5253e-01,  1.1676e-01],\n",
      "          [ 2.2882e-01,  1.8367e-01,  1.6140e-01,  2.0024e-01,  1.6912e-01]]],\n",
      "\n",
      "\n",
      "        [[[-1.3276e-01, -6.1990e-02,  3.7971e-02,  3.3695e-02,  2.9606e-02],\n",
      "          [-1.7928e-01, -1.3277e-01, -6.4270e-02, -5.2598e-02, -4.0140e-02],\n",
      "          [-2.6598e-01, -2.3904e-01, -1.5092e-01, -7.7846e-02, -9.4942e-02],\n",
      "          [-3.0702e-01, -2.8751e-01, -1.7324e-01, -8.3461e-02, -1.1957e-01],\n",
      "          [-3.4836e-01, -3.0738e-01, -1.8489e-01, -1.1760e-01, -1.1136e-01]],\n",
      "\n",
      "         [[-6.0309e-02,  2.8549e-03,  9.9079e-02,  9.5135e-02,  9.9557e-02],\n",
      "          [-9.3754e-02, -4.3708e-02,  2.7448e-02,  3.9151e-02,  5.2437e-02],\n",
      "          [-1.7187e-01, -1.4346e-01, -6.2775e-02,  1.3054e-02,  1.2390e-03],\n",
      "          [-2.3321e-01, -2.1388e-01, -9.9034e-02, -5.8154e-03, -3.1725e-02],\n",
      "          [-2.4907e-01, -2.0925e-01, -9.0028e-02, -2.9528e-02, -1.7563e-02]],\n",
      "\n",
      "         [[ 1.1636e-02,  6.9102e-02,  1.5440e-01,  1.4211e-01,  1.6064e-01],\n",
      "          [-1.3929e-02,  2.0727e-02,  7.2239e-02,  8.0462e-02,  9.5053e-02],\n",
      "          [-1.1303e-01, -1.1829e-01, -5.2533e-02,  2.7247e-02,  2.3294e-02],\n",
      "          [-2.1882e-01, -2.2263e-01, -1.1522e-01, -1.8727e-02, -2.2904e-02],\n",
      "          [-2.0654e-01, -1.9164e-01, -8.8000e-02, -3.0702e-02, -9.3528e-03]]]])}\n"
     ]
    }
   ],
   "source": [
    "print(optimizer.state[list(optimizer.state.keys())[0]])\n",
    "\n",
    "for p in optimizer.state.keys():\n",
    "    param_state = optimizer.state[p]\n",
    "    buf = param_state[\"momentum_buffer\"]\n",
    "    param_state[\"momentum_buffer\"] = buf.cuda()  # move buf to device"
   ]
  },
  {
   "cell_type": "code",
   "execution_count": 20,
   "metadata": {
    "ExecuteTime": {
     "end_time": "2019-04-23T06:07:38.406449Z",
     "start_time": "2019-04-23T06:06:17.751094Z"
    }
   },
   "outputs": [
    {
     "name": "stdout",
     "output_type": "stream",
     "text": [
      "[1,  2000] loss: 1.198\n",
      "[1,  4000] loss: 1.210\n",
      "[1,  6000] loss: 1.223\n",
      "[1,  8000] loss: 1.185\n",
      "[1, 10000] loss: 1.185\n",
      "[1, 12000] loss: 1.177\n",
      "[2,  2000] loss: 1.080\n",
      "[2,  4000] loss: 1.097\n",
      "[2,  6000] loss: 1.104\n",
      "[2,  8000] loss: 1.106\n",
      "[2, 10000] loss: 1.102\n",
      "[2, 12000] loss: 1.112\n",
      "Finished Training\n"
     ]
    }
   ],
   "source": [
    "for epoch in range(2):  # loop over the dataset multiple times\n",
    "\n",
    "    running_loss = 0.0\n",
    "    for i, data in enumerate(trainloader, 0):\n",
    "        # get the inputs\n",
    "        inputs, labels = data\n",
    "        inputs, labels = inputs.to(device), labels.to(device)\n",
    "\n",
    "        # zero the parameter gradients\n",
    "        optimizer.zero_grad()\n",
    "\n",
    "        # forward + backward + optimize\n",
    "        outputs = net(inputs)\n",
    "        loss = criterion(outputs, labels)\n",
    "        loss.backward()\n",
    "        optimizer.step()\n",
    "\n",
    "        # print statistics\n",
    "        running_loss += loss.item()\n",
    "        if i % 2000 == 1999:    # print every 2000 mini-batches\n",
    "            print('[%d, %5d] loss: %.3f' %\n",
    "                  (epoch + 1, i + 1, running_loss / 2000))\n",
    "            running_loss = 0.0\n",
    "\n",
    "print('Finished Training')"
   ]
  },
  {
   "cell_type": "code",
   "execution_count": null,
   "metadata": {
    "collapsed": true
   },
   "outputs": [],
   "source": []
  }
 ],
 "metadata": {
  "kernelspec": {
   "display_name": "Python 3",
   "language": "python",
   "name": "python3"
  },
  "language_info": {
   "codemirror_mode": {
    "name": "ipython",
    "version": 3
   },
   "file_extension": ".py",
   "mimetype": "text/x-python",
   "name": "python",
   "nbconvert_exporter": "python",
   "pygments_lexer": "ipython3",
   "version": "3.6.2"
  }
 },
 "nbformat": 4,
 "nbformat_minor": 2
}
