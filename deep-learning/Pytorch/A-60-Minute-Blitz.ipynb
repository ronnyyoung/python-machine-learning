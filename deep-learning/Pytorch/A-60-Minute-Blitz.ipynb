{
 "cells": [
  {
   "cell_type": "markdown",
   "metadata": {},
   "source": [
    "# Tensor\n",
    "\n",
    "`Tensors`类似于Numpy里的`Ndarray`，但它额外提供了`GPU`计算的支持。"
   ]
  },
  {
   "cell_type": "code",
   "execution_count": 1,
   "metadata": {
    "ExecuteTime": {
     "end_time": "2019-04-23T03:10:11.686614Z",
     "start_time": "2019-04-23T03:10:11.291696Z"
    }
   },
   "outputs": [
    {
     "name": "stdout",
     "output_type": "stream",
     "text": [
      "tensor([[-1.4889e+23,  4.5745e-41, -1.4889e+23],\n",
      "        [ 4.5745e-41, -1.0318e+17,  4.5745e-41],\n",
      "        [-7.4245e+23,  4.5745e-41, -7.4245e+23],\n",
      "        [ 4.5745e-41, -1.0320e+17,  4.5745e-41],\n",
      "        [-7.0454e+02,  4.5745e-41, -1.0315e+17]])\n",
      "tensor([[0.7052, 0.8031, 0.4363],\n",
      "        [0.5338, 0.9389, 0.1755],\n",
      "        [0.3233, 0.9696, 0.4796],\n",
      "        [0.7728, 0.8230, 0.1470],\n",
      "        [0.0462, 0.9701, 0.5859]])\n"
     ]
    }
   ],
   "source": [
    "import torch\n",
    "\n",
    "# Construct a 5x3 matrix, uninitialized:\n",
    "x = torch.empty(5,3)\n",
    "print(x)\n",
    "# Construct a randomly initialized matrix:\n",
    "x = torch.rand(5, 3)\n",
    "print(x)"
   ]
  },
  {
   "cell_type": "code",
   "execution_count": 2,
   "metadata": {
    "ExecuteTime": {
     "end_time": "2019-04-23T03:10:11.692585Z",
     "start_time": "2019-04-23T03:10:11.688513Z"
    }
   },
   "outputs": [
    {
     "name": "stdout",
     "output_type": "stream",
     "text": [
      "tensor([[0, 0, 0],\n",
      "        [0, 0, 0],\n",
      "        [0, 0, 0],\n",
      "        [0, 0, 0],\n",
      "        [0, 0, 0]])\n"
     ]
    }
   ],
   "source": [
    "# Construct a matrix filled zeros and of dtype long\n",
    "x = torch.zeros(5, 3, dtype=torch.long)\n",
    "print(x)"
   ]
  },
  {
   "cell_type": "code",
   "execution_count": 3,
   "metadata": {
    "ExecuteTime": {
     "end_time": "2019-04-23T03:10:11.704696Z",
     "start_time": "2019-04-23T03:10:11.694215Z"
    }
   },
   "outputs": [
    {
     "name": "stdout",
     "output_type": "stream",
     "text": [
      "tensor([[ 5.5000,  3.0000,  2.1000],\n",
      "        [ 0.3000,  4.2000, 10.6000]])\n"
     ]
    }
   ],
   "source": [
    "# Construct a tensor directly from data\n",
    "L = [[5.5, 3, 2.1],[0.3, 4.2, 10.6]]\n",
    "x = torch.tensor(L)\n",
    "print(x)"
   ]
  },
  {
   "cell_type": "markdown",
   "metadata": {},
   "source": [
    "我们也可以直接基于一个现成的`tensor`，来创建新的`tensor`，新创建的`tensor`的属性（`size`、`dtype`等）直接复用现成的`tensor`"
   ]
  },
  {
   "cell_type": "code",
   "execution_count": 4,
   "metadata": {
    "ExecuteTime": {
     "end_time": "2019-04-23T03:10:11.715150Z",
     "start_time": "2019-04-23T03:10:11.706264Z"
    }
   },
   "outputs": [
    {
     "name": "stdout",
     "output_type": "stream",
     "text": [
      "tensor([[1., 1., 1.],\n",
      "        [1., 1., 1.],\n",
      "        [1., 1., 1.],\n",
      "        [1., 1., 1.],\n",
      "        [1., 1., 1.]], dtype=torch.float64)\n",
      "tensor([[0.0861, 0.9166, 0.3194],\n",
      "        [0.9537, 0.2678, 0.0254],\n",
      "        [0.6886, 0.9874, 0.2918],\n",
      "        [0.9089, 0.0101, 0.6995],\n",
      "        [0.6246, 0.7031, 0.6960]])\n"
     ]
    }
   ],
   "source": [
    "# override了size和dtype\n",
    "x = x.new_ones(5, 3, dtype=torch.double)\n",
    "print(x)\n",
    "# override了dtype\n",
    "x= torch.rand_like(x, dtype=torch.float)\n",
    "print(x)"
   ]
  },
  {
   "cell_type": "markdown",
   "metadata": {},
   "source": [
    "# Tensor的算术运算"
   ]
  },
  {
   "cell_type": "code",
   "execution_count": 5,
   "metadata": {
    "ExecuteTime": {
     "end_time": "2019-04-23T03:10:11.728556Z",
     "start_time": "2019-04-23T03:10:11.716700Z"
    }
   },
   "outputs": [
    {
     "name": "stdout",
     "output_type": "stream",
     "text": [
      "tensor([[ 1.6770,  2.6719, -0.9050],\n",
      "        [ 0.4588,  0.8278,  0.1423],\n",
      "        [ 1.1016,  0.1436, -0.4275],\n",
      "        [ 0.3418, -2.3666, -0.1582],\n",
      "        [ 1.2109,  0.5013,  1.3343]])\n"
     ]
    }
   ],
   "source": [
    "y = torch.randn(5, 3)\n",
    "print(x + y)"
   ]
  },
  {
   "cell_type": "code",
   "execution_count": 6,
   "metadata": {
    "ExecuteTime": {
     "end_time": "2019-04-23T03:10:11.739112Z",
     "start_time": "2019-04-23T03:10:11.730154Z"
    }
   },
   "outputs": [
    {
     "name": "stdout",
     "output_type": "stream",
     "text": [
      "tensor([[ 1.6770,  2.6719, -0.9050],\n",
      "        [ 0.4588,  0.8278,  0.1423],\n",
      "        [ 1.1016,  0.1436, -0.4275],\n",
      "        [ 0.3418, -2.3666, -0.1582],\n",
      "        [ 1.2109,  0.5013,  1.3343]])\n"
     ]
    }
   ],
   "source": [
    "print(torch.add(x, y))"
   ]
  },
  {
   "cell_type": "code",
   "execution_count": 7,
   "metadata": {
    "ExecuteTime": {
     "end_time": "2019-04-23T03:10:11.753417Z",
     "start_time": "2019-04-23T03:10:11.740633Z"
    }
   },
   "outputs": [
    {
     "name": "stdout",
     "output_type": "stream",
     "text": [
      "tensor([[ 1.6770,  2.6719, -0.9050],\n",
      "        [ 0.4588,  0.8278,  0.1423],\n",
      "        [ 1.1016,  0.1436, -0.4275],\n",
      "        [ 0.3418, -2.3666, -0.1582],\n",
      "        [ 1.2109,  0.5013,  1.3343]])\n"
     ]
    }
   ],
   "source": [
    "z = torch.empty(5, 3)\n",
    "torch.add(x, y, out=z)\n",
    "print(z)"
   ]
  },
  {
   "cell_type": "code",
   "execution_count": 8,
   "metadata": {
    "ExecuteTime": {
     "end_time": "2019-04-23T03:10:11.767335Z",
     "start_time": "2019-04-23T03:10:11.754981Z"
    }
   },
   "outputs": [
    {
     "name": "stdout",
     "output_type": "stream",
     "text": [
      "tensor([[ 1.6770,  2.6719, -0.9050],\n",
      "        [ 0.4588,  0.8278,  0.1423],\n",
      "        [ 1.1016,  0.1436, -0.4275],\n",
      "        [ 0.3418, -2.3666, -0.1582],\n",
      "        [ 1.2109,  0.5013,  1.3343]])\n"
     ]
    }
   ],
   "source": [
    "x.add_(y)\n",
    "print(x)"
   ]
  },
  {
   "cell_type": "markdown",
   "metadata": {},
   "source": [
    "# 切片\n",
    "\n",
    "语法和Numpy是一样的"
   ]
  },
  {
   "cell_type": "code",
   "execution_count": 9,
   "metadata": {
    "ExecuteTime": {
     "end_time": "2019-04-23T03:10:11.780707Z",
     "start_time": "2019-04-23T03:10:11.768884Z"
    }
   },
   "outputs": [
    {
     "name": "stdout",
     "output_type": "stream",
     "text": [
      "tensor([[ 2.6719, -0.9050],\n",
      "        [ 0.8278,  0.1423],\n",
      "        [ 0.1436, -0.4275],\n",
      "        [-2.3666, -0.1582],\n",
      "        [ 0.5013,  1.3343]])\n"
     ]
    }
   ],
   "source": [
    "print(x[:, -2:])"
   ]
  },
  {
   "cell_type": "markdown",
   "metadata": {},
   "source": [
    "# Reshape"
   ]
  },
  {
   "cell_type": "code",
   "execution_count": 10,
   "metadata": {
    "ExecuteTime": {
     "end_time": "2019-04-23T03:10:11.793831Z",
     "start_time": "2019-04-23T03:10:11.782270Z"
    },
    "collapsed": true
   },
   "outputs": [],
   "source": [
    "# Reshape出来的数组，和原数据是共享存储的\n",
    "x = torch.randn(4, 4)\n",
    "y = x.view(16)\n",
    "z = x.view(-1, 8)"
   ]
  },
  {
   "cell_type": "markdown",
   "metadata": {},
   "source": [
    "# 和Numpy之间的转换"
   ]
  },
  {
   "cell_type": "code",
   "execution_count": 11,
   "metadata": {
    "ExecuteTime": {
     "end_time": "2019-04-23T03:10:11.808713Z",
     "start_time": "2019-04-23T03:10:11.795369Z"
    }
   },
   "outputs": [
    {
     "name": "stdout",
     "output_type": "stream",
     "text": [
      "[[-1.27017145 -0.74941763  0.51099931]\n",
      " [ 1.5296282   0.12585976 -0.37058281]\n",
      " [-0.91401494  0.67946583  0.42061108]\n",
      " [ 0.20291402  1.80999375  0.43451031]\n",
      " [ 0.8513185   0.66788329  1.10964226]]\n"
     ]
    }
   ],
   "source": [
    "import numpy as np\n",
    "\n",
    "a = np.random.randn(5,3)\n",
    "print(a)"
   ]
  },
  {
   "cell_type": "code",
   "execution_count": 12,
   "metadata": {
    "ExecuteTime": {
     "end_time": "2019-04-23T03:10:11.822866Z",
     "start_time": "2019-04-23T03:10:11.810269Z"
    }
   },
   "outputs": [
    {
     "name": "stdout",
     "output_type": "stream",
     "text": [
      "tensor([[-1.2702, -0.7494,  0.5110],\n",
      "        [ 1.5296,  0.1259, -0.3706],\n",
      "        [-0.9140,  0.6795,  0.4206],\n",
      "        [ 0.2029,  1.8100,  0.4345],\n",
      "        [ 0.8513,  0.6679,  1.1096]], dtype=torch.float64)\n"
     ]
    }
   ],
   "source": [
    "x = torch.from_numpy(a)\n",
    "print(x)"
   ]
  },
  {
   "cell_type": "code",
   "execution_count": 13,
   "metadata": {
    "ExecuteTime": {
     "end_time": "2019-04-23T03:10:11.843596Z",
     "start_time": "2019-04-23T03:10:11.824404Z"
    }
   },
   "outputs": [
    {
     "name": "stdout",
     "output_type": "stream",
     "text": [
      "[[-0.27017145  0.25058237  1.51099931]\n",
      " [ 2.5296282   1.12585976  0.62941719]\n",
      " [ 0.08598506  1.67946583  1.42061108]\n",
      " [ 1.20291402  2.80999375  1.43451031]\n",
      " [ 1.8513185   1.66788329  2.10964226]]\n",
      "tensor([[-0.2702,  0.2506,  1.5110],\n",
      "        [ 2.5296,  1.1259,  0.6294],\n",
      "        [ 0.0860,  1.6795,  1.4206],\n",
      "        [ 1.2029,  2.8100,  1.4345],\n",
      "        [ 1.8513,  1.6679,  2.1096]], dtype=torch.float64)\n"
     ]
    }
   ],
   "source": [
    "np.add(a, 1, out=a)\n",
    "print(a)\n",
    "print(x)"
   ]
  },
  {
   "cell_type": "markdown",
   "metadata": {},
   "source": [
    "# 使用CUDA"
   ]
  },
  {
   "cell_type": "code",
   "execution_count": 14,
   "metadata": {
    "ExecuteTime": {
     "end_time": "2019-04-23T03:10:16.749821Z",
     "start_time": "2019-04-23T03:10:11.845154Z"
    }
   },
   "outputs": [
    {
     "name": "stdout",
     "output_type": "stream",
     "text": [
      "tensor([[0.7298, 1.2506, 2.5110],\n",
      "        [3.5296, 2.1259, 1.6294],\n",
      "        [1.0860, 2.6795, 2.4206],\n",
      "        [2.2029, 3.8100, 2.4345],\n",
      "        [2.8513, 2.6679, 3.1096]], device='cuda:0', dtype=torch.float64)\n",
      "tensor([[0.7298, 1.2506, 2.5110],\n",
      "        [3.5296, 2.1259, 1.6294],\n",
      "        [1.0860, 2.6795, 2.4206],\n",
      "        [2.2029, 3.8100, 2.4345],\n",
      "        [2.8513, 2.6679, 3.1096]], dtype=torch.float64)\n"
     ]
    }
   ],
   "source": [
    "if torch.cuda.is_available():\n",
    "    device = torch.device('cuda')\n",
    "    y = torch.ones_like(x, device=device)\n",
    "    x = x.to(device)\n",
    "    z = x + y\n",
    "    print(z)\n",
    "    print(z.to('cpu', torch.double))"
   ]
  },
  {
   "cell_type": "markdown",
   "metadata": {},
   "source": [
    "# AutoGrad"
   ]
  },
  {
   "cell_type": "code",
   "execution_count": 15,
   "metadata": {
    "ExecuteTime": {
     "end_time": "2019-04-23T03:10:16.758242Z",
     "start_time": "2019-04-23T03:10:16.752267Z"
    }
   },
   "outputs": [
    {
     "name": "stdout",
     "output_type": "stream",
     "text": [
      "tensor([[1., 1.],\n",
      "        [1., 1.]], requires_grad=True)\n"
     ]
    }
   ],
   "source": [
    "import torch\n",
    "\n",
    "x = torch.ones(2, 2, requires_grad=True)\n",
    "print(x)"
   ]
  },
  {
   "cell_type": "code",
   "execution_count": 16,
   "metadata": {
    "ExecuteTime": {
     "end_time": "2019-04-23T03:10:16.769190Z",
     "start_time": "2019-04-23T03:10:16.759840Z"
    }
   },
   "outputs": [
    {
     "name": "stdout",
     "output_type": "stream",
     "text": [
      "tensor([[3., 3.],\n",
      "        [3., 3.]], grad_fn=<AddBackward0>)\n"
     ]
    }
   ],
   "source": [
    "y = x + 2\n",
    "print(y)"
   ]
  },
  {
   "cell_type": "code",
   "execution_count": 17,
   "metadata": {
    "ExecuteTime": {
     "end_time": "2019-04-23T03:10:16.782722Z",
     "start_time": "2019-04-23T03:10:16.770752Z"
    }
   },
   "outputs": [
    {
     "name": "stdout",
     "output_type": "stream",
     "text": [
      "<AddBackward0 object at 0x7f857bc67e80>\n"
     ]
    }
   ],
   "source": [
    "print(y.grad_fn)"
   ]
  },
  {
   "cell_type": "code",
   "execution_count": 18,
   "metadata": {
    "ExecuteTime": {
     "end_time": "2019-04-23T03:10:16.793325Z",
     "start_time": "2019-04-23T03:10:16.784250Z"
    }
   },
   "outputs": [
    {
     "name": "stdout",
     "output_type": "stream",
     "text": [
      "tensor([[27., 27.],\n",
      "        [27., 27.]], grad_fn=<MulBackward0>) tensor(27., grad_fn=<MeanBackward1>)\n"
     ]
    }
   ],
   "source": [
    "z = y * y * 3\n",
    "out = z.mean()\n",
    "print(z, out)"
   ]
  },
  {
   "cell_type": "code",
   "execution_count": 19,
   "metadata": {
    "ExecuteTime": {
     "end_time": "2019-04-23T03:10:16.806870Z",
     "start_time": "2019-04-23T03:10:16.794875Z"
    }
   },
   "outputs": [
    {
     "name": "stdout",
     "output_type": "stream",
     "text": [
      "False\n",
      "True\n",
      "<SumBackward0 object at 0x7f857bc84898>\n"
     ]
    }
   ],
   "source": [
    "a = torch.randn(2, 2)\n",
    "a = ((a * 3) / (a - 1))\n",
    "print(a.requires_grad)\n",
    "a.requires_grad_(True)\n",
    "print(a.requires_grad)\n",
    "b = (a * a).sum()\n",
    "print(b.grad_fn)"
   ]
  },
  {
   "cell_type": "code",
   "execution_count": 20,
   "metadata": {
    "ExecuteTime": {
     "end_time": "2019-04-23T03:10:16.818027Z",
     "start_time": "2019-04-23T03:10:16.808398Z"
    }
   },
   "outputs": [
    {
     "name": "stdout",
     "output_type": "stream",
     "text": [
      "tensor([[4.5000, 4.5000],\n",
      "        [4.5000, 4.5000]])\n"
     ]
    }
   ],
   "source": [
    "out.backward()\n",
    "print(x.grad)"
   ]
  },
  {
   "cell_type": "code",
   "execution_count": 21,
   "metadata": {
    "ExecuteTime": {
     "end_time": "2019-04-23T03:10:16.831100Z",
     "start_time": "2019-04-23T03:10:16.819586Z"
    }
   },
   "outputs": [
    {
     "name": "stdout",
     "output_type": "stream",
     "text": [
      "tensor([345.9185, 656.6721, 750.0057], grad_fn=<MulBackward0>)\n"
     ]
    }
   ],
   "source": [
    "x = torch.randn(3, requires_grad=True)\n",
    "y = x * 2\n",
    "while y.data.norm() < 1000:\n",
    "    y = y * 2\n",
    "print(y)"
   ]
  },
  {
   "cell_type": "code",
   "execution_count": 22,
   "metadata": {
    "ExecuteTime": {
     "end_time": "2019-04-23T03:10:16.844710Z",
     "start_time": "2019-04-23T03:10:16.832661Z"
    }
   },
   "outputs": [
    {
     "name": "stdout",
     "output_type": "stream",
     "text": [
      "tensor([1.0240e+02, 1.0240e+03, 1.0240e-01])\n"
     ]
    }
   ],
   "source": [
    "v = torch.tensor([0.1, 1.0, 0.0001], dtype=torch.float)\n",
    "y.backward(v)\n",
    "print(x.grad)"
   ]
  },
  {
   "cell_type": "code",
   "execution_count": 23,
   "metadata": {
    "ExecuteTime": {
     "end_time": "2019-04-23T03:10:16.857864Z",
     "start_time": "2019-04-23T03:10:16.846261Z"
    }
   },
   "outputs": [
    {
     "name": "stdout",
     "output_type": "stream",
     "text": [
      "True\n",
      "True\n"
     ]
    }
   ],
   "source": [
    "print(x.requires_grad)\n",
    "print((x ** 2).requires_grad)"
   ]
  },
  {
   "cell_type": "code",
   "execution_count": 24,
   "metadata": {
    "ExecuteTime": {
     "end_time": "2019-04-23T03:10:16.871964Z",
     "start_time": "2019-04-23T03:10:16.859408Z"
    }
   },
   "outputs": [
    {
     "name": "stdout",
     "output_type": "stream",
     "text": [
      "False\n"
     ]
    }
   ],
   "source": [
    "with torch.no_grad():\n",
    "    print((x ** 2).requires_grad)"
   ]
  },
  {
   "cell_type": "markdown",
   "metadata": {},
   "source": [
    "# Neural Networks\n",
    "\n",
    "A typical training procedure for a neural network is as follows:\n",
    "\n",
    "- Define the neural network that has some learnable parameters (or weights)\n",
    "- Iterate over a dataset of inputs\n",
    "- Process input through the network\n",
    "- Compute the loss (how far is the output from being correct)\n",
    "- Propagate gradients back into the network’s parameters\n",
    "- Update the weights of the network, typically using a simple update rule: `weight = weight learning_rate * gradient`\n",
    "\n",
    "## Define the network"
   ]
  },
  {
   "cell_type": "code",
   "execution_count": 25,
   "metadata": {
    "ExecuteTime": {
     "end_time": "2019-04-23T03:10:16.885125Z",
     "start_time": "2019-04-23T03:10:16.873484Z"
    },
    "collapsed": true
   },
   "outputs": [],
   "source": [
    "import torch\n",
    "import torch.nn as nn\n",
    "import torch.nn.functional as F"
   ]
  },
  {
   "cell_type": "code",
   "execution_count": 26,
   "metadata": {
    "ExecuteTime": {
     "end_time": "2019-04-23T03:10:16.940123Z",
     "start_time": "2019-04-23T03:10:16.886687Z"
    }
   },
   "outputs": [
    {
     "name": "stdout",
     "output_type": "stream",
     "text": [
      "Net(\n",
      "  (conv1): Conv2d(1, 6, kernel_size=(5, 5), stride=(1, 1))\n",
      "  (conv2): Conv2d(6, 16, kernel_size=(5, 5), stride=(1, 1))\n",
      "  (fc1): Linear(in_features=400, out_features=120, bias=True)\n",
      "  (fc2): Linear(in_features=120, out_features=84, bias=True)\n",
      "  (fc3): Linear(in_features=84, out_features=10, bias=True)\n",
      ")\n"
     ]
    }
   ],
   "source": [
    "class Net(nn.Module):\n",
    "    def __init__(self):\n",
    "        super(Net, self).__init__()\n",
    "        self.conv1 = nn.Conv2d(1, 6, 5)\n",
    "        self.conv2 = nn.Conv2d(6, 16, 5)\n",
    "        self.fc1 = nn.Linear(16 * 5 * 5, 120)\n",
    "        self.fc2 = nn.Linear(120, 84)\n",
    "        self.fc3 = nn.Linear(84, 10)\n",
    "    def forward(self, X):\n",
    "        # Max pooling over a (2, 2) window\n",
    "        x = F.max_pool2d(F.relu(self.conv1(X)), (2,2))\n",
    "        # If the size is a square you can only specify a single number\n",
    "        x = F.max_pool2d(F.relu(self.conv2(x)),2)\n",
    "        x = x.view(-1, self.num_flat_features(x))\n",
    "        x = F.relu(self.fc1(x))\n",
    "        x = F.relu(self.fc2(x))\n",
    "        x = self.fc3(x)\n",
    "        return x\n",
    "    def num_flat_features(self, x):\n",
    "        size = x.size()[1:]\n",
    "        num_features = 1\n",
    "        for s in size:\n",
    "            num_features *= s\n",
    "        return num_features\n",
    "net = Net()\n",
    "print(net)"
   ]
  },
  {
   "cell_type": "code",
   "execution_count": 27,
   "metadata": {
    "ExecuteTime": {
     "end_time": "2019-04-23T03:10:16.961571Z",
     "start_time": "2019-04-23T03:10:16.941640Z"
    }
   },
   "outputs": [
    {
     "name": "stdout",
     "output_type": "stream",
     "text": [
      "10\n",
      "torch.Size([6, 1, 5, 5])\n"
     ]
    }
   ],
   "source": [
    "params  =list(net.parameters())\n",
    "print(len(params))\n",
    "print(params[0].size())"
   ]
  },
  {
   "cell_type": "code",
   "execution_count": 28,
   "metadata": {
    "ExecuteTime": {
     "end_time": "2019-04-23T03:10:16.991516Z",
     "start_time": "2019-04-23T03:10:16.963070Z"
    }
   },
   "outputs": [
    {
     "name": "stdout",
     "output_type": "stream",
     "text": [
      "tensor([[-0.0767,  0.0708, -0.0277,  0.1130, -0.0087, -0.0441,  0.0113,  0.1182,\n",
      "          0.0886,  0.0271]], grad_fn=<AddmmBackward>)\n"
     ]
    }
   ],
   "source": [
    "input = torch.randn(1, 1, 32, 32)\n",
    "out = net(input)\n",
    "print(out)"
   ]
  },
  {
   "cell_type": "code",
   "execution_count": 29,
   "metadata": {
    "ExecuteTime": {
     "end_time": "2019-04-23T03:10:17.003683Z",
     "start_time": "2019-04-23T03:10:16.993622Z"
    },
    "collapsed": true
   },
   "outputs": [],
   "source": [
    "net.zero_grad()\n",
    "out.backward(torch.randn(1, 10))"
   ]
  },
  {
   "cell_type": "markdown",
   "metadata": {},
   "source": [
    "## Loss Function"
   ]
  },
  {
   "cell_type": "code",
   "execution_count": 30,
   "metadata": {
    "ExecuteTime": {
     "end_time": "2019-04-23T03:10:17.026630Z",
     "start_time": "2019-04-23T03:10:17.005749Z"
    }
   },
   "outputs": [
    {
     "name": "stdout",
     "output_type": "stream",
     "text": [
      "tensor(0.3177, grad_fn=<MseLossBackward>)\n"
     ]
    }
   ],
   "source": [
    "output = net(input)\n",
    "target = torch.randn(10)\n",
    "target = target.view(1, -1)\n",
    "criterion = nn.MSELoss()\n",
    "loss = criterion(output, target)\n",
    "print(loss)"
   ]
  },
  {
   "cell_type": "code",
   "execution_count": 31,
   "metadata": {
    "ExecuteTime": {
     "end_time": "2019-04-23T03:10:17.034869Z",
     "start_time": "2019-04-23T03:10:17.028543Z"
    }
   },
   "outputs": [
    {
     "name": "stdout",
     "output_type": "stream",
     "text": [
      "<MseLossBackward object at 0x7f857bc67d68>\n",
      "<AddmmBackward object at 0x7f857bc67f60>\n",
      "<AccumulateGrad object at 0x7f857bc67d68>\n"
     ]
    }
   ],
   "source": [
    "print(loss.grad_fn)\n",
    "print(loss.grad_fn.next_functions[0][0])\n",
    "print(loss.grad_fn.next_functions[0][0].next_functions[0][0])"
   ]
  },
  {
   "cell_type": "code",
   "execution_count": 32,
   "metadata": {
    "ExecuteTime": {
     "end_time": "2019-04-23T03:10:17.051375Z",
     "start_time": "2019-04-23T03:10:17.036765Z"
    }
   },
   "outputs": [
    {
     "name": "stdout",
     "output_type": "stream",
     "text": [
      "tensor([0., 0., 0., 0., 0., 0.])\n"
     ]
    }
   ],
   "source": [
    "net.zero_grad()\n",
    "print(net.conv1.bias.grad)"
   ]
  },
  {
   "cell_type": "code",
   "execution_count": 33,
   "metadata": {
    "ExecuteTime": {
     "end_time": "2019-04-23T03:10:17.071599Z",
     "start_time": "2019-04-23T03:10:17.053279Z"
    }
   },
   "outputs": [
    {
     "name": "stdout",
     "output_type": "stream",
     "text": [
      "tensor([-0.0041, -0.0012, -0.0023, -0.0008,  0.0007, -0.0008])\n"
     ]
    }
   ],
   "source": [
    "loss.backward()\n",
    "print(net.conv1.bias.grad)"
   ]
  },
  {
   "cell_type": "code",
   "execution_count": 34,
   "metadata": {
    "ExecuteTime": {
     "end_time": "2019-04-23T03:10:17.084641Z",
     "start_time": "2019-04-23T03:10:17.073275Z"
    }
   },
   "outputs": [],
   "source": [
    "lr = 0.001\n",
    "for f in net.parameters():\n",
    "    f.data.sub_(f.grad.data * lr)"
   ]
  },
  {
   "cell_type": "code",
   "execution_count": 35,
   "metadata": {
    "ExecuteTime": {
     "end_time": "2019-04-23T03:10:17.101692Z",
     "start_time": "2019-04-23T03:10:17.086320Z"
    },
    "collapsed": true
   },
   "outputs": [],
   "source": [
    "import torch.optim as optim\n",
    "optimizer = optim.SGD(net.parameters(), lr = 0.01)"
   ]
  },
  {
   "cell_type": "code",
   "execution_count": 36,
   "metadata": {
    "ExecuteTime": {
     "end_time": "2019-04-23T03:10:17.129746Z",
     "start_time": "2019-04-23T03:10:17.103664Z"
    },
    "collapsed": true
   },
   "outputs": [],
   "source": [
    "optimizer.zero_grad()\n",
    "output = net(input)\n",
    "loss = criterion(output, target)\n",
    "loss.backward()\n",
    "optimizer.step()"
   ]
  }
 ],
 "metadata": {
  "kernelspec": {
   "display_name": "Python 3",
   "language": "python",
   "name": "python3"
  },
  "language_info": {
   "codemirror_mode": {
    "name": "ipython",
    "version": 3
   },
   "file_extension": ".py",
   "mimetype": "text/x-python",
   "name": "python",
   "nbconvert_exporter": "python",
   "pygments_lexer": "ipython3",
   "version": "3.6.2"
  }
 },
 "nbformat": 4,
 "nbformat_minor": 2
}
