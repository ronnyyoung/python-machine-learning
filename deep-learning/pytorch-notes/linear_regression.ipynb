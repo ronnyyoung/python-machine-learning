{
 "cells": [
  {
   "cell_type": "markdown",
   "id": "d75eed0e",
   "metadata": {},
   "source": [
    "# 线性回归\n",
    "\n",
    "在机器学习中大多学的任务通常都与预测(prediction)有关。当我们想预测一个数值时，不会涉及回归问题。比如预测价格（房价、股票）、预测需求（零售销量）、预测电力消耗等。并不是所有的预测相关的问题，都是回归问题，也有分类问题。\n",
    "\n",
    "线性回归的统计学假设：\n",
    "\n",
    "- 自变量$\\mathbf{x}$和因变量$y$之间的关系是线性的，即$y$可以表示为$\\mathbf{x}$中元素的加权和\n",
    "- 允许观察值有一些噪声，但任何噪声都符合正态分布"
   ]
  },
  {
   "cell_type": "code",
   "execution_count": 44,
   "id": "683ebe8c",
   "metadata": {},
   "outputs": [],
   "source": [
    "import torch\n",
    "from torch import nn\n",
    "import numpy as np\n",
    "import matplotlib.pyplot as plt"
   ]
  },
  {
   "cell_type": "markdown",
   "id": "79384c1b",
   "metadata": {},
   "source": [
    "样本的数量为$N$，特征长度为$D$，那么\n",
    "\n",
    "- 输入数据为$X$，是一个$N\\times D$的矩阵\n",
    "- 参数$\\mathbf{w}$是一个长度为$D$的向量\n",
    "- 参数$b$是一个标量\n",
    "- 输入$\\mathbf{y}$是一个长度为$N$的向量，代表每条输入应该真实输出。\n",
    "\n",
    "\n",
    "模型为：\n",
    "\n",
    "$$\\mathbf{y} = X\\cdot \\mathbf{w} + b$$\n",
    "\n",
    "损失函数：\n",
    "$$L(\\mathbf{w},b) = \\frac{1}{2N}||X\\cdot\\mathbf{w} + b -\\mathbf{y}||^2$$\n",
    "\n",
    "损失函数对于$\\mathbf{w}$和$b$的梯度为：\n",
    "$$\n",
    "\\begin{align}\n",
    "\\frac{\\partial L}{\\partial \\mathbf{w}} & = \\frac{1}{N}X^T\\cdot (X\\cdot \\mathbf{w} + b - \\mathbf{y}) \\\\\n",
    "\\frac{\\partial L}{\\partial b} & = \\frac{1}{N}\\sum(X\\cdot \\mathbf{w} + b - \\mathbf{y})\n",
    "\\end{align}\n",
    "$$"
   ]
  },
  {
   "cell_type": "markdown",
   "id": "bbf706ce",
   "metadata": {},
   "source": [
    "# 通过随机数来生成数据集"
   ]
  },
  {
   "cell_type": "code",
   "execution_count": 48,
   "id": "b9e2c47e",
   "metadata": {},
   "outputs": [],
   "source": [
    "N = 100  # 样本数量\n",
    "D = 3  # 特征长度\n",
    "X = torch.rand(N, D) * 10 - 5  # X是[-5,5]之间的均匀采样的随机数\n",
    "w_true = torch.rand(D)\n",
    "b_true = torch.rand(1) * 5\n",
    "y = X.matmul(w_true) + b_true"
   ]
  },
  {
   "cell_type": "code",
   "execution_count": 49,
   "id": "ecc0cf27",
   "metadata": {},
   "outputs": [],
   "source": [
    "dataset = torch.utils.data.TensorDataset(X, y)\n",
    "training_data = torch.utils.data.DataLoader(\n",
    "    dataset, batch_size=10, shuffle=True)"
   ]
  },
  {
   "cell_type": "markdown",
   "id": "ddf3e53f",
   "metadata": {},
   "source": [
    "# 定义模型"
   ]
  },
  {
   "cell_type": "code",
   "execution_count": 31,
   "id": "2e424649",
   "metadata": {},
   "outputs": [],
   "source": [
    "class LinearRegression(object):\n",
    "    def __init__(self, num_features):\n",
    "        self.w = torch.randn(num_features, requires_grad=True)\n",
    "        self.b = torch.randn(1, requires_grad=True)\n",
    "\n",
    "    def forward(self, x):\n",
    "        return x @ self.w + self.b\n",
    "\n",
    "    def parameters(self):\n",
    "        return self.w, self.b\n",
    "\n",
    "    def __call__(self, x):\n",
    "        return self.forward(x)"
   ]
  },
  {
   "cell_type": "markdown",
   "id": "c8902b94",
   "metadata": {},
   "source": [
    "# 定义优化目的（损失函数）"
   ]
  },
  {
   "cell_type": "code",
   "execution_count": 14,
   "id": "9b27c413",
   "metadata": {},
   "outputs": [],
   "source": [
    "# 定义损失函数\n",
    "def linreg_loss(y_hat, y):\n",
    "    diff = y_hat - y\n",
    "    return diff @ (diff.t()) / (2 * y_hat.shape[0])"
   ]
  },
  {
   "cell_type": "markdown",
   "id": "40487876",
   "metadata": {},
   "source": [
    "# 计算梯度"
   ]
  },
  {
   "cell_type": "code",
   "execution_count": 15,
   "id": "0e58dc51",
   "metadata": {},
   "outputs": [],
   "source": [
    "def linreg_grad(X, y, y_hat):\n",
    "    grad_w = X.t().matmul(y_hat - y) / X.shape[0]\n",
    "    grad_b = (y_hat - y).mean()\n",
    "    return grad_w, grad_b\n",
    "\n",
    "\n",
    "class SGDOptimizer(object):\n",
    "    def __init__(self, lr):\n",
    "        self.lr = lr\n",
    "\n",
    "    def update(self, params, params_grad):\n",
    "        with torch.no_grad():\n",
    "            for param, grad in zip(params, params_grad):\n",
    "                param -= grad * self.lr"
   ]
  },
  {
   "cell_type": "markdown",
   "id": "99ecc344",
   "metadata": {},
   "source": [
    "# 模型训练"
   ]
  },
  {
   "cell_type": "code",
   "execution_count": 18,
   "id": "76b597b0",
   "metadata": {},
   "outputs": [],
   "source": [
    "def trainer(data, model, optimizer, epoch=10, plot_loss=True):\n",
    "    loss_total = []\n",
    "    for i in range(epoch):\n",
    "        loss = 0\n",
    "        for X_batch, y_batch in data:\n",
    "            y_hat = model(X_batch)\n",
    "            loss += linreg_loss(y_hat, y_batch)\n",
    "            grads = linreg_grad(X_batch, y_batch, y_hat)\n",
    "            optimizer.update(model.parameters(), grads)\n",
    "        loss = loss / len(training_data)\n",
    "        loss_total.append(loss)\n",
    "    if plot_loss:\n",
    "        plt.plot(loss_total)"
   ]
  },
  {
   "cell_type": "code",
   "execution_count": 28,
   "id": "f2d4439b",
   "metadata": {},
   "outputs": [
    {
     "data": {
      "image/png": "[encoded data removed]",
      "text/plain": [
       "<Figure size 432x288 with 1 Axes>"
      ]
     },
     "metadata": {
      "needs_background": "light"
     },
     "output_type": "display_data"
    }
   ],
   "source": [
    "model = LinearRegression(D)\n",
    "optimizer = SGDOptimizer(lr=0.01)\n",
    "trainer(training_data, model, optimizer, epoch=50)"
   ]
  },
  {
   "cell_type": "markdown",
   "id": "95bec756",
   "metadata": {},
   "source": [
    "# 比较学习出来的参数与实际参数的差距"
   ]
  },
  {
   "cell_type": "code",
   "execution_count": 30,
   "id": "a4a54183",
   "metadata": {},
   "outputs": [
    {
     "name": "stdout",
     "output_type": "stream",
     "text": [
      "error of w is -0.00014394521713256836, error of b is -0.024132728576660156\n"
     ]
    }
   ],
   "source": [
    "w, b = model.parameters()\n",
    "w_error = (w - w_true).mean()\n",
    "b_error = (b - b_true).mean()\n",
    "print(f'error of w is {w_error}, error of b is {b_error}')"
   ]
  },
  {
   "cell_type": "markdown",
   "id": "c5c05d31",
   "metadata": {},
   "source": [
    "# 使用Pytorch的简洁实现"
   ]
  },
  {
   "cell_type": "code",
   "execution_count": 61,
   "id": "475822a7",
   "metadata": {},
   "outputs": [],
   "source": [
    "model = nn.Linear(D, 1) #定义模型\n",
    "loss = nn.MSELoss() #定义损失\n",
    "trainer = torch.optim.SGD(model.parameters(), lr=0.03) #定义优化器"
   ]
  },
  {
   "cell_type": "code",
   "execution_count": 62,
   "id": "fb73561f",
   "metadata": {},
   "outputs": [
    {
     "data": {
      "text/plain": [
       "[<matplotlib.lines.Line2D at 0x7fa8a39badc0>]"
      ]
     },
     "execution_count": 62,
     "metadata": {},
     "output_type": "execute_result"
    },
    {
     "data": {
      "image/png": "[encoded data removed]",
      "text/plain": [
       "<Figure size 432x288 with 1 Axes>"
      ]
     },
     "metadata": {
      "needs_background": "light"
     },
     "output_type": "display_data"
    }
   ],
   "source": [
    "loss_total = []\n",
    "for i in range(20):\n",
    "    epoch_loss = 0\n",
    "    for X_batch, y_batch in training_data:\n",
    "        y_hat = model(X_batch)\n",
    "        l = loss(y_hat, y_batch.reshape(y_hat.shape))\n",
    "        epoch_loss += l.item()\n",
    "        trainer.zero_grad()\n",
    "        l.backward() # 代替上面的求梯度的调用\n",
    "        trainer.step()\n",
    "    loss_total.append(epoch_loss / len(training_data))\n",
    "plt.plot(loss_total)"
   ]
  },
  {
   "cell_type": "code",
   "execution_count": 65,
   "id": "bdb2a24e",
   "metadata": {},
   "outputs": [
    {
     "name": "stdout",
     "output_type": "stream",
     "text": [
      "tensor([0.5663, 0.3489, 0.6513]) tensor([2.7508])\n",
      "tensor([[0.5663, 0.3489, 0.6513]]) tensor([2.7508])\n"
     ]
    }
   ],
   "source": [
    "print(w_true, b_true)\n",
    "print(model.weight.data, model.bias.data)"
   ]
  }
 ],
 "metadata": {
  "kernelspec": {
   "display_name": "Python 3",
   "language": "python",
   "name": "python3"
  },
  "language_info": {
   "codemirror_mode": {
    "name": "ipython",
    "version": 3
   },
   "file_extension": ".py",
   "mimetype": "text/x-python",
   "name": "python",
   "nbconvert_exporter": "python",
   "pygments_lexer": "ipython3",
   "version": "3.8.8"
  }
 },
 "nbformat": 4,
 "nbformat_minor": 5
}
