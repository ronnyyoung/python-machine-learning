{
 "cells": [
  {
   "cell_type": "markdown",
   "id": "f3bd984a-c679-4c28-872d-c561efa42471",
   "metadata": {},
   "source": [
    "# 卷积神经网络中的经典数据结构\n",
    "\n",
    "- LeNet\n",
    "- AlexNet\n",
    "- VGG\n",
    "- GoogleNet\n",
    "- ResNet\n",
    "- DenseNet"
   ]
  },
  {
   "cell_type": "code",
   "execution_count": 1,
   "id": "d9ed5d95-19fb-44da-bc60-7f2abd3be56d",
   "metadata": {},
   "outputs": [],
   "source": [
    "import torch\n",
    "import torchvision\n",
    "from torchvision import transforms\n",
    "from torch import nn\n",
    "import matplotlib.pyplot as plt"
   ]
  },
  {
   "cell_type": "markdown",
   "id": "d5d11afb-4afc-4fc2-b5c9-d109fa32b21b",
   "metadata": {},
   "source": [
    "# 加载FashiMNist数据集"
   ]
  },
  {
   "cell_type": "code",
   "execution_count": 2,
   "id": "a385d05f-74e5-48dc-9571-42d28dc7f551",
   "metadata": {},
   "outputs": [],
   "source": [
    "trans = torchvision.transforms.ToTensor()\n",
    "training_data = torchvision.datasets.FashionMNIST(\n",
    "    root='./data/',\n",
    "    train=True,\n",
    "    download=True,\n",
    "    transform=trans\n",
    ")\n",
    "testing_data = torchvision.datasets.FashionMNIST(\n",
    "    root='./data/',\n",
    "    train=False,\n",
    "    download=True,\n",
    "    transform=trans\n",
    ")"
   ]
  },
  {
   "cell_type": "markdown",
   "id": "c1494ec3-cf93-453b-854e-de57212000ea",
   "metadata": {},
   "source": [
    "现代深度神经网络都是在ImageNet上提出的，所以针对的输入都是224x224，为了后续的演示，所以这里我们使用Resize预处理，把输入图像拉大为224x224，重新做一份数据集"
   ]
  },
  {
   "cell_type": "code",
   "execution_count": 3,
   "id": "2d742a31-fa03-4590-acc7-2ba9d5f1cb17",
   "metadata": {},
   "outputs": [],
   "source": [
    "trans = transforms.Compose([\n",
    "    transforms.Resize(224),\n",
    "    transforms.ToTensor()\n",
    "])\n",
    "training_data_224 = torchvision.datasets.FashionMNIST(\n",
    "    root='./data/',\n",
    "    train=True,\n",
    "    download=True,\n",
    "    transform=trans\n",
    ")\n",
    "testing_data_224 = torchvision.datasets.FashionMNIST(\n",
    "    root='./data/',\n",
    "    train=False,\n",
    "    download=True,\n",
    "    transform=trans\n",
    ")"
   ]
  },
  {
   "cell_type": "markdown",
   "id": "09d261d6-c9a7-4d8d-940f-3432305f7fe8",
   "metadata": {},
   "source": [
    "# 辅助函数"
   ]
  },
  {
   "cell_type": "code",
   "execution_count": 4,
   "id": "d4e743ed-009f-4047-8201-32e9516a75eb",
   "metadata": {},
   "outputs": [],
   "source": [
    "def accuracy(y_hat, y):\n",
    "    max_indices = torch.max(y_hat, dim=1)[1]\n",
    "    return (y == max_indices).to(dtype=torch.float32).mean()\n",
    "\n",
    "\n",
    "def accuracy_on(model, data_iter):\n",
    "    acc = []\n",
    "    for X, y in data_iter:\n",
    "        X, y = X.to(device), y.to(device)\n",
    "        y_hat = model(X)\n",
    "        acc.append(accuracy(y_hat, y))\n",
    "    return torch.tensor(acc).mean().item()\n",
    "\n",
    "\n",
    "def train(training_iter, testing_iter, model, loss, optimizer, device, epoch=20, plot=True):\n",
    "    training_loss = []\n",
    "    training_acc = []\n",
    "    testing_acc = []\n",
    "    for i in range(epoch):\n",
    "        epoch_loss = 0\n",
    "        epoch_acc = 0\n",
    "        for X, y in training_iter:\n",
    "            X, y = X.to(device), y.to(device)\n",
    "            y_hat = model(X)\n",
    "            l = loss(y_hat, y)\n",
    "            epoch_loss += l.item()\n",
    "            epoch_acc += accuracy(y_hat, y)\n",
    "            optimizer.zero_grad()\n",
    "            l.backward()\n",
    "            optimizer.step()\n",
    "        training_loss.append(epoch_loss / len(training_iter))\n",
    "        training_acc.append(epoch_acc / len(training_iter))\n",
    "        testing_acc.append(accuracy_on(model, testing_iter))\n",
    "        print(\n",
    "            f'the loss of epoch {i}: {training_loss[-1]:.4f}, accuracy on training set: {training_acc[-1]:.4f}, accuracy on testing set: {testing_acc[-1]:.4f}')\n",
    "    if plot == False:\n",
    "        return\n",
    "    plt.plot(training_loss, label='training_loss')\n",
    "    plt.plot(training_acc, label='training_acc')\n",
    "    plt.plot(testing_acc, label='testing_acc')\n",
    "    plt.legend()\n",
    "    plt.show()"
   ]
  },
  {
   "cell_type": "markdown",
   "id": "6fa9cf35-5572-4271-9969-d264b15e1519",
   "metadata": {},
   "source": [
    "# 构建LeNet模型\n",
    "\n",
    "<img src='./images/lenet.svg' width=900>\n",
    "\n",
    "- 默认结构下，必须使用大的学习率>0.5，如果使用0.1，则模型训练的非常慢，至少要10个epoch以上\n",
    "- 如果Conv后不加Sigmoid，则可以使用学习率0.1即可。\n",
    "- 原来尝试的batch_size是256，acc只能到85%左右，后来不经意调整为了25，发现acc轻松到90"
   ]
  },
  {
   "cell_type": "code",
   "execution_count": 9,
   "id": "04895ae0-63e9-4131-b0e6-e2060503c11e",
   "metadata": {},
   "outputs": [
    {
     "name": "stdout",
     "output_type": "stream",
     "text": [
      "the output shape of Conv2d:\ttorch.Size([1, 6, 28, 28])\n",
      "the output shape of Sigmoid:\ttorch.Size([1, 6, 28, 28])\n",
      "the output shape of AvgPool2d:\ttorch.Size([1, 6, 14, 14])\n",
      "the output shape of Conv2d:\ttorch.Size([1, 16, 10, 10])\n",
      "the output shape of Sigmoid:\ttorch.Size([1, 16, 10, 10])\n",
      "the output shape of AvgPool2d:\ttorch.Size([1, 16, 5, 5])\n",
      "the output shape of Flatten:\ttorch.Size([1, 400])\n",
      "the output shape of Linear:\ttorch.Size([1, 120])\n",
      "the output shape of Sigmoid:\ttorch.Size([1, 120])\n",
      "the output shape of Linear:\ttorch.Size([1, 84])\n",
      "the output shape of Sigmoid:\ttorch.Size([1, 84])\n",
      "the output shape of Linear:\ttorch.Size([1, 10])\n"
     ]
    }
   ],
   "source": [
    "LeNet = nn.Sequential(\n",
    "    nn.Conv2d(in_channels=1, out_channels=6, kernel_size=5, padding=2), nn.Sigmoid(),\n",
    "    nn.AvgPool2d(kernel_size=2, stride=2),\n",
    "    nn.Conv2d(in_channels=6, out_channels=16, kernel_size=5), nn.Sigmoid(),\n",
    "    nn.AvgPool2d(kernel_size=2, stride=2),\n",
    "    nn.Flatten(),\n",
    "    nn.Linear(400, 120), nn.Sigmoid(),\n",
    "    nn.Linear(120, 84), nn.Sigmoid(),\n",
    "    nn.Linear(84,10)\n",
    ")\n",
    "\n",
    "x = torch.randn(1,1,28,28)\n",
    "\n",
    "# 可以看一下每一层网络输出数据的尺寸\n",
    "for m in LeNet:\n",
    "    x = m(x)\n",
    "    print(f'the output shape of {m.__class__.__name__}:\\t{x.shape}')"
   ]
  },
  {
   "cell_type": "code",
   "execution_count": 4,
   "id": "485deecb-3150-452c-8f19-d5775f66cbca",
   "metadata": {},
   "outputs": [
    {
     "name": "stdout",
     "output_type": "stream",
     "text": [
      "the loss of epoch 0: 2.1379, accuracy on training set: 0.1676, accuracy on testing set: 0.5431\n",
      "the loss of epoch 1: 0.7792, accuracy on training set: 0.6898, accuracy on testing set: 0.7282\n",
      "the loss of epoch 2: 0.5812, accuracy on training set: 0.7736, accuracy on testing set: 0.7667\n",
      "the loss of epoch 3: 0.4942, accuracy on training set: 0.8121, accuracy on testing set: 0.7944\n",
      "the loss of epoch 4: 0.4415, accuracy on training set: 0.8340, accuracy on testing set: 0.8125\n",
      "the loss of epoch 5: 0.4069, accuracy on training set: 0.8486, accuracy on testing set: 0.8377\n",
      "the loss of epoch 6: 0.3799, accuracy on training set: 0.8583, accuracy on testing set: 0.8425\n",
      "the loss of epoch 7: 0.3607, accuracy on training set: 0.8650, accuracy on testing set: 0.8433\n",
      "the loss of epoch 8: 0.3434, accuracy on training set: 0.8711, accuracy on testing set: 0.8641\n",
      "the loss of epoch 9: 0.3290, accuracy on training set: 0.8760, accuracy on testing set: 0.8553\n",
      "the loss of epoch 10: 0.3187, accuracy on training set: 0.8798, accuracy on testing set: 0.8617\n",
      "the loss of epoch 11: 0.3111, accuracy on training set: 0.8833, accuracy on testing set: 0.8646\n",
      "the loss of epoch 12: 0.3003, accuracy on training set: 0.8870, accuracy on testing set: 0.8530\n",
      "the loss of epoch 13: 0.2925, accuracy on training set: 0.8902, accuracy on testing set: 0.8596\n",
      "the loss of epoch 14: 0.2853, accuracy on training set: 0.8927, accuracy on testing set: 0.8554\n",
      "the loss of epoch 15: 0.2796, accuracy on training set: 0.8955, accuracy on testing set: 0.8880\n",
      "the loss of epoch 16: 0.2722, accuracy on training set: 0.8972, accuracy on testing set: 0.8782\n",
      "the loss of epoch 17: 0.2660, accuracy on training set: 0.8999, accuracy on testing set: 0.8701\n",
      "the loss of epoch 18: 0.2615, accuracy on training set: 0.8996, accuracy on testing set: 0.8500\n",
      "the loss of epoch 19: 0.2562, accuracy on training set: 0.9030, accuracy on testing set: 0.8858\n"
     ]
    },
    {
     "data": {
      "image/png": "[encoded data removed]",
      "text/plain": [
       "<Figure size 432x288 with 1 Axes>"
      ]
     },
     "metadata": {
      "needs_background": "light"
     },
     "output_type": "display_data"
    }
   ],
   "source": [
    "batch_size = 64\n",
    "learning_rate = 0.9\n",
    "epoch = 20\n",
    "device = torch.device('cuda:3')\n",
    "\n",
    "training_iter = torch.utils.data.DataLoader(training_data, batch_size=batch_size, shuffle=True)\n",
    "testing_iter = torch.utils.data.DataLoader(testing_data, batch_size=batch_size)\n",
    "\n",
    "model = nn.Sequential(\n",
    "    nn.Conv2d(in_channels=1, out_channels=6, kernel_size=5, padding=2), nn.Sigmoid(),\n",
    "    nn.AvgPool2d(kernel_size=2, stride=2),\n",
    "    nn.Conv2d(in_channels=6, out_channels=16, kernel_size=5), nn.Sigmoid(),\n",
    "    nn.AvgPool2d(kernel_size=2, stride=2),\n",
    "    nn.Flatten(),\n",
    "    nn.Linear(400, 120), nn.Sigmoid(),\n",
    "    nn.Linear(120, 84), nn.Sigmoid(),\n",
    "    nn.Linear(84,10)\n",
    ")\n",
    "def parameters_init(m):\n",
    "    if type(m) == nn.Linear or type(m) == nn.Conv2d:\n",
    "        nn.init.xavier_uniform_(m.weight)\n",
    "model.apply(parameters_init)\n",
    "model = model.to(device)\n",
    "loss = nn.CrossEntropyLoss()\n",
    "optimizer = torch.optim.SGD(model.parameters(), lr=learning_rate)\n",
    "train(training_iter, testing_iter, model, loss, optimizer, device=device, epoch=epoch, plot=True)"
   ]
  },
  {
   "cell_type": "markdown",
   "id": "ac612767-be0d-482e-9f36-fb766fd2c34a",
   "metadata": {},
   "source": [
    "# AlexNet\n",
    "\n",
    "AlexNet是第一个在大规模视觉竞赛中击败传统计算机视觉模型的大型神经网络；\n",
    "\n",
    "**由手工特征+机器学习到端到端的深度神经网络**\n",
    "\n",
    "在AlexNet之前，CV领域往往非常重视对输入图像数据的预处理（结合光学、几何学等）以及手工特征的设计，而对于分类算法的选择就没有那么热衷。而机器学习领域追求的是有效的证明与数学支撑，在收敛性、泛化性、优化求解上面追求更严谨的数学证明。\n",
    "\n",
    "**为什么LeNet出现那么早，CNN后来没有火热起来**\n",
    "\n",
    "- 数据、算力的缺乏\n",
    "- 网络设计上的技巧缺乏：启发式参数初始化、随机梯度下降的巧妙变体、新的激活单元、正则化技术等。\n",
    "\n",
    "<img src='images/alexnet.svg'>\n",
    "\n",
    "**和LeNet的不同**\n",
    "\n",
    "1. 最大的不同就是卷积部分多了3个连续的卷积层，让整个网络更深了。\n",
    "2. Sigmoid换成了ReLU，让网络更深时，梯度下降更有效一些\n",
    "3. 全连接层后面加入了Dropout防止过拟合\n",
    "4. AvgPool换成了MaxPool"
   ]
  },
  {
   "cell_type": "code",
   "execution_count": 5,
   "id": "a5384acf-eb11-46e1-8215-600fea76e0e7",
   "metadata": {},
   "outputs": [
    {
     "name": "stdout",
     "output_type": "stream",
     "text": [
      "the output shape of Conv2d:\ttorch.Size([1, 96, 54, 54])\n",
      "the output shape of ReLU:\ttorch.Size([1, 96, 54, 54])\n",
      "the output shape of MaxPool2d:\ttorch.Size([1, 96, 26, 26])\n",
      "the output shape of Conv2d:\ttorch.Size([1, 256, 26, 26])\n",
      "the output shape of ReLU:\ttorch.Size([1, 256, 26, 26])\n",
      "the output shape of MaxPool2d:\ttorch.Size([1, 256, 12, 12])\n",
      "the output shape of Conv2d:\ttorch.Size([1, 384, 12, 12])\n",
      "the output shape of ReLU:\ttorch.Size([1, 384, 12, 12])\n",
      "the output shape of Conv2d:\ttorch.Size([1, 384, 12, 12])\n",
      "the output shape of ReLU:\ttorch.Size([1, 384, 12, 12])\n",
      "the output shape of Conv2d:\ttorch.Size([1, 256, 12, 12])\n",
      "the output shape of ReLU:\ttorch.Size([1, 256, 12, 12])\n",
      "the output shape of MaxPool2d:\ttorch.Size([1, 256, 5, 5])\n",
      "the output shape of Flatten:\ttorch.Size([1, 6400])\n",
      "the output shape of Linear:\ttorch.Size([1, 4096])\n",
      "the output shape of ReLU:\ttorch.Size([1, 4096])\n",
      "the output shape of Dropout:\ttorch.Size([1, 4096])\n",
      "the output shape of Linear:\ttorch.Size([1, 4096])\n",
      "the output shape of ReLU:\ttorch.Size([1, 4096])\n",
      "the output shape of Dropout:\ttorch.Size([1, 4096])\n",
      "the output shape of Linear:\ttorch.Size([1, 10])\n"
     ]
    }
   ],
   "source": [
    "AlexNet = nn.Sequential(\n",
    "    # 因为输出图像尺寸大，所以kernel size选择的比较大，stride选择4，可以让空间分辨率快速下降\n",
    "    nn.Conv2d(in_channels=3, out_channels=96, kernel_size=11, stride=4), nn.ReLU(),\n",
    "    nn.MaxPool2d(kernel_size=3, stride=2),\n",
    "    # 减小卷积窗口，使用填充为2来使得输入与输出的高和宽一致，且增大输出通道数\n",
    "    nn.Conv2d(in_channels=96, out_channels=256, kernel_size=5, padding=2), nn.ReLU(),\n",
    "    nn.MaxPool2d(kernel_size=3, stride=2),\n",
    "    # 使用三个连续的卷积层和较小的卷积窗口。\n",
    "    # 除了最后的卷积层，输出通道的数量进一步增加。\n",
    "    # 在前两个卷积层之后，池化层不用于减少输入的高度和宽度\n",
    "    nn.Conv2d(256, 384, kernel_size=3, padding=1),nn.ReLU(),\n",
    "    nn.Conv2d(384, 384, kernel_size=3, padding=1),nn.ReLU(),\n",
    "    nn.Conv2d(384, 256, kernel_size=3, padding=1),nn.ReLU(),\n",
    "    nn.MaxPool2d(kernel_size=3, stride=2),\n",
    "    nn.Flatten(),\n",
    "    # 这里，全连接层的输出数量是LeNet中的好几倍。使用dropout层来减轻过度拟合\n",
    "    nn.Linear(6400, 4096), nn.ReLU(),nn.Dropout(p=0.5),\n",
    "    nn.Linear(4096, 4096), nn.ReLU(),nn.Dropout(p=0.5),\n",
    "    nn.Linear(4096,10)\n",
    ")\n",
    "x = torch.randn(1,3,224,224)\n",
    "\n",
    "# 可以看一下每一层网络输出数据的尺寸\n",
    "for m in AlexNet:\n",
    "    x = m(x)\n",
    "    print(f'the output shape of {m.__class__.__name__}:\\t{x.shape}')"
   ]
  },
  {
   "cell_type": "markdown",
   "id": "008ab813-2585-445b-ba0f-63a9c50580ce",
   "metadata": {},
   "source": [
    "下面我们使用AlexNet训练"
   ]
  },
  {
   "cell_type": "code",
   "execution_count": 7,
   "id": "b587f5a6-1055-4241-9f0f-c9ce550c93ae",
   "metadata": {},
   "outputs": [
    {
     "name": "stdout",
     "output_type": "stream",
     "text": [
      "the loss of epoch 0: 0.9399, accuracy on training set: 0.6499, accuracy on testing set: 0.7893\n",
      "the loss of epoch 1: 0.4818, accuracy on training set: 0.8219, accuracy on testing set: 0.8332\n",
      "the loss of epoch 2: 0.4003, accuracy on training set: 0.8530, accuracy on testing set: 0.8258\n",
      "the loss of epoch 3: 0.3532, accuracy on training set: 0.8700, accuracy on testing set: 0.8680\n",
      "the loss of epoch 4: 0.3257, accuracy on training set: 0.8784, accuracy on testing set: 0.8787\n",
      "the loss of epoch 5: 0.3047, accuracy on training set: 0.8878, accuracy on testing set: 0.8833\n",
      "the loss of epoch 6: 0.2874, accuracy on training set: 0.8931, accuracy on testing set: 0.8851\n",
      "the loss of epoch 7: 0.2726, accuracy on training set: 0.9002, accuracy on testing set: 0.8953\n",
      "the loss of epoch 8: 0.2599, accuracy on training set: 0.9042, accuracy on testing set: 0.8931\n",
      "the loss of epoch 9: 0.2483, accuracy on training set: 0.9093, accuracy on testing set: 0.8990\n"
     ]
    },
    {
     "data": {
      "image/png": "[encoded data removed]",
      "text/plain": [
       "<Figure size 432x288 with 1 Axes>"
      ]
     },
     "metadata": {
      "needs_background": "light"
     },
     "output_type": "display_data"
    }
   ],
   "source": [
    "batch_size = 128\n",
    "learning_rate = 0.03\n",
    "epoch = 10\n",
    "device = torch.device('cuda:3')\n",
    "\n",
    "training_iter = torch.utils.data.DataLoader(training_data_224, batch_size=batch_size, shuffle=True)\n",
    "testing_iter = torch.utils.data.DataLoader(testing_data_224, batch_size=batch_size)\n",
    "\n",
    "model = nn.Sequential(\n",
    "    nn.Conv2d(in_channels=1, out_channels=96, kernel_size=11, stride=4), nn.ReLU(),\n",
    "    nn.MaxPool2d(kernel_size=3, stride=2),\n",
    "    nn.Conv2d(in_channels=96, out_channels=256, kernel_size=5, padding=2), nn.ReLU(),\n",
    "    nn.MaxPool2d(kernel_size=3, stride=2),\n",
    "    nn.Conv2d(256, 384, kernel_size=3, padding=1),nn.ReLU(),\n",
    "    nn.Conv2d(384, 384, kernel_size=3, padding=1),nn.ReLU(),\n",
    "    nn.Conv2d(384, 256, kernel_size=3, padding=1),nn.ReLU(),\n",
    "    nn.MaxPool2d(kernel_size=3, stride=2),\n",
    "    nn.Flatten(),\n",
    "    nn.Linear(6400, 4096), nn.ReLU(),nn.Dropout(p=0.5),\n",
    "    nn.Linear(4096, 4096), nn.ReLU(),nn.Dropout(p=0.5),\n",
    "    nn.Linear(4096,10)\n",
    ")\n",
    "\n",
    "def parameters_init(m):\n",
    "    if type(m) == nn.Linear or type(m) == nn.Conv2d:\n",
    "        nn.init.xavier_uniform_(m.weight)\n",
    "model.apply(parameters_init)\n",
    "model = model.to(device)\n",
    "loss = nn.CrossEntropyLoss()\n",
    "optimizer = torch.optim.SGD(model.parameters(), lr=learning_rate)\n",
    "train(training_iter, testing_iter, model, loss, optimizer, device=device, epoch=epoch, plot=True)"
   ]
  },
  {
   "cell_type": "markdown",
   "id": "aff9e0b9-1e1b-4f19-b2c1-cfd5055e1db7",
   "metadata": {},
   "source": [
    "手动魔改一下整个网络，让整个网络更小一些，看看效果。"
   ]
  },
  {
   "cell_type": "code",
   "execution_count": 8,
   "id": "831dc84c-d490-4703-b65f-e914276dc909",
   "metadata": {},
   "outputs": [
    {
     "name": "stdout",
     "output_type": "stream",
     "text": [
      "the loss of epoch 0: 0.9732, accuracy on training set: 0.6323, accuracy on testing set: 0.7653\n",
      "the loss of epoch 1: 0.5441, accuracy on training set: 0.7995, accuracy on testing set: 0.8131\n",
      "the loss of epoch 2: 0.4523, accuracy on training set: 0.8331, accuracy on testing set: 0.8308\n",
      "the loss of epoch 3: 0.4025, accuracy on training set: 0.8525, accuracy on testing set: 0.8404\n",
      "the loss of epoch 4: 0.3722, accuracy on training set: 0.8649, accuracy on testing set: 0.8634\n",
      "the loss of epoch 5: 0.3505, accuracy on training set: 0.8728, accuracy on testing set: 0.8658\n",
      "the loss of epoch 6: 0.3323, accuracy on training set: 0.8782, accuracy on testing set: 0.8650\n",
      "the loss of epoch 7: 0.3136, accuracy on training set: 0.8853, accuracy on testing set: 0.8796\n",
      "the loss of epoch 8: 0.3047, accuracy on training set: 0.8894, accuracy on testing set: 0.8839\n",
      "the loss of epoch 9: 0.2896, accuracy on training set: 0.8942, accuracy on testing set: 0.8787\n"
     ]
    },
    {
     "data": {
      "image/png": "[encoded data removed]",
      "text/plain": [
       "<Figure size 432x288 with 1 Axes>"
      ]
     },
     "metadata": {
      "needs_background": "light"
     },
     "output_type": "display_data"
    }
   ],
   "source": [
    "batch_size = 128\n",
    "learning_rate = 0.03\n",
    "epoch = 10\n",
    "device = torch.device('cuda:3')\n",
    "\n",
    "training_iter = torch.utils.data.DataLoader(training_data_224, batch_size=batch_size, shuffle=True)\n",
    "testing_iter = torch.utils.data.DataLoader(testing_data_224, batch_size=batch_size)\n",
    "\n",
    "model = nn.Sequential(\n",
    "    nn.Conv2d(in_channels=1, out_channels=32, kernel_size=11, stride=4), nn.ReLU(),\n",
    "    nn.MaxPool2d(kernel_size=3, stride=2),\n",
    "    nn.Conv2d(in_channels=32, out_channels=128, kernel_size=5, padding=2), nn.ReLU(),\n",
    "    nn.MaxPool2d(kernel_size=3, stride=2),\n",
    "    # 这里把3层CNN改为2层\n",
    "    nn.Conv2d(128, 256, kernel_size=3, padding=1),nn.ReLU(),\n",
    "    nn.Conv2d(256, 128, kernel_size=3, padding=1),nn.ReLU(),\n",
    "    nn.MaxPool2d(kernel_size=3, stride=2),\n",
    "    nn.Flatten(),\n",
    "    # 降低全连接层的隐藏层个数\n",
    "    nn.Linear(3200, 1000), nn.ReLU(),nn.Dropout(p=0.5),\n",
    "    nn.Linear(1000, 256), nn.ReLU(),nn.Dropout(p=0.5),\n",
    "    nn.Linear(256,10)\n",
    ")\n",
    "def parameters_init(m):\n",
    "    if type(m) == nn.Linear or type(m) == nn.Conv2d:\n",
    "        nn.init.xavier_uniform_(m.weight)\n",
    "        \n",
    "model.apply(parameters_init)\n",
    "model = model.to(device)\n",
    "loss = nn.CrossEntropyLoss()\n",
    "optimizer = torch.optim.SGD(model.parameters(), lr=learning_rate)\n",
    "train(training_iter, testing_iter, model, loss, optimizer, device=device, epoch=epoch, plot=True)"
   ]
  },
  {
   "cell_type": "markdown",
   "id": "6dbcc365-053b-47a8-9a2b-f4ac56cc3afe",
   "metadata": {},
   "source": [
    "# VGG\n",
    "\n",
    "2014年，牛津大学计算机视觉组（**V**isual **G**eometry **G**roup）和Google DeepMind公司的研究员一起研发出了新的深度卷积神经网络：VGGNet，并取得了ILSVRC2014比赛分类项目的第二名（第一名是GoogLeNet，也是同年提出的).\n",
    "\n",
    "论文名为：Very Deep Convolutional Networks for Large-Scale Image Recognition。论文主要针对卷积神经网络的深度对大规模图像集识别精度的影响，主要贡献是**使用很小的卷积核(3×3)构建各种深度的卷积神经网络结构**，并对这些网络结构进行了评估，最终证明16-19层的网络深度，能够取得较好的识别精度。 这也就是常用来提取图像特征的VGG-16和VGG-19。\n",
    "\n",
    "<img src='./images/vgg_arch.jpg' width=600>\n",
    "\n",
    "**与AlexNet的对比**\n",
    "\n",
    "- 在VGG网络中只使用3x3，pad=1的卷积，这样的卷积不会改变空间尺寸。非常统一，简洁。另外在使用多层3x3的卷积核是可以等效达到7x7和11x11卷积核心的效果。3个连续的3x3卷积核心相当于一个7x7卷积核心的感受野，但参数量却由原来的49变成了27。\n",
    "\n",
    "<img src='images/vgg_kernel.png'>\n",
    "\n",
    "- 另外在VGG的block结构中每个卷积层后面都有一个非线性的ReLU层，这样也增加了整个网络非线性映射的能力。\n",
    "- 使用连续的小卷积核代替大的卷积核，网络的深度更深，并且对边缘进行填充，卷积的过程并不会降低图像尺寸。仅使用小的池化单元，降低图像的尺寸。\n",
    "- 通道数更多，特征度更宽。每个通道代表着一个FeatureMap，更多的通道数表示更丰富的图像特征。VGG网络第一层的通道数为64，后面每层都进行了翻倍，最多到512个通道，通道数的增加，使得更多的信息可以被提取出来。\n",
    "\n",
    "**VGG系列**\n",
    "\n",
    "论文中给出了不同block配置下的5种不同的网络结构，每种网络结构具有的block的数都是5个，而后是3个全连接，不同的在于，每个block中卷积层的个数，以及每个卷积层的通道数不同。\n",
    "\n",
    "<img src='./images/vgg_configurations.png'>"
   ]
  },
  {
   "cell_type": "code",
   "execution_count": 6,
   "id": "46b6ceb7-d0b2-4f46-bd86-577136292a00",
   "metadata": {},
   "outputs": [],
   "source": [
    "def VGGBlock(num_layers, in_channels, out_channels):\n",
    "    vgg_block = nn.Sequential()\n",
    "    i = 0\n",
    "    for _ in range(num_layers):\n",
    "        vgg_block.add_module(str(i), nn.Conv2d(in_channels, out_channels, kernel_size=3, padding=1))\n",
    "        vgg_block.add_module(str(i + 1), nn.ReLU())\n",
    "        in_channels = out_channels\n",
    "        i += 2\n",
    "    vgg_block.add_module(str(i), nn.MaxPool2d(kernel_size=2, stride=2))\n",
    "    return vgg_block\n",
    "vgg16 = nn.Sequential(\n",
    "    VGGBlock(2, 3, 64),\n",
    "    VGGBlock(2, 64, 128),\n",
    "    VGGBlock(3, 128, 256),\n",
    "    VGGBlock(3, 256, 512),\n",
    "    VGGBlock(3, 512, 512),\n",
    "    nn.Flatten(),\n",
    "    nn.Linear(7*7*512, 4096),\n",
    "    nn.Linear(4096, 4096),\n",
    "    nn.Linear(4096, 1000),\n",
    ")\n",
    "vgg19 = nn.Sequential(\n",
    "    VGGBlock(2, 3, 64),\n",
    "    VGGBlock(2, 64, 128),\n",
    "    VGGBlock(4, 128, 256),\n",
    "    VGGBlock(4, 256, 512),\n",
    "    VGGBlock(4, 512, 512),\n",
    "    nn.Flatten(),\n",
    "    nn.Linear(7*7*512, 4096),\n",
    "    nn.Linear(4096, 4096),\n",
    "    nn.Linear(4096, 1000),\n",
    ")"
   ]
  },
  {
   "cell_type": "code",
   "execution_count": 21,
   "id": "da642532-6769-45a7-9f28-d1329fcddbb1",
   "metadata": {},
   "outputs": [
    {
     "name": "stdout",
     "output_type": "stream",
     "text": [
      "Sequential: torch.Size([1, 64, 112, 112])\n",
      "Sequential: torch.Size([1, 128, 56, 56])\n",
      "Sequential: torch.Size([1, 256, 28, 28])\n",
      "Sequential: torch.Size([1, 512, 14, 14])\n",
      "Sequential: torch.Size([1, 512, 7, 7])\n",
      "Flatten: torch.Size([1, 25088])\n",
      "Linear: torch.Size([1, 4096])\n",
      "Linear: torch.Size([1, 4096])\n",
      "Linear: torch.Size([1, 1000])\n"
     ]
    }
   ],
   "source": [
    "x  = torch.randn(1, 3, 224, 224)\n",
    "for m in vgg19:\n",
    "    x = m(x)\n",
    "    print(f'{m.__class__.__name__}: {x.shape}')"
   ]
  },
  {
   "cell_type": "markdown",
   "id": "d4b4f9f4-ccb2-4720-a1e4-5d528660e66a",
   "metadata": {},
   "source": [
    "在我们的FashionMNIST数据集上用个简化的vgg网络试一下"
   ]
  },
  {
   "cell_type": "code",
   "execution_count": 7,
   "id": "7291d8cf-2e50-458d-9031-c0207294b266",
   "metadata": {},
   "outputs": [
    {
     "name": "stdout",
     "output_type": "stream",
     "text": [
      "the loss of epoch 0: 0.9120, accuracy on training set: 0.6760, accuracy on testing set: 0.8505\n",
      "the loss of epoch 1: 0.3608, accuracy on training set: 0.8686, accuracy on testing set: 0.8675\n",
      "the loss of epoch 2: 0.2993, accuracy on training set: 0.8921, accuracy on testing set: 0.8919\n",
      "the loss of epoch 3: 0.2669, accuracy on training set: 0.9036, accuracy on testing set: 0.8941\n",
      "the loss of epoch 4: 0.2447, accuracy on training set: 0.9107, accuracy on testing set: 0.9048\n",
      "the loss of epoch 5: 0.2262, accuracy on training set: 0.9171, accuracy on testing set: 0.9009\n",
      "the loss of epoch 6: 0.2114, accuracy on training set: 0.9224, accuracy on testing set: 0.9100\n",
      "the loss of epoch 7: 0.1977, accuracy on training set: 0.9274, accuracy on testing set: 0.9060\n",
      "the loss of epoch 8: 0.1824, accuracy on training set: 0.9332, accuracy on testing set: 0.9071\n",
      "the loss of epoch 9: 0.1714, accuracy on training set: 0.9367, accuracy on testing set: 0.9103\n"
     ]
    },
    {
     "data": {
      "image/png": "[encoded data removed]",
      "text/plain": [
       "<Figure size 432x288 with 1 Axes>"
      ]
     },
     "metadata": {
      "needs_background": "light"
     },
     "output_type": "display_data"
    }
   ],
   "source": [
    "batch_size = 128\n",
    "learning_rate = 0.03\n",
    "epoch = 10\n",
    "device = torch.device('cuda:3')\n",
    "\n",
    "training_iter = torch.utils.data.DataLoader(training_data_224, batch_size=batch_size, shuffle=True)\n",
    "testing_iter = torch.utils.data.DataLoader(testing_data_224, batch_size=batch_size)\n",
    "\n",
    "# 这里是vgg11的一个简化版的模型，卷积的通道数都降低了4倍，全连接层也降低了\n",
    "model = nn.Sequential(\n",
    "    VGGBlock(1, 1, 16),\n",
    "    VGGBlock(1, 16, 32),\n",
    "    VGGBlock(2, 32, 64),\n",
    "    VGGBlock(2, 64, 128),\n",
    "    VGGBlock(2, 128, 128),\n",
    "    nn.Flatten(),\n",
    "    nn.Linear(7*7*128, 1024),\n",
    "    nn.Linear(1024, 256),\n",
    "    nn.Linear(256, 10),\n",
    ")\n",
    "\n",
    "def parameters_init(m):\n",
    "    if type(m) == nn.Linear or type(m) == nn.Conv2d:\n",
    "        nn.init.xavier_uniform_(m.weight)\n",
    "model.apply(parameters_init)\n",
    "model = model.to(device)\n",
    "loss = nn.CrossEntropyLoss()\n",
    "optimizer = torch.optim.SGD(model.parameters(), lr=learning_rate)\n",
    "train(training_iter, testing_iter, model, loss, optimizer, device=device, epoch=epoch, plot=True)"
   ]
  },
  {
   "cell_type": "code",
   "execution_count": null,
   "id": "2c59ea84-6025-45a1-9f30-53c36b5e6687",
   "metadata": {},
   "outputs": [],
   "source": []
  }
 ],
 "metadata": {
  "kernelspec": {
   "display_name": "Python 3",
   "language": "python",
   "name": "python3"
  },
  "language_info": {
   "codemirror_mode": {
    "name": "ipython",
    "version": 3
   },
   "file_extension": ".py",
   "mimetype": "text/x-python",
   "name": "python",
   "nbconvert_exporter": "python",
   "pygments_lexer": "ipython3",
   "version": "3.8.8"
  }
 },
 "nbformat": 4,
 "nbformat_minor": 5
}
