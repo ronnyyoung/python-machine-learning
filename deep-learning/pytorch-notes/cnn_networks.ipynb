{
 "cells": [
  {
   "cell_type": "markdown",
   "id": "f3bd984a-c679-4c28-872d-c561efa42471",
   "metadata": {},
   "source": [
    "# 卷积神经网络中的经典数据结构\n",
    "\n",
    "- LeNet\n",
    "- AlexNet\n",
    "- VGG\n",
    "- GoogleNet\n",
    "- ResNet\n",
    "- DenseNet"
   ]
  },
  {
   "cell_type": "code",
   "execution_count": 1,
   "id": "d9ed5d95-19fb-44da-bc60-7f2abd3be56d",
   "metadata": {
    "execution": {
     "iopub.execute_input": "2021-06-04T06:28:31.574306Z",
     "iopub.status.busy": "2021-06-04T06:28:31.574058Z",
     "iopub.status.idle": "2021-06-04T06:28:32.379100Z",
     "shell.execute_reply": "2021-06-04T06:28:32.378659Z",
     "shell.execute_reply.started": "2021-06-04T06:28:31.574200Z"
    },
    "tags": []
   },
   "outputs": [],
   "source": [
    "import torch\n",
    "import torchvision\n",
    "from torchvision import transforms\n",
    "from torch import nn\n",
    "from torch.nn import functional as F\n",
    "import matplotlib.pyplot as plt"
   ]
  },
  {
   "cell_type": "markdown",
   "id": "d5d11afb-4afc-4fc2-b5c9-d109fa32b21b",
   "metadata": {},
   "source": [
    "# 加载FashiMNist数据集"
   ]
  },
  {
   "cell_type": "code",
   "execution_count": 2,
   "id": "a385d05f-74e5-48dc-9571-42d28dc7f551",
   "metadata": {
    "execution": {
     "iopub.execute_input": "2021-06-04T06:28:32.912090Z",
     "iopub.status.busy": "2021-06-04T06:28:32.911936Z",
     "iopub.status.idle": "2021-06-04T06:28:32.940335Z",
     "shell.execute_reply": "2021-06-04T06:28:32.939736Z",
     "shell.execute_reply.started": "2021-06-04T06:28:32.912071Z"
    }
   },
   "outputs": [],
   "source": [
    "trans = torchvision.transforms.ToTensor()\n",
    "training_data = torchvision.datasets.FashionMNIST(\n",
    "    root='./data/',\n",
    "    train=True,\n",
    "    download=True,\n",
    "    transform=trans\n",
    ")\n",
    "testing_data = torchvision.datasets.FashionMNIST(\n",
    "    root='./data/',\n",
    "    train=False,\n",
    "    download=True,\n",
    "    transform=trans\n",
    ")"
   ]
  },
  {
   "cell_type": "markdown",
   "id": "c1494ec3-cf93-453b-854e-de57212000ea",
   "metadata": {},
   "source": [
    "现代深度神经网络都是在ImageNet上提出的，所以针对的输入都是224x224，为了后续的演示，所以这里我们使用Resize预处理，把输入图像拉大为224x224，重新做一份数据集"
   ]
  },
  {
   "cell_type": "code",
   "execution_count": 3,
   "id": "2d742a31-fa03-4590-acc7-2ba9d5f1cb17",
   "metadata": {
    "execution": {
     "iopub.execute_input": "2021-06-04T06:28:34.039971Z",
     "iopub.status.busy": "2021-06-04T06:28:34.039820Z",
     "iopub.status.idle": "2021-06-04T06:28:34.069248Z",
     "shell.execute_reply": "2021-06-04T06:28:34.068804Z",
     "shell.execute_reply.started": "2021-06-04T06:28:34.039953Z"
    }
   },
   "outputs": [],
   "source": [
    "trans = transforms.Compose([\n",
    "    transforms.Resize(224),\n",
    "    transforms.ToTensor()\n",
    "])\n",
    "training_data_224 = torchvision.datasets.FashionMNIST(\n",
    "    root='./data/',\n",
    "    train=True,\n",
    "    download=True,\n",
    "    transform=trans\n",
    ")\n",
    "testing_data_224 = torchvision.datasets.FashionMNIST(\n",
    "    root='./data/',\n",
    "    train=False,\n",
    "    download=True,\n",
    "    transform=trans\n",
    ")"
   ]
  },
  {
   "cell_type": "markdown",
   "id": "09d261d6-c9a7-4d8d-940f-3432305f7fe8",
   "metadata": {},
   "source": [
    "# 辅助函数"
   ]
  },
  {
   "cell_type": "code",
   "execution_count": 4,
   "id": "d4e743ed-009f-4047-8201-32e9516a75eb",
   "metadata": {
    "execution": {
     "iopub.execute_input": "2021-06-04T06:28:38.488953Z",
     "iopub.status.busy": "2021-06-04T06:28:38.488801Z",
     "iopub.status.idle": "2021-06-04T06:28:38.495553Z",
     "shell.execute_reply": "2021-06-04T06:28:38.495178Z",
     "shell.execute_reply.started": "2021-06-04T06:28:38.488935Z"
    }
   },
   "outputs": [],
   "source": [
    "def accuracy(y_hat, y):\n",
    "    max_indices = torch.max(y_hat, dim=1)[1]\n",
    "    return (y == max_indices).to(dtype=torch.float32).mean()\n",
    "\n",
    "\n",
    "def accuracy_on(model, data_iter):\n",
    "    acc = []\n",
    "    for X, y in data_iter:\n",
    "        X, y = X.to(device), y.to(device)\n",
    "        y_hat = model(X)\n",
    "        acc.append(accuracy(y_hat, y))\n",
    "    return torch.tensor(acc).mean().item()\n",
    "\n",
    "\n",
    "def train(training_iter, testing_iter, model, loss, optimizer, device, epoch=20, plot=True):\n",
    "    training_loss = []\n",
    "    training_acc = []\n",
    "    testing_acc = []\n",
    "    for i in range(epoch):\n",
    "        epoch_loss = 0\n",
    "        epoch_acc = 0\n",
    "        for X, y in training_iter:\n",
    "            X, y = X.to(device), y.to(device)\n",
    "            y_hat = model(X)\n",
    "            l = loss(y_hat, y)\n",
    "            epoch_loss += l.item()\n",
    "            epoch_acc += accuracy(y_hat, y)\n",
    "            optimizer.zero_grad()\n",
    "            l.backward()\n",
    "            optimizer.step()\n",
    "        training_loss.append(epoch_loss / len(training_iter))\n",
    "        training_acc.append(epoch_acc / len(training_iter))\n",
    "        testing_acc.append(accuracy_on(model, testing_iter))\n",
    "        print(\n",
    "            f'the loss of epoch {i}: {training_loss[-1]:.4f}, accuracy on training set: {training_acc[-1]:.4f}, accuracy on testing set: {testing_acc[-1]:.4f}')\n",
    "    if plot == False:\n",
    "        return\n",
    "    plt.plot(training_loss, label='training_loss')\n",
    "    plt.plot(training_acc, label='training_acc')\n",
    "    plt.plot(testing_acc, label='testing_acc')\n",
    "    plt.legend()\n",
    "    plt.show()"
   ]
  },
  {
   "cell_type": "markdown",
   "id": "6fa9cf35-5572-4271-9969-d264b15e1519",
   "metadata": {},
   "source": [
    "# 构建LeNet模型\n",
    "\n",
    "<img src='./images/lenet.svg' width=900>\n",
    "\n",
    "- 默认结构下，必须使用大的学习率>0.5，如果使用0.1，则模型训练的非常慢，至少要10个epoch以上\n",
    "- 如果Conv后不加Sigmoid，则可以使用学习率0.1即可。\n",
    "- 原来尝试的batch_size是256，acc只能到85%左右，后来不经意调整为了25，发现acc轻松到90"
   ]
  },
  {
   "cell_type": "code",
   "execution_count": 9,
   "id": "04895ae0-63e9-4131-b0e6-e2060503c11e",
   "metadata": {},
   "outputs": [
    {
     "name": "stdout",
     "output_type": "stream",
     "text": [
      "the output shape of Conv2d:\ttorch.Size([1, 6, 28, 28])\n",
      "the output shape of Sigmoid:\ttorch.Size([1, 6, 28, 28])\n",
      "the output shape of AvgPool2d:\ttorch.Size([1, 6, 14, 14])\n",
      "the output shape of Conv2d:\ttorch.Size([1, 16, 10, 10])\n",
      "the output shape of Sigmoid:\ttorch.Size([1, 16, 10, 10])\n",
      "the output shape of AvgPool2d:\ttorch.Size([1, 16, 5, 5])\n",
      "the output shape of Flatten:\ttorch.Size([1, 400])\n",
      "the output shape of Linear:\ttorch.Size([1, 120])\n",
      "the output shape of Sigmoid:\ttorch.Size([1, 120])\n",
      "the output shape of Linear:\ttorch.Size([1, 84])\n",
      "the output shape of Sigmoid:\ttorch.Size([1, 84])\n",
      "the output shape of Linear:\ttorch.Size([1, 10])\n"
     ]
    }
   ],
   "source": [
    "LeNet = nn.Sequential(\n",
    "    nn.Conv2d(in_channels=1, out_channels=6,\n",
    "              kernel_size=5, padding=2), nn.Sigmoid(),\n",
    "    nn.AvgPool2d(kernel_size=2, stride=2),\n",
    "    nn.Conv2d(in_channels=6, out_channels=16, kernel_size=5), nn.Sigmoid(),\n",
    "    nn.AvgPool2d(kernel_size=2, stride=2),\n",
    "    nn.Flatten(),\n",
    "    nn.Linear(400, 120), nn.Sigmoid(),\n",
    "    nn.Linear(120, 84), nn.Sigmoid(),\n",
    "    nn.Linear(84, 10)\n",
    ")\n",
    "\n",
    "x = torch.randn(1, 1, 28, 28)\n",
    "\n",
    "# 可以看一下每一层网络输出数据的尺寸\n",
    "for m in LeNet:\n",
    "    x = m(x)\n",
    "    print(f'the output shape of {m.__class__.__name__}:\\t{x.shape}')"
   ]
  },
  {
   "cell_type": "code",
   "execution_count": 4,
   "id": "485deecb-3150-452c-8f19-d5775f66cbca",
   "metadata": {},
   "outputs": [
    {
     "name": "stdout",
     "output_type": "stream",
     "text": [
      "the loss of epoch 0: 2.1379, accuracy on training set: 0.1676, accuracy on testing set: 0.5431\n",
      "the loss of epoch 1: 0.7792, accuracy on training set: 0.6898, accuracy on testing set: 0.7282\n",
      "the loss of epoch 2: 0.5812, accuracy on training set: 0.7736, accuracy on testing set: 0.7667\n",
      "the loss of epoch 3: 0.4942, accuracy on training set: 0.8121, accuracy on testing set: 0.7944\n",
      "the loss of epoch 4: 0.4415, accuracy on training set: 0.8340, accuracy on testing set: 0.8125\n",
      "the loss of epoch 5: 0.4069, accuracy on training set: 0.8486, accuracy on testing set: 0.8377\n",
      "the loss of epoch 6: 0.3799, accuracy on training set: 0.8583, accuracy on testing set: 0.8425\n",
      "the loss of epoch 7: 0.3607, accuracy on training set: 0.8650, accuracy on testing set: 0.8433\n",
      "the loss of epoch 8: 0.3434, accuracy on training set: 0.8711, accuracy on testing set: 0.8641\n",
      "the loss of epoch 9: 0.3290, accuracy on training set: 0.8760, accuracy on testing set: 0.8553\n",
      "the loss of epoch 10: 0.3187, accuracy on training set: 0.8798, accuracy on testing set: 0.8617\n",
      "the loss of epoch 11: 0.3111, accuracy on training set: 0.8833, accuracy on testing set: 0.8646\n",
      "the loss of epoch 12: 0.3003, accuracy on training set: 0.8870, accuracy on testing set: 0.8530\n",
      "the loss of epoch 13: 0.2925, accuracy on training set: 0.8902, accuracy on testing set: 0.8596\n",
      "the loss of epoch 14: 0.2853, accuracy on training set: 0.8927, accuracy on testing set: 0.8554\n",
      "the loss of epoch 15: 0.2796, accuracy on training set: 0.8955, accuracy on testing set: 0.8880\n",
      "the loss of epoch 16: 0.2722, accuracy on training set: 0.8972, accuracy on testing set: 0.8782\n",
      "the loss of epoch 17: 0.2660, accuracy on training set: 0.8999, accuracy on testing set: 0.8701\n",
      "the loss of epoch 18: 0.2615, accuracy on training set: 0.8996, accuracy on testing set: 0.8500\n",
      "the loss of epoch 19: 0.2562, accuracy on training set: 0.9030, accuracy on testing set: 0.8858\n"
     ]
    },
    {
     "data": {
      "image/png": "[encoded data removed]",
      "text/plain": [
       "<Figure size 432x288 with 1 Axes>"
      ]
     },
     "metadata": {
      "needs_background": "light"
     },
     "output_type": "display_data"
    }
   ],
   "source": [
    "batch_size = 64\n",
    "learning_rate = 0.9\n",
    "epoch = 20\n",
    "device = torch.device('cuda:3')\n",
    "\n",
    "training_iter = torch.utils.data.DataLoader(\n",
    "    training_data, batch_size=batch_size, shuffle=True)\n",
    "testing_iter = torch.utils.data.DataLoader(testing_data, batch_size=batch_size)\n",
    "\n",
    "model = nn.Sequential(\n",
    "    nn.Conv2d(in_channels=1, out_channels=6,\n",
    "              kernel_size=5, padding=2), nn.Sigmoid(),\n",
    "    nn.AvgPool2d(kernel_size=2, stride=2),\n",
    "    nn.Conv2d(in_channels=6, out_channels=16, kernel_size=5), nn.Sigmoid(),\n",
    "    nn.AvgPool2d(kernel_size=2, stride=2),\n",
    "    nn.Flatten(),\n",
    "    nn.Linear(400, 120), nn.Sigmoid(),\n",
    "    nn.Linear(120, 84), nn.Sigmoid(),\n",
    "    nn.Linear(84, 10)\n",
    ")\n",
    "\n",
    "\n",
    "def parameters_init(m):\n",
    "    if type(m) == nn.Linear or type(m) == nn.Conv2d:\n",
    "        nn.init.xavier_uniform_(m.weight)\n",
    "\n",
    "\n",
    "model.apply(parameters_init)\n",
    "model = model.to(device)\n",
    "loss = nn.CrossEntropyLoss()\n",
    "optimizer = torch.optim.SGD(model.parameters(), lr=learning_rate)\n",
    "train(training_iter, testing_iter, model, loss,\n",
    "      optimizer, device=device, epoch=epoch, plot=True)"
   ]
  },
  {
   "cell_type": "markdown",
   "id": "ac612767-be0d-482e-9f36-fb766fd2c34a",
   "metadata": {},
   "source": [
    "# AlexNet\n",
    "\n",
    "AlexNet是第一个在大规模视觉竞赛中击败传统计算机视觉模型的大型神经网络；\n",
    "\n",
    "**由手工特征+机器学习到端到端的深度神经网络**\n",
    "\n",
    "在AlexNet之前，CV领域往往非常重视对输入图像数据的预处理（结合光学、几何学等）以及手工特征的设计，而对于分类算法的选择就没有那么热衷。而机器学习领域追求的是有效的证明与数学支撑，在收敛性、泛化性、优化求解上面追求更严谨的数学证明。\n",
    "\n",
    "**为什么LeNet出现那么早，CNN后来没有火热起来**\n",
    "\n",
    "- 数据、算力的缺乏\n",
    "- 网络设计上的技巧缺乏：启发式参数初始化、随机梯度下降的巧妙变体、新的激活单元、正则化技术等。\n",
    "\n",
    "<img src='images/alexnet.svg'>\n",
    "\n",
    "**和LeNet的不同**\n",
    "\n",
    "1. 最大的不同就是卷积部分多了3个连续的卷积层，让整个网络更深了。\n",
    "2. Sigmoid换成了ReLU，让网络更深时，梯度下降更有效一些\n",
    "3. 全连接层后面加入了Dropout防止过拟合\n",
    "4. AvgPool换成了MaxPool"
   ]
  },
  {
   "cell_type": "code",
   "execution_count": 5,
   "id": "a5384acf-eb11-46e1-8215-600fea76e0e7",
   "metadata": {},
   "outputs": [
    {
     "name": "stdout",
     "output_type": "stream",
     "text": [
      "the output shape of Conv2d:\ttorch.Size([1, 96, 54, 54])\n",
      "the output shape of ReLU:\ttorch.Size([1, 96, 54, 54])\n",
      "the output shape of MaxPool2d:\ttorch.Size([1, 96, 26, 26])\n",
      "the output shape of Conv2d:\ttorch.Size([1, 256, 26, 26])\n",
      "the output shape of ReLU:\ttorch.Size([1, 256, 26, 26])\n",
      "the output shape of MaxPool2d:\ttorch.Size([1, 256, 12, 12])\n",
      "the output shape of Conv2d:\ttorch.Size([1, 384, 12, 12])\n",
      "the output shape of ReLU:\ttorch.Size([1, 384, 12, 12])\n",
      "the output shape of Conv2d:\ttorch.Size([1, 384, 12, 12])\n",
      "the output shape of ReLU:\ttorch.Size([1, 384, 12, 12])\n",
      "the output shape of Conv2d:\ttorch.Size([1, 256, 12, 12])\n",
      "the output shape of ReLU:\ttorch.Size([1, 256, 12, 12])\n",
      "the output shape of MaxPool2d:\ttorch.Size([1, 256, 5, 5])\n",
      "the output shape of Flatten:\ttorch.Size([1, 6400])\n",
      "the output shape of Linear:\ttorch.Size([1, 4096])\n",
      "the output shape of ReLU:\ttorch.Size([1, 4096])\n",
      "the output shape of Dropout:\ttorch.Size([1, 4096])\n",
      "the output shape of Linear:\ttorch.Size([1, 4096])\n",
      "the output shape of ReLU:\ttorch.Size([1, 4096])\n",
      "the output shape of Dropout:\ttorch.Size([1, 4096])\n",
      "the output shape of Linear:\ttorch.Size([1, 10])\n"
     ]
    }
   ],
   "source": [
    "AlexNet = nn.Sequential(\n",
    "    # 因为输出图像尺寸大，所以kernel size选择的比较大，stride选择4，可以让空间分辨率快速下降\n",
    "    nn.Conv2d(in_channels=3, out_channels=96,\n",
    "              kernel_size=11, stride=4), nn.ReLU(),\n",
    "    nn.MaxPool2d(kernel_size=3, stride=2),\n",
    "    # 减小卷积窗口，使用填充为2来使得输入与输出的高和宽一致，且增大输出通道数\n",
    "    nn.Conv2d(in_channels=96, out_channels=256,\n",
    "              kernel_size=5, padding=2), nn.ReLU(),\n",
    "    nn.MaxPool2d(kernel_size=3, stride=2),\n",
    "    # 使用三个连续的卷积层和较小的卷积窗口。\n",
    "    # 除了最后的卷积层，输出通道的数量进一步增加。\n",
    "    # 在前两个卷积层之后，池化层不用于减少输入的高度和宽度\n",
    "    nn.Conv2d(256, 384, kernel_size=3, padding=1), nn.ReLU(),\n",
    "    nn.Conv2d(384, 384, kernel_size=3, padding=1), nn.ReLU(),\n",
    "    nn.Conv2d(384, 256, kernel_size=3, padding=1), nn.ReLU(),\n",
    "    nn.MaxPool2d(kernel_size=3, stride=2),\n",
    "    nn.Flatten(),\n",
    "    # 这里，全连接层的输出数量是LeNet中的好几倍。使用dropout层来减轻过度拟合\n",
    "    nn.Linear(6400, 4096), nn.ReLU(), nn.Dropout(p=0.5),\n",
    "    nn.Linear(4096, 4096), nn.ReLU(), nn.Dropout(p=0.5),\n",
    "    nn.Linear(4096, 10)\n",
    ")\n",
    "x = torch.randn(1, 3, 224, 224)\n",
    "\n",
    "# 可以看一下每一层网络输出数据的尺寸\n",
    "for m in AlexNet:\n",
    "    x = m(x)\n",
    "    print(f'the output shape of {m.__class__.__name__}:\\t{x.shape}')"
   ]
  },
  {
   "cell_type": "markdown",
   "id": "008ab813-2585-445b-ba0f-63a9c50580ce",
   "metadata": {},
   "source": [
    "下面我们使用AlexNet训练"
   ]
  },
  {
   "cell_type": "code",
   "execution_count": 7,
   "id": "b587f5a6-1055-4241-9f0f-c9ce550c93ae",
   "metadata": {},
   "outputs": [
    {
     "name": "stdout",
     "output_type": "stream",
     "text": [
      "the loss of epoch 0: 0.9399, accuracy on training set: 0.6499, accuracy on testing set: 0.7893\n",
      "the loss of epoch 1: 0.4818, accuracy on training set: 0.8219, accuracy on testing set: 0.8332\n",
      "the loss of epoch 2: 0.4003, accuracy on training set: 0.8530, accuracy on testing set: 0.8258\n",
      "the loss of epoch 3: 0.3532, accuracy on training set: 0.8700, accuracy on testing set: 0.8680\n",
      "the loss of epoch 4: 0.3257, accuracy on training set: 0.8784, accuracy on testing set: 0.8787\n",
      "the loss of epoch 5: 0.3047, accuracy on training set: 0.8878, accuracy on testing set: 0.8833\n",
      "the loss of epoch 6: 0.2874, accuracy on training set: 0.8931, accuracy on testing set: 0.8851\n",
      "the loss of epoch 7: 0.2726, accuracy on training set: 0.9002, accuracy on testing set: 0.8953\n",
      "the loss of epoch 8: 0.2599, accuracy on training set: 0.9042, accuracy on testing set: 0.8931\n",
      "the loss of epoch 9: 0.2483, accuracy on training set: 0.9093, accuracy on testing set: 0.8990\n"
     ]
    },
    {
     "data": {
      "image/png": "[encoded data removed]",
      "text/plain": [
       "<Figure size 432x288 with 1 Axes>"
      ]
     },
     "metadata": {
      "needs_background": "light"
     },
     "output_type": "display_data"
    }
   ],
   "source": [
    "batch_size = 128\n",
    "learning_rate = 0.03\n",
    "epoch = 10\n",
    "device = torch.device('cuda:3')\n",
    "\n",
    "training_iter = torch.utils.data.DataLoader(\n",
    "    training_data_224, batch_size=batch_size, shuffle=True)\n",
    "testing_iter = torch.utils.data.DataLoader(\n",
    "    testing_data_224, batch_size=batch_size)\n",
    "\n",
    "model = nn.Sequential(\n",
    "    nn.Conv2d(in_channels=1, out_channels=96,\n",
    "              kernel_size=11, stride=4), nn.ReLU(),\n",
    "    nn.MaxPool2d(kernel_size=3, stride=2),\n",
    "    nn.Conv2d(in_channels=96, out_channels=256,\n",
    "              kernel_size=5, padding=2), nn.ReLU(),\n",
    "    nn.MaxPool2d(kernel_size=3, stride=2),\n",
    "    nn.Conv2d(256, 384, kernel_size=3, padding=1), nn.ReLU(),\n",
    "    nn.Conv2d(384, 384, kernel_size=3, padding=1), nn.ReLU(),\n",
    "    nn.Conv2d(384, 256, kernel_size=3, padding=1), nn.ReLU(),\n",
    "    nn.MaxPool2d(kernel_size=3, stride=2),\n",
    "    nn.Flatten(),\n",
    "    nn.Linear(6400, 4096), nn.ReLU(), nn.Dropout(p=0.5),\n",
    "    nn.Linear(4096, 4096), nn.ReLU(), nn.Dropout(p=0.5),\n",
    "    nn.Linear(4096, 10)\n",
    ")\n",
    "\n",
    "\n",
    "def parameters_init(m):\n",
    "    if type(m) == nn.Linear or type(m) == nn.Conv2d:\n",
    "        nn.init.xavier_uniform_(m.weight)\n",
    "\n",
    "\n",
    "model.apply(parameters_init)\n",
    "model = model.to(device)\n",
    "loss = nn.CrossEntropyLoss()\n",
    "optimizer = torch.optim.SGD(model.parameters(), lr=learning_rate)\n",
    "train(training_iter, testing_iter, model, loss,\n",
    "      optimizer, device=device, epoch=epoch, plot=True)"
   ]
  },
  {
   "cell_type": "markdown",
   "id": "aff9e0b9-1e1b-4f19-b2c1-cfd5055e1db7",
   "metadata": {},
   "source": [
    "手动魔改一下整个网络，让整个网络更小一些，看看效果。"
   ]
  },
  {
   "cell_type": "code",
   "execution_count": 8,
   "id": "831dc84c-d490-4703-b65f-e914276dc909",
   "metadata": {},
   "outputs": [
    {
     "name": "stdout",
     "output_type": "stream",
     "text": [
      "the loss of epoch 0: 0.9732, accuracy on training set: 0.6323, accuracy on testing set: 0.7653\n",
      "the loss of epoch 1: 0.5441, accuracy on training set: 0.7995, accuracy on testing set: 0.8131\n",
      "the loss of epoch 2: 0.4523, accuracy on training set: 0.8331, accuracy on testing set: 0.8308\n",
      "the loss of epoch 3: 0.4025, accuracy on training set: 0.8525, accuracy on testing set: 0.8404\n",
      "the loss of epoch 4: 0.3722, accuracy on training set: 0.8649, accuracy on testing set: 0.8634\n",
      "the loss of epoch 5: 0.3505, accuracy on training set: 0.8728, accuracy on testing set: 0.8658\n",
      "the loss of epoch 6: 0.3323, accuracy on training set: 0.8782, accuracy on testing set: 0.8650\n",
      "the loss of epoch 7: 0.3136, accuracy on training set: 0.8853, accuracy on testing set: 0.8796\n",
      "the loss of epoch 8: 0.3047, accuracy on training set: 0.8894, accuracy on testing set: 0.8839\n",
      "the loss of epoch 9: 0.2896, accuracy on training set: 0.8942, accuracy on testing set: 0.8787\n"
     ]
    },
    {
     "data": {
      "image/png": "[encoded data removed]",
      "text/plain": [
       "<Figure size 432x288 with 1 Axes>"
      ]
     },
     "metadata": {
      "needs_background": "light"
     },
     "output_type": "display_data"
    }
   ],
   "source": [
    "batch_size = 128\n",
    "learning_rate = 0.03\n",
    "epoch = 10\n",
    "device = torch.device('cuda:3')\n",
    "\n",
    "training_iter = torch.utils.data.DataLoader(\n",
    "    training_data_224, batch_size=batch_size, shuffle=True)\n",
    "testing_iter = torch.utils.data.DataLoader(\n",
    "    testing_data_224, batch_size=batch_size)\n",
    "\n",
    "model = nn.Sequential(\n",
    "    nn.Conv2d(in_channels=1, out_channels=32,\n",
    "              kernel_size=11, stride=4), nn.ReLU(),\n",
    "    nn.MaxPool2d(kernel_size=3, stride=2),\n",
    "    nn.Conv2d(in_channels=32, out_channels=128,\n",
    "              kernel_size=5, padding=2), nn.ReLU(),\n",
    "    nn.MaxPool2d(kernel_size=3, stride=2),\n",
    "    # 这里把3层CNN改为2层\n",
    "    nn.Conv2d(128, 256, kernel_size=3, padding=1), nn.ReLU(),\n",
    "    nn.Conv2d(256, 128, kernel_size=3, padding=1), nn.ReLU(),\n",
    "    nn.MaxPool2d(kernel_size=3, stride=2),\n",
    "    nn.Flatten(),\n",
    "    # 降低全连接层的隐藏层个数\n",
    "    nn.Linear(3200, 1000), nn.ReLU(), nn.Dropout(p=0.5),\n",
    "    nn.Linear(1000, 256), nn.ReLU(), nn.Dropout(p=0.5),\n",
    "    nn.Linear(256, 10)\n",
    ")\n",
    "\n",
    "\n",
    "def parameters_init(m):\n",
    "    if type(m) == nn.Linear or type(m) == nn.Conv2d:\n",
    "        nn.init.xavier_uniform_(m.weight)\n",
    "\n",
    "\n",
    "model.apply(parameters_init)\n",
    "model = model.to(device)\n",
    "loss = nn.CrossEntropyLoss()\n",
    "optimizer = torch.optim.SGD(model.parameters(), lr=learning_rate)\n",
    "train(training_iter, testing_iter, model, loss,\n",
    "      optimizer, device=device, epoch=epoch, plot=True)"
   ]
  },
  {
   "cell_type": "markdown",
   "id": "6dbcc365-053b-47a8-9a2b-f4ac56cc3afe",
   "metadata": {},
   "source": [
    "# VGG\n",
    "\n",
    "2014年，牛津大学计算机视觉组（**V**isual **G**eometry **G**roup）和Google DeepMind公司的研究员一起研发出了新的深度卷积神经网络：VGGNet，并取得了ILSVRC2014比赛分类项目的第二名（第一名是GoogLeNet，也是同年提出的).\n",
    "\n",
    "论文名为：Very Deep Convolutional Networks for Large-Scale Image Recognition。论文主要针对卷积神经网络的深度对大规模图像集识别精度的影响，主要贡献是**使用很小的卷积核(3×3)构建各种深度的卷积神经网络结构**，并对这些网络结构进行了评估，最终证明16-19层的网络深度，能够取得较好的识别精度。 这也就是常用来提取图像特征的VGG-16和VGG-19。\n",
    "\n",
    "<img src='./images/vgg_arch.jpg' width=600>\n",
    "\n",
    "**与AlexNet的对比**\n",
    "\n",
    "- 在VGG网络中只使用3x3，pad=1的卷积，这样的卷积不会改变空间尺寸。非常统一，简洁。另外在使用多层3x3的卷积核是可以等效达到7x7和11x11卷积核心的效果。3个连续的3x3卷积核心相当于一个7x7卷积核心的感受野，但参数量却由原来的49变成了27。\n",
    "\n",
    "<img src='images/vgg_kernel.png'>\n",
    "\n",
    "- 另外在VGG的block结构中每个卷积层后面都有一个非线性的ReLU层，这样也增加了整个网络非线性映射的能力。\n",
    "- 使用连续的小卷积核代替大的卷积核，网络的深度更深，并且对边缘进行填充，卷积的过程并不会降低图像尺寸。仅使用小的池化单元，降低图像的尺寸。\n",
    "- 通道数更多，特征度更宽。每个通道代表着一个FeatureMap，更多的通道数表示更丰富的图像特征。VGG网络第一层的通道数为64，后面每层都进行了翻倍，最多到512个通道，通道数的增加，使得更多的信息可以被提取出来。\n",
    "\n",
    "**VGG系列**\n",
    "\n",
    "论文中给出了不同block配置下的5种不同的网络结构，每种网络结构具有的block的数都是5个，而后是3个全连接，不同的在于，每个block中卷积层的个数，以及每个卷积层的通道数不同。\n",
    "\n",
    "<img src='./images/vgg_configurations.png'>"
   ]
  },
  {
   "cell_type": "code",
   "execution_count": 6,
   "id": "46b6ceb7-d0b2-4f46-bd86-577136292a00",
   "metadata": {},
   "outputs": [],
   "source": [
    "def VGGBlock(num_layers, in_channels, out_channels):\n",
    "    vgg_block = nn.Sequential()\n",
    "    i = 0\n",
    "    for _ in range(num_layers):\n",
    "        vgg_block.add_module(str(i), nn.Conv2d(\n",
    "            in_channels, out_channels, kernel_size=3, padding=1))\n",
    "        vgg_block.add_module(str(i + 1), nn.ReLU())\n",
    "        in_channels = out_channels\n",
    "        i += 2\n",
    "    vgg_block.add_module(str(i), nn.MaxPool2d(kernel_size=2, stride=2))\n",
    "    return vgg_block\n",
    "\n",
    "\n",
    "vgg16 = nn.Sequential(\n",
    "    VGGBlock(2, 3, 64),\n",
    "    VGGBlock(2, 64, 128),\n",
    "    VGGBlock(3, 128, 256),\n",
    "    VGGBlock(3, 256, 512),\n",
    "    VGGBlock(3, 512, 512),\n",
    "    nn.Flatten(),\n",
    "    nn.Linear(7*7*512, 4096),\n",
    "    nn.Linear(4096, 4096),\n",
    "    nn.Linear(4096, 1000),\n",
    ")\n",
    "vgg19 = nn.Sequential(\n",
    "    VGGBlock(2, 3, 64),\n",
    "    VGGBlock(2, 64, 128),\n",
    "    VGGBlock(4, 128, 256),\n",
    "    VGGBlock(4, 256, 512),\n",
    "    VGGBlock(4, 512, 512),\n",
    "    nn.Flatten(),\n",
    "    nn.Linear(7*7*512, 4096),\n",
    "    nn.Linear(4096, 4096),\n",
    "    nn.Linear(4096, 1000),\n",
    ")"
   ]
  },
  {
   "cell_type": "code",
   "execution_count": 21,
   "id": "da642532-6769-45a7-9f28-d1329fcddbb1",
   "metadata": {},
   "outputs": [
    {
     "name": "stdout",
     "output_type": "stream",
     "text": [
      "Sequential: torch.Size([1, 64, 112, 112])\n",
      "Sequential: torch.Size([1, 128, 56, 56])\n",
      "Sequential: torch.Size([1, 256, 28, 28])\n",
      "Sequential: torch.Size([1, 512, 14, 14])\n",
      "Sequential: torch.Size([1, 512, 7, 7])\n",
      "Flatten: torch.Size([1, 25088])\n",
      "Linear: torch.Size([1, 4096])\n",
      "Linear: torch.Size([1, 4096])\n",
      "Linear: torch.Size([1, 1000])\n"
     ]
    }
   ],
   "source": [
    "x = torch.randn(1, 3, 224, 224)\n",
    "for m in vgg19:\n",
    "    x = m(x)\n",
    "    print(f'{m.__class__.__name__}: {x.shape}')"
   ]
  },
  {
   "cell_type": "markdown",
   "id": "d4b4f9f4-ccb2-4720-a1e4-5d528660e66a",
   "metadata": {},
   "source": [
    "在我们的FashionMNIST数据集上用个简化的vgg网络试一下"
   ]
  },
  {
   "cell_type": "code",
   "execution_count": 7,
   "id": "7291d8cf-2e50-458d-9031-c0207294b266",
   "metadata": {},
   "outputs": [
    {
     "name": "stdout",
     "output_type": "stream",
     "text": [
      "the loss of epoch 0: 0.9120, accuracy on training set: 0.6760, accuracy on testing set: 0.8505\n",
      "the loss of epoch 1: 0.3608, accuracy on training set: 0.8686, accuracy on testing set: 0.8675\n",
      "the loss of epoch 2: 0.2993, accuracy on training set: 0.8921, accuracy on testing set: 0.8919\n",
      "the loss of epoch 3: 0.2669, accuracy on training set: 0.9036, accuracy on testing set: 0.8941\n",
      "the loss of epoch 4: 0.2447, accuracy on training set: 0.9107, accuracy on testing set: 0.9048\n",
      "the loss of epoch 5: 0.2262, accuracy on training set: 0.9171, accuracy on testing set: 0.9009\n",
      "the loss of epoch 6: 0.2114, accuracy on training set: 0.9224, accuracy on testing set: 0.9100\n",
      "the loss of epoch 7: 0.1977, accuracy on training set: 0.9274, accuracy on testing set: 0.9060\n",
      "the loss of epoch 8: 0.1824, accuracy on training set: 0.9332, accuracy on testing set: 0.9071\n",
      "the loss of epoch 9: 0.1714, accuracy on training set: 0.9367, accuracy on testing set: 0.9103\n"
     ]
    },
    {
     "data": {
      "image/png": "[encoded data removed]",
      "text/plain": [
       "<Figure size 432x288 with 1 Axes>"
      ]
     },
     "metadata": {
      "needs_background": "light"
     },
     "output_type": "display_data"
    }
   ],
   "source": [
    "batch_size = 128\n",
    "learning_rate = 0.03\n",
    "epoch = 10\n",
    "device = torch.device('cuda:3')\n",
    "\n",
    "training_iter = torch.utils.data.DataLoader(\n",
    "    training_data_224, batch_size=batch_size, shuffle=True)\n",
    "testing_iter = torch.utils.data.DataLoader(\n",
    "    testing_data_224, batch_size=batch_size)\n",
    "\n",
    "# 这里是vgg11的一个简化版的模型，卷积的通道数都降低了4倍，全连接层也降低了\n",
    "model = nn.Sequential(\n",
    "    VGGBlock(1, 1, 16),\n",
    "    VGGBlock(1, 16, 32),\n",
    "    VGGBlock(2, 32, 64),\n",
    "    VGGBlock(2, 64, 128),\n",
    "    VGGBlock(2, 128, 128),\n",
    "    nn.Flatten(),\n",
    "    nn.Linear(7*7*128, 1024),\n",
    "    nn.Linear(1024, 256),\n",
    "    nn.Linear(256, 10),\n",
    ")\n",
    "\n",
    "\n",
    "def parameters_init(m):\n",
    "    if type(m) == nn.Linear or type(m) == nn.Conv2d:\n",
    "        nn.init.xavier_uniform_(m.weight)\n",
    "\n",
    "\n",
    "model.apply(parameters_init)\n",
    "model = model.to(device)\n",
    "loss = nn.CrossEntropyLoss()\n",
    "optimizer = torch.optim.SGD(model.parameters(), lr=learning_rate)\n",
    "train(training_iter, testing_iter, model, loss,\n",
    "      optimizer, device=device, epoch=epoch, plot=True)"
   ]
  },
  {
   "cell_type": "markdown",
   "id": "1d3edae0-2360-49b8-9e6b-9853a910a92b",
   "metadata": {},
   "source": [
    "# NIN 网络中的网络\n",
    "\n",
    "NIN的出发点，是希望改进像LeNet、AlexNet、VGG中最后几个全连接中参数量特别大的问题，尤其是最扣一个卷积层接的那个全连接层。\n",
    "\n",
    "我们拿VGG举倒，最后一个卷积层的输出Tensor的形状为\n",
    "$$\\text{BatchSize}\\times 512 \\times 7 \\ \\times 7$$\n",
    "\n",
    "所以接的那一层的全连接的参数量为：$512\\times7\\times7\\times 4096 = 102M$个参数，如果都是fp32计算精度，那么就需要占用400MB左右的存储空间。\n",
    "\n",
    "![NiN Network](./images/nin.svg)\n",
    "\n",
    "NiN网络中，取消了后面的全连接层，取而代之的是2个地方的变化:\n",
    "\n",
    "1. 卷积层后面都接了2个$1\\times1$的卷积层，起到了全连接层的作用，它实际是把通道维度看为特征维度，把每个像素点看成一个独立的样本，保持空间关系。\n",
    "2. 在网络的最后，通过一个全局池化层，将整个featuremap，压成了$1\\times1$的尺寸，同时通道维的长度等于最终我们要分类和类别数。\n",
    "\n",
    "NiN网络中交替使用NiN块和步幅为2的最大池化层，逐步减小高宽和增大通道数,  NiNBlock中两个连接的$1\\times1$卷积，增加了像素的非线性性。**NiN具有更少的参数，不容易过拟合**。\n",
    "\n",
    "扩展阅读：http://teleported.in/posts/network-in-network/"
   ]
  },
  {
   "cell_type": "code",
   "execution_count": 5,
   "id": "d8cbd4c6-4017-4315-ab6c-748a9d1620a4",
   "metadata": {},
   "outputs": [],
   "source": [
    "def NiNBlock(in_channels, out_channels, kernel_size, stride=1, padding=0):\n",
    "    return nn.Sequential(\n",
    "        nn.Conv2d(in_channels, out_channels, kernel_size,\n",
    "                  stride=stride, padding=padding), nn.ReLU(),\n",
    "        nn.Conv2d(out_channels, out_channels, kernel_size=1), nn.ReLU(),\n",
    "        nn.Conv2d(out_channels, out_channels, kernel_size=1), nn.ReLU()\n",
    "    )"
   ]
  },
  {
   "cell_type": "code",
   "execution_count": 6,
   "id": "e5624287-ec53-4440-87bd-4191b8932f53",
   "metadata": {},
   "outputs": [],
   "source": [
    "NiN = nn.Sequential(\n",
    "    NiNBlock(3, 96, kernel_size=11, stride=4),\n",
    "    nn.MaxPool2d(kernel_size=3, stride=2),\n",
    "    NiNBlock(96, 256, kernel_size=5, padding=2),\n",
    "    nn.MaxPool2d(kernel_size=3, stride=2),\n",
    "    NiNBlock(256, 384, kernel_size=3, padding=1),\n",
    "    nn.MaxPool2d(kernel_size=3, stride=2),\n",
    "    NiNBlock(384, 10, kernel_size=3, padding=1),\n",
    "    nn.AdaptiveAvgPool2d(output_size=(1, 1)),\n",
    "    nn.Flatten()\n",
    ")"
   ]
  },
  {
   "cell_type": "code",
   "execution_count": 10,
   "id": "897e919c-767f-4bfa-b46a-46830a6a5958",
   "metadata": {
    "execution": {
     "iopub.execute_input": "2021-05-31T05:11:15.095586Z",
     "iopub.status.busy": "2021-05-31T05:11:15.095330Z",
     "iopub.status.idle": "2021-05-31T05:11:15.118409Z",
     "shell.execute_reply": "2021-05-31T05:11:15.117706Z",
     "shell.execute_reply.started": "2021-05-31T05:11:15.095561Z"
    }
   },
   "outputs": [
    {
     "name": "stdout",
     "output_type": "stream",
     "text": [
      "Sequential: torch.Size([1, 96, 54, 54])\n",
      "MaxPool2d: torch.Size([1, 96, 26, 26])\n",
      "Sequential: torch.Size([1, 256, 26, 26])\n",
      "MaxPool2d: torch.Size([1, 256, 12, 12])\n",
      "Sequential: torch.Size([1, 384, 12, 12])\n",
      "MaxPool2d: torch.Size([1, 384, 5, 5])\n",
      "Sequential: torch.Size([1, 10, 5, 5])\n",
      "AdaptiveAvgPool2d: torch.Size([1, 10, 1, 1])\n",
      "Flatten: torch.Size([1, 10])\n"
     ]
    }
   ],
   "source": [
    "x = torch.randn(1, 3, 224, 224)\n",
    "for m in NiN:\n",
    "    x = m(x)\n",
    "    print(f'{m.__class__.__name__}: {x.shape}')"
   ]
  },
  {
   "cell_type": "code",
   "execution_count": 15,
   "id": "2d557730-8375-41a8-917a-307133d0c543",
   "metadata": {},
   "outputs": [
    {
     "name": "stdout",
     "output_type": "stream",
     "text": [
      "the loss of epoch 0: 2.1550, accuracy on training set: 0.2004, accuracy on testing set: 0.3644\n",
      "the loss of epoch 1: 1.4316, accuracy on training set: 0.4384, accuracy on testing set: 0.5659\n",
      "the loss of epoch 2: 0.9471, accuracy on training set: 0.6380, accuracy on testing set: 0.6454\n",
      "the loss of epoch 3: 0.6590, accuracy on training set: 0.7473, accuracy on testing set: 0.7694\n",
      "the loss of epoch 4: 0.5818, accuracy on training set: 0.7802, accuracy on testing set: 0.7310\n",
      "the loss of epoch 5: 0.4962, accuracy on training set: 0.8148, accuracy on testing set: 0.7879\n",
      "the loss of epoch 6: 0.4453, accuracy on training set: 0.8366, accuracy on testing set: 0.8355\n",
      "the loss of epoch 7: 0.4102, accuracy on training set: 0.8486, accuracy on testing set: 0.8473\n",
      "the loss of epoch 8: 0.3777, accuracy on training set: 0.8597, accuracy on testing set: 0.8623\n",
      "the loss of epoch 9: 0.3538, accuracy on training set: 0.8677, accuracy on testing set: 0.8561\n"
     ]
    },
    {
     "data": {
      "image/png": "[encoded data removed]",
      "text/plain": [
       "<Figure size 432x288 with 1 Axes>"
      ]
     },
     "metadata": {
      "needs_background": "light"
     },
     "output_type": "display_data"
    }
   ],
   "source": [
    "batch_size = 128\n",
    "learning_rate = 0.1\n",
    "epoch = 10\n",
    "device = torch.device('cuda:3')\n",
    "\n",
    "training_iter = torch.utils.data.DataLoader(\n",
    "    training_data_224, batch_size=batch_size, shuffle=True)\n",
    "testing_iter = torch.utils.data.DataLoader(\n",
    "    testing_data_224, batch_size=batch_size)\n",
    "\n",
    "# 这里是vgg11的一个简化版的模型，卷积的通道数都降低了4倍，全连接层也降低了\n",
    "model = nn.Sequential(\n",
    "    NiNBlock(1, 96, kernel_size=11, stride=4),\n",
    "    nn.MaxPool2d(kernel_size=3, stride=2),\n",
    "    NiNBlock(96, 256, kernel_size=5, padding=2),\n",
    "    nn.MaxPool2d(kernel_size=3, stride=2),\n",
    "    NiNBlock(256, 384, kernel_size=3, padding=1),\n",
    "    nn.MaxPool2d(kernel_size=3, stride=2),\n",
    "    NiNBlock(384, 10, kernel_size=3, padding=1),\n",
    "    nn.AdaptiveAvgPool2d(output_size=(1, 1)),\n",
    "    nn.Flatten()\n",
    ")\n",
    "\n",
    "\n",
    "def parameters_init(m):\n",
    "    if type(m) == nn.Linear or type(m) == nn.Conv2d:\n",
    "        nn.init.xavier_uniform_(m.weight)\n",
    "\n",
    "\n",
    "model.apply(parameters_init)\n",
    "model = model.to(device)\n",
    "loss = nn.CrossEntropyLoss()\n",
    "optimizer = torch.optim.SGD(model.parameters(), lr=learning_rate)\n",
    "train(training_iter, testing_iter, model, loss,\n",
    "      optimizer, device=device, epoch=epoch, plot=True)"
   ]
  },
  {
   "cell_type": "markdown",
   "id": "81e71bfd-23b4-4cf6-913e-4e81a8ef2ab6",
   "metadata": {},
   "source": [
    "# GoogleNet / Inception\n",
    "\n",
    "在2014年的ImageNet图像识别挑战赛中，一个名叫GoogLeNet的网络结构大放异彩。 GoogLeNet吸收了NiN中串联网络的思想，并在此基础上做了改进。 这篇论文的一个重点是解决了什么样大小的卷积核最合适的问题。毕竟，以前流行的网络使用小到1x1，大到11x11的卷积核。\n",
    "\n",
    "论文中的核心思想：[扩展阅读](https://zhuanlan.zhihu.com/p/32702031)\n",
    "\n",
    "本文的一个观点是，**有时使用不同大小的卷积核组合是有利的**。\n",
    "\n",
    "![Inception Block](./images/inception.svg)"
   ]
  },
  {
   "cell_type": "markdown",
   "id": "d581bb49-377f-4d63-bef1-532604e05b5e",
   "metadata": {},
   "source": [
    "## Inception块\n",
    "\n",
    "Inception块由四条并行路径组成。 前三条路径使用窗口大小为1x1、3x3和5x5的卷积层，从不同空间大小中提取信息。 中间的两条路径在输入上执行1x1卷积，以减少通道数，从而降低模型的复杂性。 第四条路径使用3x3最大池化层，然后使用1x1卷积层来改变通道数。 这四条路径都使用合适的填充来使输入与输出的高和宽一致，最后我们将每条线路的输出在通道维度上连结，并构成Inception块的输出。在Inception块中，通常调整的超参数是每层输出通道的数量。\n",
    "\n",
    "Inception块相比于AlexNet和VGG中对应的结构的卷积（相同channel数），参数量更少。"
   ]
  },
  {
   "cell_type": "code",
   "execution_count": 18,
   "id": "48cecc17-55b2-43d3-9df6-45dd85172486",
   "metadata": {
    "execution": {
     "iopub.execute_input": "2021-06-01T01:27:19.678554Z",
     "iopub.status.busy": "2021-06-01T01:27:19.678396Z",
     "iopub.status.idle": "2021-06-01T01:27:19.684237Z",
     "shell.execute_reply": "2021-06-01T01:27:19.683738Z",
     "shell.execute_reply.started": "2021-06-01T01:27:19.678537Z"
    },
    "tags": []
   },
   "outputs": [],
   "source": [
    "class Inception(nn.Module):\n",
    "    def __init__(self, in_channels, c1, c2, c3, c4, **kwargs):\n",
    "        super().__init__(**kwargs)\n",
    "        self.conv1 = nn.Conv2d(in_channels, c1, kernel_size=1)\n",
    "        self.conv21 = nn.Conv2d(in_channels, c2[0], kernel_size=1)\n",
    "        self.conv22 = nn.Conv2d(c2[0], c2[1], kernel_size=3, padding=1)\n",
    "        self.conv31 = nn.Conv2d(in_channels, c3[0], kernel_size=1)\n",
    "        self.conv32 = nn.Conv2d(c3[0], c3[1], kernel_size=5, padding=2)\n",
    "        self.maxpool = nn.MaxPool2d(kernel_size=3, stride=1, padding=1)\n",
    "        self.conv4 = nn.Conv2d(in_channels, c4, kernel_size=1)\n",
    "\n",
    "    def forward(self, x):\n",
    "        p1 = F.relu(self.conv1(x))\n",
    "        p2 = F.relu(self.conv22(F.relu(self.conv21(x))))\n",
    "        p3 = F.relu(self.conv32(F.relu(self.conv31(x))))\n",
    "        p4 = F.relu(self.conv4(self.maxpool(x)))\n",
    "        return torch.cat([p1, p2, p3, p4], dim=1)"
   ]
  },
  {
   "cell_type": "markdown",
   "id": "6d838170-e302-4c87-ac65-c11a21622731",
   "metadata": {},
   "source": [
    "那么为什么GoogLeNet这个网络如此有效呢？ \n",
    "\n",
    "首先我们考虑一下滤波器（filter）的组合，它们可以用各种滤波器尺寸探索图像，这意味着不同大小的滤波器可以有效地识别不同范围的图像细节。 同时，我们可以为不同的滤波器分配不同数量的参数。\n",
    "\n",
    "GoogLeNet 一共使用9个Inception块和全局平均池化层的堆叠来生成其估计值。Inception块之间的最大池化层可降低维度。 第一个模块类似于AlexNet和LeNet，全局平均池化层避免了在最后使用全连接层。\n",
    "\n",
    "整个GoogleNet大的结构上与VGG类型，有5个阶段组成，每个阶段差不多都是往空间尺寸降低一倍左右，通道数增加1倍左右。Googlnet虽然像NiN一样使用了全局池化层，但是最后还是用了一层全连接层。\n",
    "\n",
    "GoogleNet的每个阶段里，Inception的参数没有什么明显的规律，这些超参数可能是基于大量的实验测试出来的。\n",
    "\n",
    "![GoogleNet](./images/GoogLeNet.png)"
   ]
  },
  {
   "cell_type": "code",
   "execution_count": 27,
   "id": "c5c45ffc-919b-44d2-9ba9-43ccc4723a6a",
   "metadata": {
    "execution": {
     "iopub.execute_input": "2021-06-01T02:03:53.102821Z",
     "iopub.status.busy": "2021-06-01T02:03:53.102674Z",
     "iopub.status.idle": "2021-06-01T02:03:53.165889Z",
     "shell.execute_reply": "2021-06-01T02:03:53.165491Z",
     "shell.execute_reply.started": "2021-06-01T02:03:53.102804Z"
    },
    "tags": []
   },
   "outputs": [],
   "source": [
    "s1 = nn.Sequential(nn.Conv2d(3, 64, kernel_size=7, stride=2, padding=3), nn.ReLU(),\n",
    "                   nn.MaxPool2d(kernel_size=3, stride=2, padding=1))\n",
    "\n",
    "s2 = nn.Sequential(nn.Conv2d(64, 64, kernel_size=1), nn.ReLU(),\n",
    "                   nn.Conv2d(64, 192, kernel_size=3, padding=1), nn.ReLU(),\n",
    "                   nn.MaxPool2d(kernel_size=3, stride=2, padding=1))\n",
    "\n",
    "s3 = nn.Sequential(Inception(192, 64, (96, 128), (16, 32), 32),\n",
    "                   Inception(256, 128, (128, 192), (32, 96), 64),\n",
    "                   nn.MaxPool2d(kernel_size=3, stride=2, padding=1))\n",
    "\n",
    "s4 = nn.Sequential(Inception(480, 192, (96, 208), (16, 48), 64),\n",
    "                   Inception(512, 160, (112, 224), (24, 64), 64),\n",
    "                   Inception(512, 128, (128, 256), (24, 64), 64),\n",
    "                   Inception(512, 112, (144, 288), (32, 64), 64),\n",
    "                   Inception(528, 256, (160, 320), (32, 128), 128),\n",
    "                   nn.MaxPool2d(kernel_size=3, stride=2, padding=1))\n",
    "\n",
    "s5 = nn.Sequential(Inception(832, 256, (160, 320), (32, 128), 128),\n",
    "                   Inception(832, 384, (192, 384), (48, 128), 128),\n",
    "                   nn.AdaptiveAvgPool2d((1, 1)),\n",
    "                   nn.Flatten())\n",
    "\n",
    "GoogLeNet=nn.Sequential(s1, s2, s3, s4, s5, nn.Linear(1024, 1000))"
   ]
  },
  {
   "cell_type": "code",
   "execution_count": 28,
   "id": "accdfb41-ea11-4fef-92be-68f089207f6c",
   "metadata": {
    "execution": {
     "iopub.execute_input": "2021-06-01T02:03:55.331487Z",
     "iopub.status.busy": "2021-06-01T02:03:55.331342Z",
     "iopub.status.idle": "2021-06-01T02:03:55.428156Z",
     "shell.execute_reply": "2021-06-01T02:03:55.427557Z",
     "shell.execute_reply.started": "2021-06-01T02:03:55.331471Z"
    },
    "tags": []
   },
   "outputs": [
    {
     "name": "stdout",
     "output_type": "stream",
     "text": [
      "Sequential: torch.Size([1, 64, 56, 56])\n",
      "Sequential: torch.Size([1, 192, 28, 28])\n",
      "Sequential: torch.Size([1, 480, 14, 14])\n",
      "Sequential: torch.Size([1, 832, 7, 7])\n",
      "Sequential: torch.Size([1, 1024])\n",
      "Linear: torch.Size([1, 1000])\n"
     ]
    }
   ],
   "source": [
    "x = torch.randn(1, 3, 224, 224)\n",
    "for m in GoogLeNet:\n",
    "    x = m(x)\n",
    "    print(f'{m.__class__.__name__}: {x.shape}')"
   ]
  },
  {
   "cell_type": "markdown",
   "id": "8a457adf-eb6e-4d96-93ee-c619d65f2c73",
   "metadata": {},
   "source": [
    "## Inception后续变种\n",
    "\n",
    "- Inception-BN(v2): 使用batch normalization\n",
    "- Inception-V3: 修改了Inception块\n",
    "  - 阶段3中替换5x5为多个3x3卷积层\n",
    "  - 阶段4中替换5x5为1x7和7x1卷积层\n",
    "  - 阶段5中替换3x3为1x3和3x1的卷积层\n",
    "  - 更深\n",
    "- Inception v4: 使用残差连接"
   ]
  },
  {
   "cell_type": "markdown",
   "id": "610c66d2-c1a0-4cf6-8f2c-0e0f4ccefd03",
   "metadata": {},
   "source": [
    "下面我们将GoogleNet的输入channel改为3，其他的都没有调整，在我们的放大的FashionMNIST数据集上进行测试。"
   ]
  },
  {
   "cell_type": "code",
   "execution_count": 29,
   "id": "b51205f0-0658-4a78-b7ae-d95c10949a9f",
   "metadata": {
    "execution": {
     "iopub.execute_input": "2021-06-01T02:05:17.355628Z",
     "iopub.status.busy": "2021-06-01T02:05:17.355380Z",
     "iopub.status.idle": "2021-06-01T02:39:14.662544Z",
     "shell.execute_reply": "2021-06-01T02:39:14.662063Z",
     "shell.execute_reply.started": "2021-06-01T02:05:17.355609Z"
    }
   },
   "outputs": [
    {
     "name": "stdout",
     "output_type": "stream",
     "text": [
      "the loss of epoch 0: 2.5413, accuracy on training set: 0.1011, accuracy on testing set: 0.1003\n",
      "the loss of epoch 1: 2.1268, accuracy on training set: 0.1897, accuracy on testing set: 0.4721\n",
      "the loss of epoch 2: 1.0403, accuracy on training set: 0.5810, accuracy on testing set: 0.5896\n",
      "the loss of epoch 3: 0.6739, accuracy on training set: 0.7446, accuracy on testing set: 0.7631\n",
      "the loss of epoch 4: 0.5067, accuracy on training set: 0.8134, accuracy on testing set: 0.8160\n",
      "the loss of epoch 5: 0.4391, accuracy on training set: 0.8374, accuracy on testing set: 0.8424\n",
      "the loss of epoch 6: 0.3971, accuracy on training set: 0.8515, accuracy on testing set: 0.8406\n",
      "the loss of epoch 7: 0.3561, accuracy on training set: 0.8674, accuracy on testing set: 0.8688\n",
      "the loss of epoch 8: 0.3295, accuracy on training set: 0.8758, accuracy on testing set: 0.8797\n",
      "the loss of epoch 9: 0.3087, accuracy on training set: 0.8834, accuracy on testing set: 0.8852\n"
     ]
    },
    {
     "data": {
      "image/png": "[encoded data removed]",
      "text/plain": [
       "<Figure size 432x288 with 1 Axes>"
      ]
     },
     "metadata": {
      "needs_background": "light"
     },
     "output_type": "display_data"
    }
   ],
   "source": [
    "batch_size = 128\n",
    "learning_rate = 0.1\n",
    "epoch = 10\n",
    "device = torch.device('cuda:3')\n",
    "\n",
    "training_iter = torch.utils.data.DataLoader(\n",
    "    training_data_224, batch_size=batch_size, shuffle=True)\n",
    "testing_iter = torch.utils.data.DataLoader(\n",
    "    testing_data_224, batch_size=batch_size)\n",
    "\n",
    "s1 = nn.Sequential(nn.Conv2d(1, 64, kernel_size=7, stride=2, padding=3), nn.ReLU(),\n",
    "                   nn.MaxPool2d(kernel_size=3, stride=2, padding=1))\n",
    "\n",
    "s2 = nn.Sequential(nn.Conv2d(64, 64, kernel_size=1), nn.ReLU(),\n",
    "                   nn.Conv2d(64, 192, kernel_size=3, padding=1), nn.ReLU(),\n",
    "                   nn.MaxPool2d(kernel_size=3, stride=2, padding=1))\n",
    "\n",
    "s3 = nn.Sequential(Inception(192, 64, (96, 128), (16, 32), 32),\n",
    "                   Inception(256, 128, (128, 192), (32, 96), 64),\n",
    "                   nn.MaxPool2d(kernel_size=3, stride=2, padding=1))\n",
    "\n",
    "s4 = nn.Sequential(Inception(480, 192, (96, 208), (16, 48), 64),\n",
    "                   Inception(512, 160, (112, 224), (24, 64), 64),\n",
    "                   Inception(512, 128, (128, 256), (24, 64), 64),\n",
    "                   Inception(512, 112, (144, 288), (32, 64), 64),\n",
    "                   Inception(528, 256, (160, 320), (32, 128), 128),\n",
    "                   nn.MaxPool2d(kernel_size=3, stride=2, padding=1))\n",
    "\n",
    "s5 = nn.Sequential(Inception(832, 256, (160, 320), (32, 128), 128),\n",
    "                   Inception(832, 384, (192, 384), (48, 128), 128),\n",
    "                   nn.AdaptiveAvgPool2d((1, 1)),\n",
    "                   nn.Flatten())\n",
    "\n",
    "model=nn.Sequential(s1, s2, s3, s4, s5, nn.Linear(1024, 1000))\n",
    "\n",
    "def parameters_init(m):\n",
    "    if type(m) == nn.Linear or type(m) == nn.Conv2d:\n",
    "        nn.init.xavier_uniform_(m.weight)\n",
    "\n",
    "\n",
    "model.apply(parameters_init)\n",
    "model = model.to(device)\n",
    "loss = nn.CrossEntropyLoss()\n",
    "optimizer = torch.optim.SGD(model.parameters(), lr=learning_rate)\n",
    "train(training_iter, testing_iter, model, loss,\n",
    "      optimizer, device=device, epoch=epoch, plot=True)"
   ]
  },
  {
   "cell_type": "markdown",
   "id": "4fb63f80-21b3-4222-868f-9cfd38bcba64",
   "metadata": {},
   "source": [
    "# ResNet\n",
    "\n",
    "Resnet核心解决的问题是：在网络做的逐步加深的时候，如何让一个加深的结构至少不能比没加深之前差，这样不断加深网络，就一定会得到效果上的提升。\n",
    "\n",
    "![](./images/functionclasses.svg)\n",
    "\n",
    "ResNet的深入学习文章：[ResNet详解与分析](https://www.cnblogs.com/shine-lee/p/12363488.html)"
   ]
  },
  {
   "cell_type": "markdown",
   "id": "a12641f1-9117-414b-b418-f6ccd9b29a24",
   "metadata": {
    "execution": {
     "iopub.execute_input": "2021-06-04T06:51:34.719380Z",
     "iopub.status.busy": "2021-06-04T06:51:34.719215Z",
     "iopub.status.idle": "2021-06-04T06:51:34.854780Z",
     "shell.execute_reply": "2021-06-04T06:51:34.854312Z",
     "shell.execute_reply.started": "2021-06-04T06:51:34.719359Z"
    },
    "tags": []
   },
   "source": [
    "![resnet block](./images/resnet-block.svg)"
   ]
  },
  {
   "cell_type": "code",
   "execution_count": 41,
   "id": "f0cf465b-5a5f-4553-b415-79ce34c1da89",
   "metadata": {
    "execution": {
     "iopub.execute_input": "2021-06-04T07:12:54.711460Z",
     "iopub.status.busy": "2021-06-04T07:12:54.711237Z",
     "iopub.status.idle": "2021-06-04T07:12:54.716707Z",
     "shell.execute_reply": "2021-06-04T07:12:54.716260Z",
     "shell.execute_reply.started": "2021-06-04T07:12:54.711436Z"
    },
    "tags": []
   },
   "outputs": [],
   "source": [
    "class ResidualBlock(nn.Module):\n",
    "    def __init__(self, in_channels, out_channels, stride=1, use_1x1conv=False):\n",
    "        super().__init__()\n",
    "        self.conv1 = nn.Conv2d(in_channels, out_channels, kernel_size=3, padding=1, stride=stride)\n",
    "        self.bn1 = nn.BatchNorm2d(out_channels)\n",
    "        self.conv2 = nn.Conv2d(out_channels, out_channels, kernel_size=3, padding=1)\n",
    "        self.bn2 = nn.BatchNorm2d(out_channels)\n",
    "        if use_1x1conv:\n",
    "            self.conv3 = nn.Conv2d(in_channels, out_channels, kernel_size=1, stride=stride)\n",
    "        else:\n",
    "            self.conv3 = None\n",
    "    def forward(self, x):\n",
    "        output = self.bn2(self.conv2(F.relu(self.bn1(self.conv1(x)))))\n",
    "        if self.conv3:\n",
    "            x = self.conv3(x)\n",
    "        return F.relu(output + x)"
   ]
  },
  {
   "cell_type": "code",
   "execution_count": 42,
   "id": "3e4ced5c-3fcd-4b40-ac16-f75727a2956d",
   "metadata": {
    "execution": {
     "iopub.execute_input": "2021-06-04T07:12:55.092654Z",
     "iopub.status.busy": "2021-06-04T07:12:55.092504Z",
     "iopub.status.idle": "2021-06-04T07:12:55.099359Z",
     "shell.execute_reply": "2021-06-04T07:12:55.098922Z",
     "shell.execute_reply.started": "2021-06-04T07:12:55.092636Z"
    },
    "tags": []
   },
   "outputs": [
    {
     "data": {
      "text/plain": [
       "torch.Size([1, 16, 32, 32])"
      ]
     },
     "execution_count": 42,
     "metadata": {},
     "output_type": "execute_result"
    }
   ],
   "source": [
    "block = ResBlock(3, 16, 1, True)\n",
    "x = torch.randn(1, 3, 32, 32)\n",
    "block(x).shape"
   ]
  },
  {
   "cell_type": "code",
   "execution_count": 43,
   "id": "6f336bea-0f7e-4e51-b7dc-41084b9051b6",
   "metadata": {
    "execution": {
     "iopub.execute_input": "2021-06-04T07:12:55.904466Z",
     "iopub.status.busy": "2021-06-04T07:12:55.904298Z",
     "iopub.status.idle": "2021-06-04T07:12:55.986558Z",
     "shell.execute_reply": "2021-06-04T07:12:55.986189Z",
     "shell.execute_reply.started": "2021-06-04T07:12:55.904449Z"
    },
    "tags": []
   },
   "outputs": [],
   "source": [
    "s1 = nn.Sequential(\n",
    "    nn.Conv2d(3, 64, kernel_size=7, padding=3, stride=2),\n",
    "    nn.BatchNorm2d(num_features=64),\n",
    "    nn.ReLU()\n",
    ")\n",
    "s2 = nn.Sequential(\n",
    "    nn.MaxPool2d(kernel_size=3, padding=1, stride=2),\n",
    "    ResidualBlock(64, 64),\n",
    "    ResidualBlock(64, 64),\n",
    ")\n",
    "s3 = nn.Sequential(\n",
    "    ResidualBlock(64, 128, stride=2, use_1x1conv=True),\n",
    "    ResidualBlock(128, 128),\n",
    ")\n",
    "s4 = nn.Sequential(\n",
    "    ResidualBlock(128, 256, stride=2, use_1x1conv=True),\n",
    "    ResidualBlock(256, 256),\n",
    ")\n",
    "s5 = nn.Sequential(\n",
    "    ResidualBlock(256, 512, stride=2, use_1x1conv=True),\n",
    "    ResidualBlock(512, 512),\n",
    ")\n",
    "Resnet18 = nn.Sequential(\n",
    "    s1, s2, s3, s4, s5,\n",
    "    nn.AdaptiveAvgPool2d((1, 1)),\n",
    "    nn.Flatten(),\n",
    "    nn.Linear(512, 1000)\n",
    ")"
   ]
  },
  {
   "cell_type": "code",
   "execution_count": 44,
   "id": "899758d9-7996-47f5-9a51-9fefa40cff42",
   "metadata": {
    "execution": {
     "iopub.execute_input": "2021-06-04T07:12:58.026157Z",
     "iopub.status.busy": "2021-06-04T07:12:58.026005Z",
     "iopub.status.idle": "2021-06-04T07:12:58.058548Z",
     "shell.execute_reply": "2021-06-04T07:12:58.057295Z",
     "shell.execute_reply.started": "2021-06-04T07:12:58.026131Z"
    },
    "tags": []
   },
   "outputs": [
    {
     "name": "stdout",
     "output_type": "stream",
     "text": [
      "Sequential: torch.Size([1, 64, 112, 112])\n",
      "Sequential: torch.Size([1, 64, 56, 56])\n",
      "Sequential: torch.Size([1, 128, 28, 28])\n",
      "Sequential: torch.Size([1, 256, 14, 14])\n",
      "Sequential: torch.Size([1, 512, 7, 7])\n",
      "AdaptiveAvgPool2d: torch.Size([1, 512, 1, 1])\n",
      "Flatten: torch.Size([1, 512])\n",
      "Linear: torch.Size([1, 1000])\n"
     ]
    }
   ],
   "source": [
    "x = torch.randn(1, 3, 224, 224)\n",
    "for m in Resnet18:\n",
    "    x = m(x)\n",
    "    print(f'{m.__class__.__name__}: {x.shape}')"
   ]
  },
  {
   "cell_type": "code",
   "execution_count": 45,
   "id": "e59ed803-9503-4ed5-9268-a28124b1f362",
   "metadata": {
    "execution": {
     "iopub.execute_input": "2021-06-04T07:13:02.332904Z",
     "iopub.status.busy": "2021-06-04T07:13:02.332739Z",
     "iopub.status.idle": "2021-06-04T07:41:44.286995Z",
     "shell.execute_reply": "2021-06-04T07:41:44.286420Z",
     "shell.execute_reply.started": "2021-06-04T07:13:02.332885Z"
    }
   },
   "outputs": [
    {
     "name": "stdout",
     "output_type": "stream",
     "text": [
      "the loss of epoch 0: 0.5578, accuracy on training set: 0.8174, accuracy on testing set: 0.8676\n",
      "the loss of epoch 1: 0.2608, accuracy on training set: 0.9045, accuracy on testing set: 0.8929\n",
      "the loss of epoch 2: 0.2012, accuracy on training set: 0.9277, accuracy on testing set: 0.9022\n",
      "the loss of epoch 3: 0.1620, accuracy on training set: 0.9406, accuracy on testing set: 0.9218\n",
      "the loss of epoch 4: 0.1274, accuracy on training set: 0.9534, accuracy on testing set: 0.9185\n",
      "the loss of epoch 5: 0.0985, accuracy on training set: 0.9642, accuracy on testing set: 0.9170\n",
      "the loss of epoch 6: 0.0680, accuracy on training set: 0.9767, accuracy on testing set: 0.9179\n",
      "the loss of epoch 7: 0.0451, accuracy on training set: 0.9850, accuracy on testing set: 0.9166\n",
      "the loss of epoch 8: 0.0296, accuracy on training set: 0.9906, accuracy on testing set: 0.9266\n",
      "the loss of epoch 9: 0.0182, accuracy on training set: 0.9946, accuracy on testing set: 0.9230\n"
     ]
    },
    {
     "data": {
      "image/png": "[encoded data removed]",
      "text/plain": [
       "<Figure size 432x288 with 1 Axes>"
      ]
     },
     "metadata": {
      "needs_background": "light"
     },
     "output_type": "display_data"
    }
   ],
   "source": [
    "batch_size = 128\n",
    "learning_rate = 0.1\n",
    "epoch = 10\n",
    "device = torch.device('cuda:3')\n",
    "\n",
    "training_iter = torch.utils.data.DataLoader(\n",
    "    training_data_224, batch_size=batch_size, shuffle=True)\n",
    "testing_iter = torch.utils.data.DataLoader(\n",
    "    testing_data_224, batch_size=batch_size)\n",
    "\n",
    "s1 = nn.Sequential(\n",
    "    nn.Conv2d(1, 64, kernel_size=7, padding=3, stride=2),\n",
    "    nn.BatchNorm2d(num_features=64),\n",
    "    nn.ReLU()\n",
    ")\n",
    "\n",
    "model=nn.Sequential(s1, s2, s3, s4, s5, nn.AdaptiveAvgPool2d((1, 1)),\n",
    "    nn.Flatten(),\n",
    "    nn.Linear(512, 10))\n",
    "\n",
    "def parameters_init(m):\n",
    "    if type(m) == nn.Linear or type(m) == nn.Conv2d:\n",
    "        nn.init.xavier_uniform_(m.weight)\n",
    "\n",
    "\n",
    "model.apply(parameters_init)\n",
    "model = model.to(device)\n",
    "loss = nn.CrossEntropyLoss()\n",
    "optimizer = torch.optim.SGD(model.parameters(), lr=learning_rate)\n",
    "train(training_iter, testing_iter, model, loss,\n",
    "      optimizer, device=device, epoch=epoch, plot=True)"
   ]
  }
 ],
 "metadata": {
  "kernelspec": {
   "display_name": "Python 3",
   "language": "python",
   "name": "python3"
  },
  "language_info": {
   "codemirror_mode": {
    "name": "ipython",
    "version": 3
   },
   "file_extension": ".py",
   "mimetype": "text/x-python",
   "name": "python",
   "nbconvert_exporter": "python",
   "pygments_lexer": "ipython3",
   "version": "3.8.8"
  }
 },
 "nbformat": 4,
 "nbformat_minor": 5
}
