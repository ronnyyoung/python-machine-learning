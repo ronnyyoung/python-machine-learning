{
 "cells": [
  {
   "cell_type": "markdown",
   "id": "f3bd984a-c679-4c28-872d-c561efa42471",
   "metadata": {},
   "source": [
    "#　卷积神经网络中的经典数据结构\n",
    "\n",
    "\n",
    "- LeNet\n",
    "- AlexNet\n",
    "- VGG\n",
    "- ResNet\n"
   ]
  },
  {
   "cell_type": "code",
   "execution_count": 1,
   "id": "d9ed5d95-19fb-44da-bc60-7f2abd3be56d",
   "metadata": {},
   "outputs": [],
   "source": [
    "import torch\n",
    "import torchvision\n",
    "from torch import nn\n",
    "import matplotlib.pyplot as plt"
   ]
  },
  {
   "cell_type": "markdown",
   "id": "d5d11afb-4afc-4fc2-b5c9-d109fa32b21b",
   "metadata": {},
   "source": [
    "# 加载FashiMNist数据集"
   ]
  },
  {
   "cell_type": "code",
   "execution_count": 2,
   "id": "a385d05f-74e5-48dc-9571-42d28dc7f551",
   "metadata": {},
   "outputs": [],
   "source": [
    "transforms = torchvision.transforms.ToTensor()\n",
    "training_data = torchvision.datasets.FashionMNIST(\n",
    "    root='./data/',\n",
    "    train=True,\n",
    "    download=True,\n",
    "    transform=transforms\n",
    ")\n",
    "testing_data = torchvision.datasets.FashionMNIST(\n",
    "    root='./data/',\n",
    "    train=False,\n",
    "    download=True,\n",
    "    transform=transforms\n",
    ")"
   ]
  },
  {
   "cell_type": "markdown",
   "id": "09d261d6-c9a7-4d8d-940f-3432305f7fe8",
   "metadata": {},
   "source": [
    "# 辅助函数"
   ]
  },
  {
   "cell_type": "code",
   "execution_count": 3,
   "id": "d4e743ed-009f-4047-8201-32e9516a75eb",
   "metadata": {},
   "outputs": [],
   "source": [
    "def accuracy(y_hat, y):\n",
    "    max_indices = torch.max(y_hat, dim=1)[1]\n",
    "    return (y == max_indices).to(dtype=torch.float32).mean()\n",
    "\n",
    "\n",
    "def accuracy_on(model, data_iter):\n",
    "    acc = []\n",
    "    for X, y in data_iter:\n",
    "        X, y = X.to(device), y.to(device)\n",
    "        y_hat = model(X)\n",
    "        acc.append(accuracy(y_hat, y))\n",
    "    return torch.tensor(acc).mean().item()\n",
    "\n",
    "\n",
    "def train(training_iter, testing_iter, model, loss, optimizer, device, epoch=20, plot=True):\n",
    "    training_loss = []\n",
    "    training_acc = []\n",
    "    testing_acc = []\n",
    "    for i in range(epoch):\n",
    "        epoch_loss = 0\n",
    "        epoch_acc = 0\n",
    "        for X, y in training_iter:\n",
    "            X, y = X.to(device), y.to(device)\n",
    "            y_hat = model(X)\n",
    "            l = loss(y_hat, y)\n",
    "            epoch_loss += l.item()\n",
    "            epoch_acc += accuracy(y_hat, y)\n",
    "            optimizer.zero_grad()\n",
    "            l.backward()\n",
    "            optimizer.step()\n",
    "        training_loss.append(epoch_loss / len(training_iter))\n",
    "        training_acc.append(epoch_acc / len(training_iter))\n",
    "        testing_acc.append(accuracy_on(model, testing_iter))\n",
    "        print(\n",
    "            f'the loss of epoch {i}: {training_loss[-1]:.4f}, accuracy on training set: {training_acc[-1]:.4f}, accuracy on testing set: {testing_acc[-1]:.4f}')\n",
    "    if plot == False:\n",
    "        return\n",
    "    plt.plot(training_loss, label='training_loss')\n",
    "    plt.plot(training_acc, label='training_acc')\n",
    "    plt.plot(testing_acc, label='testing_acc')\n",
    "    plt.legend()\n",
    "    plt.show()"
   ]
  },
  {
   "cell_type": "markdown",
   "id": "6fa9cf35-5572-4271-9969-d264b15e1519",
   "metadata": {},
   "source": [
    "# 构建LeNet模型\n",
    "\n",
    "<img src='./images/lenet.svg' width=900>\n",
    "\n",
    "- 默认结构下，必须使用大的学习率>0.5，如果使用0.1，则模型训练的非常慢，至少要10个epoch以上\n",
    "- 如果Conv后不加Sigmoid，则可以使用学习率0.1即可。\n",
    "- 原来尝试的batch_size是256，acc只能到85%左右，后来不经意调整为了25，发现acc轻松到90"
   ]
  },
  {
   "cell_type": "code",
   "execution_count": 4,
   "id": "6995010a-5d23-43e5-ba56-a66a3f1e64cf",
   "metadata": {},
   "outputs": [
    {
     "name": "stdout",
     "output_type": "stream",
     "text": [
      "the loss of epoch 0: 2.3112, accuracy on training set: 0.1029, accuracy on testing set: 0.1004\n",
      "the loss of epoch 1: 1.8850, accuracy on training set: 0.2606, accuracy on testing set: 0.5574\n",
      "the loss of epoch 2: 0.7332, accuracy on training set: 0.7135, accuracy on testing set: 0.7684\n",
      "the loss of epoch 3: 0.5490, accuracy on training set: 0.7868, accuracy on testing set: 0.7317\n",
      "the loss of epoch 4: 0.4768, accuracy on training set: 0.8201, accuracy on testing set: 0.7759\n",
      "the loss of epoch 5: 0.4338, accuracy on training set: 0.8374, accuracy on testing set: 0.7898\n",
      "the loss of epoch 6: 0.4025, accuracy on training set: 0.8498, accuracy on testing set: 0.8265\n",
      "the loss of epoch 7: 0.3768, accuracy on training set: 0.8587, accuracy on testing set: 0.8440\n",
      "the loss of epoch 8: 0.3583, accuracy on training set: 0.8657, accuracy on testing set: 0.8542\n",
      "the loss of epoch 9: 0.3416, accuracy on training set: 0.8721, accuracy on testing set: 0.8519\n",
      "the loss of epoch 10: 0.3274, accuracy on training set: 0.8765, accuracy on testing set: 0.8376\n",
      "the loss of epoch 11: 0.3158, accuracy on training set: 0.8815, accuracy on testing set: 0.8609\n",
      "the loss of epoch 12: 0.3050, accuracy on training set: 0.8858, accuracy on testing set: 0.8787\n",
      "the loss of epoch 13: 0.2962, accuracy on training set: 0.8890, accuracy on testing set: 0.8813\n",
      "the loss of epoch 14: 0.2895, accuracy on training set: 0.8910, accuracy on testing set: 0.8848\n",
      "the loss of epoch 15: 0.2830, accuracy on training set: 0.8939, accuracy on testing set: 0.8657\n",
      "the loss of epoch 16: 0.2751, accuracy on training set: 0.8961, accuracy on testing set: 0.8835\n",
      "the loss of epoch 17: 0.2699, accuracy on training set: 0.8986, accuracy on testing set: 0.8803\n",
      "the loss of epoch 18: 0.2640, accuracy on training set: 0.8999, accuracy on testing set: 0.8908\n",
      "the loss of epoch 19: 0.2575, accuracy on training set: 0.9035, accuracy on testing set: 0.8835\n"
     ]
    },
    {
     "data": {
      "image/png": "[encoded data removed]",
      "text/plain": [
       "<Figure size 432x288 with 1 Axes>"
      ]
     },
     "metadata": {
      "needs_background": "light"
     },
     "output_type": "display_data"
    }
   ],
   "source": [
    "batch_size = 64\n",
    "learning_rate = 0.9\n",
    "epoch = 20\n",
    "device = torch.device('cuda:3')\n",
    "\n",
    "training_iter = torch.utils.data.DataLoader(training_data, batch_size=batch_size, shuffle=True)\n",
    "testing_iter = torch.utils.data.DataLoader(testing_data, batch_size=batch_size)\n",
    "\n",
    "model = nn.Sequential(\n",
    "    nn.Conv2d(in_channels=1, out_channels=6, kernel_size=5, padding=2), nn.Sigmoid(),\n",
    "    nn.AvgPool2d(kernel_size=2, stride=2),\n",
    "    nn.Conv2d(in_channels=6, out_channels=16, kernel_size=5), nn.Sigmoid(),\n",
    "    nn.AvgPool2d(kernel_size=2, stride=2),\n",
    "    nn.Flatten(),\n",
    "    nn.Linear(400, 120), nn.Sigmoid(),\n",
    "    nn.Linear(120, 84), nn.Sigmoid(),\n",
    "    nn.Linear(84,10)\n",
    ")\n",
    "def parameters_init(m):\n",
    "    if type(m) == nn.Linear or type(m) == nn.Conv2d:\n",
    "        nn.init.xavier_uniform_(m.weight)\n",
    "model.apply(parameters_init)\n",
    "model = model.to(device)\n",
    "loss = nn.CrossEntropyLoss()\n",
    "optimizer = torch.optim.SGD(model.parameters(), lr=learning_rate)\n",
    "train(training_iter, testing_iter, model, loss, optimizer, device=device, epoch=20, plot=True)"
   ]
  }
 ],
 "metadata": {
  "kernelspec": {
   "display_name": "Python 3",
   "language": "python",
   "name": "python3"
  },
  "language_info": {
   "codemirror_mode": {
    "name": "ipython",
    "version": 3
   },
   "file_extension": ".py",
   "mimetype": "text/x-python",
   "name": "python",
   "nbconvert_exporter": "python",
   "pygments_lexer": "ipython3",
   "version": "3.8.8"
  }
 },
 "nbformat": 4,
 "nbformat_minor": 5
}
