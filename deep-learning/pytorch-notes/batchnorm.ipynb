{
 "cells": [
  {
   "cell_type": "markdown",
   "id": "2cdcf111-4bc5-4f49-b2dd-e4af223f4ba9",
   "metadata": {},
   "source": [
    "# 批量归一化\n",
    "\n",
    "Batch Normalization对于训练很深的网络是一种非常有效的提高收敛速度的方法，它可以让我们使用更大的学习率。\n",
    "\n",
    "$$y = \\frac{x - \\mathrm{E}[x]}{ \\sqrt{\\mathrm{Var}[x] + \\epsilon}} * \\gamma + \\beta$$\n",
    "\n",
    "一般而言，使用或不使用BN，对于模型的精度是没有影响的，核心影响的是网络训练的速度。\n",
    "\n",
    "在较深的网络结构中，因为梯度弥散的问题，导致靠近输出的部分收敛快，而靠近输入的网络收敛慢。如果每个批量的样本的特征在分布上差异较大，就会使得网络的output产生较大的差别，这样已经收敛的尾部就会开启大的调整，等于之前就白训练了。\n",
    "\n",
    "所以我们可以对网络中每一层的输出在一个批量上进行归一化，让他们分布都符从均值为0，方差为1的分布。\n",
    "\n",
    "更多BatchNorm为什么有效的Intuition：[Batch Normalization — an intuitive explanation](https://towardsdatascience.com/batch-normalization-an-intuitive-explanation-42e473fa753f)"
   ]
  },
  {
   "cell_type": "code",
   "execution_count": 1,
   "id": "7349ba16-b0ae-4dda-bf5a-3e8ea8a681e2",
   "metadata": {
    "execution": {
     "iopub.execute_input": "2021-06-02T04:50:01.047012Z",
     "iopub.status.busy": "2021-06-02T04:50:01.046836Z",
     "iopub.status.idle": "2021-06-02T04:50:01.637316Z",
     "shell.execute_reply": "2021-06-02T04:50:01.636826Z",
     "shell.execute_reply.started": "2021-06-02T04:50:01.046969Z"
    },
    "tags": []
   },
   "outputs": [],
   "source": [
    "import torch\n",
    "from torch import nn"
   ]
  },
  {
   "cell_type": "code",
   "execution_count": 2,
   "id": "7c81f854-f12b-4192-a806-930c522e0750",
   "metadata": {
    "execution": {
     "iopub.execute_input": "2021-06-02T04:50:01.638334Z",
     "iopub.status.busy": "2021-06-02T04:50:01.638172Z",
     "iopub.status.idle": "2021-06-02T04:50:01.643217Z",
     "shell.execute_reply": "2021-06-02T04:50:01.642841Z",
     "shell.execute_reply.started": "2021-06-02T04:50:01.638315Z"
    },
    "tags": []
   },
   "outputs": [],
   "source": [
    "def batch_norm(X, gamma, beta, moving_mu, moving_var, momentum, eps):\n",
    "    assert len(X.shape) in (2, 4) #只处理全连接层和2维卷积层\n",
    "    # 通过is_grad_enabled判断当前是训练来是推理，如果是推理，则直接使用移动平均的均值和方差\n",
    "    if not torch.is_grad_enabled():\n",
    "        Y_hat = (X - moving_mu) / torch.sqrt(moving_var + eps)\n",
    "    else: \n",
    "        # 全连接层\n",
    "        if len(X.shape) == 2:\n",
    "            mu = X.mean(dim=0)\n",
    "            var = ((X - mu)**2).mean(dim=0)\n",
    "        # 卷积层，将通道维看作是特征维，求均值和方差时，保持形状方法进行broadcasting\n",
    "        if len(X.shape) == 4:\n",
    "            mu = X.mean(dim=(0, 2, 3), keepdim=True)\n",
    "            var = ((X - mu)**2).mean(dim=(0, 2, 3), keepdim=True)\n",
    "        Y_hat = (X - mu) / torch.sqrt(var + eps)\n",
    "        # 对移动平均的均值与方差进行更新\n",
    "        moving_mu = momentum * moving_mu + (1 - momentum) * mu\n",
    "        moving_var = momentum * moving_var + (1 - momentum) * var\n",
    "    Y = Y_hat * gamma + beta\n",
    "    return Y, moving_mu, moving_var"
   ]
  },
  {
   "cell_type": "code",
   "execution_count": 3,
   "id": "c4c2ff12-90c6-457c-8454-d099709b59e4",
   "metadata": {
    "execution": {
     "iopub.execute_input": "2021-06-02T04:50:03.479020Z",
     "iopub.status.busy": "2021-06-02T04:50:03.478876Z",
     "iopub.status.idle": "2021-06-02T04:50:03.486848Z",
     "shell.execute_reply": "2021-06-02T04:50:03.486338Z",
     "shell.execute_reply.started": "2021-06-02T04:50:03.479002Z"
    },
    "tags": []
   },
   "outputs": [],
   "source": [
    "class BatchNorm(nn.Module):\n",
    "    def __init__(self, num_features, num_dim, momentum=0.9, eps=1e-5):\n",
    "        super().__init__()\n",
    "        if num_dim == 2:\n",
    "            shape = (1, num_features)\n",
    "        if num_dim == 4:\n",
    "            shape = (1, num_features, 1, 1)\n",
    "        # 初始化mu为0，var为1\n",
    "        self.moving_mu = torch.zeros(shape)\n",
    "        self.moving_var = torch.ones(shape)\n",
    "        # gamma和beta属于需要进行更新的参数\n",
    "        self.gamma = nn.Parameter(torch.ones(shape))\n",
    "        self.beta = nn.Parameter(torch.zeros(shape))\n",
    "        self.momentum = momentum\n",
    "        self.eps = eps\n",
    "\n",
    "    def forward(self, x):\n",
    "        if x.device != self.moving_mu.device:\n",
    "            self.moving_mu, self.moving_var = self.moving_mu.to(x.device), self.moving_var.to(x.device)\n",
    "            self.gamma.data = self.gamma.data.to(x.device)\n",
    "            self.beta.data = self.beta.data.to(x.device)\n",
    "        x, self.moving_mu, self.moving_var = batch_norm(\n",
    "            x, self.gamma.data, self.beta.data, self.moving_mu, self.moving_var, self.momentum, self.eps)\n",
    "        return x"
   ]
  },
  {
   "cell_type": "code",
   "execution_count": 4,
   "id": "6242eefe-101d-4d65-8560-9ac16b8686ad",
   "metadata": {
    "execution": {
     "iopub.execute_input": "2021-06-02T04:50:05.533762Z",
     "iopub.status.busy": "2021-06-02T04:50:05.533614Z",
     "iopub.status.idle": "2021-06-02T04:50:08.001964Z",
     "shell.execute_reply": "2021-06-02T04:50:08.001387Z",
     "shell.execute_reply.started": "2021-06-02T04:50:05.533743Z"
    },
    "tags": []
   },
   "outputs": [],
   "source": [
    "a = torch.randn(1, 3, 5, 5, device='cuda')"
   ]
  },
  {
   "cell_type": "code",
   "execution_count": 5,
   "id": "55054ddb-9406-42ec-9ea9-4b7d6c649928",
   "metadata": {
    "execution": {
     "iopub.execute_input": "2021-06-02T04:50:08.003116Z",
     "iopub.status.busy": "2021-06-02T04:50:08.002952Z",
     "iopub.status.idle": "2021-06-02T04:50:08.016086Z",
     "shell.execute_reply": "2021-06-02T04:50:08.015716Z",
     "shell.execute_reply.started": "2021-06-02T04:50:08.003097Z"
    },
    "tags": []
   },
   "outputs": [
    {
     "data": {
      "text/plain": [
       "tensor([[[[ 0.6553,  0.4040,  0.5476, -1.3837,  1.3100],\n",
       "          [-0.4144,  1.7244, -0.7444, -0.9298, -0.7004],\n",
       "          [ 1.2725,  1.9125, -0.3266, -0.8016, -0.4329],\n",
       "          [ 0.4292,  0.9642,  0.8395,  0.4539, -0.2588],\n",
       "          [-1.5279, -0.2640,  0.2332, -1.8499, -1.1118]],\n",
       "\n",
       "         [[ 0.5982, -0.5397,  1.4367,  0.3117, -0.1409],\n",
       "          [ 1.4547, -0.3516,  0.2519, -0.7490,  0.1770],\n",
       "          [ 1.6657,  0.3715,  0.3305,  1.3777, -0.3522],\n",
       "          [-0.5594, -1.5442,  0.6910, -2.7335, -0.6035],\n",
       "          [-0.8145,  0.5104,  0.7009, -0.1551, -1.3341]],\n",
       "\n",
       "         [[ 1.3260, -0.0765,  2.7826,  0.7548,  0.3470],\n",
       "          [-0.1259, -0.6698, -0.7616, -0.2149,  0.7231],\n",
       "          [-0.8911, -0.1881, -0.7951, -1.0108,  1.7675],\n",
       "          [ 0.7457, -1.2737, -0.1661, -1.6098,  0.9449],\n",
       "          [-0.6425,  0.5503, -0.0344, -0.5444, -0.9371]]]], device='cuda:0')"
      ]
     },
     "execution_count": 5,
     "metadata": {},
     "output_type": "execute_result"
    }
   ],
   "source": [
    "bn = BatchNorm(num_features=a.shape[1], num_dim=len(a.shape))\n",
    "bn(a)"
   ]
  },
  {
   "cell_type": "markdown",
   "id": "1f28e6ba-4045-4058-9d79-899c4bdcd6c6",
   "metadata": {},
   "source": [
    "# BatchNorm in Pytorch\n",
    "\n",
    "https://pytorch.org/docs/stable/generated/torch.nn.BatchNorm2d.html"
   ]
  },
  {
   "cell_type": "code",
   "execution_count": 6,
   "id": "7658a3fd-e871-40ee-b905-bb60edb0be5b",
   "metadata": {
    "execution": {
     "iopub.execute_input": "2021-06-02T04:50:20.557432Z",
     "iopub.status.busy": "2021-06-02T04:50:20.557268Z",
     "iopub.status.idle": "2021-06-02T04:50:21.076217Z",
     "shell.execute_reply": "2021-06-02T04:50:21.075819Z",
     "shell.execute_reply.started": "2021-06-02T04:50:20.557413Z"
    },
    "tags": []
   },
   "outputs": [
    {
     "data": {
      "text/plain": [
       "tensor([[[[ 0.6553,  0.4040,  0.5476, -1.3837,  1.3100],\n",
       "          [-0.4144,  1.7244, -0.7444, -0.9298, -0.7004],\n",
       "          [ 1.2725,  1.9125, -0.3266, -0.8016, -0.4329],\n",
       "          [ 0.4292,  0.9642,  0.8395,  0.4539, -0.2588],\n",
       "          [-1.5279, -0.2640,  0.2332, -1.8499, -1.1118]],\n",
       "\n",
       "         [[ 0.5982, -0.5397,  1.4367,  0.3117, -0.1409],\n",
       "          [ 1.4547, -0.3516,  0.2519, -0.7490,  0.1770],\n",
       "          [ 1.6657,  0.3715,  0.3305,  1.3777, -0.3522],\n",
       "          [-0.5594, -1.5442,  0.6910, -2.7335, -0.6035],\n",
       "          [-0.8145,  0.5104,  0.7009, -0.1551, -1.3341]],\n",
       "\n",
       "         [[ 1.3260, -0.0765,  2.7826,  0.7548,  0.3470],\n",
       "          [-0.1259, -0.6698, -0.7616, -0.2149,  0.7231],\n",
       "          [-0.8911, -0.1881, -0.7951, -1.0108,  1.7675],\n",
       "          [ 0.7457, -1.2737, -0.1661, -1.6098,  0.9449],\n",
       "          [-0.6425,  0.5503, -0.0344, -0.5444, -0.9371]]]], device='cuda:0',\n",
       "       grad_fn=<CudnnBatchNormBackward>)"
      ]
     },
     "execution_count": 6,
     "metadata": {},
     "output_type": "execute_result"
    }
   ],
   "source": [
    "# torch里的BatchNorm2d只支持输出shape为NCHW，不支持NC的形式\n",
    "torch_bn = nn.BatchNorm2d(num_features=a.shape[1])\n",
    "torch_bn = torch_bn.to(a.device)\n",
    "torch_bn(a)"
   ]
  }
 ],
 "metadata": {
  "kernelspec": {
   "display_name": "Python 3",
   "language": "python",
   "name": "python3"
  },
  "language_info": {
   "codemirror_mode": {
    "name": "ipython",
    "version": 3
   },
   "file_extension": ".py",
   "mimetype": "text/x-python",
   "name": "python",
   "nbconvert_exporter": "python",
   "pygments_lexer": "ipython3",
   "version": "3.8.8"
  }
 },
 "nbformat": 4,
 "nbformat_minor": 5
}
