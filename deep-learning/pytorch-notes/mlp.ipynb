{
 "cells": [
  {
   "cell_type": "markdown",
   "id": "bcad0390-10b9-4bc1-92d0-579ff87e1c70",
   "metadata": {},
   "source": [
    "# 多层感知机"
   ]
  },
  {
   "cell_type": "code",
   "execution_count": 1,
   "id": "03da0f6f-3edd-45d6-abc8-9404a96d5e8f",
   "metadata": {},
   "outputs": [],
   "source": [
    "import torch\n",
    "from torch import nn\n",
    "from torch.utils.data import Dataset\n",
    "from torchvision import datasets\n",
    "from torchvision.transforms import ToTensor\n",
    "import matplotlib.pyplot as plt"
   ]
  },
  {
   "cell_type": "code",
   "execution_count": 2,
   "id": "2afda8d8-3b81-4899-b292-54edaea3d3d7",
   "metadata": {},
   "outputs": [
    {
     "name": "stdout",
     "output_type": "stream",
     "text": [
      "training dataset size: 60000\n",
      "testing dataset size: 10000\n",
      "image size: torch.Size([1, 28, 28])\n"
     ]
    }
   ],
   "source": [
    "training_set = datasets.FashionMNIST(\n",
    "    root='./data', train=True, download=True, transform=ToTensor())\n",
    "testing_set = datasets.FashionMNIST(\n",
    "    root='./data', train=False, download=True, transform=ToTensor())\n",
    "print(f'training dataset size: {len(training_set)}')\n",
    "print(f'testing dataset size: {len(testing_set)}')\n",
    "print(f'image size: {training_set[0][0].shape}')"
   ]
  },
  {
   "cell_type": "code",
   "execution_count": 4,
   "id": "e74cf979-e869-4fc0-abdb-c99c6f957503",
   "metadata": {},
   "outputs": [],
   "source": [
    "batch_size = 256\n",
    "training_iter = torch.utils.data.DataLoader(\n",
    "    training_set, batch_size, shuffle=True)\n",
    "testing_iter = torch.utils.data.DataLoader(testing_set, batch_size)"
   ]
  },
  {
   "cell_type": "code",
   "execution_count": 6,
   "id": "47410a54-af85-4d7c-8347-bfbb24f65705",
   "metadata": {},
   "outputs": [],
   "source": [
    "def accuracy(y_hat, y):\n",
    "    max_indices = torch.max(y_hat, dim=1)[1]\n",
    "    return (y == max_indices).to(dtype=torch.float32).mean()\n",
    "\n",
    "\n",
    "def accuracy_on(model, data_iter):\n",
    "    acc = []\n",
    "    for X, y in data_iter:\n",
    "        y_hat = model(X)\n",
    "        acc.append(accuracy(y_hat, y))\n",
    "    return torch.tensor(acc).mean().item()"
   ]
  },
  {
   "cell_type": "code",
   "execution_count": 10,
   "id": "c71b96b9-00f6-4a1b-b1cd-36b6969704d9",
   "metadata": {},
   "outputs": [
    {
     "name": "stdout",
     "output_type": "stream",
     "text": [
      "the loss of epoch 0: 1.8205, accuracy on training set: 0.3001, accuracy on testing set: 0.5652\n",
      "the loss of epoch 1: 0.9457, accuracy on training set: 0.6398, accuracy on testing set: 0.6561\n",
      "the loss of epoch 2: 0.7012, accuracy on training set: 0.7419, accuracy on testing set: 0.7698\n",
      "the loss of epoch 3: 0.5993, accuracy on training set: 0.7828, accuracy on testing set: 0.7765\n",
      "the loss of epoch 4: 0.5382, accuracy on training set: 0.8086, accuracy on testing set: 0.8055\n",
      "the loss of epoch 5: 0.4949, accuracy on training set: 0.8228, accuracy on testing set: 0.8215\n",
      "the loss of epoch 6: 0.4612, accuracy on training set: 0.8343, accuracy on testing set: 0.8223\n",
      "the loss of epoch 7: 0.4384, accuracy on training set: 0.8427, accuracy on testing set: 0.8211\n",
      "the loss of epoch 8: 0.4202, accuracy on training set: 0.8494, accuracy on testing set: 0.8341\n",
      "the loss of epoch 9: 0.4028, accuracy on training set: 0.8535, accuracy on testing set: 0.8345\n",
      "the loss of epoch 10: 0.3873, accuracy on training set: 0.8611, accuracy on testing set: 0.8349\n",
      "the loss of epoch 11: 0.3746, accuracy on training set: 0.8650, accuracy on testing set: 0.8318\n",
      "the loss of epoch 12: 0.3657, accuracy on training set: 0.8673, accuracy on testing set: 0.8498\n",
      "the loss of epoch 13: 0.3559, accuracy on training set: 0.8712, accuracy on testing set: 0.8570\n",
      "the loss of epoch 14: 0.3443, accuracy on training set: 0.8750, accuracy on testing set: 0.8232\n",
      "the loss of epoch 15: 0.3401, accuracy on training set: 0.8758, accuracy on testing set: 0.8640\n",
      "the loss of epoch 16: 0.3316, accuracy on training set: 0.8792, accuracy on testing set: 0.8259\n",
      "the loss of epoch 17: 0.3208, accuracy on training set: 0.8825, accuracy on testing set: 0.8677\n",
      "the loss of epoch 18: 0.3181, accuracy on training set: 0.8839, accuracy on testing set: 0.8642\n",
      "the loss of epoch 19: 0.3099, accuracy on training set: 0.8875, accuracy on testing set: 0.8491\n",
      "the loss of epoch 20: 0.3069, accuracy on training set: 0.8876, accuracy on testing set: 0.8538\n",
      "the loss of epoch 21: 0.2996, accuracy on training set: 0.8900, accuracy on testing set: 0.8665\n",
      "the loss of epoch 22: 0.2963, accuracy on training set: 0.8920, accuracy on testing set: 0.8491\n",
      "the loss of epoch 23: 0.2899, accuracy on training set: 0.8939, accuracy on testing set: 0.8644\n",
      "the loss of epoch 24: 0.2859, accuracy on training set: 0.8948, accuracy on testing set: 0.8386\n",
      "the loss of epoch 25: 0.2808, accuracy on training set: 0.8990, accuracy on testing set: 0.8713\n",
      "the loss of epoch 26: 0.2790, accuracy on training set: 0.8969, accuracy on testing set: 0.8627\n",
      "the loss of epoch 27: 0.2730, accuracy on training set: 0.9002, accuracy on testing set: 0.8717\n",
      "the loss of epoch 28: 0.2705, accuracy on training set: 0.9002, accuracy on testing set: 0.8676\n",
      "the loss of epoch 29: 0.2643, accuracy on training set: 0.9027, accuracy on testing set: 0.8777\n"
     ]
    },
    {
     "data": {
      "image/png": "[encoded data removed]",
      "text/plain": [
       "<Figure size 432x288 with 1 Axes>"
      ]
     },
     "metadata": {
      "needs_background": "light"
     },
     "output_type": "display_data"
    }
   ],
   "source": [
    "num_features = 784\n",
    "num_classes = 10\n",
    "num_hidden1 = 256\n",
    "num_hidden2 = 128\n",
    "model = nn.Sequential(nn.Flatten(),\n",
    "                      nn.Linear(num_features, num_hidden1), \n",
    "                      nn.ReLU(), \n",
    "                      nn.Linear(num_hidden1, num_hidden2), \n",
    "                      nn.ReLU(),\n",
    "                      nn.Linear(num_hidden2, num_classes))\n",
    "\n",
    "def init_weigth(m):\n",
    "    if type(m) == nn.Linear:\n",
    "        nn.init.normal_(m.weight, std=0.01)\n",
    "\n",
    "model.apply(init_weigth)\n",
    "loss = nn.CrossEntropyLoss()\n",
    "optimizer = torch.optim.SGD(model.parameters(), lr=0.1)\n",
    "\n",
    "epoch = 30\n",
    "training_loss = []\n",
    "training_acc = []\n",
    "testing_acc = []\n",
    "for i in range(epoch):\n",
    "    epoch_loss = 0\n",
    "    epoch_acc = 0\n",
    "    for X, y in training_iter:\n",
    "        y_hat = model(X)\n",
    "        l = loss(y_hat, y)\n",
    "        epoch_loss += l.item()\n",
    "        epoch_acc += accuracy(y_hat, y)\n",
    "        optimizer.zero_grad()\n",
    "        l.backward()\n",
    "        optimizer.step()\n",
    "    training_loss.append(epoch_loss / len(training_iter))\n",
    "    training_acc.append(epoch_acc / len(training_iter))\n",
    "    testing_acc.append(accuracy_on(model, testing_iter))\n",
    "    print(\n",
    "        f'the loss of epoch {i}: {training_loss[-1]:.4f}, accuracy on training set: {training_acc[-1]:.4f}, accuracy on testing set: {testing_acc[-1]:.4f}')\n",
    "plt.plot(training_loss, label='training_loss')\n",
    "plt.plot(training_acc, label='training_acc')\n",
    "plt.plot(testing_acc, label='testing_acc')\n",
    "plt.legend()\n",
    "plt.show()"
   ]
  }
 ],
 "metadata": {
  "kernelspec": {
   "display_name": "Python 3",
   "language": "python",
   "name": "python3"
  },
  "language_info": {
   "codemirror_mode": {
    "name": "ipython",
    "version": 3
   },
   "file_extension": ".py",
   "mimetype": "text/x-python",
   "name": "python",
   "nbconvert_exporter": "python",
   "pygments_lexer": "ipython3",
   "version": "3.8.8"
  }
 },
 "nbformat": 4,
 "nbformat_minor": 5
}
