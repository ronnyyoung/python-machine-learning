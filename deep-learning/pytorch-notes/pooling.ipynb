{
 "cells": [
  {
   "cell_type": "markdown",
   "id": "f6ce4a56",
   "metadata": {},
   "source": [
    "# 池化\n",
    "\n",
    "池化有2个目的：\n",
    "- 一个是解决卷积对位置敏感的问题。卷积层的输入数据，如果发生了一定的平移、或旋转，那么它的输出就会有较大的变化（featmap上也会平移或旋转），加入MaxPooling后，就能很大程度上解决这些问题。大的响应在一个窗口内都有效。\n",
    "- 二是对feature map进行降采样，来减小空间尺寸，减少整个模型的复杂度。\n",
    "\n",
    "池化类似于卷积采取滑动窗口的形式，所以来有窗口尺寸、步长、补边这3个超参数，同时我们可以选择最大池化max或平均池化mean两种方式。\n",
    "\n",
    "不同于卷积，池化对于多通道的输入，一般都是分别池化的，所以输出的通道数与输入通道数相同。"
   ]
  },
  {
   "cell_type": "code",
   "execution_count": 2,
   "id": "b741fea2",
   "metadata": {},
   "outputs": [],
   "source": [
    "import torch\n",
    "from torch import nn"
   ]
  },
  {
   "cell_type": "markdown",
   "id": "38cdcd0f",
   "metadata": {},
   "source": [
    "# 从零实现"
   ]
  },
  {
   "cell_type": "code",
   "execution_count": 24,
   "id": "fe6cb05d",
   "metadata": {},
   "outputs": [],
   "source": [
    "from typing import Tuple\n",
    "def pooling_2d(X: torch.Tensor, kernel_size: Tuple[int,int], padding: Tuple[int,int]=(0,0), stride: Tuple[int,int]=(1,1), mode: str='max'):\n",
    "    nh, nw = X.shape\n",
    "    kh, kw = kernel_size\n",
    "    ph, pw = padding\n",
    "    sh, sw = stride\n",
    "    X_p = torch.zeros(nh + ph, nw + pw)# padding\n",
    "    X_p[ph//2:nh+ph//2, pw//2:nw+pw//2] = X \n",
    "    Y = torch.zeros((X_p.shape[0] - kh + sh) // sh, (X_p.shape[1] - kw + sw) // sw)\n",
    "    for i in range(Y.shape[0]):\n",
    "        for j in range(Y.shape[1]):\n",
    "            if mode == 'max':\n",
    "                Y[i,j] = X_p[i*sh:i*sh+kh,j*sw:j*sw+kw].max()\n",
    "            elif mode == 'avg':\n",
    "                Y[i,j] = X_p[i*sh:i*sh+kh,j*sw:j*sw+kw].mean()\n",
    "            else:\n",
    "                raise ValueError('not supported mode')\n",
    "    return Y"
   ]
  },
  {
   "cell_type": "code",
   "execution_count": 25,
   "id": "f45eab4e",
   "metadata": {},
   "outputs": [
    {
     "data": {
      "text/plain": [
       "tensor([[4., 5.],\n",
       "        [7., 8.]])"
      ]
     },
     "execution_count": 25,
     "metadata": {},
     "output_type": "execute_result"
    }
   ],
   "source": [
    "X = torch.tensor([[0.0, 1.0, 2.0], [3.0, 4.0, 5.0], [6.0, 7.0, 8.0]])\n",
    "pooling_2d(X,[2,2])"
   ]
  },
  {
   "cell_type": "code",
   "execution_count": 37,
   "id": "86276315",
   "metadata": {},
   "outputs": [],
   "source": [
    "def pooling_2d_multi_channel(X, kernel_size, padding=(0,0), stride=(1,1), mode='max'):\n",
    "    return torch.stack([pooling_2d(X[i], kernel_size, padding, stride, mode) for i in range(X.shape[0])])"
   ]
  },
  {
   "cell_type": "code",
   "execution_count": 38,
   "id": "de1cdbed",
   "metadata": {},
   "outputs": [
    {
     "data": {
      "text/plain": [
       "tensor([[[4., 5.],\n",
       "         [7., 8.]],\n",
       "\n",
       "        [[4., 5.],\n",
       "         [7., 8.]],\n",
       "\n",
       "        [[4., 5.],\n",
       "         [7., 8.]]])"
      ]
     },
     "execution_count": 38,
     "metadata": {},
     "output_type": "execute_result"
    }
   ],
   "source": [
    "pooling_2d_multi_channel(torch.stack([X,X,X]),(2,2))"
   ]
  },
  {
   "cell_type": "markdown",
   "id": "b411aec7",
   "metadata": {},
   "source": [
    "# nn.MaxPool2d"
   ]
  },
  {
   "cell_type": "markdown",
   "id": "3f56a59a",
   "metadata": {},
   "source": [
    "- kernel_size: the size of the window to take a max over\n",
    "- stride: the stride of the window. Default value is :attr:`kernel_size`\n",
    "- padding: implicit zero padding to be added on both sides\n",
    "- dilation: a parameter that controls the stride of elements in the window\n",
    "- return_indices: if ``True``, will return the max indices along with the outputs. Useful for :class:`torch.nn.MaxUnpool2d` later\n",
    "- ceil_mode: when True, will use `ceil` instead of `floor` to compute the output shape\n",
    "\n",
    "其中`kernel_size`、`stide`、`padding`、`dilation`都即可以是一个数或一个tuple"
   ]
  },
  {
   "cell_type": "code",
   "execution_count": 32,
   "id": "6506f967",
   "metadata": {},
   "outputs": [
    {
     "data": {
      "text/plain": [
       "tensor([[[[4., 5.],\n",
       "          [7., 8.]]]])"
      ]
     },
     "execution_count": 32,
     "metadata": {},
     "output_type": "execute_result"
    }
   ],
   "source": [
    "pool2d = nn.MaxPool2d(2,stride=1)\n",
    "pool2d(X.reshape(1,1,X.shape[0],X.shape[1]))"
   ]
  },
  {
   "cell_type": "code",
   "execution_count": 39,
   "id": "f648f70d",
   "metadata": {},
   "outputs": [
    {
     "data": {
      "text/plain": [
       "tensor([[[4., 5.],\n",
       "         [7., 8.]],\n",
       "\n",
       "        [[4., 5.],\n",
       "         [7., 8.]],\n",
       "\n",
       "        [[4., 5.],\n",
       "         [7., 8.]]])"
      ]
     },
     "execution_count": 39,
     "metadata": {},
     "output_type": "execute_result"
    }
   ],
   "source": [
    "pool2d(torch.stack([X,X,X]))"
   ]
  }
 ],
 "metadata": {
  "kernelspec": {
   "display_name": "Python 3",
   "language": "python",
   "name": "python3"
  },
  "language_info": {
   "codemirror_mode": {
    "name": "ipython",
    "version": 3
   },
   "file_extension": ".py",
   "mimetype": "text/x-python",
   "name": "python",
   "nbconvert_exporter": "python",
   "pygments_lexer": "ipython3",
   "version": "3.8.8"
  }
 },
 "nbformat": 4,
 "nbformat_minor": 5
}
