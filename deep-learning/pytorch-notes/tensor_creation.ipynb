{
 "cells": [
  {
   "cell_type": "markdown",
   "id": "moderate-country",
   "metadata": {},
   "source": [
    "# Tensor的创建\n"
   ]
  },
  {
   "cell_type": "code",
   "execution_count": 1,
   "id": "initial-marine",
   "metadata": {},
   "outputs": [],
   "source": [
    "import torch\n",
    "import numpy as np"
   ]
  },
  {
   "cell_type": "markdown",
   "id": "neural-outline",
   "metadata": {},
   "source": [
    "在Pytorch中我们可以有多种方法来创建Tensor，常用的包括下面几种：\n",
    "\n",
    "- 从已有的scalar、list、tuple、numpy.array来创建\n",
    "- 用`arange`、`linspace`、`logspace`等创建一维数列Tensor\n",
    "- 用`ones`、`zeros`、`eye`、`full`、`empty`等来创建特别填充值的多维Tensor\n",
    "- 用随机数来创建指定形状的Tensor"
   ]
  },
  {
   "cell_type": "markdown",
   "id": "personal-energy",
   "metadata": {},
   "source": [
    "# 从现有数据来创建一个Tensor\n",
    "\n",
    "我们可以使用`torch.tensor()`函数来从已有的一个array_like的data来创建一个Tensor"
   ]
  },
  {
   "cell_type": "code",
   "execution_count": 2,
   "id": "awful-thesis",
   "metadata": {},
   "outputs": [
    {
     "data": {
      "text/plain": [
       "tensor([1, 2, 3, 4, 5])"
      ]
     },
     "execution_count": 2,
     "metadata": {},
     "output_type": "execute_result"
    }
   ],
   "source": [
    "# 从list创建\n",
    "torch.tensor([1,2,3,4,5])"
   ]
  },
  {
   "cell_type": "code",
   "execution_count": 3,
   "id": "random-advocacy",
   "metadata": {},
   "outputs": [
    {
     "data": {
      "text/plain": [
       "tensor([1, 2, 3])"
      ]
     },
     "execution_count": 3,
     "metadata": {},
     "output_type": "execute_result"
    }
   ],
   "source": [
    "# 从tuple创建\n",
    "torch.tensor((1,2,3))"
   ]
  },
  {
   "cell_type": "code",
   "execution_count": 4,
   "id": "conventional-visibility",
   "metadata": {},
   "outputs": [
    {
     "data": {
      "text/plain": [
       "tensor([1., 2., 3., 4., 5.], device='cuda:0')"
      ]
     },
     "execution_count": 4,
     "metadata": {},
     "output_type": "execute_result"
    }
   ],
   "source": [
    "# 从numpy.array创建\n",
    "torch.tensor(np.array([1,2,3,4,5]), dtype=torch.float32, device='cuda:0')"
   ]
  },
  {
   "cell_type": "markdown",
   "id": "stable-peeing",
   "metadata": {},
   "source": [
    "需要注意的是，无论是从python的内置序列创建，还是从numpy.array来创建，创建出来的Tensor都是复制了原数据的内容。\n",
    "\n",
    "如果我们希望，创建的Tensor不额外分配存储空间，而是和之前的numpy.array共享存储，那么可以使用`as_tensor`方法"
   ]
  },
  {
   "cell_type": "code",
   "execution_count": 5,
   "id": "secret-geneva",
   "metadata": {},
   "outputs": [
    {
     "name": "stdout",
     "output_type": "stream",
     "text": [
      "[6 2 3 4 5]\n"
     ]
    }
   ],
   "source": [
    "arr = np.array([1,2,3,4,5])\n",
    "t = torch.as_tensor(arr)\n",
    "# 对于Tensor的数据改动，也会影响在ndarray上\n",
    "t[0] = 6\n",
    "print(arr)"
   ]
  },
  {
   "cell_type": "markdown",
   "id": "established-mystery",
   "metadata": {},
   "source": [
    "不过使用`as_tensor`后，能共享底层存储的，前提是，as_type方法中指定的`dtype`和`device`和原ndarry是一致的。"
   ]
  },
  {
   "cell_type": "code",
   "execution_count": 6,
   "id": "fresh-extreme",
   "metadata": {},
   "outputs": [
    {
     "name": "stdout",
     "output_type": "stream",
     "text": [
      "[1 2 3 4 5]\n"
     ]
    }
   ],
   "source": [
    "arr = np.array([1,2,3,4,5])\n",
    "t = torch.as_tensor(arr, dtype=torch.float32)# 这种情况下，并不会共享底层存储\n",
    "t[0] = 6\n",
    "print(arr)"
   ]
  },
  {
   "cell_type": "code",
   "execution_count": 42,
   "id": "circular-district",
   "metadata": {},
   "outputs": [
    {
     "name": "stdout",
     "output_type": "stream",
     "text": [
      "ndarray的默认整数类型为:int64\n",
      "tensor的默认整数类型为: torch.int64\n",
      "ndarray的默认整数类型为:float64\n",
      "tensor的默认整数类型为: torch.float32\n"
     ]
    }
   ],
   "source": [
    "il = [1,2,3,4,5]\n",
    "print(f'ndarray的默认整数类型为:{np.array(il).dtype}')\n",
    "print(f'tensor的默认整数类型为: {torch.tensor(il).dtype}')\n",
    "\n",
    "fl = [1.0,2.0,3.0,4.0,5.0]\n",
    "print(f'ndarray的默认整数类型为:{np.array(fl).dtype}')\n",
    "print(f'tensor的默认整数类型为: {torch.tensor(fl).dtype}')"
   ]
  },
  {
   "cell_type": "markdown",
   "id": "unauthorized-today",
   "metadata": {},
   "source": [
    "# `torch.tensor()`和`torch.Tensor()`的区别\n",
    "\n",
    "`torch.Tensor`实际上是`torch.FloatTensor`，用它来创建新的Tensor时，实际调用的是构造函数，它会默认以`torch.float32`来作为`dtype`。而`torch.tensor`会根据`data`的类型自动推断。"
   ]
  },
  {
   "cell_type": "code",
   "execution_count": 7,
   "id": "right-andrews",
   "metadata": {},
   "outputs": [
    {
     "name": "stdout",
     "output_type": "stream",
     "text": [
      "torch.float32\n",
      "torch.int64\n"
     ]
    }
   ],
   "source": [
    "l = [1,2,3,4,5]\n",
    "print(torch.Tensor(l).dtype)\n",
    "print(torch.tensor(l).dtype)"
   ]
  },
  {
   "cell_type": "markdown",
   "id": "stainless-garden",
   "metadata": {},
   "source": [
    "# 创建特别填充值的Tensor"
   ]
  },
  {
   "cell_type": "markdown",
   "id": "dramatic-driver",
   "metadata": {},
   "source": [
    "## torch.arange\n",
    "\n",
    "torch.arange(start=0, end, step=1)用于创建一个区间范围的Tensor"
   ]
  },
  {
   "cell_type": "code",
   "execution_count": 8,
   "id": "perfect-alpha",
   "metadata": {},
   "outputs": [
    {
     "name": "stdout",
     "output_type": "stream",
     "text": [
      "tensor([0, 1, 2, 3, 4])\n",
      "tensor([1, 2, 3, 4])\n",
      "tensor([ 1,  4,  7, 10, 13, 16, 19])\n"
     ]
    }
   ],
   "source": [
    "print(torch.arange(5))\n",
    "print(torch.arange(1,5))\n",
    "print(torch.arange(1, 20, 3))"
   ]
  },
  {
   "cell_type": "code",
   "execution_count": 9,
   "id": "crucial-mission",
   "metadata": {},
   "outputs": [
    {
     "data": {
      "text/plain": [
       "tensor([1.0000, 1.5000, 2.0000, 2.5000, 3.0000])"
      ]
     },
     "execution_count": 9,
     "metadata": {},
     "output_type": "execute_result"
    }
   ],
   "source": [
    "# 如果start、end以及step中有浮点数，则创建出来的是FloatTensor\n",
    "torch.arange(1, 3.5, 0.5)"
   ]
  },
  {
   "cell_type": "markdown",
   "id": "indie-excellence",
   "metadata": {},
   "source": [
    "注意上面是没有包括3.5那个点的"
   ]
  },
  {
   "cell_type": "markdown",
   "id": "robust-general",
   "metadata": {},
   "source": [
    "## torch.linspace\n",
    "\n",
    "`torch.linspace`与`torch.arange`有点类似，都指定一个起点，一个终点，和一个步长。但`linspace`里步长最终指定了生成的一维Tensor中元素的个数\n",
    "\n",
    "```python\n",
    "linspace(start(float),end(float),steps(int))\n",
    "```\n",
    "另外需要注意的是`torch.linspace`生成的一定是一个浮点数的Tensor，而且和`torch.arange`不同的是：`linspace`生成的Tensor是包括末点值的（inclusive）"
   ]
  },
  {
   "cell_type": "code",
   "execution_count": 10,
   "id": "cognitive-origin",
   "metadata": {},
   "outputs": [
    {
     "data": {
      "text/plain": [
       "tensor([ 3.0000,  4.7500,  6.5000,  8.2500, 10.0000])"
      ]
     },
     "execution_count": 10,
     "metadata": {},
     "output_type": "execute_result"
    }
   ],
   "source": [
    "torch.linspace(3,10,5)"
   ]
  },
  {
   "cell_type": "markdown",
   "id": "enhanced-breach",
   "metadata": {},
   "source": [
    "## torch.logspace\n",
    "\n",
    "`torch.logspace`和`torch.linspace`行为类似，区别在于`logspace`生成的序列的范围的起始与终点是一个以`base`为底，`start`和`end`为指数的数字。\n",
    "\n",
    "```python\n",
    "logspace(start, end, stpes, base=10.0) -> Tensor\n",
    "```"
   ]
  },
  {
   "cell_type": "markdown",
   "id": "innovative-graduation",
   "metadata": {},
   "source": [
    "## torch.ones、torch.zeros、torch.emtpy\n",
    "\n",
    "它们三个都是用于创建一个指定`size`的Tensor，分别以1、0和未初始化的值来填充\n",
    "\n",
    "它们三个返回的都是`FloatTensor`"
   ]
  },
  {
   "cell_type": "code",
   "execution_count": 11,
   "id": "invisible-lesbian",
   "metadata": {},
   "outputs": [
    {
     "name": "stdout",
     "output_type": "stream",
     "text": [
      "tensor([[1., 1.],\n",
      "        [1., 1.]])\n",
      "tensor([[0., 0., 0., 0.],\n",
      "        [0., 0., 0., 0.],\n",
      "        [0., 0., 0., 0.]])\n",
      "tensor([[-4.2743e+12,  4.5893e-41, -8.3130e+17],\n",
      "        [ 3.0652e-41,  0.0000e+00,  0.0000e+00],\n",
      "        [ 0.0000e+00,  0.0000e+00,  0.0000e+00]])\n"
     ]
    }
   ],
   "source": [
    "print(torch.ones(2,2))\n",
    "print(torch.zeros(3,4))\n",
    "print(torch.empty(3,3))"
   ]
  },
  {
   "cell_type": "markdown",
   "id": "statewide-brooklyn",
   "metadata": {},
   "source": [
    "## torch.eye\n",
    "\n",
    "`torch.eye`返回的是一个2d的对角线为1，其他值都为0的Float矩阵Tensor"
   ]
  },
  {
   "cell_type": "code",
   "execution_count": 12,
   "id": "fatal-happiness",
   "metadata": {},
   "outputs": [
    {
     "data": {
      "text/plain": [
       "tensor([[1., 0., 0., 0.],\n",
       "        [0., 1., 0., 0.],\n",
       "        [0., 0., 1., 0.],\n",
       "        [0., 0., 0., 1.]])"
      ]
     },
     "execution_count": 12,
     "metadata": {},
     "output_type": "execute_result"
    }
   ],
   "source": [
    "torch.eye(4)"
   ]
  },
  {
   "cell_type": "markdown",
   "id": "interim-following",
   "metadata": {},
   "source": [
    "## torch.full\n",
    "\n",
    "`torch.full`返回的是一个指定`size`和填充值的Tensor，Tensor的dtype是由填充值的类型来推导的。\n",
    "\n",
    "```python\n",
    "'''\n",
    "Args:\n",
    "  size(int...): a list ,tuple or torch.Size\n",
    "  fill_vale(Scalar)\n",
    "'''\n",
    "full(size, fill_value)\n",
    "```"
   ]
  },
  {
   "cell_type": "code",
   "execution_count": 13,
   "id": "technological-highway",
   "metadata": {},
   "outputs": [
    {
     "data": {
      "text/plain": [
       "tensor([[1., 1., 1.],\n",
       "        [1., 1., 1.]])"
      ]
     },
     "execution_count": 13,
     "metadata": {},
     "output_type": "execute_result"
    }
   ],
   "source": [
    "torch.full((2,3),1.0)"
   ]
  },
  {
   "cell_type": "markdown",
   "id": "chinese-ranch",
   "metadata": {},
   "source": [
    "# 使用随机数来创建Tensor"
   ]
  },
  {
   "cell_type": "markdown",
   "id": "resident-physiology",
   "metadata": {},
   "source": [
    "## torch.normal\n",
    "\n",
    "`torch.normal`返回一个正态分布产生在的随机数填充的Tensor，它一共有4种参数传递方式\n",
    "\n",
    "第一种是:\n",
    "\n",
    "```python\n",
    "'''\n",
    "Args:\n",
    "    mean (Tensor): the tensor of per-element means\n",
    "    std (Tensor): the tensor of per-element standard deviations\n",
    "'''\n",
    "norm(mean, std)\n",
    "```\n",
    "生成的Tensor的size和mean和std的size是一致的，其中每个元素都是通过对应位置的mean和std形成的正态分布来随机产生的。\n",
    "\n",
    "mean和std两个Tensor的shape不需要一致，但是元数数量需要一致，当shape不一致时，以mean的shape作为最终生成的Tensor的shape"
   ]
  },
  {
   "cell_type": "code",
   "execution_count": 14,
   "id": "super-louisville",
   "metadata": {},
   "outputs": [
    {
     "name": "stderr",
     "output_type": "stream",
     "text": [
      "<ipython-input-14-49245019fc67>:3: UserWarning: std and mean have the same number of elements, but are not broadcastable. This was previously a supported mode of operation, but is now deprecated and the support will be removed in version 1.6 release. Note that the current implementation reshapes std to the shape of mean, which may be incur data copies. Please ensure that std and mean are broadcastable to avoid these issues. (Triggered internally at  /opt/conda/conda-bld/pytorch_1616554793803/work/aten/src/ATen/native/DistributionTemplates.h:189.)\n",
      "  torch.normal(mean, std)\n"
     ]
    },
    {
     "data": {
      "text/plain": [
       "tensor([[ 0.0000,  0.9364,  1.9420,  2.9102],\n",
       "        [ 4.0290,  4.3689,  5.2698,  7.6781],\n",
       "        [ 7.8305,  8.5575, 10.7068, 12.5202]])"
      ]
     },
     "execution_count": 14,
     "metadata": {},
     "output_type": "execute_result"
    }
   ],
   "source": [
    "mean = torch.arange(12).reshape(3,4).to(dtype=torch.float32)\n",
    "std = torch.linspace(0,1,mean.numel())\n",
    "torch.normal(mean, std)"
   ]
  },
  {
   "cell_type": "markdown",
   "id": "tutorial-contractor",
   "metadata": {},
   "source": [
    "第二种是：\n",
    "\n",
    "```python\n",
    "'''\n",
    "Args:\n",
    "    mean (float, optional): the mean for all distributions\n",
    "    std (Tensor): the tensor of per-element standard deviations\n",
    "'''\n",
    "normal(mean=0.0, std, *, out=None) -> Tensor\n",
    "```\n",
    "这种参数传递用法，与上面的区别就是mean变成一个Scalar，那么说明每个元素来共享一个mean值。\n",
    "\n",
    "在这种情况下，生成的Tensor的shape就行std保持一致的了。"
   ]
  },
  {
   "cell_type": "code",
   "execution_count": 15,
   "id": "olive-third",
   "metadata": {},
   "outputs": [
    {
     "data": {
      "text/plain": [
       "tensor([ 1.0000,  0.9540,  0.7664,  1.0074,  0.7044,  0.8077,  1.3776,  2.2947,\n",
       "         2.7416,  2.0305,  2.3241, -0.1520])"
      ]
     },
     "execution_count": 15,
     "metadata": {},
     "output_type": "execute_result"
    }
   ],
   "source": [
    "torch.normal(1.0, std)"
   ]
  },
  {
   "cell_type": "markdown",
   "id": "excellent-sociology",
   "metadata": {},
   "source": [
    "第三种：\n",
    "\n",
    "```python\n",
    "'''\n",
    "Args:\n",
    "    mean (Tensor): the tensor of per-element means\n",
    "    std (float, optional): the standard deviation for all distributions\n",
    "'''\n",
    "normal(mean, std=1.0, *, out=None) -> Tensor\n",
    "```\n",
    "这种情况和第二种情况，恰恰相反了，std变成了每个元素共享的。"
   ]
  },
  {
   "cell_type": "code",
   "execution_count": 16,
   "id": "ambient-shame",
   "metadata": {},
   "outputs": [
    {
     "data": {
      "text/plain": [
       "tensor([[-0.2012,  1.6828,  1.9805,  2.8949],\n",
       "        [ 2.7657,  6.4303,  5.6291,  7.1419],\n",
       "        [ 8.1036,  9.3677, 10.5676, 10.7179]])"
      ]
     },
     "execution_count": 16,
     "metadata": {},
     "output_type": "execute_result"
    }
   ],
   "source": [
    "torch.normal(mean, 0.5)"
   ]
  },
  {
   "cell_type": "markdown",
   "id": "acoustic-function",
   "metadata": {},
   "source": [
    "第四种：\n",
    "\n",
    "```python\n",
    "'''\n",
    "Args:\n",
    "    mean (float): the mean for all distributions\n",
    "    std (float): the standard deviation for all distributions\n",
    "    size (int...): a sequence of integers defining the shape of the output tensor.\n",
    "'''\n",
    "normal(mean, std, size, *, out=None) -> Tensor\n",
    "```\n",
    "这种情况下，所有的元素都共享mean和std，最终Tensor的形状是由`size`来决定的"
   ]
  },
  {
   "cell_type": "code",
   "execution_count": 17,
   "id": "statewide-defeat",
   "metadata": {},
   "outputs": [
    {
     "data": {
      "text/plain": [
       "tensor([[ 0.3704, -1.0554, -0.4917,  0.3783],\n",
       "        [ 0.3406,  1.5351, -0.5526, -0.9879],\n",
       "        [-0.5488,  1.2171, -0.1122,  0.2516]])"
      ]
     },
     "execution_count": 17,
     "metadata": {},
     "output_type": "execute_result"
    }
   ],
   "source": [
    "torch.normal(0, 1, (3,4))"
   ]
  },
  {
   "cell_type": "markdown",
   "id": "expensive-ground",
   "metadata": {},
   "source": [
    "## torch.rand、torch.randn\n",
    "\n",
    "`rand`直接生成指定形状的Tensor，其中每个元素都是由`[0,1)`均匀分布来随机产生。\n",
    "\n",
    "`randn`直接生成指定形状的Tensor，其中每个元素都是由标准正态分布来随机产生。"
   ]
  },
  {
   "cell_type": "code",
   "execution_count": 18,
   "id": "difficult-exclusive",
   "metadata": {},
   "outputs": [
    {
     "data": {
      "text/plain": [
       "tensor([[0.1291, 0.1085, 0.4977, 0.1836],\n",
       "        [0.6399, 0.5412, 0.8739, 0.9029],\n",
       "        [0.6911, 0.7000, 0.4426, 0.3203]])"
      ]
     },
     "execution_count": 18,
     "metadata": {},
     "output_type": "execute_result"
    }
   ],
   "source": [
    "torch.rand(3,4)"
   ]
  },
  {
   "cell_type": "code",
   "execution_count": 19,
   "id": "resident-austin",
   "metadata": {},
   "outputs": [
    {
     "data": {
      "text/plain": [
       "tensor([[-0.1671, -0.3100, -0.3688,  1.1759],\n",
       "        [ 2.0601, -1.3530, -0.4802,  0.1087],\n",
       "        [ 1.1550,  1.6991, -2.5159, -0.8967]])"
      ]
     },
     "execution_count": 19,
     "metadata": {},
     "output_type": "execute_result"
    }
   ],
   "source": [
    "torch.randn(3,4)"
   ]
  },
  {
   "cell_type": "markdown",
   "id": "regional-afternoon",
   "metadata": {},
   "source": [
    "## torch.randint\n",
    "\n",
    "产生一个由`[low,high)`区间均匀分布随机数填充的LongTensor\n",
    "\n",
    "```python\n",
    "randint(low=0,high,size,...)\n",
    "```"
   ]
  },
  {
   "cell_type": "code",
   "execution_count": 20,
   "id": "large-vaccine",
   "metadata": {},
   "outputs": [
    {
     "data": {
      "text/plain": [
       "tensor([[2, 3, 8, 6],\n",
       "        [4, 4, 8, 3],\n",
       "        [7, 5, 8, 1]])"
      ]
     },
     "execution_count": 20,
     "metadata": {},
     "output_type": "execute_result"
    }
   ],
   "source": [
    "torch.randint(1,10,(3,4))"
   ]
  },
  {
   "cell_type": "markdown",
   "id": "danish-prime",
   "metadata": {},
   "source": [
    "## torch.randperm\n",
    "\n",
    "生成一个随机全排列的一维的LongTensor"
   ]
  },
  {
   "cell_type": "code",
   "execution_count": 21,
   "id": "strange-biography",
   "metadata": {},
   "outputs": [
    {
     "data": {
      "text/plain": [
       "tensor([ 9, 10,  3,  5,  7,  4, 11,  0,  6,  1,  2,  8])"
      ]
     },
     "execution_count": 21,
     "metadata": {},
     "output_type": "execute_result"
    }
   ],
   "source": [
    "torch.randperm(12)"
   ]
  },
  {
   "cell_type": "markdown",
   "id": "directed-simon",
   "metadata": {},
   "source": [
    "# 使用`xx_like`系列创建相同形态的Tensor\n",
    "\n",
    "除了shape保持一致外，`dtype`、`layout`、`device`等，若无特别指定，则也与源Tensor保持一致。\n",
    "\n",
    "```python\n",
    "torch.zeros_like(input, ..) # 返回与input相同size的零矩阵\n",
    "\n",
    "torch.ones_like(input, ..) #返回与input相同size的单位矩阵\n",
    "\n",
    "torch.full_like(input, fill_value, …) #返回与input相同size，单位值为fill_value的矩阵\n",
    "\n",
    "torch.empty_like(input, …) # 返回与input相同size,并被未初始化的数值填充的tensor\n",
    "\n",
    "torch.rand_like(input, dtype=None, …) #返回与input相同size的tensor, 填充均匀分布的随机数值\n",
    "\n",
    "torch.randint_like(input, low=0, high, dtype=None, …) #返回与input相同size的tensor, 填充[low, high)均匀分布的随机数值\n",
    "\n",
    "torch.randn_like(input, dtype=None, …) #返回与input相同size的tensor, 填充标准正态分布的随机数值\n",
    "\n",
    "```"
   ]
  },
  {
   "cell_type": "code",
   "execution_count": 22,
   "id": "spatial-montgomery",
   "metadata": {},
   "outputs": [],
   "source": [
    "src = torch.randn(4,5)"
   ]
  },
  {
   "cell_type": "code",
   "execution_count": 23,
   "id": "forty-membrane",
   "metadata": {},
   "outputs": [
    {
     "data": {
      "text/plain": [
       "tensor([[0., 0., 0., 0., 0.],\n",
       "        [0., 0., 0., 0., 0.],\n",
       "        [0., 0., 0., 0., 0.],\n",
       "        [0., 0., 0., 0., 0.]])"
      ]
     },
     "execution_count": 23,
     "metadata": {},
     "output_type": "execute_result"
    }
   ],
   "source": [
    "torch.zeros_like(src)"
   ]
  },
  {
   "cell_type": "code",
   "execution_count": 24,
   "id": "overall-dragon",
   "metadata": {},
   "outputs": [
    {
     "data": {
      "text/plain": [
       "tensor([[1, 1, 1, 1, 1],\n",
       "        [1, 1, 1, 1, 1],\n",
       "        [1, 1, 1, 1, 1],\n",
       "        [1, 1, 1, 1, 1]], dtype=torch.int32)"
      ]
     },
     "execution_count": 24,
     "metadata": {},
     "output_type": "execute_result"
    }
   ],
   "source": [
    "torch.ones_like(src, dtype=torch.int)"
   ]
  },
  {
   "cell_type": "code",
   "execution_count": 25,
   "id": "backed-budapest",
   "metadata": {},
   "outputs": [
    {
     "data": {
      "text/plain": [
       "tensor([[1., 2., 3., 4., 5.],\n",
       "        [0., 0., 0., 0., 0.],\n",
       "        [0., 0., 0., 0., 0.],\n",
       "        [0., 0., 0., 0., 0.]], device='cuda:0')"
      ]
     },
     "execution_count": 25,
     "metadata": {},
     "output_type": "execute_result"
    }
   ],
   "source": [
    "torch.empty_like(src, device='cuda:0')"
   ]
  },
  {
   "cell_type": "code",
   "execution_count": 26,
   "id": "pointed-williams",
   "metadata": {},
   "outputs": [
    {
     "data": {
      "text/plain": [
       "tensor([[42., 42., 42., 42., 42.],\n",
       "        [42., 42., 42., 42., 42.],\n",
       "        [42., 42., 42., 42., 42.],\n",
       "        [42., 42., 42., 42., 42.]])"
      ]
     },
     "execution_count": 26,
     "metadata": {},
     "output_type": "execute_result"
    }
   ],
   "source": [
    "# 这里即使full_value是int类型，但生成的Tensor，依然是用的src的dtype\n",
    "torch.full_like(src, 42)"
   ]
  },
  {
   "cell_type": "code",
   "execution_count": 27,
   "id": "noticed-spanking",
   "metadata": {},
   "outputs": [
    {
     "data": {
      "text/plain": [
       "tensor([[0.6990, 0.0617, 0.0418, 0.0900, 0.9830],\n",
       "        [0.8164, 0.1852, 0.2386, 0.2956, 0.3999],\n",
       "        [0.4655, 0.1092, 0.7640, 0.1811, 0.5279],\n",
       "        [0.9435, 0.7238, 0.1428, 0.0752, 0.1228]])"
      ]
     },
     "execution_count": 27,
     "metadata": {},
     "output_type": "execute_result"
    }
   ],
   "source": [
    "torch.rand_like(src)"
   ]
  },
  {
   "cell_type": "code",
   "execution_count": 28,
   "id": "norwegian-notice",
   "metadata": {},
   "outputs": [
    {
     "data": {
      "text/plain": [
       "tensor([[ 0.9366,  0.1560,  0.6002,  1.3912,  0.5083],\n",
       "        [ 1.1414,  2.5705, -0.3684, -0.0108, -0.2299],\n",
       "        [-0.7489,  0.0045,  0.2403,  1.0501,  1.1373],\n",
       "        [-0.4165,  1.2640,  0.7514, -0.1586,  0.4076]])"
      ]
     },
     "execution_count": 28,
     "metadata": {},
     "output_type": "execute_result"
    }
   ],
   "source": [
    "torch.randn_like(src)"
   ]
  },
  {
   "cell_type": "code",
   "execution_count": 29,
   "id": "committed-soundtrack",
   "metadata": {},
   "outputs": [
    {
     "data": {
      "text/plain": [
       "tensor([[2., 1., 8., 1., 5.],\n",
       "        [7., 7., 2., 6., 4.],\n",
       "        [9., 7., 6., 5., 3.],\n",
       "        [4., 4., 8., 7., 6.]])"
      ]
     },
     "execution_count": 29,
     "metadata": {},
     "output_type": "execute_result"
    }
   ],
   "source": [
    "torch.randint_like(src, 1, 10)"
   ]
  }
 ],
 "metadata": {
  "kernelspec": {
   "display_name": "Python 3",
   "language": "python",
   "name": "python3"
  },
  "language_info": {
   "codemirror_mode": {
    "name": "ipython",
    "version": 3
   },
   "file_extension": ".py",
   "mimetype": "text/x-python",
   "name": "python",
   "nbconvert_exporter": "python",
   "pygments_lexer": "ipython3",
   "version": "3.8.8"
  },
  "toc-autonumbering": false,
  "toc-showcode": false,
  "toc-showmarkdowntxt": false
 },
 "nbformat": 4,
 "nbformat_minor": 5
}
