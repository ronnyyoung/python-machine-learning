{
 "cells": [
  {
   "cell_type": "markdown",
   "id": "761cb4fa-2b66-4345-8698-e5c11cc4176b",
   "metadata": {},
   "source": [
    "# 深度学习硬件"
   ]
  },
  {
   "cell_type": "markdown",
   "id": "7c8819ea-9b2f-4c9e-9fb1-5f14fd4ffffe",
   "metadata": {},
   "source": []
  }
 ],
 "metadata": {
  "kernelspec": {
   "display_name": "Python 3",
   "language": "python",
   "name": "python3"
  },
  "language_info": {
   "codemirror_mode": {
    "name": "ipython",
    "version": 3
   },
   "file_extension": ".py",
   "mimetype": "text/x-python",
   "name": "python",
   "nbconvert_exporter": "python",
   "pygments_lexer": "ipython3",
   "version": "3.8.8"
  }
 },
 "nbformat": 4,
 "nbformat_minor": 5
}
