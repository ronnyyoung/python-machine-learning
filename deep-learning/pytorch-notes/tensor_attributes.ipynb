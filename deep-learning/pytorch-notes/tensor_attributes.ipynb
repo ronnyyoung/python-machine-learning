{
 "cells": [
  {
   "cell_type": "markdown",
   "id": "serial-compromise",
   "metadata": {},
   "source": [
    "# Tensor的属性"
   ]
  },
  {
   "cell_type": "code",
   "execution_count": 1,
   "id": "placed-poison",
   "metadata": {},
   "outputs": [],
   "source": [
    "import torch\n",
    "import numpy as np"
   ]
  },
  {
   "cell_type": "markdown",
   "id": "mineral-neighborhood",
   "metadata": {},
   "source": [
    "Tensor的属性共有三类：\n",
    "- torch.dtype\n",
    "- torch.device\n",
    "- torch.layout"
   ]
  },
  {
   "cell_type": "markdown",
   "id": "indian-vehicle",
   "metadata": {},
   "source": [
    "# dtype\n",
    "\n",
    "其中`torch.dtype`表示Tensor的数据类型，常见的有下面9种不同的数据类型，包括了\n",
    "\n",
    "- `torch.float32`或`torch.float`，对应的Tensor类型为`torch.[cuda].FloatTensor`\n",
    "- `torch.float64`或`torch.double`，对应的Tensor类型为`torch.[cuda].DoubleTensor`\n",
    "- `torch.float16`或`torch.half`，对应的Tensor类型为`torch.cuda.HalfTensor`，不存在`torch.HalfTensor`\n",
    "- `torch.uint8`，对应的Tensor类型为`torch.[cuda].ByteTensor`\n",
    "- `torch.int8`，对应的Tensor类型为`torch.[cuda].CharTensor`\n",
    "- `torch.int16`或`torch.short`，对应的Tensor类型为`torch.[cuda].ShortTensor`\n",
    "- `torch.int32`或`torch.int`，对应的Tensor类型为`torch.[cuda].IntTensor`\n",
    "- `torch.int64`或`torch.long`，对应的Tensor类型为`torch.[cuda].LongTensor`\n",
    "- `torch.bool`，对应的Tensor类型为`torch.[cuda].BoolTensor`\n",
    "\n",
    "还有几种数据类型，用的比较少：\n",
    "\n",
    "- `torch.bfloat16`，对应的Tensor类型为`torch.[cuda].BFloat16Tensor`\n",
    "- `torch.complex32`，对应的Tensor类型为`torch.[cuda].FloatTensor`\n",
    "- `torch.complex64`，对应的Tensor类型为`torch.[cuda].DoubleTensor`\n",
    "- `torch.complex128`或`torch.cdouble`，对应的Tensor类型为`torch.cuda.HalfTensor`，不存在`torch.HalfTensor`\n",
    "\n",
    "其中[`bfloat16`](https://en.wikipedia.org/wiki/Bfloat16_floating-point_format)是一种和IEEE half-precision 16-bit float规定不一致的16Bit浮点数格式，它是直接对32位的IEEE 754规定的单精度float32的格式进行截取形成的。所以，它的组成是：\n",
    "- 1位符号位\n",
    "- 8个指数位\n",
    "- 7个小数位\n",
    "\n",
    "在不同的机器上，因为CPU架构等不同，Tensor的很多构建函数，对上面的部分`dtype`有可能是不支持的，比如`arange`函数就不支持在`cpu`上创建一个`float16`的Tensor"
   ]
  },
  {
   "cell_type": "markdown",
   "id": "joint-national",
   "metadata": {},
   "source": [
    "torch.arange(1,10, dtype=torch.float16, device=torch.device('cpu'))"
   ]
  },
  {
   "cell_type": "markdown",
   "id": "limiting-standing",
   "metadata": {},
   "source": [
    "由于CUDA对半精度支持的比较好，所以在'cuda'上创建，反而没有什么问题"
   ]
  },
  {
   "cell_type": "code",
   "execution_count": 2,
   "id": "ready-needle",
   "metadata": {},
   "outputs": [
    {
     "data": {
      "text/plain": [
       "tensor([1., 2., 3., 4., 5., 6., 7., 8., 9.], device='cuda:0',\n",
       "       dtype=torch.float16)"
      ]
     },
     "execution_count": 2,
     "metadata": {},
     "output_type": "execute_result"
    }
   ],
   "source": [
    "torch.arange(1,10, dtype=torch.float16, device=torch.device('cuda'))"
   ]
  },
  {
   "cell_type": "markdown",
   "id": "working-commerce",
   "metadata": {},
   "source": [
    "# device\n",
    "\n",
    "`torch.device`表示的是Tensor的数据存储的设备，其中分为'cpu'和'cuda'"
   ]
  },
  {
   "cell_type": "code",
   "execution_count": 3,
   "id": "advisory-diagnosis",
   "metadata": {},
   "outputs": [
    {
     "data": {
      "text/plain": [
       "device(type='cpu')"
      ]
     },
     "execution_count": 3,
     "metadata": {},
     "output_type": "execute_result"
    }
   ],
   "source": [
    "torch.device('cpu')"
   ]
  },
  {
   "cell_type": "code",
   "execution_count": 4,
   "id": "funny-acoustic",
   "metadata": {},
   "outputs": [
    {
     "data": {
      "text/plain": [
       "device(type='cuda', index=0)"
      ]
     },
     "execution_count": 4,
     "metadata": {},
     "output_type": "execute_result"
    }
   ],
   "source": [
    "torch.device('cuda:0')"
   ]
  },
  {
   "cell_type": "code",
   "execution_count": 5,
   "id": "aggressive-inspection",
   "metadata": {},
   "outputs": [
    {
     "data": {
      "text/plain": [
       "device(type='cuda', index=0)"
      ]
     },
     "execution_count": 5,
     "metadata": {},
     "output_type": "execute_result"
    }
   ],
   "source": [
    "torch.device(type='cuda',index=0)"
   ]
  },
  {
   "cell_type": "code",
   "execution_count": 6,
   "id": "cosmetic-baptist",
   "metadata": {},
   "outputs": [
    {
     "data": {
      "text/plain": [
       "tensor([1, 2, 3, 4, 5, 6], device='cuda:0')"
      ]
     },
     "execution_count": 6,
     "metadata": {},
     "output_type": "execute_result"
    }
   ],
   "source": [
    "torch.tensor([1,2,3,4,5,6],device=torch.device('cuda:0'))"
   ]
  },
  {
   "cell_type": "markdown",
   "id": "sought-algorithm",
   "metadata": {},
   "source": [
    "# layout\n",
    "\n",
    "layout表示Tensor内部数据存储的内部布局，目前还是一个不成熟(beta)的特性，目前支持\n",
    "\n",
    "- torch.strided\n",
    "- torch.sparse_coo\n",
    "\n",
    "现在主要用的就是面向dense Tensor的`torch.strided`，Tensor的Strides是一个list，它代表每个dimension上两邻两个idx之间的跨度(元素个数)。"
   ]
  },
  {
   "cell_type": "code",
   "execution_count": 7,
   "id": "abandoned-spanking",
   "metadata": {},
   "outputs": [
    {
     "data": {
      "text/plain": [
       "(20, 5, 1)"
      ]
     },
     "execution_count": 7,
     "metadata": {},
     "output_type": "execute_result"
    }
   ],
   "source": [
    "torch.arange(60).reshape(3,4,5).stride()"
   ]
  },
  {
   "cell_type": "markdown",
   "id": "painful-authorization",
   "metadata": {},
   "source": [
    "# Tensor属性转换\n",
    "\n",
    "我们可以使用`to`方法来指定新的属性后，生成新的Tensor"
   ]
  },
  {
   "cell_type": "code",
   "execution_count": 8,
   "id": "minute-cassette",
   "metadata": {},
   "outputs": [
    {
     "name": "stdout",
     "output_type": "stream",
     "text": [
      "torch.int64 cpu\n",
      "torch.float32 cuda:0\n"
     ]
    }
   ],
   "source": [
    "device_cuda = torch.device('cuda')\n",
    "data = torch.tensor([1])\n",
    "print(data.dtype, data.device)\n",
    "data = data.to(dtype=torch.float32, device=device_cuda)\n",
    "print(data.dtype, data.device)"
   ]
  },
  {
   "cell_type": "markdown",
   "id": "entertaining-aquatic",
   "metadata": {},
   "source": [
    "# Tensor的形状\n",
    "\n",
    "Tensor除了具有3个标准的属性外，一旦我们创建了一个Tensor，那么它就会具有一些形状相关的属性。\n",
    "\n",
    "- t.shape: 返回的是一个torch.Size(tuple)类型的结果，表示每一维的维度值\n",
    "- t.ndim：返回Tensor有多少维\n",
    "- t.numel()：它是一个方法，返回Tensor内有多少个元素\n",
    "- len(t)：返回的是Tensor在第0维上的维度值"
   ]
  },
  {
   "cell_type": "code",
   "execution_count": 12,
   "id": "headed-dylan",
   "metadata": {},
   "outputs": [
    {
     "name": "stdout",
     "output_type": "stream",
     "text": [
      "shape of t is torch.Size([2, 3, 4])\n",
      "ndim of t is 3\n",
      "numel of t is 24\n",
      "len of t is 2\n"
     ]
    }
   ],
   "source": [
    "t = torch.empty(2,3,4)\n",
    "print(f'shape of t is {t.shape}')\n",
    "print(f'ndim of t is {t.ndim}')\n",
    "print(f'numel of t is {t.numel()}')\n",
    "print(f'len of t is {len(t)}')"
   ]
  }
 ],
 "metadata": {
  "kernelspec": {
   "display_name": "Python 3",
   "language": "python",
   "name": "python3"
  },
  "language_info": {
   "codemirror_mode": {
    "name": "ipython",
    "version": 3
   },
   "file_extension": ".py",
   "mimetype": "text/x-python",
   "name": "python",
   "nbconvert_exporter": "python",
   "pygments_lexer": "ipython3",
   "version": "3.8.8"
  }
 },
 "nbformat": 4,
 "nbformat_minor": 5
}
