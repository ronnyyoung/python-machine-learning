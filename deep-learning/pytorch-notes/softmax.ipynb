{
 "cells": [
  {
   "cell_type": "markdown",
   "id": "3ca3e3a9-3c2d-4b55-bdfb-b9ec2fc2934c",
   "metadata": {},
   "source": [
    "# Softmax分类\n",
    "\n",
    "Softmax中的硬性类别与软类别。\n",
    "\n",
    "对于分类问题，我们往往只对样本的硬件类别感兴趣，即属于哪个类别；但同时，我们希望得到软性类别，即属于第个类别的概率。这两者界限往往很模糊。其中的一个原因是，即使我们只关心硬类别，我们仍然使用软类别的模型。"
   ]
  },
  {
   "cell_type": "markdown",
   "id": "6cd7cb33-454e-4a0a-9238-236f9a583216",
   "metadata": {},
   "source": [
    "# 如何表示类别\n",
    "\n",
    "我们有两个明显的选择。也许最直接的想法是选择$y\\in \\{1,2,3\\}$，其中整数分别代表  {狗,猫,鸡} 。这是在计算机上存储此类信息的好方法。如果类别间有一些自然顺序，比如说我们试图预测  {婴儿,儿童,青少年,青年人,中年人,老年人} ，那么将这个问题转变为回归问题并保留这种格式是有意义的。\n",
    "\n",
    "但是，一般的分类问题并不与类别之间的自然顺序有关。幸运的是，统计学家很早以前就发明了一种表示分类数据的简单方法：独热编码（one-hot encoding）。独热编码是一个向量，它的分量和类别一样多。类别对应的分量设置为1，其他所有分量设置为0。 在我们的例子中，标签$\\mathbf{y}$将是一个三维向量，其中$(1,0,0)$对应于 “猫”、$(0,1,0)$对应于 “鸡”、$(0,0,1)$对应于 “狗”：\n",
    "$$y\\in\\{(1,0,0),(0,1,0),(0,0,1)\\}$$"
   ]
  },
  {
   "cell_type": "code",
   "execution_count": 1,
   "id": "8ada19b3-eb57-4d3d-ad11-36c6a921d024",
   "metadata": {},
   "outputs": [],
   "source": [
    "import torch"
   ]
  },
  {
   "cell_type": "markdown",
   "id": "1e9154e3-64d8-4c85-a48c-3c9329663704",
   "metadata": {},
   "source": [
    "样本的数量为$N$，特征长度为$D$，分类的类别为$K$，那么\n",
    "\n",
    "- 输入数据为$X$，是一个$N\\times D$的矩阵\n",
    "- 参数$W$是一个为$D\\times K$的矩阵\n",
    "- 参数$\\mathbf{b}$是一个长度为$K$的向量。\n",
    "- 参考输出$\\mathbf{Y}$是一个$N\\times K$的矩阵，矩阵每一行为一个样本的输出，如果样本$i$属于第$k$类，则$Y_{i,k} = 1$，这一行的其他元素全为0。\n",
    "\n",
    "$$\n",
    "\\begin{align}\n",
    "Z &= X\\cdot W + \\mathbf{b} \\\\\n",
    "\\hat{Y} &= \\frac{e^{Z}}{\\sum_ke^{Z_{:,k}}} \\\\\n",
    "L(W,\\mathbf{b}) &= \\frac{1}{N}\\sum(-Y\\circ\\ln \\hat{Y}),\\;\\circ\\text{代表按元素乘}\n",
    "\\end{align}\n",
    "$$"
   ]
  },
  {
   "cell_type": "code",
   "execution_count": 2,
   "id": "b017d3a4-c94e-41fd-a9bf-b8bbbbe0f3fb",
   "metadata": {},
   "outputs": [],
   "source": [
    "class SoftmaxRegression(object):\n",
    "    def __init__(self, num_features, num_classes):\n",
    "        # 这里对于w的初始化的值，是非常影响模型的训练速度与效果的\n",
    "        self.w = torch.normal(\n",
    "            0, 0.01, (num_features, num_classes), requires_grad=True)\n",
    "        self.b = torch.zeros(num_classes, requires_grad=True)\n",
    "\n",
    "    def forward(self, x):\n",
    "        x = x.reshape((-1, self.w.shape[0]))  # 将x从1x28x28转化为28x28\n",
    "        z = torch.matmul(x, self.w) + self.b\n",
    "        z -= torch.max(z, dim=1, keepdim=True)[0]  # 消除特别大的值\n",
    "        exp_z = torch.exp(z)\n",
    "        return exp_z / torch.sum(exp_z, dim=1, keepdim=True)\n",
    "\n",
    "    def parameters(self):\n",
    "        return self.w, self.b\n",
    "\n",
    "    def __call__(self, x):\n",
    "        return self.forward(x)"
   ]
  },
  {
   "cell_type": "code",
   "execution_count": 3,
   "id": "845fb562-97fd-4b7a-a4a5-57e716cad581",
   "metadata": {},
   "outputs": [],
   "source": [
    "'''\n",
    "Args:\n",
    "  y_hat: 是一个N*K的矩阵，每一行代表对应样本预测的每一类的概率\n",
    "  y:是一个N*1的向量，向量每个值，代表该样本属于哪一个类别\n",
    "'''\n",
    "\n",
    "\n",
    "def CrossEntropy(y_hat, y):\n",
    "    return torch.mean(-torch.log(y_hat[range(len(y)), y]))"
   ]
  },
  {
   "cell_type": "markdown",
   "id": "b81f8401-22a1-4f60-8c0a-5cb3717a7182",
   "metadata": {},
   "source": [
    "# Fashion MNist数据集\n",
    "\n",
    "MNist共有10个类别，每个类别有6000张测试集和1000张测试集，图片的大小为28x28"
   ]
  },
  {
   "cell_type": "code",
   "execution_count": 4,
   "id": "97d34dde-a4e5-41c2-a29e-052045d082a1",
   "metadata": {},
   "outputs": [],
   "source": [
    "import torch\n",
    "from torch import nn\n",
    "from torch.utils.data import Dataset\n",
    "from torchvision import datasets\n",
    "from torchvision.transforms import ToTensor\n",
    "import matplotlib.pyplot as plt"
   ]
  },
  {
   "cell_type": "code",
   "execution_count": 5,
   "id": "b5fc6f77-5b2f-4403-be82-3460bb344f96",
   "metadata": {},
   "outputs": [
    {
     "name": "stdout",
     "output_type": "stream",
     "text": [
      "training dataset size: 60000\n",
      "testing dataset size: 10000\n",
      "image size: torch.Size([1, 28, 28])\n"
     ]
    }
   ],
   "source": [
    "training_set = datasets.FashionMNIST(\n",
    "    root='./data', train=True, download=True, transform=ToTensor())\n",
    "testing_set = datasets.FashionMNIST(\n",
    "    root='./data', train=False, download=True, transform=ToTensor())\n",
    "print(f'training dataset size: {len(training_set)}')\n",
    "print(f'testing dataset size: {len(testing_set)}')\n",
    "print(f'image size: {training_set[0][0].shape}')"
   ]
  },
  {
   "cell_type": "code",
   "execution_count": 6,
   "id": "ddc21aa5-3b0f-4989-9926-37d045d6050b",
   "metadata": {},
   "outputs": [
    {
     "data": {
      "image/png": "[encoded data removed]",
      "text/plain": [
       "<Figure size 576x576 with 9 Axes>"
      ]
     },
     "metadata": {
      "needs_background": "light"
     },
     "output_type": "display_data"
    }
   ],
   "source": [
    "labels_map = {\n",
    "    0: \"T-Shirt\",\n",
    "    1: \"Trouser\",\n",
    "    2: \"Pullover\",\n",
    "    3: \"Dress\",\n",
    "    4: \"Coat\",\n",
    "    5: \"Sandal\",\n",
    "    6: \"Shirt\",\n",
    "    7: \"Sneaker\",\n",
    "    8: \"Bag\",\n",
    "    9: \"Ankle Boot\",\n",
    "}\n",
    "figure = plt.figure(figsize=(8, 8))\n",
    "cols, rows = 3, 3\n",
    "for i in range(cols * rows):\n",
    "    # 随机选择一个样本\n",
    "    sample_idx = torch.randint(len(training_set), size=(1,)).item()\n",
    "    img, label = training_set[sample_idx]\n",
    "    figure.add_subplot(rows, cols, i + 1)\n",
    "    plt.title(labels_map[label])\n",
    "    plt.axis(\"off\")  # 不显示x,y坐标轴上的刻度\n",
    "    plt.imshow(img.squeeze(), cmap=\"gray\")  # img默认是1x28x28的，squeeze后变成28x28\n",
    "plt.show()"
   ]
  },
  {
   "cell_type": "code",
   "execution_count": 7,
   "id": "6fe78011-b6cf-4220-8d38-4cb87011458b",
   "metadata": {},
   "outputs": [],
   "source": [
    "batch_size = 256\n",
    "training_iter = torch.utils.data.DataLoader(\n",
    "    training_set, batch_size, shuffle=True)\n",
    "testing_iter = torch.utils.data.DataLoader(testing_set, batch_size)"
   ]
  },
  {
   "cell_type": "markdown",
   "id": "ab64bdfd-8379-4d4a-a8f7-2e221055b135",
   "metadata": {},
   "source": [
    "# 从零实现"
   ]
  },
  {
   "cell_type": "code",
   "execution_count": 8,
   "id": "fccfa36e-8ae1-4f53-a382-64a45672e385",
   "metadata": {},
   "outputs": [],
   "source": [
    "def optimizer_scg(parameters, lr=0.03):\n",
    "    with torch.no_grad():\n",
    "        for param in parameters:\n",
    "            param -= lr * param.grad\n",
    "            param.grad.zero_()"
   ]
  },
  {
   "cell_type": "code",
   "execution_count": 9,
   "id": "239f837d-84c4-466a-aa40-c2484a5c207d",
   "metadata": {},
   "outputs": [],
   "source": [
    "def accuracy(y_hat, y):\n",
    "    max_indices = torch.max(y_hat, dim=1)[1]\n",
    "    return (y == max_indices).to(dtype=torch.float32).mean()\n",
    "\n",
    "\n",
    "def accuracy_on(model, data_iter):\n",
    "    acc = []\n",
    "    for X, y in data_iter:\n",
    "        y_hat = model(X)\n",
    "        acc.append(accuracy(y_hat, y))\n",
    "    return torch.tensor(acc).mean().item()"
   ]
  },
  {
   "cell_type": "code",
   "execution_count": 10,
   "id": "30f099c2-f62c-456d-a581-9b1f5223a677",
   "metadata": {},
   "outputs": [
    {
     "name": "stdout",
     "output_type": "stream",
     "text": [
      "the loss of epoch 0: 0.7820, accuracy on training set: 0.7526, accuracy on testing set: 0.7893\n",
      "the loss of epoch 1: 0.5706, accuracy on training set: 0.8133, accuracy on testing set: 0.8129\n",
      "the loss of epoch 2: 0.5258, accuracy on training set: 0.8251, accuracy on testing set: 0.7807\n",
      "the loss of epoch 3: 0.5025, accuracy on training set: 0.8310, accuracy on testing set: 0.8145\n",
      "the loss of epoch 4: 0.4851, accuracy on training set: 0.8372, accuracy on testing set: 0.8257\n",
      "the loss of epoch 5: 0.4735, accuracy on training set: 0.8403, accuracy on testing set: 0.8314\n",
      "the loss of epoch 6: 0.4645, accuracy on training set: 0.8430, accuracy on testing set: 0.8304\n",
      "the loss of epoch 7: 0.4576, accuracy on training set: 0.8446, accuracy on testing set: 0.8323\n",
      "the loss of epoch 8: 0.4525, accuracy on training set: 0.8468, accuracy on testing set: 0.8270\n",
      "the loss of epoch 9: 0.4478, accuracy on training set: 0.8485, accuracy on testing set: 0.8288\n"
     ]
    },
    {
     "data": {
      "image/png": "[encoded data removed]",
      "text/plain": [
       "<Figure size 432x288 with 1 Axes>"
      ]
     },
     "metadata": {
      "needs_background": "light"
     },
     "output_type": "display_data"
    }
   ],
   "source": [
    "num_features = 28 * 28\n",
    "num_classes = 10\n",
    "model = SoftmaxRegression(num_features, num_classes)\n",
    "\n",
    "epoch = 10\n",
    "lr = 0.1\n",
    "training_loss = []\n",
    "training_acc = []\n",
    "testing_acc = []\n",
    "for i in range(epoch):\n",
    "    epoch_loss = 0\n",
    "    epoch_accuracy = 0\n",
    "    for X, y in training_iter:\n",
    "        y_hat = model(X)\n",
    "        loss = CrossEntropy(y_hat, y)\n",
    "        epoch_accuracy += accuracy(y_hat, y)\n",
    "        loss.backward()\n",
    "        epoch_loss += loss.item()\n",
    "        optimizer_scg(model.parameters(), lr)\n",
    "    training_loss.append(epoch_loss / len(training_iter))\n",
    "    training_acc.append(epoch_accuracy / len(training_iter))\n",
    "    testing_acc.append(accuracy_on(model, testing_iter))\n",
    "    print(\n",
    "        f'the loss of epoch {i}: {training_loss[-1]:.4f}, accuracy on training set: {training_acc[-1]:.4f}, accuracy on testing set: {testing_acc[-1]:.4f}')\n",
    "plt.plot(training_loss, label='training_loss')\n",
    "plt.plot(training_acc, label='training_acc')\n",
    "plt.plot(testing_acc, label='testing_acc')\n",
    "plt.legend()\n",
    "plt.show()"
   ]
  },
  {
   "cell_type": "markdown",
   "id": "9cde154e-cfd6-4b0a-99d4-437be39c0eb7",
   "metadata": {},
   "source": [
    "# Pytorch简洁版本实现"
   ]
  },
  {
   "cell_type": "code",
   "execution_count": 12,
   "id": "9612b573-b48a-46ed-bb12-dba1b00cd6d9",
   "metadata": {},
   "outputs": [
    {
     "name": "stdout",
     "output_type": "stream",
     "text": [
      "the loss of epoch 0: 0.7841, accuracy on training set: 0.8485, accuracy on testing set: 0.7854\n",
      "the loss of epoch 1: 0.5711, accuracy on training set: 0.8485, accuracy on testing set: 0.7830\n",
      "the loss of epoch 2: 0.5250, accuracy on training set: 0.8485, accuracy on testing set: 0.8108\n",
      "the loss of epoch 3: 0.5016, accuracy on training set: 0.8485, accuracy on testing set: 0.8094\n",
      "the loss of epoch 4: 0.4860, accuracy on training set: 0.8485, accuracy on testing set: 0.8195\n",
      "the loss of epoch 5: 0.4739, accuracy on training set: 0.8485, accuracy on testing set: 0.8286\n",
      "the loss of epoch 6: 0.4646, accuracy on training set: 0.8485, accuracy on testing set: 0.8289\n",
      "the loss of epoch 7: 0.4573, accuracy on training set: 0.8485, accuracy on testing set: 0.8282\n",
      "the loss of epoch 8: 0.4520, accuracy on training set: 0.8485, accuracy on testing set: 0.8253\n",
      "the loss of epoch 9: 0.4473, accuracy on training set: 0.8485, accuracy on testing set: 0.8265\n"
     ]
    },
    {
     "data": {
      "image/png": "[encoded data removed]",
      "text/plain": [
       "<Figure size 432x288 with 1 Axes>"
      ]
     },
     "metadata": {
      "needs_background": "light"
     },
     "output_type": "display_data"
    }
   ],
   "source": [
    "model = nn.Sequential(nn.Flatten(), nn.Linear(num_features, num_classes))\n",
    "\n",
    "\n",
    "def init_weigth(m):\n",
    "    if type(m) == nn.Linear:\n",
    "        nn.init.normal_(m.weight, std=0.01)\n",
    "\n",
    "\n",
    "model.apply(init_weigth)\n",
    "loss = nn.CrossEntropyLoss()\n",
    "optimizer = torch.optim.SGD(model.parameters(), lr=0.1)\n",
    "\n",
    "epoch = 10\n",
    "training_loss = []\n",
    "training_acc = []\n",
    "testing_acc = []\n",
    "for i in range(epoch):\n",
    "    epoch_loss = 0\n",
    "    epoch_acc = 0\n",
    "    for X, y in training_iter:\n",
    "        y_hat = model(X)\n",
    "        l = loss(y_hat, y)\n",
    "        epoch_loss += l.item()\n",
    "        epoch_acc += accuracy(y_hat, y)\n",
    "        optimizer.zero_grad()\n",
    "        l.backward()\n",
    "        optimizer.step()\n",
    "    training_loss.append(epoch_loss / len(training_iter))\n",
    "    training_acc.append(epoch_accuracy / len(training_iter))\n",
    "    testing_acc.append(accuracy_on(model, testing_iter))\n",
    "    print(\n",
    "        f'the loss of epoch {i}: {training_loss[-1]:.4f}, accuracy on training set: {training_acc[-1]:.4f}, accuracy on testing set: {testing_acc[-1]:.4f}')\n",
    "plt.plot(training_loss, label='training_loss')\n",
    "plt.plot(training_acc, label='training_acc')\n",
    "plt.plot(testing_acc, label='testing_acc')\n",
    "plt.legend()\n",
    "plt.show()"
   ]
  }
 ],
 "metadata": {
  "kernelspec": {
   "display_name": "Python 3",
   "language": "python",
   "name": "python3"
  },
  "language_info": {
   "codemirror_mode": {
    "name": "ipython",
    "version": 3
   },
   "file_extension": ".py",
   "mimetype": "text/x-python",
   "name": "python",
   "nbconvert_exporter": "python",
   "pygments_lexer": "ipython3",
   "version": "3.8.8"
  }
 },
 "nbformat": 4,
 "nbformat_minor": 5
}
