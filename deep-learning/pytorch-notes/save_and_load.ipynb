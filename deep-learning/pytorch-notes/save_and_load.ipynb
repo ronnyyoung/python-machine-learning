{
 "cells": [
  {
   "cell_type": "markdown",
   "id": "flying-mission",
   "metadata": {},
   "source": [
    "# Tensor与module的保存与加载"
   ]
  },
  {
   "cell_type": "code",
   "execution_count": 1,
   "id": "mental-north",
   "metadata": {},
   "outputs": [],
   "source": [
    "import torch\n",
    "from torch import nn"
   ]
  },
  {
   "cell_type": "markdown",
   "id": "gorgeous-floating",
   "metadata": {},
   "source": [
    "# Tensor的保存与加载"
   ]
  },
  {
   "cell_type": "code",
   "execution_count": 2,
   "id": "general-electric",
   "metadata": {},
   "outputs": [
    {
     "name": "stdout",
     "output_type": "stream",
     "text": [
      "tensor([[-0.3028,  0.8750, -1.2576,  0.0714,  0.8005],\n",
      "        [ 1.2940,  1.4336,  0.5198, -2.3949, -1.4407],\n",
      "        [ 0.5091, -1.0287,  0.4933, -2.2236,  1.4829],\n",
      "        [-0.5200,  0.9021, -0.0429, -1.0872,  0.2069],\n",
      "        [ 0.0215, -0.1059,  0.2874, -0.6647,  0.4710]])\n"
     ]
    },
    {
     "data": {
      "text/plain": [
       "tensor([[-0.3028,  0.8750, -1.2576,  0.0714,  0.8005],\n",
       "        [ 1.2940,  1.4336,  0.5198, -2.3949, -1.4407],\n",
       "        [ 0.5091, -1.0287,  0.4933, -2.2236,  1.4829],\n",
       "        [-0.5200,  0.9021, -0.0429, -1.0872,  0.2069],\n",
       "        [ 0.0215, -0.1059,  0.2874, -0.6647,  0.4710]])"
      ]
     },
     "execution_count": 2,
     "metadata": {},
     "output_type": "execute_result"
    }
   ],
   "source": [
    "# 序列化到文件\n",
    "t = torch.randn(5, 5)\n",
    "print(t)\n",
    "torch.save(t, './data/t.tensor')\n",
    "torch.load('./data/t.tensor')"
   ]
  },
  {
   "cell_type": "code",
   "execution_count": 3,
   "id": "choice-active",
   "metadata": {},
   "outputs": [],
   "source": [
    "from io import BytesIO\n",
    "t = torch.randn(5, 5)\n",
    "buffer = BytesIO()\n",
    "torch.save(t, buffer)\n",
    "#torch.load(buffer)"
   ]
  },
  {
   "cell_type": "markdown",
   "id": "remarkable-globe",
   "metadata": {},
   "source": [
    "# Module的保存与加载\n",
    "\n",
    "可以单独保存模型的参数，也可以把整个模型保存起来"
   ]
  },
  {
   "cell_type": "code",
   "execution_count": 4,
   "id": "noble-companion",
   "metadata": {},
   "outputs": [],
   "source": [
    "from torch import nn"
   ]
  },
  {
   "cell_type": "code",
   "execution_count": 5,
   "id": "explicit-gravity",
   "metadata": {},
   "outputs": [],
   "source": [
    "model = nn.Sequential(nn.Linear(25, 100), nn.ReLU(), nn.Linear(100, 10))\n",
    "torch.save(model.state_dict(), './data/mlp-params.pt')"
   ]
  },
  {
   "cell_type": "code",
   "execution_count": 6,
   "id": "public-jewelry",
   "metadata": {},
   "outputs": [
    {
     "data": {
      "text/plain": [
       "<All keys matched successfully>"
      ]
     },
     "execution_count": 6,
     "metadata": {},
     "output_type": "execute_result"
    }
   ],
   "source": [
    "params = torch.load('./data/mlp-params.pt')\n",
    "# 现在的模型加载一份离线的参数\n",
    "model.load_state_dict(params)"
   ]
  },
  {
   "cell_type": "code",
   "execution_count": 7,
   "id": "ambient-dragon",
   "metadata": {},
   "outputs": [],
   "source": [
    "# 直接把一个网络保存下来\n",
    "torch.save(model, './data/mlp-model.pt')"
   ]
  },
  {
   "cell_type": "code",
   "execution_count": 8,
   "id": "english-christian",
   "metadata": {},
   "outputs": [
    {
     "name": "stdout",
     "output_type": "stream",
     "text": [
      "Sequential(\n",
      "  (0): Linear(in_features=25, out_features=100, bias=True)\n",
      "  (1): ReLU()\n",
      "  (2): Linear(in_features=100, out_features=10, bias=True)\n",
      ")\n"
     ]
    }
   ],
   "source": [
    "print(torch.load('./data/mlp-model.pt'))"
   ]
  },
  {
   "cell_type": "markdown",
   "id": "fluid-stomach",
   "metadata": {},
   "source": [
    "# 使用GPU"
   ]
  },
  {
   "cell_type": "code",
   "execution_count": 9,
   "id": "banner-zealand",
   "metadata": {},
   "outputs": [],
   "source": [
    "gpu_model = model.to(device='cuda:0')"
   ]
  },
  {
   "cell_type": "code",
   "execution_count": 10,
   "id": "banned-assist",
   "metadata": {},
   "outputs": [
    {
     "data": {
      "text/plain": [
       "tensor([[-0.1885,  0.3525,  0.5501,  0.1224, -0.1966, -0.3041,  0.1034, -0.1547,\n",
       "          0.2408,  0.2632]], device='cuda:0', grad_fn=<AddmmBackward>)"
      ]
     },
     "execution_count": 10,
     "metadata": {},
     "output_type": "execute_result"
    }
   ],
   "source": [
    "input = torch.randn(1, 25, device='cuda:0')\n",
    "gpu_model(input)"
   ]
  },
  {
   "cell_type": "code",
   "execution_count": 7,
   "id": "inside-conclusion",
   "metadata": {},
   "outputs": [
    {
     "data": {
      "text/plain": [
       "device(type='cuda', index=0)"
      ]
     },
     "execution_count": 7,
     "metadata": {},
     "output_type": "execute_result"
    }
   ],
   "source": [
    "# GPU下保存的Tesnor或model，加载回来时，还是在对应的GPU上\n",
    "t = torch.randn(3,4,device='cuda')\n",
    "torch.save(t, './data/t-cuda.pt')\n",
    "t = torch.load('./data/t-cuda.pt')\n",
    "t.device"
   ]
  }
 ],
 "metadata": {
  "kernelspec": {
   "display_name": "Python 3",
   "language": "python",
   "name": "python3"
  },
  "language_info": {
   "codemirror_mode": {
    "name": "ipython",
    "version": 3
   },
   "file_extension": ".py",
   "mimetype": "text/x-python",
   "name": "python",
   "nbconvert_exporter": "python",
   "pygments_lexer": "ipython3",
   "version": "3.8.8"
  }
 },
 "nbformat": 4,
 "nbformat_minor": 5
}
