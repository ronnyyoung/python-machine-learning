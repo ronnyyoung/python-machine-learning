{
 "cells": [
  {
   "cell_type": "markdown",
   "id": "20abd6bd-f0a2-448c-8260-da7c1a4e3fde",
   "metadata": {},
   "source": [
    "# 多GPU训练"
   ]
  },
  {
   "cell_type": "code",
   "execution_count": 28,
   "id": "a1f230bf-8437-4f76-8410-2a0b28074a11",
   "metadata": {
    "execution": {
     "iopub.execute_input": "2021-06-11T05:50:28.730066Z",
     "iopub.status.busy": "2021-06-11T05:50:28.729853Z",
     "iopub.status.idle": "2021-06-11T05:50:28.991867Z",
     "shell.execute_reply": "2021-06-11T05:50:28.991418Z",
     "shell.execute_reply.started": "2021-06-11T05:50:28.730046Z"
    }
   },
   "outputs": [],
   "source": [
    "import torch\n",
    "import torchvision\n",
    "from torchvision import transforms\n",
    "from torch import nn\n",
    "from torch.nn import functional as F\n",
    "import matplotlib.pyplot as plt"
   ]
  },
  {
   "cell_type": "markdown",
   "id": "2295a6fd-8a50-47d7-99f2-53d254e607aa",
   "metadata": {},
   "source": [
    "为什么要多GPU训练，一般来说2个原因：1）模型太大，一个GPU放不下；2）单个GPU跑起来太慢，希望能够用多GPU来加速\n",
    "\n",
    "早期的GPU显存一般在4个G左右，单个模型需要的显存很容易就超过了显存大小，但是现在新的GPU显存都越来越大，达到了32G，所以当前模型的占用显存太大的问题一般还好。更多的都是为了追求第2点，希望多个GPU能起到线性加速的效果。\n",
    "\n",
    "多GPU的训练的并行模式主流的有以下3种，一般前2种称为模型并行，后一种称为数据并行。\n",
    "\n",
    "- 将整个模型大深度方向上拆成若干个子网络，每个子网络跑在一块GPU上，这就需要GPU与GPU之间传递激活值与梯度值；很容易让GPU之间的传输带宽达到瓶颈。这种方案另外一个问题是，GPU之间有信赖关系，因为反向传播一般都需要前向计算完成后，才能开始，这就导致了GPU与GPU之间有等待的问题，但这个问题也可以通过对单批次的数据进行多次拆分，做成流水线一定程度解决。总之效率不太高。\n",
    "- 将整个网络在宽度上拆分，对于卷积层就是拆分通道，每个GPU计算一部分通道，计算完成后，要再结合同步到各GPU上。对于FC层，就直接对隐藏层进行拆分，每块GPU计算一部分隐藏层的值，然后再分发同步。这种方式GPU之间数据交互非常频繁，但GPU的利用率可能会比上面一种方案高一些。\n",
    "- 对数据进行拆分，将一个miniBatch拆成更小的batch，每块GPU做其中的一块。这样的方式，只需要在各GPU前向后，把梯度gather起来，再分发出去，就可以了。\n",
    "\n",
    "![](./images/splitting.svg)\n",
    "\n",
    "上图中描述了多个GPU上不同并行方式的比较。总的来说，数据并行是最方便的方法，只要我们能访问有足够大显存的GPU。"
   ]
  },
  {
   "cell_type": "markdown",
   "id": "717a6c82-1e35-4e54-aabb-720f16b84260",
   "metadata": {
    "execution": {
     "iopub.execute_input": "2021-06-11T02:45:58.868603Z",
     "iopub.status.busy": "2021-06-11T02:45:58.868459Z",
     "iopub.status.idle": "2021-06-11T02:46:02.134009Z",
     "shell.execute_reply": "2021-06-11T02:46:02.133200Z",
     "shell.execute_reply.started": "2021-06-11T02:45:58.868586Z"
    },
    "tags": []
   },
   "source": [
    "# 数据并行\n",
    "\n",
    "对于K块GPU的数据并行来说，训练过程如下：\n",
    "\n",
    "* 在训练的任何迭代中，给定一个随机的小批量，我们将该小批量中的样本分成K个部分，并将它们均匀地分在多个GPU上。\n",
    "* 每个GPU根据分配给它的小批量子集计算模型参数的损失和梯度。\n",
    "* 将K个GPU中每个GPU的局部梯度聚合以获得当前的小批量随机梯度。\n",
    "* 聚合梯度被重新分配到每个GPU。\n",
    "* 每个GPU使用这个小批量随机梯度来更新它维护的完整的模型参数集。\n",
    "\n",
    "数据并行需要特别注意的问题：1)batchsize； 2）learningrate；3) batchnorm层的处理"
   ]
  },
  {
   "cell_type": "markdown",
   "id": "c6b7a28a-f693-4355-97a3-d7dd0841e8fd",
   "metadata": {},
   "source": [
    "# 辅助函数"
   ]
  },
  {
   "cell_type": "code",
   "execution_count": 5,
   "id": "8441cb90-f70d-4ee8-80b0-881f4205b64b",
   "metadata": {
    "execution": {
     "iopub.execute_input": "2021-06-11T03:58:51.312027Z",
     "iopub.status.busy": "2021-06-11T03:58:51.311869Z",
     "iopub.status.idle": "2021-06-11T03:58:52.004202Z",
     "shell.execute_reply": "2021-06-11T03:58:52.003452Z",
     "shell.execute_reply.started": "2021-06-11T03:58:51.312010Z"
    },
    "tags": []
   },
   "outputs": [],
   "source": [
    "import typing\n",
    "import torch\n",
    "from typing import Tuple, List"
   ]
  },
  {
   "cell_type": "markdown",
   "id": "f872cfca-f2a3-4500-bf20-084ab0c0f2af",
   "metadata": {},
   "source": [
    "## 拷贝模型参数到其他设备"
   ]
  },
  {
   "cell_type": "code",
   "execution_count": 18,
   "id": "752adbd6-8bb0-48bf-b0af-f5cdecfa2b98",
   "metadata": {
    "execution": {
     "iopub.execute_input": "2021-06-11T04:16:41.149274Z",
     "iopub.status.busy": "2021-06-11T04:16:41.149109Z",
     "iopub.status.idle": "2021-06-11T04:16:41.152625Z",
     "shell.execute_reply": "2021-06-11T04:16:41.152152Z",
     "shell.execute_reply.started": "2021-06-11T04:16:41.149255Z"
    },
    "tags": []
   },
   "outputs": [],
   "source": [
    "# 获取指定device上的数据所拷贝\n",
    "def get_params(params: List[torch.Tensor], device: torch.device):\n",
    "    new_params = [param.clone().to(device) for param in params]\n",
    "    for param in new_params:\n",
    "        param.required_grad_(True)\n",
    "    return new_params"
   ]
  },
  {
   "cell_type": "markdown",
   "id": "2e950f9b-1415-400f-a8d8-2d4ac3673bc4",
   "metadata": {},
   "source": [
    "## 参数的AllRedice"
   ]
  },
  {
   "cell_type": "code",
   "execution_count": 10,
   "id": "41a69134-ab33-48ed-9914-c039e28f2fcd",
   "metadata": {
    "execution": {
     "iopub.execute_input": "2021-06-11T04:06:56.102942Z",
     "iopub.status.busy": "2021-06-11T04:06:56.102634Z",
     "iopub.status.idle": "2021-06-11T04:06:56.108205Z",
     "shell.execute_reply": "2021-06-11T04:06:56.107640Z",
     "shell.execute_reply.started": "2021-06-11T04:06:56.102907Z"
    }
   },
   "outputs": [],
   "source": [
    "# 将不同设备上的数据reduce在一起，再分发出来\n",
    "def all_reduce(data: List[torch.Tensor]):\n",
    "    for i in range(1, len(data)):\n",
    "        data[0][:] += data[i].to(data[0].device)\n",
    "    for i in range(1, len(data)):\n",
    "        data[i][:] = data[0].to(data[i].device)"
   ]
  },
  {
   "cell_type": "code",
   "execution_count": 21,
   "id": "a1f86461-f86c-4198-8ece-c8ce919f42af",
   "metadata": {
    "execution": {
     "iopub.execute_input": "2021-06-11T04:19:51.913309Z",
     "iopub.status.busy": "2021-06-11T04:19:51.913165Z",
     "iopub.status.idle": "2021-06-11T04:19:51.920898Z",
     "shell.execute_reply": "2021-06-11T04:19:51.920401Z",
     "shell.execute_reply.started": "2021-06-11T04:19:51.913292Z"
    },
    "tags": []
   },
   "outputs": [
    {
     "name": "stdout",
     "output_type": "stream",
     "text": [
      "tensor([[ 1.2432,  1.5609,  0.2156,  0.2249],\n",
      "        [-1.3757,  1.7969,  0.0739, -0.7031],\n",
      "        [ 0.1215, -1.1703,  2.0395,  0.3356]], device='cuda:0')\n",
      "tensor([[-1.6571, -0.7840,  1.2169,  0.6460],\n",
      "        [-1.3433, -0.5825,  1.0806,  0.5943],\n",
      "        [ 1.3376, -0.6009,  0.5722,  3.2728]], device='cuda:1')\n",
      "after all reduce\n",
      "tensor([[-0.4138,  0.7768,  1.4324,  0.8709],\n",
      "        [-2.7190,  1.2144,  1.1545, -0.1088],\n",
      "        [ 1.4590, -1.7712,  2.6117,  3.6084]], device='cuda:0')\n",
      "tensor([[-0.4138,  0.7768,  1.4324,  0.8709],\n",
      "        [-2.7190,  1.2144,  1.1545, -0.1088],\n",
      "        [ 1.4590, -1.7712,  2.6117,  3.6084]], device='cuda:1')\n"
     ]
    }
   ],
   "source": [
    "a1 = torch.randn(3,4,device='cuda:0')\n",
    "a2 = torch.randn(3,4,device='cuda:1')\n",
    "print(a1)\n",
    "print(a2)\n",
    "all_reduce([a1, a2])\n",
    "print('after all reduce')\n",
    "print(a1)\n",
    "print(a2)"
   ]
  },
  {
   "cell_type": "markdown",
   "id": "e9f8964c-f817-4f31-82d6-99b5d585da25",
   "metadata": {},
   "source": [
    "## 数据拆分"
   ]
  },
  {
   "cell_type": "code",
   "execution_count": 25,
   "id": "e8537956-6f11-492b-a4ec-74f08b27d46a",
   "metadata": {
    "execution": {
     "iopub.execute_input": "2021-06-11T04:24:07.098260Z",
     "iopub.status.busy": "2021-06-11T04:24:07.098104Z",
     "iopub.status.idle": "2021-06-11T04:24:07.100496Z",
     "shell.execute_reply": "2021-06-11T04:24:07.100033Z",
     "shell.execute_reply.started": "2021-06-11T04:24:07.098243Z"
    },
    "tags": []
   },
   "outputs": [],
   "source": [
    "from torch import nn"
   ]
  },
  {
   "cell_type": "code",
   "execution_count": 26,
   "id": "925df0c0-4502-4f84-987d-f5980a2e54a6",
   "metadata": {
    "execution": {
     "iopub.execute_input": "2021-06-11T04:24:30.393259Z",
     "iopub.status.busy": "2021-06-11T04:24:30.393100Z",
     "iopub.status.idle": "2021-06-11T04:24:35.270972Z",
     "shell.execute_reply": "2021-06-11T04:24:35.270238Z",
     "shell.execute_reply.started": "2021-06-11T04:24:30.393241Z"
    }
   },
   "outputs": [],
   "source": [
    "data = torch.randn(12, 5)\n",
    "devices = [torch.device('cuda:0'), torch.device('cuda:1'), torch.device('cuda:2'), torch.device('cuda:3')]\n",
    "data_shards = nn.parallel.scatter(data, devices)"
   ]
  },
  {
   "cell_type": "code",
   "execution_count": 27,
   "id": "3c6e9e2b-5948-43b4-8b73-aec3fed590fd",
   "metadata": {
    "execution": {
     "iopub.execute_input": "2021-06-11T04:24:35.495664Z",
     "iopub.status.busy": "2021-06-11T04:24:35.495490Z",
     "iopub.status.idle": "2021-06-11T04:24:35.505355Z",
     "shell.execute_reply": "2021-06-11T04:24:35.504984Z",
     "shell.execute_reply.started": "2021-06-11T04:24:35.495643Z"
    }
   },
   "outputs": [
    {
     "data": {
      "text/plain": [
       "(tensor([[ 0.8486, -0.7641,  0.0142,  1.2357, -1.1229],\n",
       "         [-1.9956, -1.0953,  0.1090, -0.0231, -0.6757],\n",
       "         [-1.4356, -0.5834, -0.6698,  1.4030,  0.5050]], device='cuda:0'),\n",
       " tensor([[-0.2713,  0.3155, -0.2146, -1.4422, -0.2556],\n",
       "         [-2.6946, -1.0870,  1.1156, -0.4161, -0.9118],\n",
       "         [ 0.7342,  0.4245, -0.7815, -1.1491, -0.3895]], device='cuda:1'),\n",
       " tensor([[ 0.0750,  0.9603,  0.5198, -1.6211, -0.4285],\n",
       "         [-0.4152, -1.1381,  1.2842, -0.8610, -0.2459],\n",
       "         [-0.9289, -0.3966, -1.0761, -0.8112, -0.6451]], device='cuda:2'),\n",
       " tensor([[-0.7597,  0.8775,  1.3511,  1.7254, -1.1145],\n",
       "         [-0.1952, -0.2889, -1.5922, -1.2989,  0.0033],\n",
       "         [ 1.7823,  0.5397, -2.2869,  1.7974, -0.7552]], device='cuda:3'))"
      ]
     },
     "execution_count": 27,
     "metadata": {},
     "output_type": "execute_result"
    }
   ],
   "source": [
    "data_shards"
   ]
  },
  {
   "cell_type": "markdown",
   "id": "4779b644-5b2f-4eca-9bbf-4f856bcf357d",
   "metadata": {},
   "source": [
    "# 多GPU训练伪代码"
   ]
  },
  {
   "cell_type": "code",
   "execution_count": null,
   "id": "e5bd6866-80e5-4c9c-ad84-ad2713549de2",
   "metadata": {},
   "outputs": [],
   "source": [
    "def multi_gpu_train_1_epoch(model, training_data, devices, loss, sgd):\n",
    "    models = [model.to(device) for device in devices]\n",
    "    for X, y in training_data:\n",
    "        X_devices = nn.parallel.scatter(X, devices)\n",
    "        y_devices = nn.parallel.scatter(y, devices)\n",
    "        for i in range(len(device)):\n",
    "            y_hat = models[i](X_devices[i])\n",
    "            l = loss(y[i], y_hat)\n",
    "            l.backward()\n",
    "        with torch.no_grad():\n",
    "            all_reduce([model.parameters() for model in models])\n",
    "        for i in range(len(device)):\n",
    "            # sgd里会有no_grad\n",
    "            sgd(model[i].parameters(), lr)"
   ]
  },
  {
   "cell_type": "markdown",
   "id": "73dd718c-6d27-42e3-81eb-32f765979f3a",
   "metadata": {},
   "source": [
    "# 使用Pytorch的多GPU并行\n",
    "\n",
    "和单GPU下的几点不同：\n",
    "- 模型需要调用`nn.DataParallel`转化成并行化的model\n",
    "- 数据和参数一开始放在第一块卡上\n",
    "\n",
    "最终性能大约是单GPU下的3倍多（9m vs. 28m）。"
   ]
  },
  {
   "cell_type": "code",
   "execution_count": 30,
   "id": "47958c3c-92d0-4733-b125-2606348c6bb5",
   "metadata": {
    "execution": {
     "iopub.execute_input": "2021-06-11T06:05:15.729179Z",
     "iopub.status.busy": "2021-06-11T06:05:15.728996Z",
     "iopub.status.idle": "2021-06-11T06:05:15.756639Z",
     "shell.execute_reply": "2021-06-11T06:05:15.756169Z",
     "shell.execute_reply.started": "2021-06-11T06:05:15.729160Z"
    }
   },
   "outputs": [],
   "source": [
    "trans = transforms.Compose([\n",
    "    transforms.Resize(224),\n",
    "    transforms.ToTensor()\n",
    "])\n",
    "training_data_224 = torchvision.datasets.FashionMNIST(\n",
    "    root='./data/',\n",
    "    train=True,\n",
    "    download=True,\n",
    "    transform=trans\n",
    ")\n",
    "testing_data_224 = torchvision.datasets.FashionMNIST(\n",
    "    root='./data/',\n",
    "    train=False,\n",
    "    download=True,\n",
    "    transform=trans\n",
    ")"
   ]
  },
  {
   "cell_type": "code",
   "execution_count": 41,
   "id": "e81482d3-522a-4c1d-820e-81708f5f9214",
   "metadata": {
    "execution": {
     "iopub.execute_input": "2021-06-11T06:14:16.533823Z",
     "iopub.status.busy": "2021-06-11T06:14:16.533641Z",
     "iopub.status.idle": "2021-06-11T06:14:16.540610Z",
     "shell.execute_reply": "2021-06-11T06:14:16.540191Z",
     "shell.execute_reply.started": "2021-06-11T06:14:16.533805Z"
    },
    "tags": []
   },
   "outputs": [],
   "source": [
    "def accuracy(y_hat, y):\n",
    "    max_indices = torch.max(y_hat, dim=1)[1]\n",
    "    return (y == max_indices).to(dtype=torch.float32).mean()\n",
    "\n",
    "\n",
    "def accuracy_on(model, data_iter, device):\n",
    "    model.train(False)\n",
    "    acc = []\n",
    "    for X, y in data_iter:\n",
    "        X, y = X.to(device), y.to(device)\n",
    "        y_hat = model(X)\n",
    "        acc.append(accuracy(y_hat, y))\n",
    "    return torch.tensor(acc).mean().item()\n",
    "\n",
    "\n",
    "def multigpu_train(training_iter, testing_iter, model, loss, optimizer, devices, epoch=20, plot=True):\n",
    "    training_loss = []\n",
    "    training_acc = []\n",
    "    testing_acc = []\n",
    "    for i in range(epoch):\n",
    "        epoch_loss = 0\n",
    "        epoch_acc = 0\n",
    "        model.train(True)\n",
    "        for X, y in training_iter:\n",
    "            X, y = X.to(devices[0]), y.to(devices[0])\n",
    "            y_hat = model(X)\n",
    "            l = loss(y_hat, y)\n",
    "            epoch_loss += l.item()\n",
    "            epoch_acc += accuracy(y_hat, y)\n",
    "            optimizer.zero_grad()\n",
    "            l.backward()\n",
    "            optimizer.step()\n",
    "        training_loss.append(epoch_loss / len(training_iter))\n",
    "        training_acc.append(epoch_acc / len(training_iter))\n",
    "        testing_acc.append(accuracy_on(model, testing_iter, devices[0]))\n",
    "        print(\n",
    "            f'the loss of epoch {i}: {training_loss[-1]:.4f}, accuracy on training set: {training_acc[-1]:.4f}, accuracy on testing set: {testing_acc[-1]:.4f}')\n",
    "    if plot == False:\n",
    "        return\n",
    "    plt.plot(training_loss, label='training_loss')\n",
    "    plt.plot(training_acc, label='training_acc')\n",
    "    plt.plot(testing_acc, label='testing_acc')\n",
    "    plt.legend()\n",
    "    plt.show()"
   ]
  },
  {
   "cell_type": "code",
   "execution_count": 48,
   "id": "7238f1a5-1d6c-41a6-9e49-d63637667565",
   "metadata": {
    "execution": {
     "iopub.execute_input": "2021-06-11T06:29:05.093858Z",
     "iopub.status.busy": "2021-06-11T06:29:05.093710Z",
     "iopub.status.idle": "2021-06-11T06:38:19.143642Z",
     "shell.execute_reply": "2021-06-11T06:38:19.143008Z",
     "shell.execute_reply.started": "2021-06-11T06:29:05.093840Z"
    },
    "tags": []
   },
   "outputs": [
    {
     "name": "stdout",
     "output_type": "stream",
     "text": [
      "[device(type='cuda', index=0), device(type='cuda', index=1), device(type='cuda', index=2), device(type='cuda', index=3)]\n",
      "the loss of epoch 0: 0.5908, accuracy on training set: 0.8063, accuracy on testing set: 0.8760\n",
      "the loss of epoch 1: 0.2750, accuracy on training set: 0.9001, accuracy on testing set: 0.8849\n",
      "the loss of epoch 2: 0.2131, accuracy on training set: 0.9231, accuracy on testing set: 0.8943\n",
      "the loss of epoch 3: 0.1762, accuracy on training set: 0.9360, accuracy on testing set: 0.8644\n",
      "the loss of epoch 4: 0.1408, accuracy on training set: 0.9500, accuracy on testing set: 0.9205\n",
      "the loss of epoch 5: 0.1111, accuracy on training set: 0.9608, accuracy on testing set: 0.9120\n",
      "the loss of epoch 6: 0.0772, accuracy on training set: 0.9732, accuracy on testing set: 0.8878\n",
      "the loss of epoch 7: 0.0577, accuracy on training set: 0.9805, accuracy on testing set: 0.9152\n",
      "the loss of epoch 8: 0.0382, accuracy on training set: 0.9879, accuracy on testing set: 0.9122\n",
      "the loss of epoch 9: 0.0283, accuracy on training set: 0.9913, accuracy on testing set: 0.9258\n"
     ]
    },
    {
     "data": {
      "image/png": "[encoded data removed]",
      "text/plain": [
       "<Figure size 432x288 with 1 Axes>"
      ]
     },
     "metadata": {
      "needs_background": "light"
     },
     "output_type": "display_data"
    }
   ],
   "source": [
    "class ResidualBlock(nn.Module):\n",
    "    def __init__(self, in_channels, out_channels, stride=1, use_1x1conv=False):\n",
    "        super().__init__()\n",
    "        self.conv1 = nn.Conv2d(in_channels, out_channels, kernel_size=3, padding=1, stride=stride)\n",
    "        self.bn1 = nn.BatchNorm2d(out_channels)\n",
    "        self.conv2 = nn.Conv2d(out_channels, out_channels, kernel_size=3, padding=1)\n",
    "        self.bn2 = nn.BatchNorm2d(out_channels)\n",
    "        if use_1x1conv:\n",
    "            self.conv3 = nn.Conv2d(in_channels, out_channels, kernel_size=1, stride=stride)\n",
    "        else:\n",
    "            self.conv3 = None\n",
    "    def forward(self, x):\n",
    "        output = self.bn2(self.conv2(F.relu(self.bn1(self.conv1(x)))))\n",
    "        if self.conv3:\n",
    "            x = self.conv3(x)\n",
    "        return F.relu(output + x)\n",
    "    \n",
    "batch_size = 128\n",
    "learning_rate = 0.1\n",
    "epoch = 10\n",
    "num_device = 4\n",
    "devices = [torch.device('cuda:{}'.format(i)) for i in range(num_device)]\n",
    "\n",
    "training_iter = torch.utils.data.DataLoader(\n",
    "    training_data_224, batch_size=batch_size, shuffle=True)\n",
    "testing_iter = torch.utils.data.DataLoader(\n",
    "    testing_data_224, batch_size=batch_size)\n",
    "\n",
    "s1 = nn.Sequential(\n",
    "    nn.Conv2d(1, 64, kernel_size=7, padding=3, stride=2),\n",
    "    nn.BatchNorm2d(num_features=64),\n",
    "    nn.ReLU()\n",
    ")\n",
    "s2 = nn.Sequential(\n",
    "    nn.MaxPool2d(kernel_size=3, padding=1, stride=2),\n",
    "    ResidualBlock(64, 64),\n",
    "    ResidualBlock(64, 64),\n",
    ")\n",
    "s3 = nn.Sequential(\n",
    "    ResidualBlock(64, 128, stride=2, use_1x1conv=True),\n",
    "    ResidualBlock(128, 128),\n",
    ")\n",
    "s4 = nn.Sequential(\n",
    "    ResidualBlock(128, 256, stride=2, use_1x1conv=True),\n",
    "    ResidualBlock(256, 256),\n",
    ")\n",
    "s5 = nn.Sequential(\n",
    "    ResidualBlock(256, 512, stride=2, use_1x1conv=True),\n",
    "    ResidualBlock(512, 512),\n",
    ")\n",
    "\n",
    "model=nn.Sequential(s1, s2, s3, s4, s5, nn.AdaptiveAvgPool2d((1, 1)),\n",
    "    nn.Flatten(),\n",
    "    nn.Linear(512, 10))\n",
    "\n",
    "def parameters_init(m):\n",
    "    if type(m) == nn.Linear or type(m) == nn.Conv2d:\n",
    "        nn.init.xavier_uniform_(m.weight)\n",
    "print(devices)\n",
    "model.apply(parameters_init)\n",
    "model = nn.DataParallel(model, device_ids=devices)\n",
    "model.to(device=devices[0])\n",
    "loss = nn.CrossEntropyLoss()\n",
    "optimizer = torch.optim.SGD(model.parameters(), lr=learning_rate)\n",
    "multigpu_train(training_iter, testing_iter, model, loss, optimizer, devices=devices, epoch=epoch, plot=True)"
   ]
  },
  {
   "cell_type": "code",
   "execution_count": null,
   "id": "20e889fe-cdc0-4c99-ac8f-d124378e93d5",
   "metadata": {},
   "outputs": [],
   "source": []
  }
 ],
 "metadata": {
  "kernelspec": {
   "display_name": "Python 3",
   "language": "python",
   "name": "python3"
  },
  "language_info": {
   "codemirror_mode": {
    "name": "ipython",
    "version": 3
   },
   "file_extension": ".py",
   "mimetype": "text/x-python",
   "name": "python",
   "nbconvert_exporter": "python",
   "pygments_lexer": "ipython3",
   "version": "3.8.8"
  }
 },
 "nbformat": 4,
 "nbformat_minor": 5
}
