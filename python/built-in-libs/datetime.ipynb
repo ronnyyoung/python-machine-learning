{
 "cells": [
  {
   "cell_type": "markdown",
   "metadata": {},
   "source": [
    "# datetime\n",
    "\n",
    "datetime是Python处理日期与时间的标准库"
   ]
  },
  {
   "cell_type": "code",
   "execution_count": 5,
   "metadata": {},
   "outputs": [
    {
     "name": "stdout",
     "output_type": "stream",
     "text": [
      "2019-10-18 09:06:16.630133\n",
      "<class 'datetime.datetime'>\n"
     ]
    }
   ],
   "source": [
    "from datetime import datetime\n",
    "\n",
    "# 获取当前的时间\n",
    "now = datetime.now()\n",
    "print(now)\n",
    "print(type(now))\n",
    "# now是一个datetime.datetime类型的对象"
   ]
  },
  {
   "cell_type": "code",
   "execution_count": 8,
   "metadata": {},
   "outputs": [
    {
     "name": "stdout",
     "output_type": "stream",
     "text": [
      "year: 2019\n",
      "month: 10\n",
      "day: 18\n",
      "hour: 9\n",
      "minute: 6\n",
      "second: 16\n"
     ]
    }
   ],
   "source": [
    "# 获取时间细节\n",
    "print('year:', now.year)\n",
    "print('month:', now.month)\n",
    "print('day:', now.day)\n",
    "print('hour:', now.hour)\n",
    "print('minute:', now.minute)\n",
    "print('second:', now.second)"
   ]
  },
  {
   "cell_type": "code",
   "execution_count": 6,
   "metadata": {},
   "outputs": [
    {
     "name": "stdout",
     "output_type": "stream",
     "text": [
      "2015-04-19 12:28:00\n"
     ]
    }
   ],
   "source": [
    "# 手动构造一个时间\n",
    "\n",
    "dt = datetime(2015, 4, 19, 12, 28)\n",
    "print(dt)"
   ]
  },
  {
   "cell_type": "markdown",
   "metadata": {},
   "source": [
    "## 与timestamp转换\n",
    "\n",
    "在计算机中，时间实际上是用数字表示的。我们把1970年1月1日 00:00:00 UTC+00:00时区的时刻称为epoch time，记为0（1970年以前的时间timestamp为负数），当前时间就是相对于epoch time的秒数，称为`timestamp`\n",
    "\n",
    "在但当我们使用东八区时，那么这个timestamp为0的时间点是`1970-1-1 08:00:00 UTC+8:00`\n",
    "\n",
    "所以无论在哪个时区，计算机的时间如何是准确的话，它的timestamp是一致的。"
   ]
  },
  {
   "cell_type": "code",
   "execution_count": 10,
   "metadata": {},
   "outputs": [
    {
     "data": {
      "text/plain": [
       "1571361768.949527"
      ]
     },
     "execution_count": 10,
     "metadata": {},
     "output_type": "execute_result"
    }
   ],
   "source": [
    "# datetime 转　timestamp\n",
    "dt = datetime.now()\n",
    "dt.timestamp()"
   ]
  },
  {
   "cell_type": "markdown",
   "metadata": {},
   "source": [
    "注意Python的timestamp是一个浮点数。如果有小数位，小数位表示毫秒数。\n",
    "\n",
    "某些编程语言（如Java和JavaScript）的timestamp使用整数表示毫秒数，这种情况下只需要把timestamp除以1000就得到Python的浮点表示方法。"
   ]
  },
  {
   "cell_type": "code",
   "execution_count": 12,
   "metadata": {},
   "outputs": [
    {
     "name": "stdout",
     "output_type": "stream",
     "text": [
      "2020-01-26 08:53:20\n"
     ]
    }
   ],
   "source": [
    "# timestamp转datetime\n",
    "\n",
    "t = 1580000000\n",
    "print(datetime.fromtimestamp(t))"
   ]
  },
  {
   "cell_type": "markdown",
   "metadata": {},
   "source": [
    "timestamp是没有时区概念的，但是datetime是有的，所以上面的转换其实是按本计算设置的时区进行转换的。\n",
    "\n",
    "我们也可以直接转换为格林威治标准时间（UTC）"
   ]
  },
  {
   "cell_type": "code",
   "execution_count": 13,
   "metadata": {},
   "outputs": [
    {
     "name": "stdout",
     "output_type": "stream",
     "text": [
      "2020-01-26 00:53:20\n"
     ]
    }
   ],
   "source": [
    "print(datetime.utcfromtimestamp(t))"
   ]
  },
  {
   "cell_type": "markdown",
   "metadata": {},
   "source": [
    "可以看到我们比标准时区快了8个小时"
   ]
  },
  {
   "cell_type": "markdown",
   "metadata": {},
   "source": [
    "## 与字符串之间的转换\n",
    "\n",
    "很多时候，用户输入的日期和时间是字符串，要处理日期和时间，首先必须把str转换为datetime。转换方法是通过datetime.strptime()实现，需要一个日期和时间的格式化字符串："
   ]
  },
  {
   "cell_type": "code",
   "execution_count": 14,
   "metadata": {},
   "outputs": [
    {
     "name": "stdout",
     "output_type": "stream",
     "text": [
      "2015-06-04 07:34:12\n"
     ]
    }
   ],
   "source": [
    "# 字符串转化为时间\n",
    "cday = datetime.strptime('2015-6-4 07:34:12', '%Y-%m-%d %H:%M:%S')\n",
    "print(cday)"
   ]
  },
  {
   "cell_type": "code",
   "execution_count": 15,
   "metadata": {},
   "outputs": [
    {
     "name": "stdout",
     "output_type": "stream",
     "text": [
      "Fri, Oct 18 09:30\n"
     ]
    }
   ],
   "source": [
    "# 时间转换为字符串\n",
    "now = datetime.now()\n",
    "print(now.strftime('%a, %b %d %H:%M'))"
   ]
  },
  {
   "cell_type": "markdown",
   "metadata": {},
   "source": [
    "这些格式控制符的详细解释可以参考：[Python文档datetime](https://docs.python.org/3/library/datetime.html#strftime-strptime-behavior)"
   ]
  },
  {
   "cell_type": "markdown",
   "metadata": {},
   "source": [
    "## datetime的加减\n",
    "\n",
    "对日期和时间进行加减实际上就是把datetime往后或往前计算，得到新的datetime。加减可以直接用+和-运算符，不过需要导入`timedelta`这个类："
   ]
  },
  {
   "cell_type": "code",
   "execution_count": 18,
   "metadata": {},
   "outputs": [
    {
     "name": "stdout",
     "output_type": "stream",
     "text": [
      "现在: 2019-10-18 09:34:32.702954\n",
      "2分钟前: 2019-10-18 09:32:32.702954\n",
      "一小时后: 2019-10-18 10:34:32.702954\n",
      "1天5小时后: 2019-10-19 14:34:32.702954\n"
     ]
    }
   ],
   "source": [
    "from datetime import datetime, timedelta\n",
    "\n",
    "now = datetime.now()\n",
    "print('现在:', now)\n",
    "print('2分钟前:', now - timedelta(minutes=2))\n",
    "print('一小时后:', now + timedelta(hours=1))\n",
    "print('1天5小时后:', now + timedelta(days=1, hours=5))"
   ]
  },
  {
   "cell_type": "code",
   "execution_count": 21,
   "metadata": {},
   "outputs": [
    {
     "name": "stdout",
     "output_type": "stream",
     "text": [
      "2019-09-21 00:00:00\n"
     ]
    }
   ],
   "source": [
    "dear_birth = datetime(1992, 5, 5)\n",
    "wonderfull_day = dear_birth + timedelta(days=10000)\n",
    "print(wonderfull_day)"
   ]
  },
  {
   "cell_type": "markdown",
   "metadata": {},
   "source": [
    "## 时间转换"
   ]
  },
  {
   "cell_type": "code",
   "execution_count": 36,
   "metadata": {},
   "outputs": [
    {
     "name": "stdout",
     "output_type": "stream",
     "text": [
      "local host time: 2019-10-18 09:47:22.703744+08:00\n",
      "tokyo time: 2019-10-18 10:47:22.703744+09:00\n"
     ]
    }
   ],
   "source": [
    "from datetime import timezone\n",
    "# 表示一个时间\n",
    "tz_utc8 = timezone(timedelta(hours=8))\n",
    "\n",
    "# 将当前时间加上时区信息，但不能乱加，不能导致和本机时间不一致\n",
    "now = datetime.now()\n",
    "dt = now.replace(tzinfo=tz_utc8)\n",
    "print('local host time:', dt)\n",
    "\n",
    "# 转换为其他时区的时间\n",
    "tokyo_dt = dt.astimezone(timezone(timedelta(hours=9)))\n",
    "print('tokyo time:', tokyo_dt)"
   ]
  },
  {
   "cell_type": "markdown",
   "metadata": {},
   "source": [
    "如果你不知道当前本机上的时区信息的话，如何给当前的时间加时区信息呢？可以用`utcnow()`拿到当前的UTC时间，再转换为任意时区的时间。"
   ]
  },
  {
   "cell_type": "code",
   "execution_count": 39,
   "metadata": {},
   "outputs": [
    {
     "name": "stdout",
     "output_type": "stream",
     "text": [
      "utc time: 2019-10-18 01:50:21.595911+00:00\n",
      "bj time: 2019-10-18 09:50:21.595911+08:00\n"
     ]
    }
   ],
   "source": [
    "utc_dt = datetime.utcnow()\n",
    "# 加时区信息\n",
    "utc_dt = utc_dt.replace(tzinfo=timezone.utc)\n",
    "print('utc time:', utc_dt)\n",
    "# 再将utc时间转换为北京时间\n",
    "bj_dt = utc_dt.astimezone(timezone(timedelta(hours=8)))\n",
    "print('bj time:', bj_dt)"
   ]
  }
 ],
 "metadata": {
  "kernelspec": {
   "display_name": "Python 3",
   "language": "python",
   "name": "python3"
  },
  "language_info": {
   "codemirror_mode": {
    "name": "ipython",
    "version": 3
   },
   "file_extension": ".py",
   "mimetype": "text/x-python",
   "name": "python",
   "nbconvert_exporter": "python",
   "pygments_lexer": "ipython3",
   "version": "3.7.2"
  }
 },
 "nbformat": 4,
 "nbformat_minor": 2
}
