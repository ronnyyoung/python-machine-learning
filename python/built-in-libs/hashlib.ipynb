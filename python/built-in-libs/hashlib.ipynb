{
 "cells": [
  {
   "cell_type": "markdown",
   "metadata": {},
   "source": [
    "# 摘要算法\n",
    "\n",
    "摘要算法可以把任意长度的数据`data`计算出固定长度的摘要`digest`。摘要算法主要用于验证文件或数据是否被篡改过。\n",
    "\n",
    "常用的摘要算法有：\n",
    "\n",
    "- `md5`：生成一个128位固定长度的字节，通过用一个32位的16进制字符串来表示。\n",
    "- `sha-1`：生成一个160bit字节。通过用一个40位的16进制字符串表示。\n",
    "- `SHA256/SHA513`:是更安全的摘要算法，生成的摘要长度更长。"
   ]
  },
  {
   "cell_type": "code",
   "execution_count": 4,
   "metadata": {},
   "outputs": [
    {
     "name": "stdout",
     "output_type": "stream",
     "text": [
      "aa6a6920550e9a824431870392957605\n"
     ]
    }
   ],
   "source": [
    "import hashlib\n",
    "\n",
    "data = '我就是爱音乐，别叫我停下来'.encode('utf-8')\n",
    "\n",
    "md5 = hashlib.md5()\n",
    "md5.update(data)\n",
    "print(md5.hexdigest())"
   ]
  },
  {
   "cell_type": "code",
   "execution_count": 5,
   "metadata": {},
   "outputs": [
    {
     "name": "stdout",
     "output_type": "stream",
     "text": [
      "fd65bec87bd0b3a8f55873b6e460155a6df9e52c\n"
     ]
    }
   ],
   "source": [
    "sha1 = hashlib.sha1()\n",
    "sha1.update(data)\n",
    "sha1.update('我就是爱唱歌，呼吸它这节拍'.encode('utf-8'))\n",
    "print(sha1.hexdigest())"
   ]
  },
  {
   "cell_type": "markdown",
   "metadata": {},
   "source": [
    "摘要算法一个很重要的应用就是可以避免明文存储数据，比如用户的密码，因为我们只需要验证每次用户输入的密码的摘要是否相同就可以了。\n",
    "\n",
    "为了防止一些常用的密码被黑客碰撞出来，一般会在生成摘要的时候“加盐”，一般可以选用用户的用户名等。"
   ]
  }
 ],
 "metadata": {
  "kernelspec": {
   "display_name": "Python 3",
   "language": "python",
   "name": "python3"
  },
  "language_info": {
   "codemirror_mode": {
    "name": "ipython",
    "version": 3
   },
   "file_extension": ".py",
   "mimetype": "text/x-python",
   "name": "python",
   "nbconvert_exporter": "python",
   "pygments_lexer": "ipython3",
   "version": "3.7.2"
  }
 },
 "nbformat": 4,
 "nbformat_minor": 2
}
