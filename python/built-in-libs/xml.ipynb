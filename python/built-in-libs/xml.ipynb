{
 "cells": [
  {
   "cell_type": "markdown",
   "metadata": {},
   "source": [
    "# XML\n",
    "\n",
    "操作`XML`有两种方法：`DOM`和`SAX`。DOM会把整个XML读入内存，解析为树，因此占用内存大，解析慢，优点是可以任意遍历树的节点。SAX是流模式，边读边解析，占内存小，解析快，缺点是需要我们自己处理事件。\n",
    "\n",
    "当SAX的解析器读到下面的节点时：\n",
    "```xml\n",
    "<a herf=\"/\">python </a>\n",
    "```\n",
    "会产生3个事件：\n",
    "\n",
    "1. start_element事件，在读取`<a href=\"/\">`时；\n",
    "2. char_data事件，在读取`python`时；\n",
    "3. end_element事件，在读取`</a>`时；"
   ]
  },
  {
   "cell_type": "code",
   "execution_count": 4,
   "metadata": {},
   "outputs": [
    {
     "name": "stdout",
     "output_type": "stream",
     "text": [
      "sax: start_element: ol, attrs: {}\n",
      "sax: char_data: \n",
      "\n",
      "sax: char_data:     \n",
      "sax: start_element: li, attrs: {}\n",
      "sax: start_element: a, attrs: {'href': '/python'}\n",
      "sax: char_data: Python\n",
      "sax: end_element: a\n",
      "sax: end_element: li\n",
      "sax: char_data: \n",
      "\n",
      "sax: char_data:     \n",
      "sax: start_element: li, attrs: {}\n",
      "sax: start_element: a, attrs: {'href': '/ruby'}\n",
      "sax: char_data: Ruby\n",
      "sax: end_element: a\n",
      "sax: end_element: li\n",
      "sax: char_data: \n",
      "\n",
      "sax: end_element: ol\n"
     ]
    },
    {
     "data": {
      "text/plain": [
       "1"
      ]
     },
     "execution_count": 4,
     "metadata": {},
     "output_type": "execute_result"
    }
   ],
   "source": [
    "from xml.parsers.expat import ParserCreate\n",
    "\n",
    "class DefaultSaxHandler(object):\n",
    "    def start_element(self, name, attrs):\n",
    "        print('sax: start_element: %s, attrs: %s' % (name, str(attrs)))\n",
    "    def end_element(self, name):\n",
    "        print('sax: end_element: %s' % name)\n",
    "    def char_data(self, text):\n",
    "        print('sax: char_data: %s' % text)\n",
    "    \n",
    "xml = r'''<?xml version=\"1.0\"?>\n",
    "<ol>\n",
    "    <li><a href=\"/python\">Python</a></li>\n",
    "    <li><a href=\"/ruby\">Ruby</a></li>\n",
    "</ol>\n",
    "'''\n",
    "\n",
    "handler = DefaultSaxHandler()\n",
    "parser = ParserCreate()\n",
    "parser.StartElementHandler = handler.start_element\n",
    "parser.EndElementHandler = handler.end_element\n",
    "parser.CharacterDataHandler = handler.char_data\n",
    "parser.Parse(xml)"
   ]
  },
  {
   "cell_type": "code",
   "execution_count": null,
   "metadata": {},
   "outputs": [],
   "source": []
  }
 ],
 "metadata": {
  "kernelspec": {
   "display_name": "Python 3",
   "language": "python",
   "name": "python3"
  },
  "language_info": {
   "codemirror_mode": {
    "name": "ipython",
    "version": 3
   },
   "file_extension": ".py",
   "mimetype": "text/x-python",
   "name": "python",
   "nbconvert_exporter": "python",
   "pygments_lexer": "ipython3",
   "version": "3.7.2"
  }
 },
 "nbformat": 4,
 "nbformat_minor": 2
}
