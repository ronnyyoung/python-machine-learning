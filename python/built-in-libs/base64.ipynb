{
 "cells": [
  {
   "cell_type": "markdown",
   "metadata": {},
   "source": [
    "# Bas64编程\n",
    "\n",
    "`base64`编译主要是把二进制序列编码为可见字符。采用的可见字符有64个。\n",
    "\n",
    "- 26个大写字母\n",
    "- 26个小写字线\n",
    "- 10个数字\n",
    "- `+`和`/`\n",
    "\n",
    "由于64个字符需要用`6`个比特位表示。所以原来3个字节(24bits)被编码后占用4个字节。如果要编码的二进制数据不是`3`的倍数，最后会剩下`1`个或`2`个字节怎么办？`Base64`用`\\x00`字节在末尾补足后，再在编码的末尾加上`1`个或`2`个`=`号，表示补了多少字节，解码的时候，会自动去掉。"
   ]
  },
  {
   "cell_type": "code",
   "execution_count": 2,
   "metadata": {},
   "outputs": [
    {
     "data": {
      "text/plain": [
       "b'YmluYXJ5AHN0cmluZw=='"
      ]
     },
     "execution_count": 2,
     "metadata": {},
     "output_type": "execute_result"
    }
   ],
   "source": [
    "import base64\n",
    "\n",
    "base64.b64encode(b'binary\\x00string')"
   ]
  },
  {
   "cell_type": "code",
   "execution_count": 3,
   "metadata": {},
   "outputs": [
    {
     "data": {
      "text/plain": [
       "b'binary\\x00string'"
      ]
     },
     "execution_count": 3,
     "metadata": {},
     "output_type": "execute_result"
    }
   ],
   "source": [
    "base64.b64decode(b'YmluYXJ5AHN0cmluZw==')"
   ]
  },
  {
   "cell_type": "markdown",
   "metadata": {},
   "source": [
    "还可以自己定义`64`个字符的排列顺序，这样就可以自定义`Base64`编码，不过，通常情况下完全没有必要。\n",
    "\n",
    "`Base64`是一种通过查表的编码方法，不能用于加密，即使使用自定义的编码表也不行。\n",
    "\n",
    "`Base64`适用于小段内容的编码，比如数字证书签名、Cookie的内容等。\n",
    "\n",
    "由于`=`字符也可能出现在`Base64`编码中，但`=`用在URL、Cookie里面会造成歧义，所以，很多`Base64`编码后会把`=`去掉："
   ]
  },
  {
   "cell_type": "code",
   "execution_count": null,
   "metadata": {},
   "outputs": [],
   "source": []
  }
 ],
 "metadata": {
  "kernelspec": {
   "display_name": "Python 3",
   "language": "python",
   "name": "python3"
  },
  "language_info": {
   "codemirror_mode": {
    "name": "ipython",
    "version": 3
   },
   "file_extension": ".py",
   "mimetype": "text/x-python",
   "name": "python",
   "nbconvert_exporter": "python",
   "pygments_lexer": "ipython3",
   "version": "3.7.2"
  }
 },
 "nbformat": 4,
 "nbformat_minor": 2
}
