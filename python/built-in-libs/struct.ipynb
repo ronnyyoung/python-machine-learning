{
 "cells": [
  {
   "cell_type": "markdown",
   "metadata": {},
   "source": [
    "# struct\n",
    "\n",
    "Python中没有能很好处理字节流的操作，比如把一个32位无符号整数转化为4个字节来表示，就需地很复杂的操作才能做到。"
   ]
  },
  {
   "cell_type": "code",
   "execution_count": 2,
   "metadata": {},
   "outputs": [
    {
     "name": "stdout",
     "output_type": "stream",
     "text": [
      "b'\\x00\\x9c@\\t'\n"
     ]
    }
   ],
   "source": [
    "n = 10240009\n",
    "b1 = (n & 0xff000000) >> 24\n",
    "b2 = (n & 0x00ff0000) >> 16\n",
    "b3 = (n & 0x0000ff00) >> 8\n",
    "b4 = (n & 0x000000ff)\n",
    "bs = bytes([b1, b2, b3, b4])\n",
    "print(bs)"
   ]
  },
  {
   "cell_type": "markdown",
   "metadata": {},
   "source": [
    "在Python中提供了一个`struct`模块来解决`bytes`和其他二进制数据类型之间的转换问题。"
   ]
  },
  {
   "cell_type": "code",
   "execution_count": 4,
   "metadata": {},
   "outputs": [
    {
     "name": "stdout",
     "output_type": "stream",
     "text": [
      "b'\\x00\\x9c@\\t'\n"
     ]
    }
   ],
   "source": [
    "import struct\n",
    "print(struct.pack('>I', 10240009))"
   ]
  },
  {
   "cell_type": "markdown",
   "metadata": {},
   "source": [
    "其中`>`表示字节顺序是大端法，也就是网络序。`I`表示4字节无符号整数。"
   ]
  },
  {
   "cell_type": "code",
   "execution_count": 5,
   "metadata": {},
   "outputs": [
    {
     "name": "stdout",
     "output_type": "stream",
     "text": [
      "b'\\x00*'\n"
     ]
    }
   ],
   "source": [
    "print(struct.pack('>H', 42))"
   ]
  },
  {
   "cell_type": "code",
   "execution_count": null,
   "metadata": {},
   "outputs": [],
   "source": [
    "struct.unpack('>IH',b'\\x00\\x9c@\\t')"
   ]
  }
 ],
 "metadata": {
  "kernelspec": {
   "display_name": "Python 3",
   "language": "python",
   "name": "python3"
  },
  "language_info": {
   "codemirror_mode": {
    "name": "ipython",
    "version": 3
   },
   "file_extension": ".py",
   "mimetype": "text/x-python",
   "name": "python",
   "nbconvert_exporter": "python",
   "pygments_lexer": "ipython3",
   "version": "3.7.2"
  }
 },
 "nbformat": 4,
 "nbformat_minor": 2
}
