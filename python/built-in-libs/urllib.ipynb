{
 "cells": [
  {
   "cell_type": "markdown",
   "metadata": {},
   "source": [
    "# Urllib\n",
    "\n",
    "Urllib是Python自带的标准库，通常用于爬虫开发，API数据获取与测试。\n",
    "\n",
    "Urllib在Python2和Python3中的用法有着较大的不同。\n",
    "\n",
    "Python2中Urllib中分为urllib和urllib2两个模块，urllib2可以接收一个Request对象，而Urllib只能接收一条URL，这意味着不能伪装User-Agent字符串等。\n",
    "\n",
    "Python3中就把Python2里的urllib和urllib2合并了。"
   ]
  },
  {
   "cell_type": "markdown",
   "metadata": {},
   "source": [
    "## 常用接口\n",
    "\n",
    "- urllib.request.urlopen：urllib最基本的使用功能，用于访问URL（请求链接）的唯一方法。\n",
    "- urllib.request.Request：声明request对象，该对象可自定义请求头（header）、请求方式等信息。\n",
    "- urllib.request.ProxyHandler：动态设置代理IP池，可加载请求对象。\n",
    "- urllib.request.HTTPCookieProcessor：设置Cookies对象，可加载请求对象。\n",
    "- urllib.request.build_opener（）：创建请求对象，用于代理IP和Cookies对象加载。\n",
    "- urllib.parse.urlencode（data）.encode（'utf-8'）：请求数据格式转换。\n",
    "- urllib.parse.quote（url）：URL编码处理，主要对URL上的中文等特殊符号编码处理。\n",
    "- urllib.parse.unquote（url）：URL解码处理，将URL上的特殊符号还原。"
   ]
  },
  {
   "cell_type": "markdown",
   "metadata": {},
   "source": [
    "## urlopen\n",
    "\n",
    "urlopen用于向服务器端发送一个请求，可以是GET或POST方法，这取决于第二个参数`data`字段是否为空。传入的请求可以是一个`url`字符串，也可以是一个`urllib.Request`对象。\n",
    "\n",
    "它返回一个`http.client.HTTPResponse`对象，这个对象提供了下面的方法：\n",
    "- read()\n",
    "- readline()\n",
    "- readlines()\n",
    "- fileno()\n",
    "- close()\n",
    "- info()：返回HTTPMessage对象，表示远程服务器返回的头信息\n",
    "- getcode()：返回HTTP状态码\n",
    "- geturl() 返回请深圳市的URL"
   ]
  },
  {
   "cell_type": "code",
   "execution_count": 2,
   "metadata": {},
   "outputs": [
    {
     "name": "stdout",
     "output_type": "stream",
     "text": [
      "Help on function urlopen in module urllib.request:\n",
      "\n",
      "urlopen(url, data=None, timeout=<object object at 0x7fc83ffbedd0>, *, cafile=None, capath=None, cadefault=False, context=None)\n",
      "    Open the URL url, which can be either a string or a Request object.\n",
      "    \n",
      "    *data* must be an object specifying additional data to be sent to\n",
      "    the server, or None if no such data is needed.  See Request for\n",
      "    details.\n",
      "    \n",
      "    urllib.request module uses HTTP/1.1 and includes a \"Connection:close\"\n",
      "    header in its HTTP requests.\n",
      "    \n",
      "    The optional *timeout* parameter specifies a timeout in seconds for\n",
      "    blocking operations like the connection attempt (if not specified, the\n",
      "    global default timeout setting will be used). This only works for HTTP,\n",
      "    HTTPS and FTP connections.\n",
      "    \n",
      "    If *context* is specified, it must be a ssl.SSLContext instance describing\n",
      "    the various SSL options. See HTTPSConnection for more details.\n",
      "    \n",
      "    The optional *cafile* and *capath* parameters specify a set of trusted CA\n",
      "    certificates for HTTPS requests. cafile should point to a single file\n",
      "    containing a bundle of CA certificates, whereas capath should point to a\n",
      "    directory of hashed certificate files. More information can be found in\n",
      "    ssl.SSLContext.load_verify_locations().\n",
      "    \n",
      "    The *cadefault* parameter is ignored.\n",
      "    \n",
      "    This function always returns an object which can work as a context\n",
      "    manager and has methods such as\n",
      "    \n",
      "    * geturl() - return the URL of the resource retrieved, commonly used to\n",
      "      determine if a redirect was followed\n",
      "    \n",
      "    * info() - return the meta-information of the page, such as headers, in the\n",
      "      form of an email.message_from_string() instance (see Quick Reference to\n",
      "      HTTP Headers)\n",
      "    \n",
      "    * getcode() - return the HTTP status code of the response.  Raises URLError\n",
      "      on errors.\n",
      "    \n",
      "    For HTTP and HTTPS URLs, this function returns a http.client.HTTPResponse\n",
      "    object slightly modified. In addition to the three new methods above, the\n",
      "    msg attribute contains the same information as the reason attribute ---\n",
      "    the reason phrase returned by the server --- instead of the response\n",
      "    headers as it is specified in the documentation for HTTPResponse.\n",
      "    \n",
      "    For FTP, file, and data URLs and requests explicitly handled by legacy\n",
      "    URLopener and FancyURLopener classes, this function returns a\n",
      "    urllib.response.addinfourl object.\n",
      "    \n",
      "    Note that None may be returned if no handler handles the request (though\n",
      "    the default installed global OpenerDirector uses UnknownHandler to ensure\n",
      "    this never happens).\n",
      "    \n",
      "    In addition, if proxy settings are detected (for example, when a *_proxy\n",
      "    environment variable like http_proxy is set), ProxyHandler is default\n",
      "    installed and makes sure the requests are handled through the proxy.\n",
      "\n"
     ]
    }
   ],
   "source": [
    "import urllib\n",
    "\n",
    "help(urllib.request.urlopen)"
   ]
  },
  {
   "cell_type": "markdown",
   "metadata": {},
   "source": [
    "下面这段程序由于网站设置了防爬，所以返回了418错误码。\n",
    "\n",
    ">418 I'm a teapot\n",
    "   Any attempt to brew coffee with a teapot should result in the error\n",
    "   code \"418 I'm a teapot\". The resulting entity body MAY be short and\n",
    "   stout."
   ]
  },
  {
   "cell_type": "code",
   "execution_count": null,
   "metadata": {},
   "outputs": [],
   "source": [
    "from urllib import request\n",
    "\n",
    "with request.urlopen('https://movie.douban.com/', data=None, timeout=2) as response:\n",
    "    data = response.read()\n",
    "    print('Status:', response.status, response.reason)\n",
    "    for k, v in .getheaders():\n",
    "        print('%s: %s' % (k, v))\n",
    "    print('DataLen:', len(data.decode('utf-8')))"
   ]
  },
  {
   "cell_type": "markdown",
   "metadata": {},
   "source": [
    "## 通过Request对象来模拟浏览器访问"
   ]
  },
  {
   "cell_type": "code",
   "execution_count": 11,
   "metadata": {},
   "outputs": [
    {
     "name": "stdout",
     "output_type": "stream",
     "text": [
      "Status: 200 OK\n",
      "Date: Fri, 20 Mar 2020 01:27:40 GMT\n",
      "Content-Type: text/html; charset=utf-8\n",
      "Transfer-Encoding: chunked\n",
      "Connection: close\n",
      "Vary: Accept-Encoding\n",
      "Vary: Accept-Encoding\n",
      "X-Xss-Protection: 1; mode=block\n",
      "X-Douban-Mobileapp: 0\n",
      "Expires: Sun, 1 Jan 2006 01:00:00 GMT\n",
      "Pragma: no-cache\n",
      "Cache-Control: must-revalidate, no-cache, private\n",
      "Set-Cookie: ll=\"118282\"; path=/; domain=.douban.com; expires=Sat, 20-Mar-2021 01:27:40 GMT\n",
      "Set-Cookie: bid=XWHC-mwW6OM; Expires=Sat, 20-Mar-21 01:27:40 GMT; Domain=.douban.com; Path=/\n",
      "X-DOUBAN-NEWBID: XWHC-mwW6OM\n",
      "X-DAE-App: movie\n",
      "X-DAE-Instance: default\n",
      "Server: dae\n",
      "X-Content-Type-Options: nosniff\n",
      "DataLen: 66659\n"
     ]
    }
   ],
   "source": [
    "from urllib import request\n",
    "url = 'https://movie.douban.com/'\n",
    "# 设置请求头部\n",
    "headers = {\n",
    "    'User-Agent': 'Mozilla/6.0 (iPhone; CPU iPhone OS 8_0 like Mac OS X) AppleWebKit/536.26 (KHTML, like Gecko) Version/8.0 Mobile/10A5376e Safari/8536.25',\n",
    "    'Referer': 'https://movie.douban.com/',\n",
    "    'Connection': 'keep=alive'\n",
    "}\n",
    "# 创建Requset对象\n",
    "req = request.Request(url=url, headers=headers)\n",
    "html = open('movie.html', 'wb')\n",
    "with request.urlopen(req) as response:\n",
    "    data = response.read()\n",
    "    print('Status:', response.status, response.reason)\n",
    "    for k, v in response.getheaders():\n",
    "        print('%s: %s' % (k, v))\n",
    "    print('DataLen:', len(data.decode('utf-8')))\n",
    "    html.write(data)\n",
    "html.close()"
   ]
  },
  {
   "cell_type": "markdown",
   "metadata": {},
   "source": [
    "## 通过代理来访问Web Server\n",
    "\n",
    "代理的基本原理就是客户端发送给服务器的请求，不是直接发送给服务端，而是先发送给了代理服务器，然后由代理服务器再向服务器来请求，代理服务器拿到响应后，再发送回客户端。\n",
    "\n",
    "![](../images/2012120511054068.png)\n",
    "\n",
    "比较著名的代理软件有[Squid](http://www.squid-cache.org/)，另外Web抓包工具Fiddler本质上就是一个代理服务。"
   ]
  },
  {
   "cell_type": "code",
   "execution_count": null,
   "metadata": {},
   "outputs": [],
   "source": [
    "import urllib.request\n",
    "\n",
    "url = 'https://movie.douban.com'\n",
    "# 设置代理IP\n",
    "proxy_handler = urllib.request.ProxyHandler({\n",
    "    'http': '218.56.132.157:8080',\n",
    "    'https': '183.30.197.29:9797'\n",
    "})\n",
    "# 使用build_opener()函数来创建带有代理IP功能的opener对象\n",
    "opener = urllib.request.build_opener(proxy_handler)\n",
    "response = opener.open(url)\n",
    "html = response.read().decode('utf-8')\n",
    "f = open('html.txt', 'w', encoding='utf8')\n",
    "f.write(html)\n",
    "f.close()"
   ]
  },
  {
   "cell_type": "markdown",
   "metadata": {},
   "source": [
    "## 使用Cookies\n",
    "\n",
    "Cookies用于在浏览器侧保存用户的信息，比如当我们访问某个网站，提交数据实现了用户登录后，会生成带有登录状态的Cookies，这时可以将Cookies保存在本地文件中，下次程序运行的时候，可以直接读取Cookies文件来实现用户登录。\n",
    "\n",
    "特别是对于一些复杂的登录，如验证码、手机短信验证登录的这类网站，使用Cookies能简单解决重复登录的问题。"
   ]
  },
  {
   "cell_type": "code",
   "execution_count": 13,
   "metadata": {},
   "outputs": [],
   "source": [
    "import urllib.request\n",
    "from http import cookiejar\n",
    "\n",
    "url = 'https://movie.douban.com/'\n",
    "headers = {\n",
    "    'User-Agent': 'Mozilla/6.0 (iPhone; CPU iPhone OS 8_0 like Mac OS X) AppleWebKit/536.26 (KHTML, like Gecko) Version/8.0 Mobile/10A5376e Safari/8536.25',\n",
    "    'Referer': 'https://movie.douban.com/',\n",
    "    'Connection': 'keep=alive'\n",
    "}\n",
    "req = request.Request(url=url, headers=headers)\n",
    "\n",
    "filename='cookie.txt'\n",
    "cookie = cookiejar.MozillaCookieJar(filename)\n",
    "# 创建HTTPCookieProcessor cookie处理器\n",
    "handler = urllib.request.HTTPCookieProcessor(cookie)\n",
    "# 创建自定义opener\n",
    "opener = urllib.request.build_opener(handler)\n",
    "response = opener.open(req)\n",
    "cookie.save()"
   ]
  },
  {
   "cell_type": "code",
   "execution_count": 14,
   "metadata": {},
   "outputs": [
    {
     "name": "stdout",
     "output_type": "stream",
     "text": [
      "<MozillaCookieJar[<Cookie bid=5N4DgDZzu7U for .douban.com/>, <Cookie ll=\"118282\" for .douban.com/>]>\n"
     ]
    }
   ],
   "source": [
    "# 读取cookie\n",
    "filename='cookie.txt'\n",
    "cookie = cookiejar.MozillaCookieJar()\n",
    "cookie.load(filename)\n",
    "print(cookie)"
   ]
  },
  {
   "cell_type": "markdown",
   "metadata": {},
   "source": [
    "## 证书验证"
   ]
  },
  {
   "cell_type": "markdown",
   "metadata": {},
   "source": [
    "安全性较好的网络，一般都通过SSL协议对整个数据传输过程进行加密，这样做可以防止有第三方来假冒网络，窃取用户的核心信息。\n",
    "\n",
    "所以一般网站都会提供一个证书来证明自己的身份。\n",
    "\n",
    "反过来服务器有时候也需要验证用户的身份，那么就需要用户的证书。\n",
    "\n",
    "我们可以在进行服务器访问时，可以选择关闭对远端的证书校验。"
   ]
  },
  {
   "cell_type": "code",
   "execution_count": 16,
   "metadata": {},
   "outputs": [
    {
     "name": "stdout",
     "output_type": "stream",
     "text": [
      "200\n"
     ]
    }
   ],
   "source": [
    "import urllib.request\n",
    "import ssl\n",
    "\n",
    "ssl._create_default_https_context = ssl._create_unverified_context\n",
    "url = 'https://kyfw.12306.cn/otn/leftTicket/init'\n",
    "response = urllib.request.urlopen(url)\n",
    "print(response.getcode())"
   ]
  },
  {
   "cell_type": "markdown",
   "metadata": {},
   "source": [
    "## POST请求\n",
    "\n",
    "`urllib.request.ulropen()`方法是根据参数`data`字段是否为空，来判断请求是POST还是GET的。"
   ]
  },
  {
   "cell_type": "code",
   "execution_count": 17,
   "metadata": {},
   "outputs": [
    {
     "name": "stdout",
     "output_type": "stream",
     "text": [
      "200\n"
     ]
    }
   ],
   "source": [
    "import urllib.request\n",
    "import urllib.parse\n",
    "\n",
    "url = 'https://movie.douban.com/'\n",
    "headers = {\n",
    "    'User-Agent': 'Mozilla/6.0 (iPhone; CPU iPhone OS 8_0 like Mac OS X) AppleWebKit/536.26 (KHTML, like Gecko) Version/8.0 Mobile/10A5376e Safari/8536.25',\n",
    "    'Referer': 'https://movie.douban.com/',\n",
    "    'Connection': 'keep=alive'\n",
    "}\n",
    "data = {\n",
    "    'value': 'true'\n",
    "}\n",
    "data = urllib.parse.urlencode(data).encode('utf-8')\n",
    "req = request.Request(url=url, headers=headers, data=data)\n",
    "response = urllib.request.urlopen(req)\n",
    "print(response.getcode())"
   ]
  },
  {
   "cell_type": "markdown",
   "metadata": {},
   "source": [
    "请求参数中有中文，那么需要对中文进行编码"
   ]
  },
  {
   "cell_type": "code",
   "execution_count": 18,
   "metadata": {},
   "outputs": [
    {
     "name": "stdout",
     "output_type": "stream",
     "text": [
      "%E8%8B%B9%E6%9E%9C\n"
     ]
    }
   ],
   "source": [
    "str = '苹果'\n",
    "print(urllib.parse.quote(str))"
   ]
  }
 ],
 "metadata": {
  "kernelspec": {
   "display_name": "Python 3",
   "language": "python",
   "name": "python3"
  },
  "language_info": {
   "codemirror_mode": {
    "name": "ipython",
    "version": 3
   },
   "file_extension": ".py",
   "mimetype": "text/x-python",
   "name": "python",
   "nbconvert_exporter": "python",
   "pygments_lexer": "ipython3",
   "version": "3.8.1"
  }
 },
 "nbformat": 4,
 "nbformat_minor": 4
}
