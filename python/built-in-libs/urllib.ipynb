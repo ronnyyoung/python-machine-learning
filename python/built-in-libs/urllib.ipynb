{
 "cells": [
  {
   "cell_type": "markdown",
   "metadata": {},
   "source": [
    "# Urllib\n",
    "\n",
    "`urllib`提供了一系列用于操作URL的功能。"
   ]
  },
  {
   "cell_type": "code",
   "execution_count": 7,
   "metadata": {},
   "outputs": [
    {
     "name": "stdout",
     "output_type": "stream",
     "text": [
      "Status: 200 OK\n",
      "Date: Wed, 23 Oct 2019 01:52:40 GMT\n",
      "Content-Type: text/html; charset=utf-8\n",
      "Transfer-Encoding: chunked\n",
      "Connection: close\n",
      "Vary: Accept-Encoding\n",
      "Vary: Accept-Encoding\n",
      "X-Xss-Protection: 1; mode=block\n",
      "X-Douban-Mobileapp: 0\n",
      "Expires: Sun, 1 Jan 2006 01:00:00 GMT\n",
      "Pragma: no-cache\n",
      "Cache-Control: must-revalidate, no-cache, private\n",
      "Set-Cookie: viewed=\"4913064\"; path=/; domain=.douban.com; expires=Thu, 22-Oct-2020 01:52:39 GMT\n",
      "Set-Cookie: bid=WJ5QZ58LAY8; Expires=Thu, 22-Oct-20 01:52:40 GMT; Domain=.douban.com; Path=/\n",
      "X-DOUBAN-NEWBID: WJ5QZ58LAY8\n",
      "X-DAE-App: book\n",
      "X-DAE-Instance: default\n",
      "Server: dae\n",
      "Strict-Transport-Security: max-age=15552000;\n",
      "X-Content-Type-Options: nosniff\n",
      "DataLen: 140457\n"
     ]
    }
   ],
   "source": [
    "from urllib import request\n",
    "\n",
    "with request.urlopen('https://book.douban.com/subject/4913064/') as f:\n",
    "    data = f.read()\n",
    "    print('Status:', f.status, f.reason)\n",
    "    for k, v in f.getheaders():\n",
    "        print('%s: %s' % (k, v))\n",
    "    print('DataLen:', len(data.decode('utf-8')))"
   ]
  },
  {
   "cell_type": "markdown",
   "metadata": {},
   "source": [
    "## 模拟浏览器访问"
   ]
  },
  {
   "cell_type": "code",
   "execution_count": 14,
   "metadata": {},
   "outputs": [
    {
     "name": "stdout",
     "output_type": "stream",
     "text": [
      "Status: 200 OK\n",
      "Date: Wed, 23 Oct 2019 01:59:11 GMT\n",
      "Content-Type: text/html; charset=utf-8\n",
      "Transfer-Encoding: chunked\n",
      "Connection: close\n",
      "Vary: Accept-Encoding\n",
      "Vary: Accept-Encoding\n",
      "X-Xss-Protection: 1; mode=block\n",
      "X-Douban-Mobileapp: 0\n",
      "Expires: Sun, 1 Jan 2006 01:00:00 GMT\n",
      "Pragma: no-cache\n",
      "Cache-Control: must-revalidate, no-cache, private\n",
      "Set-Cookie: bid=fr7n6bhREQc; Expires=Thu, 22-Oct-20 01:59:11 GMT; Domain=.douban.com; Path=/\n",
      "X-DOUBAN-NEWBID: fr7n6bhREQc\n",
      "X-DAE-App: talion\n",
      "X-DAE-Instance: default\n",
      "Server: dae\n",
      "X-Frame-Options: SAMEORIGIN\n",
      "Strict-Transport-Security: max-age=15552000;\n",
      "X-Content-Type-Options: nosniff\n",
      "DataLen: 4870\n"
     ]
    }
   ],
   "source": [
    "req = request.Request('http://www.douban.com/')\n",
    "req.add_header('User-Agent', 'Mozilla/6.0 (iPhone; CPU iPhone OS 8_0 like Mac OS X) AppleWebKit/536.26 (KHTML, like Gecko) Version/8.0 Mobile/10A5376e Safari/8536.25')\n",
    "html = open('douban_index.html', 'wb')\n",
    "with request.urlopen(req) as f:\n",
    "    data = f.read()\n",
    "    print('Status:', f.status, f.reason)\n",
    "    for k, v in f.getheaders():\n",
    "        print('%s: %s' % (k, v))\n",
    "    print('DataLen:', len(data.decode('utf-8')))\n",
    "    html.write(data)\n",
    "html.close()"
   ]
  },
  {
   "cell_type": "markdown",
   "metadata": {},
   "source": [
    "## Post请求"
   ]
  },
  {
   "cell_type": "code",
   "execution_count": null,
   "metadata": {},
   "outputs": [],
   "source": []
  }
 ],
 "metadata": {
  "kernelspec": {
   "display_name": "Python 3",
   "language": "python",
   "name": "python3"
  },
  "language_info": {
   "codemirror_mode": {
    "name": "ipython",
    "version": 3
   },
   "file_extension": ".py",
   "mimetype": "text/x-python",
   "name": "python",
   "nbconvert_exporter": "python",
   "pygments_lexer": "ipython3",
   "version": "3.7.2"
  }
 },
 "nbformat": 4,
 "nbformat_minor": 2
}
