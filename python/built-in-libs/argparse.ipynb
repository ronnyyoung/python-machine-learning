{
 "cells": [
  {
   "cell_type": "markdown",
   "metadata": {},
   "source": [
    "# argparse\n",
    "\n",
    "- 参考文档：https://docs.python.org/zh-cn/3/library/argparse.html\n",
    "- 主要功能：Python程序的命令行参数与选项解析"
   ]
  },
  {
   "cell_type": "code",
   "execution_count": 15,
   "metadata": {},
   "outputs": [],
   "source": [
    "import argparse"
   ]
  },
  {
   "cell_type": "code",
   "execution_count": 16,
   "metadata": {},
   "outputs": [],
   "source": [
    "parser = argparse.ArgumentParser(prog='PytorchTrainer', description='Pytorch training example')"
   ]
  },
  {
   "cell_type": "markdown",
   "metadata": {},
   "source": [
    "## 增加命令行参数"
   ]
  },
  {
   "cell_type": "code",
   "execution_count": 17,
   "metadata": {},
   "outputs": [
    {
     "data": {
      "text/plain": [
       "_StoreAction(option_strings=[], dest='images', nargs=None, const=None, default=None, type=<class 'str'>, choices=None, help=None, metavar='IMAGES')"
      ]
     },
     "execution_count": 17,
     "metadata": {},
     "output_type": "execute_result"
    }
   ],
   "source": [
    "parser.add_argument('images', type=str, metavar='IMAGES')"
   ]
  },
  {
   "cell_type": "markdown",
   "metadata": {},
   "source": [
    "## 增加命令行选项"
   ]
  },
  {
   "cell_type": "code",
   "execution_count": 18,
   "metadata": {},
   "outputs": [
    {
     "data": {
      "text/plain": [
       "_StoreAction(option_strings=['-b', '--batch-size'], dest='batch_size', nargs=None, const=None, default=64, type=<class 'int'>, choices=None, help='input batch size for training (default: 64)', metavar='N')"
      ]
     },
     "execution_count": 18,
     "metadata": {},
     "output_type": "execute_result"
    }
   ],
   "source": [
    "parser.add_argument('-b', '--batch-size', type=int, default=64, metavar='N', help='input batch size for training (default: 64)')"
   ]
  },
  {
   "cell_type": "markdown",
   "metadata": {},
   "source": [
    "- `-b` 参数的缩写形式\n",
    "- `--batch-size`参数的全写形式\n",
    "- `type`指定参数的类型\n",
    "- `default`指定参数的缺省值\n",
    "- `metavar` 指定打印Usage时，对应参数的值的形式\n",
    "- `help` 参数的提示信息"
   ]
  },
  {
   "cell_type": "markdown",
   "metadata": {},
   "source": [
    "## 增加flag型选项 \n",
    "\n",
    "在命令行传递参数时，只需要写选项，不需要写值。\n",
    "\n",
    "```\n",
    "./PytrochTrainer --save-model\n",
    "```"
   ]
  },
  {
   "cell_type": "code",
   "execution_count": 21,
   "metadata": {},
   "outputs": [
    {
     "data": {
      "text/plain": [
       "_StoreTrueAction(option_strings=['--save-model'], dest='save_model', nargs=0, const=True, default=False, type=None, choices=None, help='For Saving the current Model', metavar=None)"
      ]
     },
     "execution_count": 21,
     "metadata": {},
     "output_type": "execute_result"
    }
   ],
   "source": [
    "parser.add_argument('--save-model', action='store_true', default=False, help='For Saving the current Model')"
   ]
  },
  {
   "cell_type": "code",
   "execution_count": 23,
   "metadata": {},
   "outputs": [
    {
     "name": "stdout",
     "output_type": "stream",
     "text": [
      "Namespace(batch_size=1024, images='/mnt/data/images', save_model=True)\n"
     ]
    }
   ],
   "source": [
    "args = parser.parse_args('/mnt/data/images -b 1024 --save-model'.split())\n",
    "print(args)"
   ]
  },
  {
   "cell_type": "markdown",
   "metadata": {},
   "source": [
    "## 使用这些参数和选项\n",
    "\n",
    "会自动把`xx-xx`解析为`xx_xx`"
   ]
  },
  {
   "cell_type": "code",
   "execution_count": 24,
   "metadata": {},
   "outputs": [
    {
     "name": "stdout",
     "output_type": "stream",
     "text": [
      "/mnt/data/images\n",
      "1024\n",
      "True\n"
     ]
    }
   ],
   "source": [
    "print(args.images)\n",
    "print(args.batch_size)\n",
    "print(args.save_model)"
   ]
  }
 ],
 "metadata": {
  "kernelspec": {
   "display_name": "Python 3",
   "language": "python",
   "name": "python3"
  },
  "language_info": {
   "codemirror_mode": {
    "name": "ipython",
    "version": 3
   },
   "file_extension": ".py",
   "mimetype": "text/x-python",
   "name": "python",
   "nbconvert_exporter": "python",
   "pygments_lexer": "ipython3",
   "version": "3.7.2"
  }
 },
 "nbformat": 4,
 "nbformat_minor": 2
}
