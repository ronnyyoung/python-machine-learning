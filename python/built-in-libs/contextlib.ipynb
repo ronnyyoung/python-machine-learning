{
 "cells": [
  {
   "cell_type": "markdown",
   "metadata": {},
   "source": [
    "## `With`上下文管理器\n",
    "\n",
    "`with`上下文管理器在Python的处理文件打开与关闭的时候经常使用：\n",
    "\n",
    "```python\n",
    "with open('somefile.txt', 'r') as f:\n",
    "    f.read()\n",
    "```\n",
    "\n",
    "`with`可以让代码块在结束时，自动的调用`f.close()`来避免资源的泄漏。\n",
    "\n",
    "并不是只有`open()`函数返回的对象才能使用`with`语句。实际上，任何对象，只要正确实现了上下文管理，就可以用于`with`语句。\n",
    "\n",
    "实现上下文管理是通过`__enter__`和`__exit__`这两个方法实现的。例如，下面的class实现了这两个方法："
   ]
  },
  {
   "cell_type": "code",
   "execution_count": 5,
   "metadata": {},
   "outputs": [],
   "source": [
    "class Query(object):\n",
    "    def __init__(self, name):\n",
    "        self.name = name\n",
    "    def __enter__(self):\n",
    "        print('---Enter---')\n",
    "        return self\n",
    "    def __exit__(self, exc_type, exc_value, traceback):\n",
    "        if exc_type:\n",
    "            print('Error')\n",
    "        else:\n",
    "            print('---Exit---')\n",
    "    def query(self):\n",
    "        print('Query info about: %s...' % self.name)"
   ]
  },
  {
   "cell_type": "code",
   "execution_count": 6,
   "metadata": {},
   "outputs": [
    {
     "name": "stdout",
     "output_type": "stream",
     "text": [
      "---Enter---\n",
      "Query info about: hello...\n",
      "---Exit---\n"
     ]
    }
   ],
   "source": [
    "with Query('hello') as q:\n",
    "    q.query()"
   ]
  },
  {
   "cell_type": "markdown",
   "metadata": {},
   "source": [
    "## `contextmanager`\n",
    "\n",
    "编写`__enter__`和`__exit__`仍然很繁琐，因此Python的标准库`contextlib`提供了更简单的写法，上面的代码可以改写如下："
   ]
  },
  {
   "cell_type": "code",
   "execution_count": 10,
   "metadata": {},
   "outputs": [],
   "source": [
    "from contextlib import contextmanager\n",
    "\n",
    "class Query(object):\n",
    "    def __init__(self, name):\n",
    "        self.name = name\n",
    "    def query(self):\n",
    "        print('Query info about: %s...' % self.name)\n",
    "        \n",
    "@contextmanager\n",
    "def create_query(name):\n",
    "    print('---Enter---')\n",
    "    q = Query(name)\n",
    "    yield q\n",
    "    print('---Exit---')"
   ]
  },
  {
   "cell_type": "code",
   "execution_count": 12,
   "metadata": {},
   "outputs": [
    {
     "name": "stdout",
     "output_type": "stream",
     "text": [
      "---Enter---\n",
      "Query info about: hello...\n",
      "---Exit---\n"
     ]
    }
   ],
   "source": [
    "with create_query('hello') as q:\n",
    "    q.query()"
   ]
  },
  {
   "cell_type": "markdown",
   "metadata": {},
   "source": [
    "很多时候，我们希望在某段代码执行前后自动执行特定代码，也可以用`@contextmanager`实现。例如："
   ]
  },
  {
   "cell_type": "code",
   "execution_count": 13,
   "metadata": {},
   "outputs": [
    {
     "name": "stdout",
     "output_type": "stream",
     "text": [
      "<h1>\n",
      "hello, world\n",
      "<h1>\n"
     ]
    }
   ],
   "source": [
    "@contextmanager\n",
    "def tag(name):\n",
    "    print(\"<%s>\" % name)\n",
    "    yield\n",
    "    print(\"<%s>\" % name)\n",
    "with tag(\"h1\"):\n",
    "    print(\"hello, world\")"
   ]
  },
  {
   "cell_type": "markdown",
   "metadata": {},
   "source": [
    "代码的执行顺序是：\n",
    "\n",
    "1. 调用tag，打印第一句`print(\"<%s>\" % name)`\n",
    "2. 遇到tag，当前函数让出执行流，进入到with的代码块内部，执行`print(\"hello, world\")`\n",
    "3. `with`代码块执行结束后，回来yield后续的代码继续执行`print(\"<%s>\" % name)`。"
   ]
  }
 ],
 "metadata": {
  "kernelspec": {
   "display_name": "Python 3",
   "language": "python",
   "name": "python3"
  },
  "language_info": {
   "codemirror_mode": {
    "name": "ipython",
    "version": 3
   },
   "file_extension": ".py",
   "mimetype": "text/x-python",
   "name": "python",
   "nbconvert_exporter": "python",
   "pygments_lexer": "ipython3",
   "version": "3.7.2"
  }
 },
 "nbformat": 4,
 "nbformat_minor": 2
}
