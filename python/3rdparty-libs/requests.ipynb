{
 "cells": [
  {
   "cell_type": "markdown",
   "metadata": {},
   "source": [
    "# Requests\n",
    "\n",
    "`requests`是Python的一个很实用的HTTP客户端库。与Python的内置的Urllib库相比，不仅完全具备Urllib的所有功能，在开发使用上，语法简单易懂，完全符合Python的优雅、简洁的特性。\n",
    "\n",
    "可以通过`pip install requests`或者`conda install requests`来安装。"
   ]
  },
  {
   "cell_type": "code",
   "execution_count": 3,
   "metadata": {},
   "outputs": [
    {
     "name": "stdout",
     "output_type": "stream",
     "text": [
      "2.23.0\n"
     ]
    }
   ],
   "source": [
    "import requests\n",
    "print(requests.__version__)"
   ]
  },
  {
   "cell_type": "markdown",
   "metadata": {},
   "source": [
    "## Get请求\n",
    "\n",
    "HTTP请求可以通过Get和POST方法来发起，GET请求又可以分为带参数和不带参数，带参数的url里一般带有`?`"
   ]
  },
  {
   "cell_type": "code",
   "execution_count": 7,
   "metadata": {},
   "outputs": [
    {
     "name": "stdout",
     "output_type": "stream",
     "text": [
      "response code of get 'https://www.douban.com/': 418\n"
     ]
    }
   ],
   "source": [
    "# 不带参数的请求\n",
    "import requests\n",
    "\n",
    "r = requests.get('https://www.douban.com/')\n",
    "print(\"response code of get 'https://www.douban.com/':\" , r.status_code)\n",
    "# print(r.text) #内容太长，注释掉了\n",
    "\n",
    "# 带参数的请求方式1\n",
    "r = requests.get('https://www.douban.com/search?q=python&cat=1001')\n",
    "r = requests.get('https://www.douban.com/search', params={'q': 'python', 'cat': '1001'})"
   ]
  },
  {
   "cell_type": "markdown",
   "metadata": {},
   "source": [
    "## POST请求"
   ]
  },
  {
   "cell_type": "code",
   "execution_count": 9,
   "metadata": {},
   "outputs": [
    {
     "name": "stdout",
     "output_type": "stream",
     "text": [
      "json data:  [[\"q\", \"python\"], [\"cat\", \"1001\"]]\n"
     ]
    }
   ],
   "source": [
    "# 字典\n",
    "data = {'q':'python', 'cat':'1001'} \n",
    "# 元组或列表\n",
    "data = (('q', 'python'),('cat', '1001'))\n",
    "\n",
    "# JSON\n",
    "import json\n",
    "json_data = {'q':'python', 'cat':'1001'} \n",
    "data = json.dumps(json_data)\n",
    "\n",
    "r = requests.post(\"https://www.douban.com/search\", data = data)"
   ]
  },
  {
   "cell_type": "markdown",
   "metadata": {},
   "source": [
    "## 设置Header"
   ]
  },
  {
   "cell_type": "code",
   "execution_count": 12,
   "metadata": {},
   "outputs": [
    {
     "name": "stdout",
     "output_type": "stream",
     "text": [
      "200\n"
     ]
    }
   ],
   "source": [
    "headers = {\n",
    "    'User-Agent': 'Mozilla/6.0 (iPhone; CPU iPhone OS 8_0 like Mac OS X) AppleWebKit/536.26 (KHTML, like Gecko) Version/8.0 Mobile/10A5376e Safari/8536.25',\n",
    "    'Referer': 'https://movie.douban.com/',\n",
    "    'Connection': 'keep=alive'\n",
    "}\n",
    "\n",
    "r = requests.post(\"https://www.douban.com/search\", data = data, headers=headers)\n",
    "print(r.status_code)"
   ]
  },
  {
   "cell_type": "markdown",
   "metadata": {},
   "source": [
    "## 使用代理IP"
   ]
  },
  {
   "cell_type": "code",
   "execution_count": 17,
   "metadata": {},
   "outputs": [
    {
     "data": {
      "text/plain": [
       "<Response [200]>"
      ]
     },
     "execution_count": 17,
     "metadata": {},
     "output_type": "execute_result"
    }
   ],
   "source": [
    "proxies = {\n",
    "    'http': 'http://10.10.1.10:3128',\n",
    "    'https:': 'http://10.10.1.10:1080'\n",
    "}\n",
    "requests.get(\"https://www.baidu.com\", proxies=proxies)"
   ]
  },
  {
   "cell_type": "markdown",
   "metadata": {},
   "source": [
    "## 证书验证"
   ]
  },
  {
   "cell_type": "code",
   "execution_count": 19,
   "metadata": {},
   "outputs": [
    {
     "name": "stderr",
     "output_type": "stream",
     "text": [
      "/home/yansheng/miniconda3/envs/pyml/lib/python3.8/site-packages/urllib3/connectionpool.py:997: InsecureRequestWarning: Unverified HTTPS request is being made to host 'kyfw.12306.cn'. Adding certificate verification is strongly advised. See: https://urllib3.readthedocs.io/en/latest/advanced-usage.html#ssl-warnings\n",
      "  warnings.warn(\n"
     ]
    },
    {
     "name": "stdout",
     "output_type": "stream",
     "text": [
      "200\n",
      "200\n"
     ]
    }
   ],
   "source": [
    "url = 'https://kyfw.12306.cn/otn/leftTicket/init'\n",
    "# 关闭证书验证\n",
    "r = requests.get(url, verify=False)\n",
    "print(r.status_code)\n",
    "# 开启证书验证\n",
    "r = requests.get(url, verify=True)\n",
    "print(r.status_code)\n",
    "# 设置证书所在路径\n",
    "#r = requests.get(url, verify='/path/to/certifle')"
   ]
  },
  {
   "cell_type": "markdown",
   "metadata": {},
   "source": [
    "## 超时设置"
   ]
  },
  {
   "cell_type": "code",
   "execution_count": 33,
   "metadata": {},
   "outputs": [
    {
     "data": {
      "text/plain": [
       "<Response [200]>"
      ]
     },
     "execution_count": 33,
     "metadata": {},
     "output_type": "execute_result"
    }
   ],
   "source": [
    "requests.get('https://www.baidu.com/', timeout=0.1)"
   ]
  },
  {
   "cell_type": "markdown",
   "metadata": {},
   "source": [
    "## 使用Cookies\n",
    "\n",
    "**使用Cookies的作用是识别用户身份**\n",
    "\n",
    "Cookies我们可以通过两种方式来获取:\n",
    "\n",
    "- 一种是通过Chrome开发者工具，在Request的Headers中找到Cookies所对应的值，然后将字符串转换为字典\n",
    "- 另一种方式是当请求中不带Cookies时，会自动生成一个RequestCookieJar对象，该对象对于存储Cookies，Requests提供了RequestCookieJar对象和字典对象的相互转换"
   ]
  },
  {
   "cell_type": "code",
   "execution_count": 32,
   "metadata": {},
   "outputs": [
    {
     "name": "stdout",
     "output_type": "stream",
     "text": [
      "{'gr_user_id': 'f14d7aea-662c-40de-81e0-82987958f600', ' _vwo_uuid_v2': 'D19A31FAB9F287BFA0E9DDCDACDAE7B56|f8f278ce8c1341ab3c5eac0c48279dac', ' douban-fav-remind': '1', ' __gads': 'ID', ' bid': 'NXov4zxkRFE', ' __utmz': '30149280.1579138648.11.4.utmcsr', ' viewed': '\"33442738_33396340_34813901_25783654_33453902_33386709_27061630_30175598_25809330_4249385\"', ' ll': '\"118282\"', ' __utma': '30149280.157615583.1542888128.1584064819.1584320550.14'}\n"
     ]
    }
   ],
   "source": [
    "import requests\n",
    "temp_cookies='gr_user_id=f14d7aea-662c-40de-81e0-82987958f600; _vwo_uuid_v2=D19A31FAB9F287BFA0E9DDCDACDAE7B56|f8f278ce8c1341ab3c5eac0c48279dac; douban-fav-remind=1; __gads=ID=91a915fea88f3043:T=1571710195:S=ALNI_MYCXQVigV9PA-2IS09P8F3yJmQiRg; bid=NXov4zxkRFE; __utmz=30149280.1579138648.11.4.utmcsr=cnblogs.com|utmccn=(referral)|utmcmd=referral|utmcct=/; viewed=\"33442738_33396340_34813901_25783654_33453902_33386709_27061630_30175598_25809330_4249385\"; ll=\"118282\"; __utma=30149280.157615583.1542888128.1584064819.1584320550.14'\n",
    "cookies_dict = {}\n",
    "for i in temp_cookies.split(';'):\n",
    "    value  = i.split('=')\n",
    "    cookies_dict[value[0]] = value[1]\n",
    "print(cookies_dict)\n",
    "r = requests.get('https://movie.douban.com', cookies = cookies_dict)\n",
    "#print(r.text)"
   ]
  },
  {
   "cell_type": "code",
   "execution_count": 30,
   "metadata": {},
   "outputs": [
    {
     "name": "stdout",
     "output_type": "stream",
     "text": [
      "<RequestsCookieJar[<Cookie bid=eXcqTNFXj2M for .douban.com/>, <Cookie ll=\"118282\" for .douban.com/>]>\n",
      "{'bid': 'eXcqTNFXj2M', 'll': '\"118282\"'}\n",
      "<RequestsCookieJar[<Cookie bid=eXcqTNFXj2M for />, <Cookie ll=\"118282\" for />]>\n"
     ]
    }
   ],
   "source": [
    "url = 'https://movie.douban.com'\n",
    "r = requests.get(url, headers = headers)\n",
    "print(r.cookies)\n",
    "mycookies = r.cookies\n",
    "\n",
    "# RequestsCookieJar转为字典\n",
    "cookies_dict = requests.utils.dict_from_cookiejar(mycookies)\n",
    "print(cookies_dict)\n",
    "\n",
    "# 字典转换RequestCookieJar\n",
    "cookies_jar = requests.utils.cookiejar_from_dict(cookies_dict, cookiejar=None, overwrite=True)\n",
    "print(cookies_jar)"
   ]
  }
 ],
 "metadata": {
  "kernelspec": {
   "display_name": "Python 3",
   "language": "python",
   "name": "python3"
  },
  "language_info": {
   "codemirror_mode": {
    "name": "ipython",
    "version": 3
   },
   "file_extension": ".py",
   "mimetype": "text/x-python",
   "name": "python",
   "nbconvert_exporter": "python",
   "pygments_lexer": "ipython3",
   "version": "3.8.8"
  }
 },
 "nbformat": 4,
 "nbformat_minor": 4
}
