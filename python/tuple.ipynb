{
 "cells": [
  {
   "cell_type": "markdown",
   "metadata": {
    "collapsed": true
   },
   "source": [
    "# 元组\n",
    "\n",
    "元组是元素不可变的列表。一旦创建之后，用任何方法都不可以修改元素。\n",
    "\n",
    "## 3.1 元组的创建"
   ]
  },
  {
   "cell_type": "code",
   "execution_count": 2,
   "metadata": {},
   "outputs": [
    {
     "name": "stdout",
     "output_type": "stream",
     "text": [
      "(1, 2, 'a', 'b', ['ronny', 26, 1989])\n"
     ]
    }
   ],
   "source": [
    "a_tuple = (1, 2, 'a', 'b', ['ronny', 26]) # 创建一个包含5个元素的元组\n",
    "b_tuple = (1,) # 创建只含一个元素的元组，注意逗号不能省略\n",
    "# 创建空元组是没有任何意义的\n",
    "a_tuple[4].append(1989) # 修改元组中的列表，这是合法的。\n",
    "print(a_tuple)"
   ]
  },
  {
   "cell_type": "markdown",
   "metadata": {},
   "source": [
    "元组和列表的主要区别是元组不能进行修改。用技术术语来说，元组是不可变更的。从实践的角度来说，没有可用于修改元组的方法。列表有像` append()`、 `extend()`、 `insert()`、`remove()` 和 `pop()` 这样的方法。这些方法，元组都没有。可以对元组进行切片操作（因为该方法创建一个新的元组），可以检查元组是否包含了特定的值（因为该操作不修改元组），还可以……就那么多了。\n",
    "\n",
    "**tuple内的元素指向是不可变的，但tuple里元素的内容是可变的，比如包含了一个列表，那这个列表就是可变的，tuple中这个列表的地址是不会变的**"
   ]
  },
  {
   "cell_type": "markdown",
   "metadata": {},
   "source": [
    "## 3.2 元组的好处\n",
    "\n",
    "- 元组的速度比列表更快。如果定义了一系列常量值，而所需做的仅是对它进行遍历，那么请使用元组替代列表。\n",
    "- 对不需要改变的数据进行“写保护”将使得代码更加安全。使用元组替代列表就像是有一条隐含的 assert 语句显示该数据是常量，特别的想法（及特别的功能）必须重写。\n",
    "- 一些元组可用作字典键（特别是包含字符串、数值和其它元组这样的不可变数据的元组）。列表永远不能当做字典键使用，因为列表不是不可变的。\n",
    "\n",
    "> 元组可转换成列表，反之亦然。内建的` tuple()` 函数接受一个列表参数，并返回一个包含同样元素的元组，而 `list()` 函数接受一个元组参数并返回一个列表。从效果上看，`tuple()` 冻结列表，而`list()`融化元组。"
   ]
  }
 ],
 "metadata": {
  "kernelspec": {
   "display_name": "Python 3",
   "language": "python",
   "name": "python3"
  },
  "language_info": {
   "codemirror_mode": {
    "name": "ipython",
    "version": 3
   },
   "file_extension": ".py",
   "mimetype": "text/x-python",
   "name": "python",
   "nbconvert_exporter": "python",
   "pygments_lexer": "ipython3",
   "version": "3.7.2"
  }
 },
 "nbformat": 4,
 "nbformat_minor": 2
}
