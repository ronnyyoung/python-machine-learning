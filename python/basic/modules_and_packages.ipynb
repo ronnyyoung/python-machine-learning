{
 "cells": [
  {
   "cell_type": "markdown",
   "metadata": {},
   "source": [
    "# 模块与包\n",
    "\n",
    "- 当我们在开发一些大型的项目时，我们会将功能相似或属于同一个功能模块的函数放到一个文件中，形成一个`.py`文件，一个`.py`文件就是一个模块。我们可以通过`import 文件名`来导入对应的模块(不能import模块中的函数)。\n",
    "- 如果把很多个模块放到一个文件夹里进行组织管理，那这样这个文件夹就会成为一个`包`,文件夹的名字就是`包名`。需要注意的事一个`包`文件夹内必须包含一个`__init__.py`文件，但这个文件可以是空的。它本身就是一个模块，它的`模块名`是`包名`。\n",
    "- 自己创建模块时要注意命名，不能和Python自带的模块名称冲突。例如，系统自带了sys模块，自己的模块就不可命名为sys.py，否则将无法导入系统自带的sys模块。检测某个模块是否为系统自带模块，可以通过import 模块名来测试。\n",
    "\n",
    "- 当我们用python解释器执行一个python程序时，解释器会把一个特殊的变量`__name__`设置为`__main__`。我们使用这样的机制可以避免这样的模块在`import`时有些代码会被执行。"
   ]
  },
  {
   "cell_type": "code",
   "execution_count": 1,
   "metadata": {
    "ExecuteTime": {
     "end_time": "2019-04-17T05:04:40.470288Z",
     "start_time": "2019-04-17T05:04:40.466670Z"
    }
   },
   "outputs": [],
   "source": [
    "def test():\n",
    "    pass # do some test\n",
    "if __name__ == '__main__':\n",
    "    test()"
   ]
  },
  {
   "cell_type": "markdown",
   "metadata": {},
   "source": [
    "包含上面代码的模块在被其他模块`import`时，上面的代码段并不会执行。只有当使用`python　xx.py`时才会执行。"
   ]
  },
  {
   "cell_type": "markdown",
   "metadata": {},
   "source": [
    "一个经典的自定义的包的目录组织结构可能如下：\n",
    "\n",
    "```\n",
    "mycompany\n",
    " ├─ web\n",
    " │  ├─ __init__.py\n",
    " │  ├─ utils.py\n",
    " │  └─ www.py\n",
    " ├─ __init__.py\n",
    " ├─ abc.py\n",
    " └─ utils.py\n",
    "```"
   ]
  },
  {
   "cell_type": "markdown",
   "metadata": {},
   "source": [
    "# 模块导入的几种写法\n",
    "\n",
    "- `import file_name`: 可以导入当前目录上file_name.py这个模块，但是里面的内容，必须通过file_name.func/file_name.var 来访问.\n",
    "- `import func/var from file_name`：这样func/var直接可用，但是file_name是没有定义的。\n",
    "- `import * from file_name`：这样会导入所有除了以下划线开头的命名。实际代码中这样做往往是不被鼓励的。\n",
    "- `import file_name as module` 别名的形式。\n",
    "- `from package import item` 从包中导入某个模块"
   ]
  },
  {
   "cell_type": "markdown",
   "metadata": {},
   "source": [
    "## 作用域\n",
    "\n",
    "在一个模块中，我们可能会定义很多函数和变量，但有的函数和变量我们希望给别人使用，有的函数和变量我们希望仅仅在模块内部使用。在Python中，是通过`_`前缀来实现的。\n",
    "\n",
    "正常的函数和变量名是公开的（public），可以被直接引用，比如：`abc`，`x123`，`PI`等；\n",
    "\n",
    "类似`__xxx__`这样的变量是特殊变量，可以被直接引用，但是有特殊用途，比如上面的`__author__`，`__name__`就是特殊变量，hello模块定义的文档注释也可以用特殊变量`__doc__`访问，我们自己的变量一般不要用这种变量名；\n",
    "\n",
    "类似`_xxx`和`__xxx`这样的函数或变量就是非公开的（private），不应该被直接引用，比如`_abc`，`__abc`等；\n",
    "\n",
    "之所以我们说，private函数和变量“不应该”被直接引用，而不是“不能”被直接引用，是因为Python并没有一种方法可以完全限制访问private函数或变量，但是，从编程习惯上不应该引用private函数或变量。"
   ]
  },
  {
   "cell_type": "markdown",
   "metadata": {},
   "source": [
    "# 模块的搜索路径\n",
    "\n",
    "Python中包括以下三种模块\n",
    "\n",
    "- 当前目录下的自己写的模块\n",
    "- 通过pip或conda安装的第三方模块\n",
    "- Python本身的内置模块\n",
    "\n",
    "Python模块的搜索顺序：\n",
    "\n",
    "1. 输入脚本的目录（当前目录）\n",
    "2. 环境变量`PYTHONPATH`表示的目录列表中搜索\n",
    "3. Python内置模块的路径\n",
    "4. 安装的第三方模块。\n",
    "\n",
    "当我们在代码中import一个模块时，默认情况下，Python解释器会搜索当前目录、所有已安装的内置模块和第三方模块，搜索路径存放在sys模块的path变量中："
   ]
  },
  {
   "cell_type": "code",
   "execution_count": 2,
   "metadata": {
    "ExecuteTime": {
     "end_time": "2019-04-17T05:09:25.290023Z",
     "start_time": "2019-04-17T05:09:25.259515Z"
    }
   },
   "outputs": [
    {
     "data": {
      "text/plain": [
       "['',\n",
       " '/home/yansheng/Python/python-machine-learning/python',\n",
       " '/home/yansheng/.conda/envs/python3-dev/lib/python37.zip',\n",
       " '/home/yansheng/.conda/envs/python3-dev/lib/python3.7',\n",
       " '/home/yansheng/.conda/envs/python3-dev/lib/python3.7/lib-dynload',\n",
       " '/home/yansheng/.conda/envs/python3-dev/lib/python3.7/site-packages',\n",
       " '/home/yansheng/.conda/envs/python3-dev/lib/python3.7/site-packages/IPython/extensions',\n",
       " '/home/yansheng/.ipython']"
      ]
     },
     "execution_count": 2,
     "metadata": {},
     "output_type": "execute_result"
    }
   ],
   "source": [
    "import sys\n",
    "sys.path"
   ]
  },
  {
   "cell_type": "markdown",
   "metadata": {},
   "source": [
    "如果我们要添加自己的搜索目录，有两种方法：\n",
    "- 一是直接修改sys.path，添加要搜索的目录,这种方法是在运行时修改，运行结束后失效。\n",
    "- 另外一种方法是设置环境变量`PYTHONPATH`"
   ]
  },
  {
   "cell_type": "code",
   "execution_count": 3,
   "metadata": {},
   "outputs": [
    {
     "data": {
      "text/plain": [
       "['',\n",
       " '/home/yansheng/Python/python-machine-learning/python',\n",
       " '/home/yansheng/.conda/envs/python3-dev/lib/python37.zip',\n",
       " '/home/yansheng/.conda/envs/python3-dev/lib/python3.7',\n",
       " '/home/yansheng/.conda/envs/python3-dev/lib/python3.7/lib-dynload',\n",
       " '/home/yansheng/.conda/envs/python3-dev/lib/python3.7/site-packages',\n",
       " '/home/yansheng/.conda/envs/python3-dev/lib/python3.7/site-packages/IPython/extensions',\n",
       " '/home/yansheng/.ipython',\n",
       " '/home/user/Python/pkgs/']"
      ]
     },
     "execution_count": 3,
     "metadata": {},
     "output_type": "execute_result"
    }
   ],
   "source": [
    "sys.path.append('/home/user/Python/pkgs/')\n",
    "sys.path"
   ]
  }
 ],
 "metadata": {
  "kernelspec": {
   "display_name": "Python 3",
   "language": "python",
   "name": "python3"
  },
  "language_info": {
   "codemirror_mode": {
    "name": "ipython",
    "version": 3
   },
   "file_extension": ".py",
   "mimetype": "text/x-python",
   "name": "python",
   "nbconvert_exporter": "python",
   "pygments_lexer": "ipython3",
   "version": "3.8.8"
  }
 },
 "nbformat": 4,
 "nbformat_minor": 4
}
