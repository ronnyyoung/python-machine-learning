{
 "cells": [
  {
   "cell_type": "markdown",
   "metadata": {},
   "source": [
    "# 分支"
   ]
  },
  {
   "cell_type": "code",
   "execution_count": 5,
   "metadata": {},
   "outputs": [
    {
     "name": "stdout",
     "output_type": "stream",
     "text": [
      "please input your height(m): 1.70\n",
      "please input your weight(Kg): 81.5\n",
      "your bmi:  28.200692041522494\n",
      "肥胖\n"
     ]
    }
   ],
   "source": [
    "height = float(input('please input your height(m): '))\n",
    "weight = float(input('please input your weight(Kg): '))\n",
    "bmi = weight / (height * height)\n",
    "print('your bmi: ', bmi)\n",
    "\n",
    "if bmi < 18.5:\n",
    "    print('过轻')\n",
    "elif bmi < 25:\n",
    "    print('正常')\n",
    "elif bmi < 28:\n",
    "    print('过重')\n",
    "elif bmi < 32:\n",
    "    print('肥胖')\n",
    "else:\n",
    "    print('严重肥胖')"
   ]
  },
  {
   "cell_type": "markdown",
   "metadata": {},
   "source": [
    "# 循环\n",
    "\n",
    "- Python中的`for`不支持像c中的`for(i = 0; i < 100; i++)`这样在`for`语句中初始化与递增循环变量。达到同样的效果，写法为`for i in range(0, 100)`\n",
    "\n",
    "range(start, stop, step)产生一个从start(包括)到stop(不包括)的整数序列"
   ]
  },
  {
   "cell_type": "code",
   "execution_count": 9,
   "metadata": {},
   "outputs": [
    {
     "name": "stdout",
     "output_type": "stream",
     "text": [
      "1+2+...+100= 5050\n"
     ]
    }
   ],
   "source": [
    "sum = 0\n",
    "for i in range(101):\n",
    "    sum += i\n",
    "print('1+2+...+100=',sum)"
   ]
  },
  {
   "cell_type": "code",
   "execution_count": 12,
   "metadata": {},
   "outputs": [
    {
     "name": "stdout",
     "output_type": "stream",
     "text": [
      "1+2+...+100= 5050\n"
     ]
    }
   ],
   "source": [
    "sum = 0 \n",
    "i = 0 \n",
    "while i <= 100:\n",
    "    sum += i\n",
    "    i += 1\n",
    "print('1+2+...+100=',sum)"
   ]
  },
  {
   "cell_type": "markdown",
   "metadata": {
    "ExecuteTime": {
     "end_time": "2019-04-16T02:28:33.254971Z",
     "start_time": "2019-04-16T02:28:33.251771Z"
    }
   },
   "source": [
    "# 可迭代对象\n",
    "\n",
    "Python中的`List/Tuple/Set/Dict/Str`等都属于可迭代的对象，我们可以在`可迭代对象`上可用`for..in..`来进行遍历访问。\n",
    "\n",
    "可以看出，Python的for循环抽象程度要高于C的for循环，因为Python的for循环不仅可以用在list或tuple上，还可以作用在其他可迭代对象上。list这种数据类型虽然有下标，但很多其他数据类型是没有下标的，但是，只要是可迭代对象，无论有无下标，都可以迭代。\n",
    "\n",
    "这类似于C++里的迭代器，C++STL中容器大部分都支持迭代器来访问。\n",
    "\n",
    "那么，如何判断一个对象是可迭代对象呢？方法是通过collections模块的Iterable类型判断："
   ]
  },
  {
   "cell_type": "code",
   "execution_count": 12,
   "metadata": {
    "ExecuteTime": {
     "end_time": "2019-04-16T02:45:25.406738Z",
     "start_time": "2019-04-16T02:45:25.393627Z"
    }
   },
   "outputs": [
    {
     "name": "stdout",
     "output_type": "stream",
     "text": [
      "True\n",
      "True\n",
      "True\n",
      "True\n",
      "False\n"
     ]
    }
   ],
   "source": [
    "from collections import Iterable\n",
    "\n",
    "L = [1,2,3,4]\n",
    "T = (1,2,3,4)\n",
    "S = {1,2,3,4}\n",
    "D = {'a':1, 'b':2, 'c':3, 'd':4}\n",
    "n = 1234\n",
    "\n",
    "print(isinstance(L, Iterable))\n",
    "print(isinstance(T, Iterable))\n",
    "print(isinstance(S, Iterable))\n",
    "print(isinstance(D, Iterable))\n",
    "print(isinstance(n, Iterable))"
   ]
  },
  {
   "cell_type": "markdown",
   "metadata": {},
   "source": [
    "# `for..in..` 在不数据结构上的使用方法\n",
    "\n",
    "对于list/tuple/str这样的数据结构，直接通过`for..in..`来遍历:"
   ]
  },
  {
   "cell_type": "code",
   "execution_count": 14,
   "metadata": {
    "ExecuteTime": {
     "end_time": "2019-04-16T02:48:35.456945Z",
     "start_time": "2019-04-16T02:48:35.450427Z"
    }
   },
   "outputs": [
    {
     "name": "stdout",
     "output_type": "stream",
     "text": [
      "abcdefghijklmnopqrstuvwxyz"
     ]
    }
   ],
   "source": [
    "alpha = 'abcdefghijklmnopqrstuvwxyz'\n",
    "supper_case = ''\n",
    "for letter in alpha:\n",
    "    print(letter, end='')"
   ]
  },
  {
   "cell_type": "markdown",
   "metadata": {},
   "source": [
    "对于set和dict默认的迭代都是发生在key值上的，而且是不保证有序的。如果想对value进行遍历，可以对d.values()上进行遍历，如果想同时在key和value上遍历，则可以在d.items()上遍历。"
   ]
  },
  {
   "cell_type": "code",
   "execution_count": 23,
   "metadata": {
    "ExecuteTime": {
     "end_time": "2019-04-16T03:01:37.968549Z",
     "start_time": "2019-04-16T03:01:37.960173Z"
    }
   },
   "outputs": [
    {
     "name": "stdout",
     "output_type": "stream",
     "text": [
      "a\n",
      "b\n",
      "c\n",
      "1\n",
      "2\n",
      "3\n",
      "a 1\n",
      "b 2\n",
      "c 3\n"
     ]
    }
   ],
   "source": [
    "d = {'a':1, 'b':2, 'c':3}\n",
    "for k in d:\n",
    "    print(k)\n",
    "for v in d.values():\n",
    "    print(v)\n",
    "    \n",
    "for k, v in d.items():\n",
    "    print(k, v)"
   ]
  },
  {
   "cell_type": "markdown",
   "metadata": {},
   "source": [
    "如果我们在遍历List这样的数据结构时，想同时获取索引和值，那要怎么办呢？Python内置的enumerate函数可以把一个list变成索引-元素对，这样就可以在for循环中同时迭代索引和元素本身："
   ]
  },
  {
   "cell_type": "code",
   "execution_count": 24,
   "metadata": {
    "ExecuteTime": {
     "end_time": "2019-04-16T03:04:08.986484Z",
     "start_time": "2019-04-16T03:04:08.982152Z"
    }
   },
   "outputs": [
    {
     "name": "stdout",
     "output_type": "stream",
     "text": [
      "0 1\n",
      "1 2\n",
      "2 3\n",
      "3 4\n"
     ]
    }
   ],
   "source": [
    "for i, v in enumerate(L):\n",
    "    print(i, v)"
   ]
  },
  {
   "cell_type": "markdown",
   "metadata": {
    "ExecuteTime": {
     "end_time": "2019-04-16T03:06:53.715749Z",
     "start_time": "2019-04-16T03:06:53.711272Z"
    }
   },
   "source": [
    "上面同时返回2个迭代值的本质类似于：for a,b  in [(a1,b,),(a2,b2),(a3,b3)]"
   ]
  },
  {
   "cell_type": "markdown",
   "metadata": {},
   "source": [
    "如果我们想同时对两个list进行遍历，则可以使用`zip`函数"
   ]
  },
  {
   "cell_type": "code",
   "execution_count": 1,
   "metadata": {
    "ExecuteTime": {
     "end_time": "2019-04-18T03:39:33.556272Z",
     "start_time": "2019-04-18T03:39:33.550316Z"
    }
   },
   "outputs": [
    {
     "name": "stdout",
     "output_type": "stream",
     "text": [
      "What is your name? It is lancelot.\n",
      "What is your quest? It is the holy grail.\n",
      "What is your favorite color? It is blue.\n"
     ]
    }
   ],
   "source": [
    "question = ['name', 'quest', 'favorite color']\n",
    "answers = ['lancelot', 'the holy grail', 'blue']\n",
    "for q,a in zip(question, answers):\n",
    "    print('What is your {0}? It is {1}.'.format(q,a))"
   ]
  }
 ],
 "metadata": {
  "kernelspec": {
   "display_name": "Python 3",
   "language": "python",
   "name": "python3"
  },
  "language_info": {
   "codemirror_mode": {
    "name": "ipython",
    "version": 3
   },
   "file_extension": ".py",
   "mimetype": "text/x-python",
   "name": "python",
   "nbconvert_exporter": "python",
   "pygments_lexer": "ipython3",
   "version": "3.8.8"
  }
 },
 "nbformat": 4,
 "nbformat_minor": 4
}
