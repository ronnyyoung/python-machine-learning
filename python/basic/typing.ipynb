{
 "cells": [
  {
   "cell_type": "markdown",
   "id": "eb69db9f-c9eb-400c-8508-56e74c4b2034",
   "metadata": {},
   "source": [
    "# Python中类型注解\n",
    "\n",
    "Python是一个无类型的语言，这导致了很多函数与类的方法，在调用时，不清楚参数的类型。\n",
    "\n",
    "语法：\n",
    "- 在声明变量时，变量的后面可以加一个冒号，后面再写上变量的类型，如 int、list 等等。\n",
    "- 在声明方法返回值的时候，可以在方法的后面加一个箭头，后面加上返回值的类型，如 int、list 等等。\n",
    "\n",
    "在PEP8中的格式约束：\n",
    "\n",
    "- 在声明变量类型时，变量后方紧跟一个冒号，冒号后面跟一个空格，再跟上变量的类型。\n",
    "- 在声明方法返回值的时候，箭头左边是方法定义，箭头右边是返回值的类型，箭头左右两边都要留有空格。\n",
    "\n",
    "类型注解，只是一种阅读上，或代码静态分析工具识别上的有利机制。对实际代码执行，没有什么影响。"
   ]
  },
  {
   "cell_type": "code",
   "execution_count": 1,
   "id": "9310e389-be8e-46cd-90d1-5ad49c0b9b3f",
   "metadata": {},
   "outputs": [],
   "source": [
    "a: int = 2"
   ]
  },
  {
   "cell_type": "code",
   "execution_count": 2,
   "id": "7db7a1aa-5391-4d18-84ee-2bd68686342c",
   "metadata": {},
   "outputs": [],
   "source": [
    "def add(a: int, b: int) -> int:\n",
    "    return a+b"
   ]
  },
  {
   "cell_type": "code",
   "execution_count": 5,
   "id": "65783958-84a6-4061-82dd-84988dd135df",
   "metadata": {},
   "outputs": [
    {
     "data": {
      "text/plain": [
       "'ab'"
      ]
     },
     "execution_count": 5,
     "metadata": {},
     "output_type": "execute_result"
    }
   ],
   "source": [
    "# 对实际运行无影响，我们传入str，依然可以运行\n",
    "add('a', 'b')"
   ]
  },
  {
   "cell_type": "markdown",
   "id": "321bbff9-9f6c-438a-a121-ddad68b11ef5",
   "metadata": {},
   "source": [
    "# 对于list、tuple、dict的支持"
   ]
  },
  {
   "cell_type": "code",
   "execution_count": 6,
   "id": "6966cd42-7a7a-4a4b-8665-4aa593dcdc69",
   "metadata": {},
   "outputs": [],
   "source": [
    "names: list = ['Germey', 'Guido']\n",
    "version: tuple = (3, 7, 4)\n",
    "operations: dict = {'show': False, 'sort':True}"
   ]
  },
  {
   "cell_type": "markdown",
   "id": "42f2b3b4-ad82-4703-8b9b-bb47970eb6a9",
   "metadata": {},
   "source": [
    "像上面的例子，我们虽然知道name是一个list，但对于list里元素的类型是不知道的。"
   ]
  },
  {
   "cell_type": "code",
   "execution_count": 7,
   "id": "73948826-b2f0-4894-834a-593563591eb9",
   "metadata": {},
   "outputs": [],
   "source": [
    "from typing import List, Tuple, Dict"
   ]
  },
  {
   "cell_type": "code",
   "execution_count": 9,
   "id": "4c7c5b48-6763-463a-a3c9-b3746dd58d00",
   "metadata": {},
   "outputs": [],
   "source": [
    "names: List[str] = ['Germey', 'Guido']\n",
    "version: Tuple[int, int, int] = (3, 7, 4)\n",
    "operations: Dict[str, bool] = {'show': False, 'sort':True}"
   ]
  },
  {
   "cell_type": "markdown",
   "id": "79313b71-d732-400e-9d8e-fbf86bb2d10e",
   "metadata": {},
   "source": [
    "更多类型注解的功能：https://docs.python.org/3/library/typing.html\n",
    "\n",
    "https://cuiqingcai.com/7071.html\n",
    "\n",
    "- List: list\n",
    "- Tuple: tuple\n",
    "- NamedTuple: collections.namedtuple\n",
    "- Dict: dict\n",
    "- Mapping: collectins.abc.Mapping\n",
    "- MatableMapping: \n",
    "- Set: set\n",
    "- AbstractSet: collection.abc.Set\n",
    "- Sequence: collections.abc.Sequence\n",
    "- NoReturn 用于注解没有返回类型的方法\n",
    "- Any: 任意类型\n",
    "- TypeVar\n",
    "- NewType 自定义类型，类型别名\n",
    "- Callable 可调用对象\n",
    "- Union\n",
    "- Optional\n",
    "- Generator"
   ]
  }
 ],
 "metadata": {
  "kernelspec": {
   "display_name": "Python 3",
   "language": "python",
   "name": "python3"
  },
  "language_info": {
   "codemirror_mode": {
    "name": "ipython",
    "version": 3
   },
   "file_extension": ".py",
   "mimetype": "text/x-python",
   "name": "python",
   "nbconvert_exporter": "python",
   "pygments_lexer": "ipython3",
   "version": "3.8.8"
  }
 },
 "nbformat": 4,
 "nbformat_minor": 5
}
