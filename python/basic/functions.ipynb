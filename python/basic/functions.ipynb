{
 "cells": [
  {
   "cell_type": "markdown",
   "metadata": {
    "ExecuteTime": {
     "end_time": "2019-04-15T03:49:22.480468Z",
     "start_time": "2019-04-15T03:49:22.476550Z"
    }
   },
   "source": [
    "# Python内置函数\n",
    "\n",
    "- Python有大量的内置函数(built-in function)，比如`abs`\n",
    "- Python把变量类型转换视为一种函数，有`int()/float()/str()/bool()/hex()`等"
   ]
  },
  {
   "cell_type": "markdown",
   "metadata": {},
   "source": [
    "# Python函数的定义\n",
    "\n",
    "- Python中函数定义以def关键字开头\n",
    "- 函数不需要显示指定返回值的类型，同样不需要指定输入参数的类型\n",
    "- 函数可以返回多个值，本质上是返回了一个tuple\n",
    "- 函数体中如果只有`pass`，则表示为一个空的函数，`pass`也可以用于其他语句块中. 可以把`pass`看为一个占位符，代码后续再补充。\n",
    "- 当函数显式写`return`，或者直接使用`return`没有接变量时，返回的则是`None`类型。"
   ]
  },
  {
   "cell_type": "code",
   "execution_count": 1,
   "metadata": {},
   "outputs": [
    {
     "name": "stdout",
     "output_type": "stream",
     "text": [
      "42\n",
      "3.14\n"
     ]
    },
    {
     "ename": "TypeError",
     "evalue": "bad operand type",
     "output_type": "error",
     "traceback": [
      "\u001b[0;31m---------------------------------------------------------------------------\u001b[0m",
      "\u001b[0;31mTypeError\u001b[0m                                 Traceback (most recent call last)",
      "\u001b[0;32m<ipython-input-1-b1631bb08c7d>\u001b[0m in \u001b[0;36m<module>\u001b[0;34m()\u001b[0m\n\u001b[1;32m     10\u001b[0m \u001b[0mprint\u001b[0m\u001b[0;34m(\u001b[0m\u001b[0mmy_abs\u001b[0m\u001b[0;34m(\u001b[0m\u001b[0;36m42\u001b[0m\u001b[0;34m)\u001b[0m\u001b[0;34m)\u001b[0m\u001b[0;34m\u001b[0m\u001b[0;34m\u001b[0m\u001b[0m\n\u001b[1;32m     11\u001b[0m \u001b[0mprint\u001b[0m\u001b[0;34m(\u001b[0m\u001b[0mmy_abs\u001b[0m\u001b[0;34m(\u001b[0m\u001b[0;34m-\u001b[0m\u001b[0;36m3.14\u001b[0m\u001b[0;34m)\u001b[0m\u001b[0;34m)\u001b[0m\u001b[0;34m\u001b[0m\u001b[0;34m\u001b[0m\u001b[0m\n\u001b[0;32m---> 12\u001b[0;31m \u001b[0mprint\u001b[0m\u001b[0;34m(\u001b[0m\u001b[0mmy_abs\u001b[0m\u001b[0;34m(\u001b[0m\u001b[0;34m'ABC'\u001b[0m\u001b[0;34m)\u001b[0m\u001b[0;34m)\u001b[0m\u001b[0;34m\u001b[0m\u001b[0;34m\u001b[0m\u001b[0m\n\u001b[0m",
      "\u001b[0;32m<ipython-input-1-b1631bb08c7d>\u001b[0m in \u001b[0;36mmy_abs\u001b[0;34m(x)\u001b[0m\n\u001b[1;32m      3\u001b[0m \u001b[0;32mdef\u001b[0m \u001b[0mmy_abs\u001b[0m\u001b[0;34m(\u001b[0m\u001b[0mx\u001b[0m\u001b[0;34m)\u001b[0m\u001b[0;34m:\u001b[0m\u001b[0;34m\u001b[0m\u001b[0;34m\u001b[0m\u001b[0m\n\u001b[1;32m      4\u001b[0m     \u001b[0;32mif\u001b[0m \u001b[0;32mnot\u001b[0m \u001b[0misinstance\u001b[0m\u001b[0;34m(\u001b[0m\u001b[0mx\u001b[0m\u001b[0;34m,\u001b[0m \u001b[0;34m(\u001b[0m\u001b[0mint\u001b[0m\u001b[0;34m,\u001b[0m \u001b[0mfloat\u001b[0m\u001b[0;34m)\u001b[0m\u001b[0;34m)\u001b[0m\u001b[0;34m:\u001b[0m\u001b[0;34m\u001b[0m\u001b[0;34m\u001b[0m\u001b[0m\n\u001b[0;32m----> 5\u001b[0;31m         \u001b[0;32mraise\u001b[0m \u001b[0mTypeError\u001b[0m\u001b[0;34m(\u001b[0m\u001b[0;34m'bad operand type'\u001b[0m\u001b[0;34m)\u001b[0m\u001b[0;34m\u001b[0m\u001b[0;34m\u001b[0m\u001b[0m\n\u001b[0m\u001b[1;32m      6\u001b[0m     \u001b[0;32mif\u001b[0m \u001b[0mx\u001b[0m \u001b[0;34m>\u001b[0m \u001b[0;36m0\u001b[0m\u001b[0;34m:\u001b[0m\u001b[0;34m\u001b[0m\u001b[0;34m\u001b[0m\u001b[0m\n\u001b[1;32m      7\u001b[0m         \u001b[0;32mreturn\u001b[0m \u001b[0mx\u001b[0m\u001b[0;34m\u001b[0m\u001b[0;34m\u001b[0m\u001b[0m\n",
      "\u001b[0;31mTypeError\u001b[0m: bad operand type"
     ]
    }
   ],
   "source": [
    "# 函数需要能够检查参数的合法性\n",
    "# 函数参数的个数检查是编译器在编译期检查的\n",
    "def my_abs(x):\n",
    "    if not isinstance(x, (int, float)):\n",
    "        raise TypeError('bad operand type')\n",
    "    if x > 0:\n",
    "        return x\n",
    "    else:\n",
    "        return -x\n",
    "print(my_abs(42))\n",
    "print(my_abs(-3.14))\n",
    "print(my_abs('ABC'))"
   ]
  },
  {
   "cell_type": "markdown",
   "metadata": {
    "ExecuteTime": {
     "end_time": "2019-04-15T04:01:07.905972Z",
     "start_time": "2019-04-15T04:01:07.902865Z"
    }
   },
   "source": [
    "# 默认参数\n",
    "\n",
    "- 默认参数在定义的时候，必须放到非默认参数后面\n",
    "- 默认参数的定义原则，一般是变化小，大部分调用中不需要改变。\n",
    "- 使用默认参数可以在扩展函数接口的同时，就保证了向前兼容。\n",
    "- 默认参数使用起来是有坑的，主要是对默认参数运行机制的理解。\n",
    "\n",
    "这个点的核心是：**一个函数参数的默认值，仅仅在该函数定义的时候，被赋值一次**，　所以默认参数一旦被赋值，后续无论调用多少次，都不会再重新赋值了。"
   ]
  },
  {
   "cell_type": "code",
   "execution_count": 2,
   "metadata": {
    "ExecuteTime": {
     "end_time": "2019-04-15T04:22:24.226272Z",
     "start_time": "2019-04-15T04:22:24.220988Z"
    }
   },
   "outputs": [
    {
     "name": "stdout",
     "output_type": "stream",
     "text": [
      "['END']\n",
      "['END', 'END']\n"
     ]
    }
   ],
   "source": [
    "# 编译的时候add_end的参数就指向了一个分配好的变量\n",
    "def add_end(L=[]):\n",
    "    L.append('END')\n",
    "    return L\n",
    "\n",
    "print(add_end())\n",
    "print(add_end()) # 这一次调用，结果并不符合预期，因为默认参数：L并没有重新初始化为[]"
   ]
  },
  {
   "cell_type": "markdown",
   "metadata": {},
   "source": [
    "所以在使用默认参数时，要注意默认参数的初始值一定要使用不可变的对象，如字面值、str、tuple、None等。上面`add_end`的一种正确的写法，如下："
   ]
  },
  {
   "cell_type": "code",
   "execution_count": 3,
   "metadata": {
    "ExecuteTime": {
     "end_time": "2019-04-15T04:25:16.161724Z",
     "start_time": "2019-04-15T04:25:16.155504Z"
    }
   },
   "outputs": [
    {
     "name": "stdout",
     "output_type": "stream",
     "text": [
      "['END']\n",
      "['END']\n"
     ]
    }
   ],
   "source": [
    "def add_end(L=None):\n",
    "    if L is None:\n",
    "        L = []\n",
    "    L.append('END')\n",
    "    return L\n",
    "print(add_end())\n",
    "print(add_end())"
   ]
  },
  {
   "cell_type": "markdown",
   "metadata": {},
   "source": [
    "# 可变参数\n",
    "\n",
    "- 当前我们不确定函数参数的个数时，可以使用可变参数\n",
    "- 可变参数在定义上，在参数名前加上`*`\n",
    "- 当我们想把一个List或Tuple的每个元素传入一个可变参数的函数时，可以直接在变量前加`*`来进行元素展开"
   ]
  },
  {
   "cell_type": "code",
   "execution_count": 4,
   "metadata": {
    "ExecuteTime": {
     "end_time": "2019-04-15T04:47:06.687664Z",
     "start_time": "2019-04-15T04:47:06.680299Z"
    }
   },
   "outputs": [
    {
     "name": "stdout",
     "output_type": "stream",
     "text": [
      "<class 'tuple'>\n",
      "[1, 2, 3]\n",
      "some str\n",
      "42\n",
      "<class 'tuple'>\n",
      "Hello\n",
      "world\n",
      "!\n"
     ]
    }
   ],
   "source": [
    "def my_print(*args):\n",
    "    print(type(args))\n",
    "    for v in args:\n",
    "        print(v)\n",
    "\n",
    "my_print([1,2,3], \"some str\", 42) \n",
    "my_print(*[\"Hello\", \"world\", \"!\"])"
   ]
  },
  {
   "cell_type": "markdown",
   "metadata": {},
   "source": [
    "从上面代码的打印中可以看出来，函数内部实际是把可变参数当成一个`tuple`来处理的。"
   ]
  },
  {
   "cell_type": "markdown",
   "metadata": {},
   "source": [
    "# 关键字参数"
   ]
  },
  {
   "cell_type": "markdown",
   "metadata": {},
   "source": [
    "可变参数允许你传入0个或任意个参数，这些可变参数在函数调用时自动组装为一个tuple。而关键字参数允许你传入0个或任意个含参数名的参数，这些关键字参数在函数内部自动组装为一个dict。"
   ]
  },
  {
   "cell_type": "code",
   "execution_count": 5,
   "metadata": {
    "ExecuteTime": {
     "end_time": "2019-04-15T04:59:14.679083Z",
     "start_time": "2019-04-15T04:59:14.671716Z"
    }
   },
   "outputs": [
    {
     "name": "stdout",
     "output_type": "stream",
     "text": [
      "name: yansheng age: 30 other: {'email': 'ronnyyoung@qq.com', 'address': 'ShenZhen'}\n",
      "name: yansheng age: 30 other: {'email': 'ronnyyoung@qq.com', 'address': 'ShenZhen'}\n"
     ]
    }
   ],
   "source": [
    "def person(name, age, **kw):\n",
    "    print('name:', name, 'age:', age, 'other:', kw)\n",
    "\n",
    "# 一般的调用方式\n",
    "person('yansheng', 30, email='ronnyyoung@qq.com', address='ShenZhen')\n",
    "# 使用字典展开的调用方式\n",
    "extra_info = {'email': 'ronnyyoung@qq.com', 'address': 'ShenZhen'}\n",
    "person('yansheng', 30, **extra_info)"
   ]
  },
  {
   "cell_type": "markdown",
   "metadata": {},
   "source": [
    "所以，对于任意函数，都可以通过类似`func(*args, **kw)`的形式调用它，无论它的参数是如何定义的。\n",
    "\n",
    "我们来想一下关键字参数的使用场景。函数的调用者可以传入任意不受限制的关键字参数（可能针对某一类功能，把可能想到的参数都传递进去）。至于到底传入了哪些，就需要在函数内部通过kw检查。"
   ]
  },
  {
   "cell_type": "code",
   "execution_count": 6,
   "metadata": {
    "ExecuteTime": {
     "end_time": "2019-04-15T05:05:34.778276Z",
     "start_time": "2019-04-15T05:05:34.769877Z"
    }
   },
   "outputs": [
    {
     "name": "stdout",
     "output_type": "stream",
     "text": [
      "name: yansheng age: 30\n",
      "email: ronnyyoung@qq.com\n",
      "address: ShenZhen\n"
     ]
    }
   ],
   "source": [
    "# 函数内部只解析email和address, phone被自动忽略了\n",
    "def person(name, age, **kw):\n",
    "    print('name:', name, 'age:', age)\n",
    "    if 'email' in kw:\n",
    "        print('email:', kw['email'])\n",
    "    if 'address' in kw:\n",
    "        print('address:', kw['address'])\n",
    "person('yansheng', 30, email='ronnyyoung@qq.com', address='ShenZhen', phone='12345678')"
   ]
  },
  {
   "cell_type": "markdown",
   "metadata": {},
   "source": [
    "# 递归函数\n",
    "\n",
    "函数内部可以调用函数，如果函数内部调用的是自身，则称为递归调用，下面示例说明用递归函数求阶乘。"
   ]
  },
  {
   "cell_type": "code",
   "execution_count": 7,
   "metadata": {
    "ExecuteTime": {
     "end_time": "2019-04-15T05:11:56.860313Z",
     "start_time": "2019-04-15T05:11:56.855023Z"
    }
   },
   "outputs": [
    {
     "data": {
      "text/plain": [
       "120"
      ]
     },
     "execution_count": 7,
     "metadata": {},
     "output_type": "execute_result"
    }
   ],
   "source": [
    "def fact(n):\n",
    "    if n == 1:\n",
    "        return 1\n",
    "    return n * fact(n - 1)\n",
    "fact(5)"
   ]
  },
  {
   "cell_type": "markdown",
   "metadata": {},
   "source": [
    "递归函数虽然代码写起来非常的简明易懂，但是在计算机中使用堆栈来实现函数调用，所以函数调用如果嵌套太深，会发生栈溢出。"
   ]
  },
  {
   "cell_type": "code",
   "execution_count": 8,
   "metadata": {
    "ExecuteTime": {
     "end_time": "2019-04-15T05:13:23.895411Z",
     "start_time": "2019-04-15T05:13:21.193838Z"
    }
   },
   "outputs": [
    {
     "ename": "RecursionError",
     "evalue": "maximum recursion depth exceeded in comparison",
     "output_type": "error",
     "traceback": [
      "\u001b[0;31m---------------------------------------------------------------------------\u001b[0m",
      "\u001b[0;31mRecursionError\u001b[0m                            Traceback (most recent call last)",
      "\u001b[0;32m<ipython-input-8-e4841ba32a3d>\u001b[0m in \u001b[0;36m<module>\u001b[0;34m()\u001b[0m\n\u001b[0;32m----> 1\u001b[0;31m \u001b[0mfact\u001b[0m\u001b[0;34m(\u001b[0m\u001b[0;36m100000\u001b[0m\u001b[0;34m)\u001b[0m\u001b[0;34m\u001b[0m\u001b[0;34m\u001b[0m\u001b[0m\n\u001b[0m",
      "\u001b[0;32m<ipython-input-7-850503d24d98>\u001b[0m in \u001b[0;36mfact\u001b[0;34m(n)\u001b[0m\n\u001b[1;32m      2\u001b[0m     \u001b[0;32mif\u001b[0m \u001b[0mn\u001b[0m \u001b[0;34m==\u001b[0m \u001b[0;36m1\u001b[0m\u001b[0;34m:\u001b[0m\u001b[0;34m\u001b[0m\u001b[0;34m\u001b[0m\u001b[0m\n\u001b[1;32m      3\u001b[0m         \u001b[0;32mreturn\u001b[0m \u001b[0;36m1\u001b[0m\u001b[0;34m\u001b[0m\u001b[0;34m\u001b[0m\u001b[0m\n\u001b[0;32m----> 4\u001b[0;31m     \u001b[0;32mreturn\u001b[0m \u001b[0mn\u001b[0m \u001b[0;34m*\u001b[0m \u001b[0mfact\u001b[0m\u001b[0;34m(\u001b[0m\u001b[0mn\u001b[0m \u001b[0;34m-\u001b[0m \u001b[0;36m1\u001b[0m\u001b[0;34m)\u001b[0m\u001b[0;34m\u001b[0m\u001b[0;34m\u001b[0m\u001b[0m\n\u001b[0m\u001b[1;32m      5\u001b[0m \u001b[0mfact\u001b[0m\u001b[0;34m(\u001b[0m\u001b[0;36m5\u001b[0m\u001b[0;34m)\u001b[0m\u001b[0;34m\u001b[0m\u001b[0;34m\u001b[0m\u001b[0m\n",
      "... last 1 frames repeated, from the frame below ...\n",
      "\u001b[0;32m<ipython-input-7-850503d24d98>\u001b[0m in \u001b[0;36mfact\u001b[0;34m(n)\u001b[0m\n\u001b[1;32m      2\u001b[0m     \u001b[0;32mif\u001b[0m \u001b[0mn\u001b[0m \u001b[0;34m==\u001b[0m \u001b[0;36m1\u001b[0m\u001b[0;34m:\u001b[0m\u001b[0;34m\u001b[0m\u001b[0;34m\u001b[0m\u001b[0m\n\u001b[1;32m      3\u001b[0m         \u001b[0;32mreturn\u001b[0m \u001b[0;36m1\u001b[0m\u001b[0;34m\u001b[0m\u001b[0;34m\u001b[0m\u001b[0m\n\u001b[0;32m----> 4\u001b[0;31m     \u001b[0;32mreturn\u001b[0m \u001b[0mn\u001b[0m \u001b[0;34m*\u001b[0m \u001b[0mfact\u001b[0m\u001b[0;34m(\u001b[0m\u001b[0mn\u001b[0m \u001b[0;34m-\u001b[0m \u001b[0;36m1\u001b[0m\u001b[0;34m)\u001b[0m\u001b[0;34m\u001b[0m\u001b[0;34m\u001b[0m\u001b[0m\n\u001b[0m\u001b[1;32m      5\u001b[0m \u001b[0mfact\u001b[0m\u001b[0;34m(\u001b[0m\u001b[0;36m5\u001b[0m\u001b[0;34m)\u001b[0m\u001b[0;34m\u001b[0m\u001b[0;34m\u001b[0m\u001b[0m\n",
      "\u001b[0;31mRecursionError\u001b[0m: maximum recursion depth exceeded in comparison"
     ]
    }
   ],
   "source": [
    "fact(100000)"
   ]
  },
  {
   "cell_type": "markdown",
   "metadata": {},
   "source": [
    "避免暴栈的方法是使用尾递归。尾递归是指，在函数返回的时候，调用自身本身，并且，return语句不能包含表达式。这样，编译器或者解释器就可以把尾递归做优化，使递归本身无论调用多少次，都只占用一个栈帧，不会出现栈溢出的情况。"
   ]
  },
  {
   "cell_type": "markdown",
   "metadata": {},
   "source": [
    "# 函数式编程\n",
    "\n",
    "函数是Python内建支持的一种封装，我们通过把大段代码拆成函数，通过一层一层的函数调用，就可以把复杂任务分解成简单的任务，这种分解可以称之为**面向过程的程序设计**。函数就是面向过程的程序设计的基本单元。\n",
    "\n",
    "而函数式编程（请注意多了一个“式”字）——Functional Programming，虽然也可以归结到面向过程的程序设计，但其思想更接近数学计算。\n",
    "\n",
    "我们首先要搞明白计算机（Computer）和计算（Compute）的概念。\n",
    "\n",
    "在计算机的层次上，CPU执行的是加减乘除的指令代码，以及各种条件判断和跳转指令，所以，汇编语言是最贴近计算机的语言。\n",
    "\n",
    "而计算则指数学意义上的计算，越是抽象的计算，离计算机硬件越远。\n",
    "\n",
    "对应到编程语言，就是越低级的语言，越贴近计算机，抽象程度低，执行效率高，比如C语言；越高级的语言，越贴近计算，抽象程度高，执行效率低，比如Lisp语言。\n",
    "\n",
    "函数式编程就是一种抽象程度很高的编程范式，纯粹的函数式编程语言编写的函数没有变量，因此，任意一个函数，只要输入是确定的，输出就是确定的，这种纯函数我们称之为没有**副作用(无状态)**。而允许使用变量的程序设计语言，由于函数内部的变量状态不确定，同样的输入，可能得到不同的输出，因此，这种函数是有副作用的。\n",
    "\n",
    "**函数式编程的一个特点就是，允许把函数本身作为参数传入另一个函数，还允许返回一个函数！**\n",
    "\n",
    "Python对函数式编程提供部分支持。由于Python允许使用变量，因此，Python不是纯函数式编程语言。\n",
    "\n",
    "## 函数本身是一种对象\n",
    "\n",
    "Python中的函数本身就是一种对象，可以赋值给变量，拿内置函数`abs()`举例，`abs(10)`是一个函数调用，而`abs`本身是一个函数对象，可以给普通的变量赋值。"
   ]
  },
  {
   "cell_type": "code",
   "execution_count": 9,
   "metadata": {
    "ExecuteTime": {
     "end_time": "2019-04-17T02:34:09.876394Z",
     "start_time": "2019-04-17T02:34:09.872431Z"
    }
   },
   "outputs": [
    {
     "data": {
      "text/plain": [
       "10"
      ]
     },
     "execution_count": 9,
     "metadata": {},
     "output_type": "execute_result"
    }
   ],
   "source": [
    "f = abs\n",
    "f(-10) # f是一个函数对象，可以进行函数调用"
   ]
  },
  {
   "cell_type": "markdown",
   "metadata": {},
   "source": [
    "既然函数本身是一个对象，可以像其他变量一样进行赋值，那也可以作为函数的参数"
   ]
  },
  {
   "cell_type": "code",
   "execution_count": 10,
   "metadata": {
    "ExecuteTime": {
     "end_time": "2019-04-17T02:35:20.925500Z",
     "start_time": "2019-04-17T02:35:20.920599Z"
    }
   },
   "outputs": [
    {
     "data": {
      "text/plain": [
       "13"
      ]
     },
     "execution_count": 10,
     "metadata": {},
     "output_type": "execute_result"
    }
   ],
   "source": [
    "def add(a, b, f):\n",
    "    return f(a) + f(b)\n",
    "add(-10, 3, abs)"
   ]
  },
  {
   "cell_type": "markdown",
   "metadata": {},
   "source": [
    "像上面这样参数有函数对象的函数，我们称之为**高阶函数**\n",
    "\n",
    "## 高阶函数举例\n",
    "\n",
    "### map/reduce\n",
    "\n",
    "map的参数接收一个函数和一个可迭代对象(Iterable)，返回一个迭代器(Iterator)"
   ]
  },
  {
   "cell_type": "code",
   "execution_count": 11,
   "metadata": {
    "ExecuteTime": {
     "end_time": "2019-04-17T02:41:29.002008Z",
     "start_time": "2019-04-17T02:41:28.996930Z"
    },
    "scrolled": true
   },
   "outputs": [
    {
     "name": "stdout",
     "output_type": "stream",
     "text": [
      "[1, 4, 9, 16]\n"
     ]
    }
   ],
   "source": [
    "def square(x):\n",
    "    return x * x\n",
    "L = [1,2,3,4]\n",
    "r = map(square, L)\n",
    "print(list(r))"
   ]
  },
  {
   "cell_type": "markdown",
   "metadata": {},
   "source": [
    "`reduce`把一个函数作用在一个序列`[x1, x2, x3, ...]`上，这个函数必须接收两个参数，`reduce`把结果继续和序列的下一个元素做累积计算。效果就像：\n",
    "```bash\n",
    "reduce(f, [x1, x2, x3, x4]) = f(f(f(x1, x2), x3), x4)\n",
    "```"
   ]
  },
  {
   "cell_type": "code",
   "execution_count": 12,
   "metadata": {
    "ExecuteTime": {
     "end_time": "2019-04-17T02:44:11.383854Z",
     "start_time": "2019-04-17T02:44:11.378976Z"
    }
   },
   "outputs": [
    {
     "name": "stdout",
     "output_type": "stream",
     "text": [
      "10\n"
     ]
    }
   ],
   "source": [
    "from functools import reduce\n",
    "def add(x, y):\n",
    "    return x + y\n",
    "r = reduce(add, L)\n",
    "print(r)"
   ]
  },
  {
   "cell_type": "markdown",
   "metadata": {},
   "source": [
    "### filter\n",
    "\n",
    "和`map()`类似，`filter()`也接收一个函数和一个序列。和`map()`不同的是，`filter()`把传入的函数依次用于每个元素，然后根据返回值是`True`还是`False`决定保留还是丢弃元素。\n",
    "\n",
    "下面写一个过滤字符串中包含了\"er\"的字符串"
   ]
  },
  {
   "cell_type": "code",
   "execution_count": 13,
   "metadata": {
    "ExecuteTime": {
     "end_time": "2019-04-17T03:00:11.502988Z",
     "start_time": "2019-04-17T03:00:11.497943Z"
    }
   },
   "outputs": [
    {
     "data": {
      "text/plain": [
       "['super', 'taller']"
      ]
     },
     "execution_count": 13,
     "metadata": {},
     "output_type": "execute_result"
    }
   ],
   "source": [
    "def include_er(s):\n",
    "    return  s.find('er') != -1\n",
    "list(filter(include_er, ['more', 'super', 'taller', 'abc']))"
   ]
  },
  {
   "cell_type": "markdown",
   "metadata": {},
   "source": [
    "可见用`filter()`这个高阶函数，关键在于正确实现一个“筛选”函数。\n",
    "\n",
    "注意到`filter()`函数返回的是一个`Iterator`，也就是一个惰性序列，所以要强迫`filter()`完成计算结果，需要用`list()`函数获得所有结果并返回`list`。"
   ]
  },
  {
   "cell_type": "markdown",
   "metadata": {},
   "source": [
    "### 用filter求素数\n",
    "\n",
    "计算素数的一个方法是埃氏筛法，它的算法理解起来非常简单：\n",
    "\n",
    "首先，列出从2开始的所有自然数，构造一个序列：\n",
    "\n",
    "2, 3, 4, 5, 6, 7, 8, 9, 10, 11, 12, 13, 14, 15, 16, 17, 18, 19, 20, ...\n",
    "\n",
    "取序列的第一个数2，它一定是素数，然后用2把序列的2的倍数筛掉：\n",
    "\n",
    "3, ~~4~~, 5, ~~6~~, 7, ~~8~~, 9, ~~10~~, 11, ~~12~~, 13, ~~14~~, 15, ~~16~~, 17, ~~18~~, 19, ~~20~~, ...\n",
    "\n",
    "取新序列的第一个数3，它一定是素数，然后用3把序列的3的倍数筛掉：\n",
    "\n",
    "5, ~~6~~, 7, ~~8~~, ~~9~~, ~~10~~, 11, ~~12~~, 13, ~~14~~, ~~15~~, ~~16~~, 17, ~~18~~, 19, ~~20~~, ...\n",
    "\n",
    "\n",
    "取新序列的第一个数5，然后用5把序列的5的倍数筛掉：\n",
    "\n",
    "7, ~~8~~, ~~9~~, ~~10~~, 11, ~~12~~, 13, ~~14~~, ~~15~~, ~~16~~, 17, ~~18~~, 19, ~~20~~, ...\n",
    "\n",
    "不断筛下去，就可以得到所有的素数。\n",
    "\n",
    "用Python来实现这个算法，可以先构造一个从3开始的奇数序列："
   ]
  },
  {
   "cell_type": "code",
   "execution_count": 14,
   "metadata": {
    "ExecuteTime": {
     "end_time": "2019-04-17T03:22:58.943157Z",
     "start_time": "2019-04-17T03:22:58.917047Z"
    }
   },
   "outputs": [
    {
     "name": "stdout",
     "output_type": "stream",
     "text": [
      "2,3,5,7,11,13,17,19,23,29,31,37,41,43,47,53,59,61,67,71,73,79,83,89,97,"
     ]
    }
   ],
   "source": [
    "# 定义一个奇数序列的生成器\n",
    "def _odd_iter():\n",
    "    n = 1\n",
    "    while True:\n",
    "        n = n + 2\n",
    "        yield n\n",
    "\n",
    "# 定义一个筛选函数\n",
    "def _not_divisible(n):\n",
    "    return lambda x: x % n > 0\n",
    "\n",
    "# 下面的生成过程类型于\n",
    "# filter(...filter(_not_divisible(7),filter(_not_divisible(5),filter(_not_divisible(3), it)))...)\n",
    "def primes():\n",
    "    yield 2\n",
    "    it = _odd_iter()\n",
    "    while True:\n",
    "        n = next(it)\n",
    "        yield n\n",
    "        it = filter(_not_divisible(n), it)\n",
    "     \n",
    "    \n",
    "for n in primes():\n",
    "    if n < 100:\n",
    "        print(n, end=',')\n",
    "    else:\n",
    "        break"
   ]
  },
  {
   "cell_type": "markdown",
   "metadata": {},
   "source": [
    "### sorted\n",
    "\n",
    "排序也是在程序中经常用到的算法。无论使用冒泡排序还是快速排序，排序的核心是比较两个元素的大小。如果是数字，我们可以直接比较，但如果是字符串或者两个dict呢？直接比较数学上的大小是没有意义的，因此，比较的过程必须通过函数抽象出来。\n",
    "\n",
    "Python内置的`sorted()`函数就可以对list进行排序，此外，`sorted()`函数也是一个高阶函数，它还可以接入一个`key`函数来实现自定义的排序。比如，我们想对一些字符串进行排序，但是想忽略他们的大小写。"
   ]
  },
  {
   "cell_type": "code",
   "execution_count": 15,
   "metadata": {
    "ExecuteTime": {
     "end_time": "2019-04-17T03:29:25.095723Z",
     "start_time": "2019-04-17T03:29:25.091643Z"
    }
   },
   "outputs": [
    {
     "data": {
      "text/plain": [
       "['about', 'bob', 'Credit', 'Zoo']"
      ]
     },
     "execution_count": 15,
     "metadata": {},
     "output_type": "execute_result"
    }
   ],
   "source": [
    "sorted(['bob', 'about', 'Zoo', 'Credit'], key=str.lower)"
   ]
  },
  {
   "cell_type": "markdown",
   "metadata": {},
   "source": [
    "要进行反向排序，不必改动key函数，可以传入第三个参数`reverse=True`"
   ]
  },
  {
   "cell_type": "code",
   "execution_count": 16,
   "metadata": {
    "ExecuteTime": {
     "end_time": "2019-04-17T03:30:22.429383Z",
     "start_time": "2019-04-17T03:30:22.425403Z"
    }
   },
   "outputs": [
    {
     "data": {
      "text/plain": [
       "['Zoo', 'Credit', 'bob', 'about']"
      ]
     },
     "execution_count": 16,
     "metadata": {},
     "output_type": "execute_result"
    }
   ],
   "source": [
    "sorted(['bob', 'about', 'Zoo', 'Credit'], key=str.lower, reverse=True)"
   ]
  },
  {
   "cell_type": "markdown",
   "metadata": {},
   "source": [
    "**`sorted()`也是一个高阶函数。用sorted()排序的关键在于实现一个映射函数。**"
   ]
  },
  {
   "cell_type": "markdown",
   "metadata": {},
   "source": [
    "# 装饰器\n",
    "\n",
    "装饰器可以让我们在不需要修改某个函数的源码的情况下，来丰富函数的功能，比如加一些入口与出口日志，记时操作等。\n",
    "\n",
    "本质上decorator就是一个返回函数的高阶函数。下面我们为一个函数定义一个入口打印日志的装饰器。"
   ]
  },
  {
   "cell_type": "code",
   "execution_count": 8,
   "metadata": {},
   "outputs": [
    {
     "name": "stdout",
     "output_type": "stream",
     "text": [
      "call my_add()\n",
      "3\n"
     ]
    }
   ],
   "source": [
    "def log(func):\n",
    "    def wrapper(*args, **kw):\n",
    "        print('call %s()' % (func.__name__))\n",
    "        return func(*args, **kw)\n",
    "    return wrapper\n",
    "@log\n",
    "def my_add(x, y):\n",
    "    return x + y\n",
    "print(my_add(1, 2))"
   ]
  },
  {
   "cell_type": "markdown",
   "metadata": {},
   "source": [
    "上面的实现实际上相当于执行了下面的代码，由于log是一个decorator，它返回一个函数，所以原来的my_add()函数仍然存在，而log_my_add是一个新的函数。"
   ]
  },
  {
   "cell_type": "code",
   "execution_count": 9,
   "metadata": {},
   "outputs": [
    {
     "name": "stdout",
     "output_type": "stream",
     "text": [
      "call my_add()\n",
      "3\n"
     ]
    }
   ],
   "source": [
    "def my_add(x, y):\n",
    "    return x + y\n",
    "log_my_add = log(my_add)\n",
    "print(log_my_add(1, 2))"
   ]
  },
  {
   "cell_type": "markdown",
   "metadata": {},
   "source": [
    "当装饰器本身需要传入参数的时候，地就需要编写一个返回decorator的高阶函数，写出来会更复杂。"
   ]
  },
  {
   "cell_type": "code",
   "execution_count": 10,
   "metadata": {},
   "outputs": [
    {
     "name": "stdout",
     "output_type": "stream",
     "text": [
      "execute  my_add()\n",
      "3\n"
     ]
    }
   ],
   "source": [
    "def log(text):\n",
    "    def decorator(func):\n",
    "        def wrapper(*args, **kw):\n",
    "            print('%s  %s()' % (text, func.__name__))\n",
    "            return func(*args, **kw)\n",
    "        return wrapper\n",
    "    return decorator\n",
    "\n",
    "@log('execute')\n",
    "def my_add(x, y):\n",
    "    return x + y\n",
    "print(my_add(1, 2))"
   ]
  },
  {
   "cell_type": "markdown",
   "metadata": {},
   "source": [
    "上的代码的执行效果，相当于是执行了`my_add=log('execute')(my_add)`\n",
    "\n",
    "上面的实现有个缺点就是，所有被包装过后的函数，它的`__name__`值都返回的是`wrapper`，我们可以通过下面的方法来解决。"
   ]
  },
  {
   "cell_type": "code",
   "execution_count": 11,
   "metadata": {},
   "outputs": [
    {
     "name": "stdout",
     "output_type": "stream",
     "text": [
      "wrapper\n"
     ]
    }
   ],
   "source": [
    "print(my_add.__name__)"
   ]
  },
  {
   "cell_type": "code",
   "execution_count": 12,
   "metadata": {},
   "outputs": [
    {
     "name": "stdout",
     "output_type": "stream",
     "text": [
      "my_add\n"
     ]
    }
   ],
   "source": [
    "import functools\n",
    "\n",
    "def log(func):\n",
    "    @functools.wraps(func)\n",
    "    def wrapper(*args, **kw):\n",
    "        print('call %s()' % (func.__name__))\n",
    "        return func(*args, **kw)\n",
    "    return wrapper\n",
    "@log\n",
    "def my_add(x, y):\n",
    "    return x + y\n",
    "print(my_add.__name__)"
   ]
  },
  {
   "cell_type": "markdown",
   "metadata": {},
   "source": [
    "下面定义了一个装饰器，它可以为任意函数调用结束时，打印函数的执行时间。"
   ]
  },
  {
   "cell_type": "code",
   "execution_count": 16,
   "metadata": {},
   "outputs": [],
   "source": [
    "import time"
   ]
  },
  {
   "cell_type": "code",
   "execution_count": 23,
   "metadata": {},
   "outputs": [
    {
     "name": "stdout",
     "output_type": "stream",
     "text": [
      "execute sleep_second(), cost 3001.805 ms\n"
     ]
    }
   ],
   "source": [
    "def metric(func):\n",
    "    @functools.wraps(func)\n",
    "    def wrapper(*args, **kw):\n",
    "        start = time.time()\n",
    "        value = func(*args, **kw)\n",
    "        stop = time.time()\n",
    "        print('execute %s(), cost %.3f ms' % (func.__name__, 1000 * (stop - start)))\n",
    "        return value\n",
    "    return wrapper\n",
    "     \n",
    "@metric\n",
    "def sleep_second(s):\n",
    "    time.sleep(s)\n",
    "\n",
    "sleep_second(3)"
   ]
  },
  {
   "cell_type": "code",
   "execution_count": 20,
   "metadata": {},
   "outputs": [
    {
     "name": "stdout",
     "output_type": "stream",
     "text": [
      "Help on built-in function time in module time:\n",
      "\n",
      "time(...)\n",
      "    time() -> floating point number\n",
      "    \n",
      "    Return the current time in seconds since the Epoch.\n",
      "    Fractions of a second may be present if the system clock provides them.\n",
      "\n"
     ]
    }
   ],
   "source": [
    "help(time.time)"
   ]
  },
  {
   "cell_type": "markdown",
   "metadata": {},
   "source": [
    "# 偏函数\n",
    "\n",
    "偏函数类似于C++中的`bind`函数，支持将一些复杂的函数中的某些参数固定住，使得其变为一个新的简单的函数。\n",
    "\n",
    "比如类型转换函数`int()`支持，通过参数`base`来选择对字符串进行转换时，选择的进制"
   ]
  },
  {
   "cell_type": "code",
   "execution_count": 17,
   "metadata": {
    "ExecuteTime": {
     "end_time": "2019-04-17T04:06:54.204978Z",
     "start_time": "2019-04-17T04:06:54.201607Z"
    }
   },
   "outputs": [
    {
     "data": {
      "text/plain": [
       "1001"
      ]
     },
     "execution_count": 17,
     "metadata": {},
     "output_type": "execute_result"
    }
   ],
   "source": [
    "int('1001')"
   ]
  },
  {
   "cell_type": "code",
   "execution_count": 18,
   "metadata": {
    "ExecuteTime": {
     "end_time": "2019-04-17T04:07:02.393853Z",
     "start_time": "2019-04-17T04:07:02.390464Z"
    }
   },
   "outputs": [
    {
     "data": {
      "text/plain": [
       "9"
      ]
     },
     "execution_count": 18,
     "metadata": {},
     "output_type": "execute_result"
    }
   ],
   "source": [
    "int('1001', base=2)"
   ]
  },
  {
   "cell_type": "markdown",
   "metadata": {},
   "source": [
    "如果我们想要一个调用起来简单的对二进制字符串进行转换的函数，我们可以这样做："
   ]
  },
  {
   "cell_type": "code",
   "execution_count": 19,
   "metadata": {
    "ExecuteTime": {
     "end_time": "2019-04-17T04:08:49.739246Z",
     "start_time": "2019-04-17T04:08:49.735012Z"
    }
   },
   "outputs": [
    {
     "data": {
      "text/plain": [
       "9"
      ]
     },
     "execution_count": 19,
     "metadata": {},
     "output_type": "execute_result"
    }
   ],
   "source": [
    "def int2(s):\n",
    "    return int(s, base=2)\n",
    "int2('1001')"
   ]
  },
  {
   "cell_type": "markdown",
   "metadata": {},
   "source": [
    "`functools.partial`就是帮助我们创建一个偏函数的，不需要我们自己定义`int2()`，可以直接使用下面的代码创建一个新的函数`int2`："
   ]
  },
  {
   "cell_type": "code",
   "execution_count": 20,
   "metadata": {
    "ExecuteTime": {
     "end_time": "2019-04-17T04:10:52.680442Z",
     "start_time": "2019-04-17T04:10:52.676014Z"
    }
   },
   "outputs": [
    {
     "data": {
      "text/plain": [
       "9"
      ]
     },
     "execution_count": 20,
     "metadata": {},
     "output_type": "execute_result"
    }
   ],
   "source": [
    "import functools\n",
    "int2 = functools.partial(int, base=2)\n",
    "int2('1001')"
   ]
  },
  {
   "cell_type": "markdown",
   "metadata": {},
   "source": [
    "所以，简单总结functools.partial的作用就是，把一个函数的某些参数给固定住（也就是设置默认值），返回一个新的函数，调用这个新函数会更简单。\n",
    "\n",
    "`int2('1001')`类似于调用\n",
    "```python\n",
    "kw = {'base':2}\n",
    "int('1001', **kw)\n",
    "```"
   ]
  }
 ],
 "metadata": {
  "kernelspec": {
   "display_name": "Python 3",
   "language": "python",
   "name": "python3"
  },
  "language_info": {
   "codemirror_mode": {
    "name": "ipython",
    "version": 3
   },
   "file_extension": ".py",
   "mimetype": "text/x-python",
   "name": "python",
   "nbconvert_exporter": "python",
   "pygments_lexer": "ipython3",
   "version": "3.7.2"
  }
 },
 "nbformat": 4,
 "nbformat_minor": 2
}
