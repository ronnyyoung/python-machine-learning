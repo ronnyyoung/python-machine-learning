{
 "cells": [
  {
   "cell_type": "markdown",
   "metadata": {},
   "source": [
    "# 列表\n",
    "\n",
    "Python中的列表类型，可以容纳任何对象，而且可以随时往其中添加新的元素，它不要求所有元素属于同一类型，而不事先定义大小。它总是有办法进行动态的拓展。\n",
    "\n",
    "可以理解为：list里的元素实际上放的都是指针，指针可以指向任何类型的对象。\n",
    "\n",
    "## 列表的创建"
   ]
  },
  {
   "cell_type": "code",
   "execution_count": 21,
   "metadata": {
    "ExecuteTime": {
     "end_time": "2019-04-12T15:46:36.161970Z",
     "start_time": "2019-04-12T15:46:36.158301Z"
    }
   },
   "outputs": [
    {
     "name": "stdout",
     "output_type": "stream",
     "text": [
      "e_list len =  0\n",
      "list is empty\n",
      "e_list == None?  False\n"
     ]
    }
   ],
   "source": [
    "a_list = [1, 2, 'a', 'b', ['ronny', 26]] # 包含5个元素的列表\n",
    "b_list = ['one'] # 只有一个元素的列表\n",
    "e_list = [] # 一个空列表\n",
    "print('e_list len = ', len(e_list))\n",
    "if e_list:\n",
    "    print('list is not empty')\n",
    "else:\n",
    "    print('list is empty')\n",
    "print('e_list == None? ', e_list == None)"
   ]
  },
  {
   "cell_type": "markdown",
   "metadata": {},
   "source": [
    "## 列表的访问 "
   ]
  },
  {
   "cell_type": "code",
   "execution_count": 22,
   "metadata": {
    "ExecuteTime": {
     "end_time": "2019-04-12T15:47:16.559900Z",
     "start_time": "2019-04-12T15:47:16.548535Z"
    }
   },
   "outputs": [
    {
     "data": {
      "text/plain": [
       "['ronny', 26]"
      ]
     },
     "execution_count": 22,
     "metadata": {},
     "output_type": "execute_result"
    }
   ],
   "source": [
    "# 通过下标访问列表\n",
    "a_list[4]"
   ]
  },
  {
   "cell_type": "code",
   "execution_count": 23,
   "metadata": {},
   "outputs": [
    {
     "ename": "IndexError",
     "evalue": "list index out of range",
     "output_type": "error",
     "traceback": [
      "\u001b[0;31m---------------------------------------------------------------------------\u001b[0m",
      "\u001b[0;31mIndexError\u001b[0m                                Traceback (most recent call last)",
      "\u001b[0;32m<ipython-input-23-bd3e69a528f6>\u001b[0m in \u001b[0;36m<module>\u001b[0;34m()\u001b[0m\n\u001b[1;32m      1\u001b[0m \u001b[0;31m# 当下标超过len(L)-1时，会报IndexError的异常\u001b[0m\u001b[0;34m\u001b[0m\u001b[0;34m\u001b[0m\u001b[0;34m\u001b[0m\u001b[0m\n\u001b[0;32m----> 2\u001b[0;31m \u001b[0ma_list\u001b[0m\u001b[0;34m[\u001b[0m\u001b[0;36m5\u001b[0m\u001b[0;34m]\u001b[0m\u001b[0;34m\u001b[0m\u001b[0;34m\u001b[0m\u001b[0m\n\u001b[0m",
      "\u001b[0;31mIndexError\u001b[0m: list index out of range"
     ]
    }
   ],
   "source": [
    "# 当下标超过len(L)-1时，会报IndexError的异常\n",
    "a_list[5]"
   ]
  },
  {
   "cell_type": "code",
   "execution_count": 24,
   "metadata": {
    "ExecuteTime": {
     "end_time": "2019-04-12T15:47:38.981904Z",
     "start_time": "2019-04-12T15:47:38.978172Z"
    }
   },
   "outputs": [
    {
     "data": {
      "text/plain": [
       "['ronny', 26]"
      ]
     },
     "execution_count": 24,
     "metadata": {},
     "output_type": "execute_result"
    }
   ],
   "source": [
    "# 通过负数下标从最后一个元素访问列表\n",
    "a_list[-1] # a_list[-n] = a_list[len(a_list) - n]"
   ]
  },
  {
   "cell_type": "code",
   "execution_count": 28,
   "metadata": {},
   "outputs": [
    {
     "name": "stdout",
     "output_type": "stream",
     "text": [
      "[1, 2, 'a', ['ronny', 26], 'c', 'new item', 'new item']\n",
      "[1, 2, 'a', ['ronny', 26], 'c', 'c', 'new item', 'new item']\n"
     ]
    }
   ],
   "source": [
    "# 往列表中添加元素\n",
    "a_list.append('new item') #在列给尾部添加\n",
    "print(a_list)\n",
    "# 在中间添加元素\n",
    "a_list.insert(4, 'c')\n",
    "print(a_list)"
   ]
  },
  {
   "cell_type": "code",
   "execution_count": 26,
   "metadata": {},
   "outputs": [
    {
     "name": "stdout",
     "output_type": "stream",
     "text": [
      "poped_item: new item\n",
      "list:  [1, 2, 'a', 'b', ['ronny', 26]]\n",
      "poped_item: b\n",
      "list:  [1, 2, 'a', ['ronny', 26]]\n"
     ]
    }
   ],
   "source": [
    "# 从列表中删除元素\n",
    "elem = a_list.pop()\n",
    "print('poped_item:', elem)\n",
    "print('list: ', a_list)\n",
    "# 删除下标为3的元素\n",
    "elem = a_list.pop(3)\n",
    "print('poped_item:', elem)\n",
    "print('list: ', a_list)"
   ]
  },
  {
   "cell_type": "markdown",
   "metadata": {},
   "source": [
    "## 列表的切片\n",
    "\n",
    "自左向右读取列表，第一个切片索引指明了想要的第一个元素，第二个切片索引指明了第一个不想要的元素。返回值是两者之间的任何值。"
   ]
  },
  {
   "cell_type": "code",
   "execution_count": 4,
   "metadata": {
    "ExecuteTime": {
     "end_time": "2019-04-12T15:49:16.782900Z",
     "start_time": "2019-04-12T15:49:16.776700Z"
    }
   },
   "outputs": [
    {
     "name": "stdout",
     "output_type": "stream",
     "text": [
      "[1, 2, 'a', 'b', ['ronny', 26]]\n",
      "[2, 'a', 'b']\n",
      "[1, 2, 'a']\n",
      "['b', ['ronny', 26]]\n",
      "[1, 2, 'a', 'b', ['ronny', 26]]\n"
     ]
    }
   ],
   "source": [
    "print(a_list)\n",
    "print(a_list[1:-1])\n",
    "print(a_list[:3])# 不包括a_list[3]\n",
    "print(a_list[3:])\n",
    "print(a_list[:]) # a_list的一份拷贝"
   ]
  },
  {
   "cell_type": "markdown",
   "metadata": {},
   "source": [
    "## 列表的操作\n",
    "\n",
    "- `list.append(x)`：把一个元素添加到链表的结尾，相当于`a[len(a):] = [x]`或`a = a + [x]`。\n",
    "- `list.append(L)`：把一个给定的列表中的所有元素都添加到另一个列表中，相当于`a[len(a):] = L`或`a = a + L`。\n",
    "- `list.insert(i,x)`：在指位置拷入一个元素。`a.insert(len(a),x)`相当于`a.append(x)`。 \n",
    "- `list.remove(x)`：删除链表中值为x的第一个元素。如果没有这样的元素，就会返回一个错误。\n",
    "- `del list[a:b]`：删除列表中范围a与b之间的元素。\n",
    "- `list.pop([i])`：从链表的指定位置删除元素，并将其返回。如果没有指定索引，`a.pop()`删除并返回最后一个元素。`[]`表示参数可选。\n",
    "- `list.index(x)`：返回链表中第一个值为x的元素的索引。如果没有匹配的元素就会返回一个错误。\n",
    "- `list.cout(x)`：返回x在链表中出现的次数。可以用来判断x是否在list中出现，不过最直接的方法是 `x in list`\n",
    "- `list.sort()`：对链表中的元素就地进行排序，前提是链表中的元素之间可以比较大小。\n",
    "- `list.reverse()`：就地倒排链表中的元素。\n",
    "\n",
    "也许大家会发现像 `insert`， `remove `或者 `sort `这些修改列表的方法没有打印返回值–它们返回` None`。在 python 中对所有可变的数据类型这是统一的设计原则。"
   ]
  },
  {
   "cell_type": "markdown",
   "metadata": {},
   "source": [
    "## 注意事项\n",
    "\n",
    "- `list.insert(i, x)`: 如果i超出来索引范围，则直接在最前或最后插入。\n",
    "`list.pop(i)`：如果对一个空列表执行pop会抛异常。"
   ]
  }
 ],
 "metadata": {
  "kernelspec": {
   "display_name": "Python 3",
   "language": "python",
   "name": "python3"
  },
  "language_info": {
   "codemirror_mode": {
    "name": "ipython",
    "version": 3
   },
   "file_extension": ".py",
   "mimetype": "text/x-python",
   "name": "python",
   "nbconvert_exporter": "python",
   "pygments_lexer": "ipython3",
   "version": "3.8.8"
  }
 },
 "nbformat": 4,
 "nbformat_minor": 4
}
