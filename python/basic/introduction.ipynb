{
 "cells": [
  {
   "cell_type": "markdown",
   "metadata": {},
   "source": [
    "# Python介绍：编写与运行Python程序"
   ]
  },
  {
   "cell_type": "markdown",
   "metadata": {},
   "source": [
    "## Python是一门解释型语言\n",
    "\n",
    "Python可以理解为一门解释性语言吗？它和C/C++、Java这样的语言运行的机制有什么不同呢？什么是Python的解析器呢？\n",
    "\n",
    "![](./images/python-20190904095854.png)\n",
    "\n",
    "下面是几篇可以参考的文章，其中第一篇介绍的最清楚。\n",
    "\n",
    "- [Python程序的执行过程](https://blog.csdn.net/june_young_fan/article/details/79755392)：这篇博客重点说清楚了pyc文件的生成机制与作用。\n",
    "- [Python解释执行的原理](https://l62s.iteye.com/blog/1481421)：文章介绍了编译型语言与解释型语言的不同，并介绍了Python的解释的原理。\n",
    "- [Python 是解释型语言吗？它会被编译吗？](http://baijiahao.baidu.com/s?id=1596285609890190878&wfr=spider&for=pc):浅显易懂的介绍了Python到底是解释型的还是编译型的语言。\n",
    "- [Python的几个不同的解释器](https://www.liaoxuefeng.com/wiki/0014316089557264a6b348958f449949df42a6d3a2e542c000/00143161198846783e33de56d4041058c3dfc7e44ee1203000)：由其是PyPython采用的是JIT的技术，追求的是执行速度。"
   ]
  },
  {
   "cell_type": "markdown",
   "metadata": {},
   "source": [
    "## Python适合干什么，不适合干什么\n",
    "\n",
    "- 适合干：开发网络应用，如Web服务端，游戏后端；人工智能前端语言；大数据处理；运维与测试脚本\n",
    "- 不适合干：写操作系统(C/C++)；写3D游戏(C/C++)；写手机App(目前是Object-C和Java干的)，做实时流媒体开发(C/C++)\n",
    "\n",
    "可以看出来，需要与底层硬件或驱动层打交道，在乎运行效率的就不适合Python。而在追求开发效率，运行效率不关心的场景，就十分适合Python。"
   ]
  },
  {
   "cell_type": "markdown",
   "metadata": {},
   "source": [
    "## Python的开发环境\n",
    "\n",
    "- [Miniconda](https://docs.conda.io/en/latest/miniconda.html)\n",
    "- [Anaconda](https://www.anaconda.com/)\n",
    "- [Python包管理Conda](https://docs.conda.io/en/latest/index.html)\n",
    "- [Python包管理pip](https://pypi.org/project/pip/)\n",
    "- [一个简单的本地Web Python编译运行程序](https://www.liaoxuefeng.com/wiki/1016959663602400/1018877595088352)\n",
    "\n",
    "个人比较喜欢用Miniconda，然后通过conda的虚拟环境来管理不同的工作空间。代码编辑使用vscode/jupyter notebook."
   ]
  },
  {
   "cell_type": "markdown",
   "metadata": {},
   "source": [
    "## 如何运行Python程序\n",
    "\n",
    "- 通过交互式命令行：写一句程序，执行一次\n",
    "- 将程序写到文本文件中(xx.py)，然后在命令行中通过调用python解析器来一次性执行：`python xx.py`\n",
    "- 在类Unix系统下，可以给文件加执行权限，然后文件开头写上`#!/usr/bin/env python3`，然后就可以在命令行下直接`./xx.py`来执行了。"
   ]
  },
  {
   "cell_type": "markdown",
   "metadata": {},
   "source": [
    "## 为什么代码第一行要加`#!/usr/bin/env python3`\n",
    "\n",
    "\n",
    "```python\n",
    "#!/usr/bin/env python3\n",
    "\n",
    "print('hello, world!\\n')\n",
    "```\n",
    "\n",
    "类Unix系统中，如果文本文件第一行有类似`#!/usr/bin/env bash`或`#!/usr/bin/bash`这样的注释，则这些程序可以直接在命令行下执行，不过前提是给这个文件加上可执行的权限。\n",
    "```bash\n",
    "chmod a+x hello.py\n",
    "```\n",
    "然后在终端下通过`./hello.py`来执行。\n",
    "\n",
    "那`#!/usr/bin/env python3`和`#!/usr/bin/python3`有什么区别呢。前者会自动在env的`PATH`中找到pthon3的程序执行路径，而不用向后者一样依赖一个绝对路径。假设我们的python３安装在了`/usr/local/bin`来面，那后面一种写法就没法工作了。"
   ]
  },
  {
   "cell_type": "markdown",
   "metadata": {},
   "source": [
    "## Python的设计哲学\n",
    "\n",
    "总的来说，Python的哲学就是简单优雅，尽量写容易看明白的代码，尽量写少的代码"
   ]
  },
  {
   "cell_type": "code",
   "execution_count": 1,
   "metadata": {
    "ExecuteTime": {
     "end_time": "2019-04-13T16:36:39.279530Z",
     "start_time": "2019-04-13T16:36:39.274884Z"
    }
   },
   "outputs": [
    {
     "name": "stdout",
     "output_type": "stream",
     "text": [
      "The Zen of Python, by Tim Peters\n",
      "\n",
      "Beautiful is better than ugly.\n",
      "Explicit is better than implicit.\n",
      "Simple is better than complex.\n",
      "Complex is better than complicated.\n",
      "Flat is better than nested.\n",
      "Sparse is better than dense.\n",
      "Readability counts.\n",
      "Special cases aren't special enough to break the rules.\n",
      "Although practicality beats purity.\n",
      "Errors should never pass silently.\n",
      "Unless explicitly silenced.\n",
      "In the face of ambiguity, refuse the temptation to guess.\n",
      "There should be one-- and preferably only one --obvious way to do it.\n",
      "Although that way may not be obvious at first unless you're Dutch.\n",
      "Now is better than never.\n",
      "Although never is often better than *right* now.\n",
      "If the implementation is hard to explain, it's a bad idea.\n",
      "If the implementation is easy to explain, it may be a good idea.\n",
      "Namespaces are one honking great idea -- let's do more of those!\n"
     ]
    }
   ],
   "source": [
    "import this"
   ]
  }
 ],
 "metadata": {
  "kernelspec": {
   "display_name": "Python 3",
   "language": "python",
   "name": "python3"
  },
  "language_info": {
   "codemirror_mode": {
    "name": "ipython",
    "version": 3
   },
   "file_extension": ".py",
   "mimetype": "text/x-python",
   "name": "python",
   "nbconvert_exporter": "python",
   "pygments_lexer": "ipython3",
   "version": "3.7.2"
  }
 },
 "nbformat": 4,
 "nbformat_minor": 2
}
