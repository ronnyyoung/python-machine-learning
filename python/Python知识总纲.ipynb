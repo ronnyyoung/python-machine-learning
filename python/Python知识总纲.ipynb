{
 "cells": [
  {
   "cell_type": "markdown",
   "metadata": {},
   "source": [
    "# 关于Python这门语言\n",
    "\n",
    "**Python可以理解为一门解释性语言吗？它和C/C++、Java这样的语言运行的机制有什么不同呢？什么是Python的解析器呢？**\n",
    "\n",
    "- [Python程序的执行过程](https://blog.csdn.net/june_young_fan/article/details/79755392)：这篇博客重点说清楚了pyc文件的生成机制与作用。\n",
    "- [Python解释执行的原理](https://l62s.iteye.com/blog/1481421)：文章介绍了编译型语言与解释型语言的不同，并介绍了Python的解释的原理。\n",
    "- [Python 是解释型语言吗？它会被编译吗？](http://baijiahao.baidu.com/s?id=1596285609890190878&wfr=spider&for=pc):浅显易懂的介绍了Python到底是解释型的还是编译型的语言。\n",
    "- [Python的几个不同的解释器](https://www.liaoxuefeng.com/wiki/0014316089557264a6b348958f449949df42a6d3a2e542c000/00143161198846783e33de56d4041058c3dfc7e44ee1203000)：由其是PyPython采用的是JIT的技术，追求的是执行速度。\n",
    "\n",
    "**Python适合干什么，不适合干什么**\n",
    "\n",
    "- 适合干：开发网络应用，如Web服务端，人工智能前端语言，运维与测试脚本\n",
    "- 不适合干：写操作系统，写3D游戏，做实时流媒体开发"
   ]
  },
  {
   "cell_type": "markdown",
   "metadata": {},
   "source": [
    "# Python的设计哲学"
   ]
  },
  {
   "cell_type": "code",
   "execution_count": 1,
   "metadata": {
    "ExecuteTime": {
     "end_time": "2019-04-13T16:36:39.279530Z",
     "start_time": "2019-04-13T16:36:39.274884Z"
    }
   },
   "outputs": [
    {
     "name": "stdout",
     "output_type": "stream",
     "text": [
      "The Zen of Python, by Tim Peters\n",
      "\n",
      "Beautiful is better than ugly.\n",
      "Explicit is better than implicit.\n",
      "Simple is better than complex.\n",
      "Complex is better than complicated.\n",
      "Flat is better than nested.\n",
      "Sparse is better than dense.\n",
      "Readability counts.\n",
      "Special cases aren't special enough to break the rules.\n",
      "Although practicality beats purity.\n",
      "Errors should never pass silently.\n",
      "Unless explicitly silenced.\n",
      "In the face of ambiguity, refuse the temptation to guess.\n",
      "There should be one-- and preferably only one --obvious way to do it.\n",
      "Although that way may not be obvious at first unless you're Dutch.\n",
      "Now is better than never.\n",
      "Although never is often better than *right* now.\n",
      "If the implementation is hard to explain, it's a bad idea.\n",
      "If the implementation is easy to explain, it may be a good idea.\n",
      "Namespaces are one honking great idea -- let's do more of those!\n"
     ]
    }
   ],
   "source": [
    "import this"
   ]
  },
  {
   "cell_type": "markdown",
   "metadata": {},
   "source": [
    "# Python的开发环境\n",
    "\n",
    "- [Miniconda](https://docs.conda.io/en/latest/miniconda.html)\n",
    "- [Anaconda](https://www.anaconda.com/)\n",
    "- [Python包管理Conda](https://docs.conda.io/en/latest/index.html)\n",
    "- [Python包管理pip](https://pypi.org/project/pip/)\n",
    "\n",
    "个人比较喜欢用Miniconda，然后通过conda的虚拟环境来管理不同的工作空间。代码编辑使用vscode/jupyter notebook."
   ]
  },
  {
   "cell_type": "markdown",
   "metadata": {},
   "source": [
    "# Python中的数据\n",
    "\n",
    "**在Python3中不同区别整数与长整数，统一为整数，而且可以表示任意长度的整数，背后的魔法是什么呢？**\n",
    "- [深度剖析为什么Python中整型不会溢出](https://cloud.tencent.com/developer/article/1167159) "
   ]
  },
  {
   "cell_type": "markdown",
   "metadata": {},
   "source": [
    "# Python中的高级数据结构"
   ]
  },
  {
   "cell_type": "markdown",
   "metadata": {},
   "source": [
    "# Python的流程控制：分支与循环"
   ]
  },
  {
   "cell_type": "markdown",
   "metadata": {},
   "source": [
    "# 使用函数来模块化代码"
   ]
  },
  {
   "cell_type": "markdown",
   "metadata": {},
   "source": [
    "# 包管理"
   ]
  },
  {
   "cell_type": "markdown",
   "metadata": {},
   "source": [
    "# 标准库的常用组件"
   ]
  },
  {
   "cell_type": "markdown",
   "metadata": {},
   "source": [
    "# 类与面向对象"
   ]
  },
  {
   "cell_type": "markdown",
   "metadata": {},
   "source": [
    "# 错误处理"
   ]
  },
  {
   "cell_type": "markdown",
   "metadata": {},
   "source": [
    "# 代码调试与代码测试"
   ]
  },
  {
   "cell_type": "code",
   "execution_count": null,
   "metadata": {
    "collapsed": true
   },
   "outputs": [],
   "source": []
  }
 ],
 "metadata": {
  "kernelspec": {
   "display_name": "Python 3",
   "language": "python",
   "name": "python3"
  },
  "language_info": {
   "codemirror_mode": {
    "name": "ipython",
    "version": 3
   },
   "file_extension": ".py",
   "mimetype": "text/x-python",
   "name": "python",
   "nbconvert_exporter": "python",
   "pygments_lexer": "ipython3",
   "version": "3.6.2"
  }
 },
 "nbformat": 4,
 "nbformat_minor": 2
}
