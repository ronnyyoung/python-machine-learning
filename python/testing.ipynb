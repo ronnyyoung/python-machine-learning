{
 "cells": [
  {
   "cell_type": "markdown",
   "metadata": {},
   "source": [
    "# 单元测试　\n",
    "\n",
    "单元测试是\"测试驱动开发（TDD:Test-Driven Development）\"的核心，它是用于对一个模块、一个函数或者一个类来进行正确性的检验与测试的工作。\n",
    "\n",
    "比如对函数abs()，我们可以编写出以下几个测试用例：\n",
    "\n",
    "1. 输入正数，比如1、1.2、0.99，期待返回值与输入相同；\n",
    "2. 输入负数，比如-1、-1.2、-0.99，期待返回值与输入相反；\n",
    "3. 输入0，期待返回0；\n",
    "4. 输入非数值类型，比如None、[]、{}，期待抛出TypeError。\n",
    "\n",
    "\n",
    "把上面的测试用例放到一个测试模块里，就是一个完整的针对`abs()`这个函数的单元测试\n",
    "\n",
    "如果单元测试通过，说明我们测试的这个函数能够正常工作。如果单元测试不通过，要么函数有bug，要么测试条件输入不正确，总之，需要修复使单元测试能够通过。\n",
    "\n",
    "单元测试通过后有什么意义呢？如果我们对abs()函数代码做了修改，只需要再跑一遍单元测试，如果通过，说明我们的修改不会对abs()函数原有的行为造成影响，如果测试不通过，说明我们的修改与原有行为不一致，要么修改代码，要么修改测试。\n",
    "\n",
    "这种以测试为驱动的开发模式最大的好处就是确保一个程序模块的行为符合我们设计的测试用例。在将来修改的时候，可以极大程度地保证该模块行为仍然是正确的。"
   ]
  },
  {
   "cell_type": "code",
   "execution_count": 1,
   "metadata": {},
   "outputs": [],
   "source": [
    "def MyAbs(x):\n",
    "    if not isinstance(x, (int, float)):\n",
    "        raise TypeError('x must be numerical type')\n",
    "    if x < 0 :\n",
    "        return -x\n",
    "    return x"
   ]
  },
  {
   "cell_type": "code",
   "execution_count": 2,
   "metadata": {},
   "outputs": [
    {
     "ename": "TypeError",
     "evalue": "x must be numerical type",
     "output_type": "error",
     "traceback": [
      "\u001b[0;31m---------------------------------------------------------------------------\u001b[0m",
      "\u001b[0;31mTypeError\u001b[0m                                 Traceback (most recent call last)",
      "\u001b[0;32m<ipython-input-2-2522cac7d021>\u001b[0m in \u001b[0;36m<module>\u001b[0;34m()\u001b[0m\n\u001b[0;32m----> 1\u001b[0;31m \u001b[0mMyAbs\u001b[0m\u001b[0;34m(\u001b[0m\u001b[0;32mNone\u001b[0m\u001b[0;34m)\u001b[0m\u001b[0;34m\u001b[0m\u001b[0;34m\u001b[0m\u001b[0m\n\u001b[0m",
      "\u001b[0;32m<ipython-input-1-a41deec2c8f7>\u001b[0m in \u001b[0;36mMyAbs\u001b[0;34m(x)\u001b[0m\n\u001b[1;32m      1\u001b[0m \u001b[0;32mdef\u001b[0m \u001b[0mMyAbs\u001b[0m\u001b[0;34m(\u001b[0m\u001b[0mx\u001b[0m\u001b[0;34m)\u001b[0m\u001b[0;34m:\u001b[0m\u001b[0;34m\u001b[0m\u001b[0;34m\u001b[0m\u001b[0m\n\u001b[1;32m      2\u001b[0m     \u001b[0;32mif\u001b[0m \u001b[0;32mnot\u001b[0m \u001b[0misinstance\u001b[0m\u001b[0;34m(\u001b[0m\u001b[0mx\u001b[0m\u001b[0;34m,\u001b[0m \u001b[0;34m(\u001b[0m\u001b[0mint\u001b[0m\u001b[0;34m,\u001b[0m \u001b[0mfloat\u001b[0m\u001b[0;34m)\u001b[0m\u001b[0;34m)\u001b[0m\u001b[0;34m:\u001b[0m\u001b[0;34m\u001b[0m\u001b[0;34m\u001b[0m\u001b[0m\n\u001b[0;32m----> 3\u001b[0;31m         \u001b[0;32mraise\u001b[0m \u001b[0mTypeError\u001b[0m\u001b[0;34m(\u001b[0m\u001b[0;34m'x must be numerical type'\u001b[0m\u001b[0;34m)\u001b[0m\u001b[0;34m\u001b[0m\u001b[0;34m\u001b[0m\u001b[0m\n\u001b[0m\u001b[1;32m      4\u001b[0m     \u001b[0;32mif\u001b[0m \u001b[0mx\u001b[0m \u001b[0;34m<\u001b[0m \u001b[0;36m0\u001b[0m \u001b[0;34m:\u001b[0m\u001b[0;34m\u001b[0m\u001b[0;34m\u001b[0m\u001b[0m\n\u001b[1;32m      5\u001b[0m         \u001b[0;32mreturn\u001b[0m \u001b[0;34m-\u001b[0m\u001b[0mx\u001b[0m\u001b[0;34m\u001b[0m\u001b[0;34m\u001b[0m\u001b[0m\n",
      "\u001b[0;31mTypeError\u001b[0m: x must be numerical type"
     ]
    }
   ],
   "source": [
    "MyAbs(None)"
   ]
  },
  {
   "cell_type": "code",
   "execution_count": 3,
   "metadata": {},
   "outputs": [],
   "source": [
    "# test_myabs.py\n",
    "import unittest\n",
    "\n",
    "class TestMyAbs(unittest.TestCase):\n",
    "    def test_positive(self):\n",
    "        test_case = {\n",
    "            1: 1,\n",
    "            1.2: 1.2,\n",
    "            0.99: 0.99\n",
    "        }\n",
    "        for key,value in test_case.items():\n",
    "            self.assertEqual(key, value)\n",
    "    def test_negative(self):\n",
    "        test_case = {\n",
    "            -1: 1,\n",
    "            -1.2: 1.2,\n",
    "            -0.99: 0.99\n",
    "        }\n",
    "        for key,value in test_case.items():\n",
    "            self.assertEqual(key, value)\n",
    "    def test_exception(self):\n",
    "        with self.assertRaises(TypeError):\n",
    "            MyAbs(None)\n",
    "        with self.assertRaises(TypeError):\n",
    "            MyAbs([])\n",
    "        with self.assertRaises(TypeError):\n",
    "            MyAbs({})"
   ]
  },
  {
   "cell_type": "markdown",
   "metadata": {},
   "source": [
    "以`test`开头的方法就是测试方法，不以`test`开头的方法不被认为是测试方法，测试的时候不会被执行。\n",
    "\n",
    "对每一类测试都需要编写一个`test_xxx()`方法。由于`unittest.TestCase`提供了很多内置的条件判断，我们只需要调用这些方法就可以断言输出是否是我们所期望的。最常用的断言就是`assertEqual()`"
   ]
  },
  {
   "cell_type": "markdown",
   "metadata": {},
   "source": [
    "## 运行单元测试\n",
    "\n",
    "方法一：在上面测试用例的文件的最后加上下面两行代码：\n",
    "\n",
    "```python\n",
    "if __name__ == '__main__':\n",
    "    unittest.main()\n",
    "```\n",
    "然后就像正常的脚本那样执行:`python test_myabs.py`\n",
    "\n",
    "\n",
    "另一种方法是在命令行通过参数`-m unittest`直接运行单元测试：\n",
    "\n",
    "```bash\n",
    "pyhton -m unittest test_myabs.py\n",
    "```\n",
    "\n",
    "这是推荐的做法，因为这样可以一次批量运行很多单元测试，并且，有很多工具可以自动来运行这些单元测试。\n",
    "\n",
    "可以在单元测试中编写两个特殊的`setUp()`和`tearDown()`方法。这两个方法会分别在每调用一个测试方法的前后分别被执行。\n",
    "\n",
    "`setUp()`和`tearDown()`方法有什么用呢？设想你的测试需要启动一个数据库，这时，就可以在`setUp()`方法中连接数据库，在`tearDown()`方法中关闭数据库，这样，不必在每个测试方法中重复相同的代码："
   ]
  },
  {
   "cell_type": "code",
   "execution_count": 4,
   "metadata": {},
   "outputs": [],
   "source": [
    "class TestMyAbs(unittest.TestCase):\n",
    "    def setUp(self):\n",
    "        print('setup...')\n",
    "    def tearDown(self):\n",
    "        print('tearDown...')"
   ]
  },
  {
   "cell_type": "markdown",
   "metadata": {},
   "source": [
    "可以再次运行测试看看每个测试方法调用前后是否会打印出setUp...和tearDown..."
   ]
  },
  {
   "cell_type": "markdown",
   "metadata": {},
   "source": [
    "## 文档测试\n",
    "\n",
    "`doctest`非常有用，不但可以用来测试，还可以直接作为示例代码。通过某些文档生成工具，就可以自动把包含doctest的注释提取出来。用户看文档的时候，同时也看到了`doctest`。\n",
    "\n",
    "`>>>`开头的行就是doctest测试用例。不带 `>>>`的行就是测试用例的输出。"
   ]
  },
  {
   "cell_type": "code",
   "execution_count": 5,
   "metadata": {},
   "outputs": [],
   "source": [
    "def MyAbs(x):\n",
    "    \"\"\"\n",
    "    Function to get absolute avlue of number.\n",
    "    \n",
    "    Example:\n",
    "    \n",
    "    >>> MyAbs(1)\n",
    "    1\n",
    "    >>> MyAbs(1.2)\n",
    "    1.2\n",
    "    >>> MyAbs(-1)\n",
    "    1\n",
    "    >>> MyAbs(-1.2)\n",
    "    1.2\n",
    "    >>> MyAbs(None)\n",
    "    Traceback (most recent call last):\n",
    "        ...\n",
    "    TypeError: x must be numerical type\n",
    "    \"\"\"\n",
    "    if not isinstance(x, (int, float)):\n",
    "        raise TypeError('x must be numerical type')\n",
    "    if x < 0 :\n",
    "        return -x\n",
    "    return x\n",
    "\n",
    "if __name__ == '__main__':\n",
    "    import doctest\n",
    "    doctest.testmod()"
   ]
  },
  {
   "cell_type": "markdown",
   "metadata": {},
   "source": [
    "上面定义的这个模块，可以独立的运行来进行文档测试，也可以被第三方导入，在被其他包导入时，是不会触发文档测试的。"
   ]
  },
  {
   "cell_type": "markdown",
   "metadata": {},
   "source": [
    "## 总结\n",
    "\n",
    "- 单元测试可以有效地测试某个程序模块的行为，是未来重构代码的信心保证。\n",
    "- 单元测试的测试用例要覆盖常用的输入组合、边界条件和异常。\n",
    "- 单元测试代码要非常简单，如果测试代码太复杂，那么测试代码本身就可能有bug。\n",
    "- 单元测试通过了并不意味着程序就没有bug了，但是不通过程序肯定有bug。"
   ]
  }
 ],
 "metadata": {
  "kernelspec": {
   "display_name": "Python 3",
   "language": "python",
   "name": "python3"
  },
  "language_info": {
   "codemirror_mode": {
    "name": "ipython",
    "version": 3
   },
   "file_extension": ".py",
   "mimetype": "text/x-python",
   "name": "python",
   "nbconvert_exporter": "python",
   "pygments_lexer": "ipython3",
   "version": "3.7.2"
  }
 },
 "nbformat": 4,
 "nbformat_minor": 2
}
