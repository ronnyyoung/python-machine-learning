{
 "cells": [
  {
   "cell_type": "markdown",
   "metadata": {},
   "source": [
    "# Python中的字符串编码问题"
   ]
  },
  {
   "cell_type": "markdown",
   "metadata": {},
   "source": [
    "- Python解析器在读取Python文本程序时，默认是utf-8的编码方式来读取的\n",
    "- 所有程序中的字符串(str)在内存中都是Unicode来编码的。\n",
    "- Python中用bytes类型来表示字节流，字节流和str之前可以相互转换，前提是指针好一种编码格式。\n",
    "    - str(unicode) -> 编码 -> bytes(utf-8)\n",
    "    - bytes(utf-8) -> 解析 -> str(unicode)\n",
    "- 上面的`str`与`bytes`之间的转换编码，没有特别需求，最好就是使用`utf-8`。\n",
    "\n",
    "![](./images/python-20190905100401.png)"
   ]
  },
  {
   "cell_type": "code",
   "execution_count": 1,
   "metadata": {},
   "outputs": [
    {
     "name": "stdout",
     "output_type": "stream",
     "text": [
      "9\n",
      "b'Hello, \\xe4\\xb8\\xad\\xe5\\x9b\\xbd'\n",
      "13\n"
     ]
    }
   ],
   "source": [
    "greeting = 'Hello, 中国'\n",
    "print(len(greeting))\n",
    "utf8_bytes = greeting.encode('utf-8')\n",
    "# utf-8编码模式下每个汉字占3个字节\n",
    "print(utf8_bytes)\n",
    "print(len(utf8_bytes))"
   ]
  }
 ],
 "metadata": {
  "kernelspec": {
   "display_name": "Python 3",
   "language": "python",
   "name": "python3"
  },
  "language_info": {
   "codemirror_mode": {
    "name": "ipython",
    "version": 3
   },
   "file_extension": ".py",
   "mimetype": "text/x-python",
   "name": "python",
   "nbconvert_exporter": "python",
   "pygments_lexer": "ipython3",
   "version": "3.7.2"
  }
 },
 "nbformat": 4,
 "nbformat_minor": 2
}
