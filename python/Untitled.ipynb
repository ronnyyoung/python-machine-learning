{
 "cells": [
  {
   "cell_type": "code",
   "execution_count": 1,
   "metadata": {
    "ExecuteTime": {
     "end_time": "2019-05-11T06:46:36.913681Z",
     "start_time": "2019-05-11T06:46:36.901356Z"
    }
   },
   "outputs": [
    {
     "data": {
      "text/plain": [
       "2"
      ]
     },
     "execution_count": 1,
     "metadata": {},
     "output_type": "execute_result"
    }
   ],
   "source": [
    "a = 1 \n",
    "b = 1 \n",
    "a + b"
   ]
  },
  {
   "cell_type": "code",
   "execution_count": 2,
   "metadata": {
    "ExecuteTime": {
     "end_time": "2019-05-11T06:47:07.843830Z",
     "start_time": "2019-05-11T06:47:07.251564Z"
    },
    "collapsed": true
   },
   "outputs": [],
   "source": [
    "import numpy as np\n",
    "import matplotlib.pyplot as plt"
   ]
  },
  {
   "cell_type": "code",
   "execution_count": 4,
   "metadata": {
    "ExecuteTime": {
     "end_time": "2019-05-11T06:47:28.588604Z",
     "start_time": "2019-05-11T06:47:28.582057Z"
    }
   },
   "outputs": [
    {
     "data": {
      "text/plain": [
       "array([ 1.        ,  1.02020202,  1.04040404,  1.06060606,  1.08080808,\n",
       "        1.1010101 ,  1.12121212,  1.14141414,  1.16161616,  1.18181818,\n",
       "        1.2020202 ,  1.22222222,  1.24242424,  1.26262626,  1.28282828,\n",
       "        1.3030303 ,  1.32323232,  1.34343434,  1.36363636,  1.38383838,\n",
       "        1.4040404 ,  1.42424242,  1.44444444,  1.46464646,  1.48484848,\n",
       "        1.50505051,  1.52525253,  1.54545455,  1.56565657,  1.58585859,\n",
       "        1.60606061,  1.62626263,  1.64646465,  1.66666667,  1.68686869,\n",
       "        1.70707071,  1.72727273,  1.74747475,  1.76767677,  1.78787879,\n",
       "        1.80808081,  1.82828283,  1.84848485,  1.86868687,  1.88888889,\n",
       "        1.90909091,  1.92929293,  1.94949495,  1.96969697,  1.98989899,\n",
       "        2.01010101,  2.03030303,  2.05050505,  2.07070707,  2.09090909,\n",
       "        2.11111111,  2.13131313,  2.15151515,  2.17171717,  2.19191919,\n",
       "        2.21212121,  2.23232323,  2.25252525,  2.27272727,  2.29292929,\n",
       "        2.31313131,  2.33333333,  2.35353535,  2.37373737,  2.39393939,\n",
       "        2.41414141,  2.43434343,  2.45454545,  2.47474747,  2.49494949,\n",
       "        2.51515152,  2.53535354,  2.55555556,  2.57575758,  2.5959596 ,\n",
       "        2.61616162,  2.63636364,  2.65656566,  2.67676768,  2.6969697 ,\n",
       "        2.71717172,  2.73737374,  2.75757576,  2.77777778,  2.7979798 ,\n",
       "        2.81818182,  2.83838384,  2.85858586,  2.87878788,  2.8989899 ,\n",
       "        2.91919192,  2.93939394,  2.95959596,  2.97979798,  3.        ])"
      ]
     },
     "execution_count": 4,
     "metadata": {},
     "output_type": "execute_result"
    }
   ],
   "source": [
    "x = np.linspace(1, 3, 100)\n",
    "x"
   ]
  },
  {
   "cell_type": "code",
   "execution_count": 5,
   "metadata": {
    "ExecuteTime": {
     "end_time": "2019-05-11T06:47:39.013675Z",
     "start_time": "2019-05-11T06:47:39.011016Z"
    },
    "collapsed": true
   },
   "outputs": [],
   "source": [
    "y  = np.sin(x)"
   ]
  },
  {
   "cell_type": "code",
   "execution_count": 7,
   "metadata": {
    "ExecuteTime": {
     "end_time": "2019-05-11T06:47:56.191508Z",
     "start_time": "2019-05-11T06:47:56.061250Z"
    }
   },
   "outputs": [
    {
     "data": {
      "image/png": "[encoded data removed]",
      "text/plain": [
       "<matplotlib.figure.Figure at 0x7f162a1ff390>"
      ]
     },
     "metadata": {},
     "output_type": "display_data"
    }
   ],
   "source": [
    "plt.plot(x,y)\n",
    "plt.show()"
   ]
  },
  {
   "cell_type": "code",
   "execution_count": null,
   "metadata": {
    "collapsed": true
   },
   "outputs": [],
   "source": []
  }
 ],
 "metadata": {
  "kernelspec": {
   "display_name": "Python 3",
   "language": "python",
   "name": "python3"
  },
  "language_info": {
   "codemirror_mode": {
    "name": "ipython",
    "version": 3
   },
   "file_extension": ".py",
   "mimetype": "text/x-python",
   "name": "python",
   "nbconvert_exporter": "python",
   "pygments_lexer": "ipython3",
   "version": "3.6.2"
  }
 },
 "nbformat": 4,
 "nbformat_minor": 2
}
