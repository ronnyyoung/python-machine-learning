{
 "cells": [
  {
   "cell_type": "markdown",
   "metadata": {},
   "source": [
    "# 字典\n",
    "\n",
    "字典是键值对的无序集合。向字典添加一个键的同时，必须为该键增添一个值。（之后可随时修改该值）\n",
    "\n",
    "字典并非只能用于字符串。字典的值可以是任何数据类型，包括整数、布尔值、任何对象，甚至是其它的字典。而且就算在同一字典中，所有的值也无须是同一类型，您可根据需要混合匹配。字典的键要严格得多，可以是字符串、整数和其它一些类型。在同一字典中也可混合、匹配使用不同数据类型的键。\n",
    "\n",
    "字典的键必须是不可变的对象，比如字符串、元组等。但(1,2,[3,4])这样的元组就不行了，会提示list不能被hash，也就是作为键的对象，其原子成份都必须是可以被hash的。"
   ]
  },
  {
   "cell_type": "code",
   "execution_count": 1,
   "metadata": {
    "ExecuteTime": {
     "end_time": "2019-04-14T15:57:03.089901Z",
     "start_time": "2019-04-14T15:57:03.058251Z"
    }
   },
   "outputs": [
    {
     "data": {
      "text/plain": [
       "3"
      ]
     },
     "execution_count": 1,
     "metadata": {},
     "output_type": "execute_result"
    }
   ],
   "source": [
    "a_dict = {'name':'ronny', 'age':18} # 创建一个字典\n",
    "a_dict['sex'] = 'male' # 添加新的键值对\n",
    "a_dict['age'] = 26 # 修改值\n",
    "len(a_dict) "
   ]
  },
  {
   "cell_type": "code",
   "execution_count": 2,
   "metadata": {
    "ExecuteTime": {
     "end_time": "2019-04-14T15:57:17.264316Z",
     "start_time": "2019-04-14T15:57:17.261681Z"
    }
   },
   "outputs": [],
   "source": [
    "a_dict['newkey'] = [1,2,3,4] # 值为一个列表"
   ]
  },
  {
   "cell_type": "code",
   "execution_count": 3,
   "metadata": {},
   "outputs": [
    {
     "ename": "KeyError",
     "evalue": "'somehow'",
     "output_type": "error",
     "traceback": [
      "\u001b[0;31m---------------------------------------------------------------------------\u001b[0m",
      "\u001b[0;31mKeyError\u001b[0m                                  Traceback (most recent call last)",
      "\u001b[0;32m<ipython-input-3-ebd8dd275871>\u001b[0m in \u001b[0;36m<module>\u001b[0;34m()\u001b[0m\n\u001b[1;32m      1\u001b[0m \u001b[0;31m# 如果访问一个不存在的键值，会抛异常\u001b[0m\u001b[0;34m\u001b[0m\u001b[0;34m\u001b[0m\u001b[0;34m\u001b[0m\u001b[0m\n\u001b[0;32m----> 2\u001b[0;31m \u001b[0ma_dict\u001b[0m\u001b[0;34m[\u001b[0m\u001b[0;34m'somehow'\u001b[0m\u001b[0;34m]\u001b[0m\u001b[0;34m\u001b[0m\u001b[0;34m\u001b[0m\u001b[0m\n\u001b[0m",
      "\u001b[0;31mKeyError\u001b[0m: 'somehow'"
     ]
    }
   ],
   "source": [
    "# 如果访问一个不存在的键值，会抛异常\n",
    "a_dict['somehow']"
   ]
  },
  {
   "cell_type": "code",
   "execution_count": 4,
   "metadata": {},
   "outputs": [
    {
     "name": "stdout",
     "output_type": "stream",
     "text": [
      "False\n"
     ]
    }
   ],
   "source": [
    "# 为了避免抛出异常，我们可以先判断键值是否在dict中\n",
    "print('somehow' in a_dict)"
   ]
  },
  {
   "cell_type": "code",
   "execution_count": 5,
   "metadata": {},
   "outputs": [
    {
     "name": "stdout",
     "output_type": "stream",
     "text": [
      "None\n",
      "not exist\n"
     ]
    }
   ],
   "source": [
    "# 也可以使用get方法，来自定义当key不存在时，返回的值\n",
    "\n",
    "# 默认情况下，会返回None\n",
    "print(a_dict.get('somehow'))\n",
    "# 也可以通过get的第二个参数来自定义\n",
    "print(a_dict.get('somehow', 'not exist'))"
   ]
  },
  {
   "cell_type": "markdown",
   "metadata": {},
   "source": [
    "## 删除元素"
   ]
  },
  {
   "cell_type": "code",
   "execution_count": 6,
   "metadata": {},
   "outputs": [
    {
     "name": "stdout",
     "output_type": "stream",
     "text": [
      "{'name': 'ronny', 'age': 26, 'newkey': [1, 2, 3, 4]}\n"
     ]
    }
   ],
   "source": [
    "# 可以使用pop方法来删除元素\n",
    "# 删除一个不存在的键值会抛异常\n",
    "a_dict.pop('sex')\n",
    "print(a_dict)"
   ]
  }
 ],
 "metadata": {
  "kernelspec": {
   "display_name": "Python 3",
   "language": "python",
   "name": "python3"
  },
  "language_info": {
   "codemirror_mode": {
    "name": "ipython",
    "version": 3
   },
   "file_extension": ".py",
   "mimetype": "text/x-python",
   "name": "python",
   "nbconvert_exporter": "python",
   "pygments_lexer": "ipython3",
   "version": "3.7.2"
  }
 },
 "nbformat": 4,
 "nbformat_minor": 2
}
