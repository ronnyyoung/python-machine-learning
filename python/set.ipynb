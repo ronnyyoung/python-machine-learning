{
 "cells": [
  {
   "cell_type": "markdown",
   "metadata": {
    "collapsed": true
   },
   "source": [
    "# 集合\n",
    "\n",
    "集合set有独特值的无序“袋子”。一个简单的集合可以包含任何数据类型的值。如果有两个集合，则可以执行像联合、交集以及集合求差等标准集合运算。\n",
    "\n",
    "## 4.1 集合的创建\n",
    "\n",
    "```\n",
    ">>> a_set = {1} # 创建只包含一个元素的集合\n",
    ">>> b_set = {1, 2, 'a', 'b' ,['ronny', 25]} # 创建了一个包含5个元素的集合\n",
    ">>> a_set = set(a_list) # 从一个列表创建集合\n",
    ">>> a_set = set() # 一个空集合\n",
    ">>> a_set \n",
    "set() # 此处打印的可不是{}，因为它表示的是一个空字典。\n",
    ">>> a_set = {} # 创建了一个空字典，而不是空集合\n",
    "```\n",
    "## 4.2 集合的修改\n",
    "\n",
    "```\n",
    ">>> a_set = {0, 1, 2}\n",
    ">>> a_set.add(3) # add方法往集合中添加一个任意类型的元素，如果这个元素在集合中已经存在，则什么都不做\n",
    ">>> a_set.update({4,5},[6,7],(8,9)) # update方法可以接收若干个可转换为set的参数（iterable），并求并。\n",
    ">>> a_set\n",
    "{0, 1, 2, 3, 4, 5, 6, 7, 8, 9}\n",
    ">>> a_set.discard(10) # discard()方法接受一个单值作为参数，从集合中删除，如果该值不存在，则只是一条空指令。\n",
    ">>> a_set.remove(21) # remove()方法也接受一个单值作为参数，从集合中删除，但是如果该值不存在，则引发一个KeyError例外\n",
    "Traceback (most recent call last):\n",
    "  File \"<stdin>\", line 1, in <module>\n",
    "KeyError: 21\n",
    "\n",
    ">>> a_set.pop() # 随机从集合中删除一个值，如果集合为空，则会引发一个KeyError异常。\n",
    "2\n",
    ">>> a_set.clear() # 将集合清空\n",
    "```\n",
    "\n",
    "## 4.3 集合之间的运算\n",
    "\n",
    "因为set是无序的且最多不存在相同的元素，故在tuple和list上检索的操作count和index都不能用。\n",
    "\n",
    "```\n",
    ">>> a_set.union(b_set) # A并B\n",
    ">>> a_set.intersection(b_set) # A交B\n",
    ">>> a_set.difference(b_set) # A-B,在A中不在B中\n",
    ">>> a_set.symmetric_difference(b_set) # 只在A中或只在B中\n",
    "\n",
    ">>> a.issubset(b_set) # 判断a是否为b的子集 返回布尔型\n",
    ">>> a.isuperset(b_set) # 判断a是否为b的超集\n",
    "```"
   ]
  },
  {
   "cell_type": "code",
   "execution_count": null,
   "metadata": {},
   "outputs": [],
   "source": []
  }
 ],
 "metadata": {
  "kernelspec": {
   "display_name": "Python 3",
   "language": "python",
   "name": "python3"
  },
  "language_info": {
   "codemirror_mode": {
    "name": "ipython",
    "version": 3
   },
   "file_extension": ".py",
   "mimetype": "text/x-python",
   "name": "python",
   "nbconvert_exporter": "python",
   "pygments_lexer": "ipython3",
   "version": "3.7.2"
  }
 },
 "nbformat": 4,
 "nbformat_minor": 2
}
