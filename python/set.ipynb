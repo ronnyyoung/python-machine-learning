{
 "cells": [
  {
   "cell_type": "markdown",
   "metadata": {},
   "source": [
    "# 集合\n",
    "\n",
    "集合set有独特值的无序“袋子”。一个简单的集合可以包含任何数据类型的值。如果有两个集合，则可以执行像联合、交集以及集合求差等标准集合运算。"
   ]
  },
  {
   "cell_type": "markdown",
   "metadata": {},
   "source": [
    "## 集合的创建"
   ]
  },
  {
   "cell_type": "code",
   "execution_count": 1,
   "metadata": {},
   "outputs": [],
   "source": [
    "a_set = {1} # 创建只包含一个元素的集合\n",
    "b_set = {1, 2, 'a', 'b' ,'c'} # 创建了一个包含5个元素的集合\n",
    "\n",
    "# 从一个list创建集合\n",
    "a_list = [1,2,3]\n",
    "a_set = set(a_list) # 从一个列表创建集合"
   ]
  },
  {
   "cell_type": "code",
   "execution_count": 2,
   "metadata": {},
   "outputs": [],
   "source": [
    "# 创建一个空集合\n",
    "a_set = set()\n",
    "print(a_set) # 此处打印的可不是{}，因为它表示的是一个空字典。"
   ]
  },
  {
   "cell_type": "code",
   "execution_count": 3,
   "metadata": {},
   "outputs": [],
   "source": [
    "# 下面这样创建的是一个空的字典\n",
    "a_set = {}\n",
    "print(type(a_set))"
   ]
  },
  {
   "cell_type": "markdown",
   "metadata": {},
   "source": [
    "##  集合的修改"
   ]
  },
  {
   "cell_type": "code",
   "execution_count": 4,
   "metadata": {},
   "outputs": [
    {
     "name": "stdout",
     "output_type": "stream",
     "text": [
      "after add: {0, 1, 2, 3}\n",
      "after update {0, 1, 2, 3, 4, 5, 6, 7, 8, 9}\n",
      "after discard {0, 1, 2, 3, 4, 5, 6, 7, 8, 9}\n"
     ]
    }
   ],
   "source": [
    "a_set = {0, 1, 2}\n",
    "\n",
    "a_set.add(3) # add方法往集合中添加一个任意类型的元素，如果这个元素在集合中已经存在，则什么都不做\n",
    "print('after add:', a_set)\n",
    "\n",
    "a_set.update({4,5},[6,7],(8,9)) # update方法可以接收若干个可转换为set的参数（iterable），并求并。\n",
    "print('after update', a_set)\n",
    "\n",
    "a_set.discard(10) # discard()方法接受一个单值作为参数，从集合中删除，如果该值不存在，则只是一条空指令。\n",
    "print('after discard', a_set)"
   ]
  },
  {
   "cell_type": "code",
   "execution_count": 5,
   "metadata": {},
   "outputs": [
    {
     "ename": "KeyError",
     "evalue": "21",
     "output_type": "error",
     "traceback": [
      "\u001b[0;31m---------------------------------------------------------------------------\u001b[0m",
      "\u001b[0;31mKeyError\u001b[0m                                  Traceback (most recent call last)",
      "\u001b[0;32m<ipython-input-5-887dd474253d>\u001b[0m in \u001b[0;36m<module>\u001b[0;34m()\u001b[0m\n\u001b[1;32m      1\u001b[0m \u001b[0;31m# remove()方法也接受一个单值作为参数，从集合中删除，但是如果该值不存在，则引发一个KeyError例外\u001b[0m\u001b[0;34m\u001b[0m\u001b[0;34m\u001b[0m\u001b[0;34m\u001b[0m\u001b[0m\n\u001b[0;32m----> 2\u001b[0;31m \u001b[0ma_set\u001b[0m\u001b[0;34m.\u001b[0m\u001b[0mremove\u001b[0m\u001b[0;34m(\u001b[0m\u001b[0;36m21\u001b[0m\u001b[0;34m)\u001b[0m\u001b[0;34m\u001b[0m\u001b[0;34m\u001b[0m\u001b[0m\n\u001b[0m",
      "\u001b[0;31mKeyError\u001b[0m: 21"
     ]
    }
   ],
   "source": [
    "# remove()方法也接受一个单值作为参数，从集合中删除，但是如果该值不存在，则引发一个KeyError例外\n",
    "a_set.remove(21) "
   ]
  },
  {
   "cell_type": "code",
   "execution_count": 9,
   "metadata": {},
   "outputs": [
    {
     "name": "stdout",
     "output_type": "stream",
     "text": [
      "poped value: 1\n"
     ]
    },
    {
     "ename": "KeyError",
     "evalue": "'pop from an empty set'",
     "output_type": "error",
     "traceback": [
      "\u001b[0;31m---------------------------------------------------------------------------\u001b[0m",
      "\u001b[0;31mKeyError\u001b[0m                                  Traceback (most recent call last)",
      "\u001b[0;32m<ipython-input-9-6058939491bc>\u001b[0m in \u001b[0;36m<module>\u001b[0;34m()\u001b[0m\n\u001b[1;32m      3\u001b[0m \u001b[0mprint\u001b[0m\u001b[0;34m(\u001b[0m\u001b[0;34m'poped value:'\u001b[0m\u001b[0;34m,\u001b[0m \u001b[0mpoped_value\u001b[0m\u001b[0;34m)\u001b[0m\u001b[0;34m\u001b[0m\u001b[0;34m\u001b[0m\u001b[0m\n\u001b[1;32m      4\u001b[0m \u001b[0ma_set\u001b[0m\u001b[0;34m.\u001b[0m\u001b[0mclear\u001b[0m\u001b[0;34m(\u001b[0m\u001b[0;34m)\u001b[0m \u001b[0;31m# 将集合清空\u001b[0m\u001b[0;34m\u001b[0m\u001b[0;34m\u001b[0m\u001b[0m\n\u001b[0;32m----> 5\u001b[0;31m \u001b[0ma_set\u001b[0m\u001b[0;34m.\u001b[0m\u001b[0mpop\u001b[0m\u001b[0;34m(\u001b[0m\u001b[0;34m)\u001b[0m\u001b[0;34m\u001b[0m\u001b[0;34m\u001b[0m\u001b[0m\n\u001b[0m",
      "\u001b[0;31mKeyError\u001b[0m: 'pop from an empty set'"
     ]
    }
   ],
   "source": [
    "# 随机从集合中删除一个值，如果集合为空，则会引发一个KeyError异常。\n",
    "poped_value = a_set.pop() # 因为是随机删除，使用意义不大\n",
    "print('poped value:', poped_value)\n",
    "a_set.clear() # 将集合清空\n",
    "a_set.pop()"
   ]
  },
  {
   "cell_type": "markdown",
   "metadata": {
    "collapsed": true
   },
   "source": [
    "## 集合之间的运算\n",
    "\n",
    "因为set是无序的且不存在相同的元素，故在tuple和list上检索的操作count和index都不能用。"
   ]
  },
  {
   "cell_type": "code",
   "execution_count": 7,
   "metadata": {},
   "outputs": [
    {
     "name": "stdout",
     "output_type": "stream",
     "text": [
      "A: {1, 2, 3, 4, 5}\n",
      "B: {3, 4, 5, 6}\n",
      "A和B的并集: {1, 2, 3, 4, 5, 6}\n",
      "A和B的交集: {3, 4, 5}\n",
      "A和B的差集: {1, 2}\n",
      "A和B的XOR: {1, 2, 6}\n"
     ]
    }
   ],
   "source": [
    "a_set = {1,2,3,4,5}\n",
    "b_set = {3,4,5,6,6}\n",
    "print('A:', a_set)\n",
    "print('B:', b_set)\n",
    "# A并B\n",
    "print('A和B的并集:', a_set.union(b_set)) \n",
    "# A交B\n",
    "print('A和B的交集:', a_set.intersection(b_set))\n",
    "\n",
    "# A-B,在A中不在B中\n",
    "print('A和B的差集:', a_set.difference(b_set))\n",
    "\n",
    "# 只在A中或只在B中\n",
    "print('A和B的XOR:', a_set.symmetric_difference(b_set))"
   ]
  },
  {
   "cell_type": "code",
   "execution_count": 8,
   "metadata": {},
   "outputs": [
    {
     "name": "stdout",
     "output_type": "stream",
     "text": [
      "subset: False\n",
      "superset: False\n"
     ]
    }
   ],
   "source": [
    "# 判断a是否为b的子集 返回布尔型\n",
    "print('subset:', a_set.issubset(b_set))\n",
    "\n",
    "# 判断a是否为b的超集\n",
    "print('superset:', a_set.issuperset(b_set))"
   ]
  }
 ],
 "metadata": {
  "kernelspec": {
   "display_name": "Python 3",
   "language": "python",
   "name": "python3"
  },
  "language_info": {
   "codemirror_mode": {
    "name": "ipython",
    "version": 3
   },
   "file_extension": ".py",
   "mimetype": "text/x-python",
   "name": "python",
   "nbconvert_exporter": "python",
   "pygments_lexer": "ipython3",
   "version": "3.7.2"
  }
 },
 "nbformat": 4,
 "nbformat_minor": 2
}
