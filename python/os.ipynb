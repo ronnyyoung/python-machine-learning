{
 "cells": [
  {
   "cell_type": "markdown",
   "metadata": {},
   "source": [
    "# 操作系统接口"
   ]
  },
  {
   "cell_type": "markdown",
   "metadata": {},
   "source": [
    "## 获取操作系统的类型\n",
    "\n",
    "如果是posix说明系统是`Linux`、`Unix`、`Mac OS X`，如果是`nt`，就是`Windows系统`。要获取详细的系统信息，可以调用`uname()`函数。"
   ]
  },
  {
   "cell_type": "code",
   "execution_count": 3,
   "metadata": {},
   "outputs": [
    {
     "name": "stdout",
     "output_type": "stream",
     "text": [
      "name: posix\n",
      "uname: posix.uname_result(sysname='Linux', nodename='ubuntu16', release='4.15.0-36-generic', version='#39~16.04.1-Ubuntu SMP Tue Sep 25 08:59:23 UTC 2018', machine='x86_64')\n"
     ]
    }
   ],
   "source": [
    "import os\n",
    "\n",
    "print('name:', os.name)\n",
    "# uname函数在windows不提供\n",
    "print('uname:', os.uname())"
   ]
  },
  {
   "cell_type": "markdown",
   "metadata": {},
   "source": [
    "## 环境变量\n",
    "\n",
    "在操作系统中定义的环境变量，全部保存在`os.envrion`这个变量中，可以直接查看,　要获取其中的某个环境变量的值，可以调用`os.environ.get('[key]')`"
   ]
  },
  {
   "cell_type": "code",
   "execution_count": 10,
   "metadata": {},
   "outputs": [
    {
     "name": "stdout",
     "output_type": "stream",
     "text": [
      "PATH: /home/yansheng/.conda/envs/python3-dev/bin:/home/yansheng/miniconda3/condabin:/home/yansheng/go/bin:/usr/local/go/bin:/home/yansheng/Opt/clang-6.0.1/bin:/usr/local/cuda/bin:/home/yansheng/bin:/home/yansheng/.local/bin:/usr/local/sbin:/usr/local/bin:/usr/sbin:/usr/bin:/sbin:/bin:/usr/games:/usr/local/games:/snap/bin\n",
      "NOEXIST: default\n"
     ]
    }
   ],
   "source": [
    "#print(os.environ)\n",
    "print('PATH:', os.environ.get('PATH'))\n",
    "# 对于不存在的环境变量，可以指定返回的默认值\n",
    "print('NOEXIST:', os.environ.get('NOEXIST', 'default'))"
   ]
  },
  {
   "cell_type": "markdown",
   "metadata": {},
   "source": [
    "## 操作文件与目录\n",
    "\n",
    "操作文件和目录的函数一部分放在os模块中，一部分放在os.path模块中，这一点要注意一下。查看、创建和删除目录可以这么调用："
   ]
  },
  {
   "cell_type": "code",
   "execution_count": 22,
   "metadata": {},
   "outputs": [
    {
     "name": "stdout",
     "output_type": "stream",
     "text": [
      "/home/yansheng/Python/python-machine-learning/python\n",
      "/home/yansheng/Python/python-machine-learning/python\n",
      "/home/yansheng/Python/testdir\n"
     ]
    }
   ],
   "source": [
    "# 得到当前路径\n",
    "print(os.getcwd())\n",
    "# 转相对路径转换为绝对路径\n",
    "print(os.path.abspath('.'))\n",
    "\n",
    "# 目录拼接，可以跨平台\n",
    "testdir = os.path.join('/home/yansheng/Python', 'testdir')\n",
    "print(testdir)\n",
    "# 创建目录\n",
    "os.mkdir(testdir)\n",
    "# 删除目录\n",
    "os.rmdir(testdir)"
   ]
  },
  {
   "cell_type": "markdown",
   "metadata": {},
   "source": [
    "把两个路径合成一个时，不要直接拼字符串，而要通过os.path.join()函数，这样可以正确处理不同操作系统的路径分隔符。在Linux/Unix/Mac下，os.path.join()返回这样的字符串：\n",
    "\n",
    "```\n",
    "part1/part2\n",
    "```\n",
    "而Windows下面会返回这样的字符串\n",
    "```\n",
    "part1\\part2\n",
    "```\n",
    "\n",
    "同样的道理，要拆分路径时，也不要直接去拆字符串，而要通过`os.path.split()`函数，这样可以把一个路径拆分为两部分，后一部分总是最后级别的目录或文件名："
   ]
  },
  {
   "cell_type": "code",
   "execution_count": 24,
   "metadata": {},
   "outputs": [
    {
     "data": {
      "text/plain": [
       "('/home/yansheng/Python/python-machine-learning/python', 'abc.txt')"
      ]
     },
     "execution_count": 24,
     "metadata": {},
     "output_type": "execute_result"
    }
   ],
   "source": [
    "os.path.split('/tmp/abc.txt')"
   ]
  },
  {
   "cell_type": "markdown",
   "metadata": {},
   "source": [
    "os.path.splitext()可以直接让你得到文件扩展名，很多时候非常方便："
   ]
  },
  {
   "cell_type": "code",
   "execution_count": 25,
   "metadata": {},
   "outputs": [
    {
     "data": {
      "text/plain": [
       "('/tmp/abc', '.txt')"
      ]
     },
     "execution_count": 25,
     "metadata": {},
     "output_type": "execute_result"
    }
   ],
   "source": [
    "os.path.splitext('/tmp/abc.txt')"
   ]
  },
  {
   "cell_type": "markdown",
   "metadata": {},
   "source": [
    "### 对文件进行操作"
   ]
  },
  {
   "cell_type": "code",
   "execution_count": 30,
   "metadata": {},
   "outputs": [],
   "source": [
    "# 重命名文件\n",
    "# !echo 'hello,world' > /tmp/tmp.txt\n",
    "os.rename('/tmp/tmp.txt', '/tmp/abc.py')\n",
    "os.remove('/tmp/abc.py')"
   ]
  },
  {
   "cell_type": "markdown",
   "metadata": {},
   "source": [
    "但是复制文件的函数居然在os模块中不存在！原因是复制文件并非由操作系统提供的系统调用。理论上讲，我们通过上一节的读写文件可以完成文件复制，只不过要多写很多代码。\n",
    "\n",
    "幸运的是`shutil`模块提供了`copyfile()`的函数，你还可以在`shutil`模块中找到很多实用函数，它们可以看做是`os`模块的补充。\n",
    "\n",
    "最后看看如何利用`Python`的特性来过滤文件。比如我们要列出当前目录下的所有目录，只需要一行代码："
   ]
  },
  {
   "cell_type": "markdown",
   "metadata": {},
   "source": [
    "### 列出当前目录下的所有目录"
   ]
  },
  {
   "cell_type": "code",
   "execution_count": 34,
   "metadata": {},
   "outputs": [
    {
     "data": {
      "text/plain": [
       "['images', '.ipynb_checkpoints']"
      ]
     },
     "execution_count": 34,
     "metadata": {},
     "output_type": "execute_result"
    }
   ],
   "source": [
    "[x for x in os.listdir('.') if os.path.isdir(x)]"
   ]
  },
  {
   "cell_type": "markdown",
   "metadata": {},
   "source": [
    "### 列出目录下所有后缀为`.ipynb`的文件"
   ]
  },
  {
   "cell_type": "code",
   "execution_count": 33,
   "metadata": {},
   "outputs": [
    {
     "data": {
      "text/plain": [
       "['str_code.ipynb',\n",
       " 'tuple.ipynb',\n",
       " 'oop.ipynb',\n",
       " 'io.ipynb',\n",
       " 'functions.ipynb',\n",
       " 'generator_iterator.ipynb',\n",
       " 'files_and_directories.ipynb',\n",
       " 'debugging.ipynb',\n",
       " 'control_flow.ipynb',\n",
       " 'modules_and_packages.ipynb',\n",
       " 'testing.ipynb',\n",
       " 'Numpy.ipynb',\n",
       " 'advanced_oop.ipynb',\n",
       " 'data_types.ipynb',\n",
       " 'basic_io.ipynb',\n",
       " 'introduction.ipynb',\n",
       " 'dict.ipynb',\n",
       " 'set.ipynb',\n",
       " 'Pandas.ipynb',\n",
       " 'exception_and_error.ipynb',\n",
       " 'list.ipynb',\n",
       " 'Matplotlib.ipynb']"
      ]
     },
     "execution_count": 33,
     "metadata": {},
     "output_type": "execute_result"
    }
   ],
   "source": [
    "[x for x in os.listdir('.') if os.path.isfile(x) and os.path.splitext(x)[1] == '.ipynb']"
   ]
  }
 ],
 "metadata": {
  "kernelspec": {
   "display_name": "Python 3",
   "language": "python",
   "name": "python3"
  },
  "language_info": {
   "codemirror_mode": {
    "name": "ipython",
    "version": 3
   },
   "file_extension": ".py",
   "mimetype": "text/x-python",
   "name": "python",
   "nbconvert_exporter": "python",
   "pygments_lexer": "ipython3",
   "version": "3.7.2"
  }
 },
 "nbformat": 4,
 "nbformat_minor": 2
}
