{
 "cells": [
  {
   "cell_type": "markdown",
   "metadata": {},
   "source": [
    "# Python中的基础数据类型"
   ]
  },
  {
   "cell_type": "markdown",
   "metadata": {},
   "source": [
    "## Python中支持的数据类型\n",
    "\n",
    "- 整形 `int`\n",
    "- 浮点型 `float`\n",
    "- 字符串 `str`\n",
    "- 布尔型 `bool`\n",
    "- 空值 `NoneType`\n",
    "\n",
    "可以在运行时使用type()来获取变量的类型"
   ]
  },
  {
   "cell_type": "markdown",
   "metadata": {},
   "source": [
    "## 整数与浮点数\n",
    "\n",
    "- 整数字面值可以是十六进制表示，以`0x`开头，不像c语言那边，还支持8进制\n",
    "- 较大或较小的浮点数可以用科学计数法来表示，如:`1.25e-12`\n",
    "- **Python中可以表示任意大小的整数，所以对整数的计算是不会出现溢出的**\n",
    "- Python的浮点数也没有大小限制，但是超出一定范围就直接表示为inf（无限大）"
   ]
  },
  {
   "cell_type": "markdown",
   "metadata": {},
   "source": [
    "**在Python3中不同区别整数与长整数，统一为整数，而且可以表示任意长度的整数，背后的魔法是什么呢？**\n",
    "- [深度剖析为什么Python中整型不会溢出](https://cloud.tencent.com/developer/article/1167159) "
   ]
  },
  {
   "cell_type": "markdown",
   "metadata": {},
   "source": [
    "## 字符串字面值的写法"
   ]
  },
  {
   "cell_type": "code",
   "execution_count": 7,
   "metadata": {},
   "outputs": [
    {
     "name": "stdout",
     "output_type": "stream",
     "text": [
      "some string\n",
      "some string\n",
      "he said: \"ok\"\n",
      "he said 'ok'\n",
      "he said : \"ok\"\n",
      "\\\\some str\\\\\n",
      "str line1\n",
      "str line2\n",
      "str line3\n",
      "\n"
     ]
    }
   ],
   "source": [
    "str1 = 'some string' #单号\n",
    "str2 = \"some string\" #双引号\n",
    "str3 = 'he said: \"ok\"' # 单引号里套双引号\n",
    "str4 = \"he said 'ok'\" # 双引号里套单引号\n",
    "# 单引号或双引号本身不能嵌套，除非像下面这样加转义字符\n",
    "str5 = \"he said : \\\"ok\\\"\" \n",
    "# 如果转义字符太多，为了简化可以在字符串前面加r，则字符串中的`\\x`不会被转义，这在正则表达式里特别有用\n",
    "regex_str = r'\\\\some str\\\\'\n",
    "# 如果字符串有很多换行，可以考虑使用'''\n",
    "str6 = '''str line1\n",
    "str line2\n",
    "str line3\n",
    "'''\n",
    "print(str1, str2, str3, str4, str5, regex_str, str6, sep='\\n')"
   ]
  },
  {
   "cell_type": "markdown",
   "metadata": {},
   "source": [
    "## 字符串的两种格式化\n",
    "\n",
    "第一种是偏printf风格的，可以非常方便的控制输出格式；第二种是占位符风格。这两种在使用上各有利弊。"
   ]
  },
  {
   "cell_type": "code",
   "execution_count": 3,
   "metadata": {},
   "outputs": [
    {
     "data": {
      "text/plain": [
       "'the radius of the circle is 3, the area is 28.27, the fomula is pi*r*r'"
      ]
     },
     "execution_count": 3,
     "metadata": {},
     "output_type": "execute_result"
    }
   ],
   "source": [
    "# %d 整整\n",
    "# %f 浮点数\n",
    "# %s 字符串， 当你不知道该用什么的时候(就这4种还不知道吗)，可以总选择%s，它会把任何对象都以字符串的形式打印出来。\n",
    "# x% 十六进制的整数\n",
    "'the radius of the circle is %d, the area is %.2f, the fomula is %s' % (3, 3.1415 * 3 * 3, 'pi*r*r')"
   ]
  },
  {
   "cell_type": "code",
   "execution_count": 2,
   "metadata": {},
   "outputs": [
    {
     "data": {
      "text/plain": [
       "\"hello jack, I'm xiaoming\""
      ]
     },
     "execution_count": 2,
     "metadata": {},
     "output_type": "execute_result"
    }
   ],
   "source": [
    "# format的经典用法\n",
    "'hello {name}, I\\'m {me}'.format(name=\"jack\", me=\"xiaoming\")"
   ]
  },
  {
   "cell_type": "markdown",
   "metadata": {},
   "source": [
    "## 布尔值与空值\n",
    "\n",
    "- Python中用True和False与表示真与假，然后可以用`and/or/not`来进行逻辑组合\n",
    "- Python中用None来表示空值，可以把空值理解为一个空指针。"
   ]
  },
  {
   "cell_type": "markdown",
   "metadata": {},
   "source": [
    "## 变量的背后\n",
    "\n",
    "我们可以把Python中的变量都理解为一个指标，当我们写`x = 42`时，创建了一个指针变量，它指向了42所在的内存地址。\n",
    "所以在Python中我们可以对变量进行重新赋值，而且可以换类型，如`x = 'hello, world'`，这个时候只是这个指针指向的位置发生了变化而已。"
   ]
  },
  {
   "cell_type": "code",
   "execution_count": 4,
   "metadata": {},
   "outputs": [
    {
     "name": "stdout",
     "output_type": "stream",
     "text": [
      "ABC\n"
     ]
    }
   ],
   "source": [
    "a = 'ABC'\n",
    "b = a\n",
    "a = 'XYZ'\n",
    "print(b)"
   ]
  },
  {
   "cell_type": "markdown",
   "metadata": {},
   "source": [
    "执行a = 'ABC'，解释器创建了字符串'ABC'和变量a，并把a指向'ABC'：\n",
    "![](https://cdn.liaoxuefeng.com/cdn/files/attachments/0013871830933164ebea9bff3e24a64a1d36c0a6c7d368f000/0)\n",
    "执行b = a，解释器创建了变量b，并把b指向a指向的字符串'ABC'：\n",
    "![](https://cdn.liaoxuefeng.com/cdn/files/attachments/0013871831797715367a9e297944ca88f362ea3b01efaf7000/0)\n",
    "执行a = 'XYZ'，解释器创建了字符串'XYZ'，并把a的指向改为'XYZ'，但b并没有更改：\n",
    "![](https://cdn.liaoxuefeng.com/cdn/files/attachments/00138718324379052e7366c983442ac971699da163cacc7000/0)"
   ]
  },
  {
   "cell_type": "markdown",
   "metadata": {},
   "source": [
    "## 常量\n",
    "\n",
    "Python中没有常量，但我们可以在代码风格上约定俗成，以变量名全大写的变量视为常量，在代码中一旦初始化好后，不要再修改。"
   ]
  }
 ],
 "metadata": {
  "kernelspec": {
   "display_name": "Python 3",
   "language": "python",
   "name": "python3"
  },
  "language_info": {
   "codemirror_mode": {
    "name": "ipython",
    "version": 3
   },
   "file_extension": ".py",
   "mimetype": "text/x-python",
   "name": "python",
   "nbconvert_exporter": "python",
   "pygments_lexer": "ipython3",
   "version": "3.7.2"
  }
 },
 "nbformat": 4,
 "nbformat_minor": 2
}
