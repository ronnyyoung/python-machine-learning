{
 "cells": [
  {
   "cell_type": "markdown",
   "metadata": {},
   "source": [
    "# Python3 爬虫\n",
    "\n",
    "## 爬虫的架构\n",
    "\n",
    "![](../images/spider_arch.png)\n",
    "\n",
    "- 调度器：负责URL的管理器、下载器、解析器、输出器模块之间的工作协调，也是爬虫程序的入口\n",
    "- URL管理器：管理待抓取的URL集合和已抓取的URL集合，防止重复抓取和循环抓取，我们可以利用python的set来存储已经抓取的和未抓去的url，也可以用缓存数据库，比如redis中的set数据结构。\n",
    "- 网页下载器：将互联网上的URL对应的网页下载到本地的工具：一般有Python的官方库urllib以及更强大的第3方库requests\n",
    "\n",
    "\n",
    "\n",
    "## 爬虫的运行时序图\n",
    "\n",
    "![](../images/spider_data_flow.png)"
   ]
  },
  {
   "cell_type": "markdown",
   "metadata": {},
   "source": [
    "## 网页下载器"
   ]
  },
  {
   "cell_type": "code",
   "execution_count": 2,
   "metadata": {},
   "outputs": [
    {
     "name": "stdout",
     "output_type": "stream",
     "text": [
      "200\n"
     ]
    }
   ],
   "source": [
    "from urllib import request\n",
    "\n",
    "url = 'http://www.baidu.com'\n",
    "response = request.urlopen(url)\n",
    "print(response.status)\n",
    "#print(response.read().decode('utf-8'))"
   ]
  },
  {
   "cell_type": "markdown",
   "metadata": {},
   "source": [
    "- HTTPCookieProcessor: 处理需求使用cookie的情况\n",
    "- ProxyHandler: 处理需要使用代理的情况\n",
    "- HTPPSHandler: 处理需要使用加密链接的情况\n",
    "- HTTPRedictHandler: 处理URL相互跳转的问题"
   ]
  },
  {
   "cell_type": "code",
   "execution_count": null,
   "metadata": {},
   "outputs": [],
   "source": []
  }
 ],
 "metadata": {
  "kernelspec": {
   "display_name": "Python 3",
   "language": "python",
   "name": "python3"
  },
  "language_info": {
   "codemirror_mode": {
    "name": "ipython",
    "version": 3
   },
   "file_extension": ".py",
   "mimetype": "text/x-python",
   "name": "python",
   "nbconvert_exporter": "python",
   "pygments_lexer": "ipython3",
   "version": "3.8.1"
  }
 },
 "nbformat": 4,
 "nbformat_minor": 4
}
