{
 "cells": [
  {
   "cell_type": "markdown",
   "metadata": {},
   "source": [
    "# 电子邮件协议"
   ]
  },
  {
   "cell_type": "markdown",
   "metadata": {},
   "source": [
    "我们先来看一下一封电子邮件从发送到接收的全部过程：\n",
    "\n",
    "![Email Flow](../images/email_flow.png)\n",
    "\n",
    "1. 发件人使用邮箱客户端(MUA, Mail User Agent)来编写电子邮件，然后点击发送；\n",
    "2. MUA并不是把邮件直接发送给收件人，而是发送给了邮件传输代理(MTA，Mail Transfer Agent)，这个传输代理一般是发送人的邮箱提供商，比如163.com\n",
    "3. 发送方的MTA会把邮件发送给接收人邮箱的MTA，比如qq.com，这中间可能还会经过其他的MTA。\n",
    "4. 收件人的MTA收到邮件后，会把邮件投递到邮件投递代理（MDA：Mail Delivery Agent），Email到达MDA后，就静静地躺在接收邮件代理商的某个服务器上，存放在某个文件或特殊的数据库里，我们将这个长期保存邮件的地方称之为电子邮箱。\n",
    "5. 接收人必须通过一个MUA来从MDA中主动获取邮件。\n",
    "\n",
    "其中第2到第4步都会使用SMTP（Simple Mail Transfer Protocol）协议，而第5步则可以使用POP3(Post Office Protocol Version 3)和IMAP 4(Internet Message Access Protocol Version 4)协议。"
   ]
  },
  {
   "cell_type": "markdown",
   "metadata": {},
   "source": [
    "## 发送电子邮件\n",
    "\n",
    "最全参考：https://www.jianshu.com/p/abb2d6e91c1f\n",
    "\n",
    "最新的接口使用示例：https://docs.python.org/3/library/email.examples.html\n",
    "\n",
    "Python对SMTP支持有`smtplib`和`email`两个模块，`email`负责构造邮件，`smtplib`负责发送邮件"
   ]
  },
  {
   "cell_type": "code",
   "execution_count": 1,
   "metadata": {},
   "outputs": [],
   "source": [
    "import smtplib"
   ]
  },
  {
   "cell_type": "markdown",
   "metadata": {},
   "source": [
    "## 构造一段普通的文件"
   ]
  },
  {
   "cell_type": "code",
   "execution_count": 2,
   "metadata": {},
   "outputs": [],
   "source": [
    "# ASCII码的邮件内容，如果只包括ascii码，则可以直接发送\n",
    "message_ascii = \"\"\"From: Yansheng <200822105@qq.com>\n",
    "To: Yansheng <yangyansheng@sensetime.com>\n",
    "Subject: SMTP eamil test\n",
    "\n",
    "This is a test e-mail message\n",
    "\"\"\""
   ]
  },
  {
   "cell_type": "markdown",
   "metadata": {},
   "source": [
    "## 带中文的邮件消息"
   ]
  },
  {
   "cell_type": "code",
   "execution_count": 3,
   "metadata": {},
   "outputs": [
    {
     "name": "stdout",
     "output_type": "stream",
     "text": [
      "Content-Type: text/plain; charset=\"utf-8\"\n",
      "MIME-Version: 1.0\n",
      "Content-Transfer-Encoding: base64\n",
      "Subject: =?utf-8?b?U01UUOa1i+ivlemCruS7tg==?=\n",
      "From: =?utf-8?b?5p2o5bu255Sf?= <200822105@qq.com>\n",
      "To: =?utf-8?b?5p2o5bu255Sf?= <yangyansheng@sensetime.com>\n",
      "\n",
      "5L2g5aW977yM6L+Z5piv5LiA5bCB5rWL6K+V6YKu5Lu2\n",
      "\n"
     ]
    }
   ],
   "source": [
    "from email.mime.text import MIMEText\n",
    "from email.header import Header\n",
    "from email.utils import parseaddr, formataddr\n",
    "\n",
    "def _format_addr(s):\n",
    "    # 杨延生 <200822105@qq.com>　-> 杨延生　200822105@qq.com\n",
    "    name, addr = parseaddr(s)\n",
    "    return formataddr((Header(name, 'utf-8').encode(), addr))\n",
    "\n",
    "msg_conent = '你好，这是一封测试邮件'\n",
    "msg_zh = MIMEText(msg_conent, 'plain', 'utf-8')\n",
    "msg_zh['Subject'] = Header('SMTP测试邮件', 'utf-8')\n",
    "msg_zh['From'] = _format_addr('杨延生 <200822105@qq.com>')\n",
    "msg_zh['To'] = _format_addr('杨延生 <yangyansheng@sensetime.com>')\n",
    "print(msg_zh.as_string())"
   ]
  },
  {
   "cell_type": "markdown",
   "metadata": {},
   "source": [
    "## HTML格式的邮件"
   ]
  },
  {
   "cell_type": "code",
   "execution_count": 4,
   "metadata": {},
   "outputs": [
    {
     "name": "stdout",
     "output_type": "stream",
     "text": [
      "Content-Type: text/html; charset=\"utf-8\"\n",
      "MIME-Version: 1.0\n",
      "Content-Transfer-Encoding: base64\n",
      "Subject: =?utf-8?b?U01UUOa1i+ivlemCruS7tg==?=\n",
      "From: =?utf-8?b?5p2o5bu255Sf?= <200822105@qq.com>\n",
      "To: =?utf-8?b?5p2o5bu255Sf?= <yangyansheng@sensetime.com>\n",
      "\n",
      "5L2g5aW977yaPGgxPui/meaYr+S4gOWwgea1i+ivlemCruS7tjwvaDE+PHA+PGEgaHJlZj0naHR0\n",
      "cDovL3d3dy5iYWlkdS5jb20nPueZvuW6pjwvYT48L3A+\n",
      "\n"
     ]
    }
   ],
   "source": [
    "msg_conent = \"你好：<h1>这是一封测试邮件</h1><p><a href='http://www.baidu.com'>百度</a></p>\"\n",
    "msg_html = MIMEText(msg_conent, 'html', 'utf-8')\n",
    "msg_html['Subject'] = Header('SMTP测试邮件', 'utf-8')\n",
    "msg_html['From'] = _format_addr('杨延生 <200822105@qq.com>')\n",
    "msg_html['To'] = _format_addr('杨延生 <yangyansheng@sensetime.com>')\n",
    "print(msg_html.as_string())"
   ]
  },
  {
   "cell_type": "markdown",
   "metadata": {},
   "source": [
    "## 带附件的邮件"
   ]
  },
  {
   "cell_type": "code",
   "execution_count": 7,
   "metadata": {},
   "outputs": [],
   "source": [
    "from email.mime.multipart import MIMEMultipart\n",
    "\n",
    "msg_attachment = MIMEMultipart('related')\n",
    "msg_attachment['Subject'] = Header('SMTP测试邮件', 'utf-8')\n",
    "msg_attachment['From'] = _format_addr('杨延生 <200822105@qq.com>')\n",
    "msg_attachment['To'] = _format_addr('杨延生 <yangyansheng@sensetime.com>')\n",
    "\n",
    "# 添加一个文本附件\n",
    "from email.mime.application import MIMEApplication\n",
    "txt_attachment = MIMEApplication(open('email.ipynb').read())\n",
    "txt_attachment.add_header('Content-Disposition', 'attachment', filename='email.ipynb')\n",
    "msg_attachment.attach(txt_attachment)\n",
    "\n",
    "# 添加一个图片附件\n",
    "from email.mime.image import MIMEImage\n",
    "img_attachment = MIMEImage(open('../images/email_flow.png', 'rb').read())\n",
    "img_attachment.add_header('Content-ID', '<image>')\n",
    "msg_attachment.attach(img_attachment)\n",
    "\n",
    "# 添加带图片url的html正文\n",
    "msg_img_html = \"\"\"\n",
    "你好：<p>这是一封测试邮件</p><p><a href='http://www.baidu.com'>百度</a></p>\n",
    "<p>![](cid:image)</p>\n",
    "\"\"\"\n",
    "msg_attachment.attach(MIMEText(msg_img_html, 'html', 'utf-8'))"
   ]
  },
  {
   "cell_type": "markdown",
   "metadata": {},
   "source": [
    "## 发送邮件"
   ]
  },
  {
   "cell_type": "code",
   "execution_count": null,
   "metadata": {},
   "outputs": [],
   "source": [
    "# 发送方邮件账户\n",
    "sender = '200822105@qq.com'\n",
    "# 什么是授权码？　https://service.mail.qq.com/cgi-bin/help?subtype=1&&no=1001256&&id=28\n",
    "password = 'vyrwzmwyasfycaja' # QQ邮箱16位授权码\n",
    "# 输入SMTP服务器地址\n",
    "smtp_server = 'smtp.qq.com'\n",
    "\n",
    "# 接收方，可以有多个地址\n",
    "reciver = ['yangyansheng@sensetime.com']\n",
    "\n",
    "server = smtplib.SMTP_SSL(smtp_server)\n",
    "server.set_debuglevel(1)\n",
    "server.login(sender, password)\n",
    "server.sendmail(sender, reciver, msg_attachment.as_string())\n",
    "server.quit()"
   ]
  },
  {
   "cell_type": "markdown",
   "metadata": {},
   "source": [
    "## 接收邮件\n",
    "\n",
    "收取邮件就是编写一个MUA作为客户端，从MDA把邮件获取到用户的电脑或者手机上。收取邮件最常用的协议是POP协议，目前版本号是3，俗称POP3。Python内置一个poplib模块，实现了POP3协议，可以直接用来收邮件。\n",
    "\n",
    "注意到POP3协议收取的不是一个已经可以阅读的邮件本身，而是邮件的原始文本，这和SMTP协议很像，SMTP发送的也是经过编码后的一大段文本。要把POP3收取的文本变成可以阅读的邮件，还需要用email模块提供的各种类来解析原始文本，变成可阅读的邮件对象。\n",
    "\n",
    "所以，收取邮件分两步：\n",
    "- 第一步：用poplib把邮件的原始文本下载到本地；\n",
    "- 第二部：用email解析原始文本，还原为邮件对象。"
   ]
  },
  {
   "cell_type": "code",
   "execution_count": null,
   "metadata": {},
   "outputs": [],
   "source": [
    "import poplib\n",
    "\n",
    "email = '200822105@qq.com'\n",
    "password = 'vyrwzmwyasfycaja'\n",
    "pop3_server = 'pop.qq.com'\n",
    "\n",
    "server = poplib.POP3(pop3_server)\n",
    "server.set_debuglevel(1)\n",
    "print(server.getwelcome().decode('utf-8'))\n",
    "\n",
    "server.user(email)\n",
    "server.pass_(password)\n",
    "\n",
    "print('Mails: %s. Size: %s' % server.stat())\n",
    "\n",
    "resp, mails, octets = server.list()\n",
    "print(mails)\n",
    "\n",
    "index = len(mails)\n",
    "resp,lines,octets = server.retr(index)\n",
    "\n",
    "msg_content = b'\\r\\n'.join(lines).decode('utf-8')\n",
    "\n",
    "print(msg_content)\n",
    "\n",
    "from email.parser import Parser\n",
    "\n",
    "msg = Parser().parsestr(msg_content)"
   ]
  },
  {
   "cell_type": "code",
   "execution_count": 13,
   "metadata": {},
   "outputs": [],
   "source": [
    "from email.header import decode_header\n",
    "from email.utils import parseaddr\n",
    "\n",
    "# indent用于缩进显示:\n",
    "def print_info(msg, indent=0):\n",
    "    if indent == 0:\n",
    "        for header in ['From', 'To', 'Subject']:\n",
    "            value = msg.get(header, '')\n",
    "            if value:\n",
    "                if header=='Subject':\n",
    "                    value = decode_str(value)\n",
    "                else:\n",
    "                    hdr, addr = parseaddr(value)\n",
    "                    name = decode_str(hdr)\n",
    "                    value = u'%s <%s>' % (name, addr)\n",
    "            print('%s%s: %s' % ('  ' * indent, header, value))\n",
    "    if (msg.is_multipart()):\n",
    "        parts = msg.get_payload()\n",
    "        for n, part in enumerate(parts):\n",
    "            print('%spart %s' % ('  ' * indent, n))\n",
    "            print('%s--------------------' % ('  ' * indent))\n",
    "            print_info(part, indent + 1)\n",
    "    else:\n",
    "        content_type = msg.get_content_type()\n",
    "        if content_type=='text/plain' or content_type=='text/html':\n",
    "            content = msg.get_payload(decode=True)\n",
    "            charset = guess_charset(msg)\n",
    "            if charset:\n",
    "                content = content.decode(charset)\n",
    "            print('%sText: %s' % ('  ' * indent, content + '...'))\n",
    "        else:\n",
    "            print('%sAttachment: %s' % ('  ' * indent, content_type))\n",
    "        \n",
    "def decode_str(s):\n",
    "    value, charset = decode_header(s)[0]\n",
    "    if charset:\n",
    "        value = value.decode(charset)\n",
    "    return value\n",
    "\n",
    "def guess_charset(msg):\n",
    "    charset = msg.get_charset()\n",
    "    if charset is None:\n",
    "        content_type = msg.get('Content-Type', '').lower()\n",
    "        pos = content_type.find('charset=')\n",
    "        if pos >= 0:\n",
    "            charset = content_type[pos + 8:].strip()\n",
    "    return charset"
   ]
  },
  {
   "cell_type": "code",
   "execution_count": null,
   "metadata": {},
   "outputs": [],
   "source": [
    "print_info(msg)"
   ]
  },
  {
   "cell_type": "markdown",
   "metadata": {},
   "source": [
    "![Images](../images/qqmail-inbox.png)"
   ]
  }
 ],
 "metadata": {
  "kernelspec": {
   "display_name": "Python 3",
   "language": "python",
   "name": "python3"
  },
  "language_info": {
   "codemirror_mode": {
    "name": "ipython",
    "version": 3
   },
   "file_extension": ".py",
   "mimetype": "text/x-python",
   "name": "python",
   "nbconvert_exporter": "python",
   "pygments_lexer": "ipython3",
   "version": "3.7.4"
  }
 },
 "nbformat": 4,
 "nbformat_minor": 4
}
