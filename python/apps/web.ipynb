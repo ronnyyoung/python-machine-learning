{
 "cells": [
  {
   "cell_type": "markdown",
   "metadata": {},
   "source": [
    "# Web开发基础\n",
    "\n",
    "## HTTP\n",
    "\n",
    "略"
   ]
  },
  {
   "cell_type": "markdown",
   "metadata": {},
   "source": [
    "## HTML\n",
    "\n",
    "教程：https://www.w3school.com.cn/\n",
    "\n",
    "网页中常见的元素有：\n",
    "\n",
    "- HTML 控制页面内容\n",
    "- CSS 控制页面布局与页面样式\n",
    "- JavaScript 控制页面上的用户交互逻辑\n",
    "- 图片\n",
    "- 音视频频\n",
    "- Flash\n",
    "\n",
    "```html\n",
    "<html>\n",
    "<head>\n",
    "  <title>Hello</title>\n",
    "  <style>\n",
    "    h1 {\n",
    "      color: #333333;\n",
    "      font-size: 48px;\n",
    "      text-shadow: 3px 3px 3px #666666;\n",
    "    }\n",
    "  </style>\n",
    "  <script>\n",
    "    function change() {\n",
    "      document.getElementsByTagName('h1')[0].style.color = '#ff0000';\n",
    "    }\n",
    "  </script>\n",
    "</head>\n",
    "<body>\n",
    "  <h1 onclick=\"change()\">Hello, world!</h1>\n",
    "</body>\n",
    "</html>\n",
    "```"
   ]
  },
  {
   "cell_type": "markdown",
   "metadata": {},
   "source": [
    "## Web框架的作用是什么\n",
    "\n",
    "如果没有Web框架，我们需要自己在Server层写浏览器端发来的请求\n",
    "\n",
    "1. 按HTTP的协议与浏览器进行交互，做数据传递\n",
    "2. 处理每一次请求时，要解析请求头部，请求的资源，请求的用户Post来的数据\n",
    "3. 对每一种资源请求写一种处理函数，处理函数组装相关的HTML、CSS、JavaScript、图片等\n",
    "4. 还要区分Get还是Post\n",
    "5. 还要处理编码等问题\n",
    "\n",
    "所以自己写一个Web Server是很累的：一是要处理HTTP方面的协议细节，解析出关键信息；二是 需要针对用户的请求接口写对接的处理函数。\n",
    "\n",
    "有了Web框架后，我们以注册的方式来做了。\n",
    "```python\n",
    "httpServer.Register('/path/to/resource', method, proceess_handle)\n",
    "```\n",
    "\n",
    "下面是使用Flask框架的例子，它直接采用的修饰器，更加方便："
   ]
  },
  {
   "cell_type": "code",
   "execution_count": null,
   "metadata": {},
   "outputs": [],
   "source": [
    "from flask import Flask\n",
    "from flask import request\n",
    "\n",
    "app = Flask(__name__)\n",
    "\n",
    "@app.route('/', methods=['GET', 'POST'])\n",
    "def home():\n",
    "    return '<h1>Home</h1>'\n",
    "\n",
    "@app.route('/signin', methods=['GET'])\n",
    "def signin_form():\n",
    "    return '''<form action=\"/signin\" method=\"post\">\n",
    "              <p><input name=\"username\"></p>\n",
    "              <p><input name=\"password\" type=\"password\"></p>\n",
    "              <p><button type=\"submit\">Sign In</button></p>\n",
    "              </form>'''\n",
    "\n",
    "@app.route('/signin', methods=['POST'])\n",
    "def signin():\n",
    "    # 需要从request对象读取表单内容：\n",
    "    if request.form['username']=='admin' and request.form['password']=='password':\n",
    "        return '<h3>Hello, admin!</h3>'\n",
    "    return '<h3>Bad username or password.</h3>'\n",
    "\n",
    "if __name__ == '__main__':\n",
    "    app.run()"
   ]
  },
  {
   "cell_type": "markdown",
   "metadata": {},
   "source": [
    "## 网页模板\n",
    "\n",
    "我们上面说到了，WebServer需要根据请求的资源来组装相应的HTML等元素，对于一个较大的网络，它里面的页面资源非常的多，而很多页面中的元素是共享的，比如整体的页面风格、Banner、侧边栏等。\n",
    "\n",
    "不同的访问资源，可能是只因为用户给的参数不同，呈现的效果差了一点点，这样就可以使用一个模板，模板里有一些定义的变量，可以进行替换。"
   ]
  }
 ],
 "metadata": {
  "kernelspec": {
   "display_name": "Python 3",
   "language": "python",
   "name": "python3"
  },
  "language_info": {
   "codemirror_mode": {
    "name": "ipython",
    "version": 3
   },
   "file_extension": ".py",
   "mimetype": "text/x-python",
   "name": "python",
   "nbconvert_exporter": "python",
   "pygments_lexer": "ipython3",
   "version": "3.7.4"
  }
 },
 "nbformat": 4,
 "nbformat_minor": 4
}
